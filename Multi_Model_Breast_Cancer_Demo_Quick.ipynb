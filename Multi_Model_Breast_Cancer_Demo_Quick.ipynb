{
 "cells": [
  {
   "cell_type": "markdown",
   "metadata": {},
   "source": [
    "# Multi-Model Synthetic Data Generation: Breast Cancer Dataset (Quick Version)\n",
    "\n",
    "## Quick Demo and Hyperparameter Tuning of 5 Models\n",
    "\n",
    "This notebook demonstrates all 5 available models with reduced parameters for faster execution:\n",
    "1. **CTGAN** - Conditional Tabular GAN\n",
    "2. **TVAE** - Tabular Variational AutoEncoder  \n",
    "3. **CopulaGAN** - Copula-based GAN\n",
    "4. **GANerAid** - Enhanced GAN with clinical focus\n",
    "5. **TableGAN** - Table-specific GAN implementation\n",
    "\n",
    "### Quick Configuration:\n",
    "- **Demo epochs**: 20 (vs 100 in full version)\n",
    "- **Tuning trials**: 20 (vs 200 in full version)\n",
    "- **Final epochs**: 50 (vs 200 in full version)\n",
    "- **Expected runtime**: 5-10 minutes (vs 20-30 minutes)\n",
    "\n",
    "### Dataset: Breast Cancer Wisconsin (Diagnostic)\n",
    "- **Features**: 5 continuous variables + 1 binary target\n",
    "- **Target**: Diagnosis (0=benign, 1=malignant)\n",
    "- **Samples**: 569 rows"
   ]
  },
  {
   "cell_type": "markdown",
   "metadata": {},
   "source": [
    "## Setup and Configuration"
   ]
  },
  {
   "cell_type": "code",
   "execution_count": 1,
   "metadata": {
    "execution": {
     "iopub.execute_input": "2025-08-05T03:17:40.695975Z",
     "iopub.status.busy": "2025-08-05T03:17:40.695975Z",
     "iopub.status.idle": "2025-08-05T03:17:49.941017Z",
     "shell.execute_reply": "2025-08-05T03:17:49.940729Z"
    }
   },
   "outputs": [
    {
     "name": "stdout",
     "output_type": "stream",
     "text": [
      "SUCCESS: Multi-model framework imported successfully\n",
      "SUCCESS: CTGAN available\n",
      "SUCCESS: TVAE available\n",
      "SUCCESS: CopulaGAN available\n",
      "SUCCESS: GANerAid available\n",
      "SUCCESS: TableGAN available\n",
      "SUCCESS: Optuna optimization available\n",
      "\n",
      "QUICK MULTI-MODEL FRAMEWORK STATUS:\n",
      "Available models (5): CTGAN, TVAE, CopulaGAN, GANerAid, TableGAN\n",
      "\n",
      "Results directory: C:\\Users\\gcicc\\claudeproj\\tableGenCompare\\results\\multi_model_analysis_quick\n",
      "Export settings - Figures: True, Tables: True\n",
      "Optimization framework: Optuna\n",
      "\n",
      "QUICK VERSION PARAMETERS:\n",
      "- Demo epochs: 20 (reduced from 100)\n",
      "- Tuning trials: 20 (reduced from 200)\n",
      "- Final epochs: 50 (reduced from 200)\n",
      "- Expected runtime: 5-10 minutes\n"
     ]
    }
   ],
   "source": [
    "# Enhanced imports for multi-model analysis\n",
    "import pandas as pd\n",
    "import numpy as np\n",
    "import matplotlib.pyplot as plt\n",
    "import seaborn as sns\n",
    "import warnings\n",
    "from pathlib import Path\n",
    "import os\n",
    "from datetime import datetime\n",
    "import json\n",
    "import time\n",
    "from typing import Dict, List, Tuple, Any\n",
    "\n",
    "# Model imports\n",
    "try:\n",
    "    from src.models.model_factory import ModelFactory\n",
    "    from src.evaluation.unified_evaluator import UnifiedEvaluator\n",
    "    from src.optimization.optuna_optimizer import OptunaOptimizer\n",
    "    FRAMEWORK_AVAILABLE = True\n",
    "    print(\"SUCCESS: Multi-model framework imported successfully\")\n",
    "except ImportError as e:\n",
    "    print(f\"WARNING: Framework import failed: {e}\")\n",
    "    print(\"Will use individual model imports\")\n",
    "    FRAMEWORK_AVAILABLE = False\n",
    "\n",
    "# Individual model imports as fallback\n",
    "MODEL_STATUS = {}\n",
    "\n",
    "# CTGAN\n",
    "try:\n",
    "    from src.models.implementations.ctgan_model import CTGANModel\n",
    "    MODEL_STATUS['CTGAN'] = True\n",
    "    print(\"SUCCESS: CTGAN available\")\n",
    "except ImportError:\n",
    "    MODEL_STATUS['CTGAN'] = False\n",
    "    print(\"WARNING: CTGAN not available\")\n",
    "\n",
    "# TVAE\n",
    "try:\n",
    "    from src.models.implementations.tvae_model import TVAEModel\n",
    "    MODEL_STATUS['TVAE'] = True\n",
    "    print(\"SUCCESS: TVAE available\")\n",
    "except ImportError:\n",
    "    MODEL_STATUS['TVAE'] = False\n",
    "    print(\"WARNING: TVAE not available\")\n",
    "\n",
    "# CopulaGAN\n",
    "try:\n",
    "    from src.models.implementations.copulagan_model import CopulaGANModel\n",
    "    MODEL_STATUS['CopulaGAN'] = True\n",
    "    print(\"SUCCESS: CopulaGAN available\")\n",
    "except ImportError:\n",
    "    MODEL_STATUS['CopulaGAN'] = False\n",
    "    print(\"WARNING: CopulaGAN not available\")\n",
    "\n",
    "# GANerAid\n",
    "try:\n",
    "    from src.models.implementations.ganeraid_model import GANerAidModel\n",
    "    MODEL_STATUS['GANerAid'] = True\n",
    "    print(\"SUCCESS: GANerAid available\")\n",
    "except ImportError:\n",
    "    MODEL_STATUS['GANerAid'] = False\n",
    "    print(\"WARNING: GANerAid not available\")\n",
    "\n",
    "# TableGAN\n",
    "try:\n",
    "    from src.models.implementations.tablegan_model import TableGANModel\n",
    "    MODEL_STATUS['TableGAN'] = True\n",
    "    print(\"SUCCESS: TableGAN available\")\n",
    "except ImportError:\n",
    "    MODEL_STATUS['TableGAN'] = False\n",
    "    print(\"WARNING: TableGAN not available\")\n",
    "\n",
    "# Optimization framework\n",
    "try:\n",
    "    import optuna\n",
    "    from optuna.samplers import TPESampler\n",
    "    OPTUNA_AVAILABLE = True\n",
    "    print(\"SUCCESS: Optuna optimization available\")\n",
    "except ImportError:\n",
    "    OPTUNA_AVAILABLE = False\n",
    "    print(\"WARNING: Optuna not available - will use basic grid search\")\n",
    "\n",
    "# Evaluation libraries\n",
    "from sklearn.model_selection import train_test_split\n",
    "from sklearn.tree import DecisionTreeClassifier\n",
    "from sklearn.ensemble import RandomForestClassifier\n",
    "from sklearn.metrics import classification_report, accuracy_score, roc_auc_score\n",
    "from sklearn.preprocessing import StandardScaler, LabelEncoder\n",
    "from scipy import stats\n",
    "\n",
    "# Configuration\n",
    "warnings.filterwarnings('ignore')\n",
    "plt.style.use('default')\n",
    "sns.set_palette(\"husl\")\n",
    "np.random.seed(42)\n",
    "\n",
    "# Create results directory\n",
    "RESULTS_DIR = Path('results/multi_model_analysis_quick')\n",
    "RESULTS_DIR.mkdir(parents=True, exist_ok=True)\n",
    "\n",
    "# Export configuration\n",
    "EXPORT_FIGURES = True\n",
    "EXPORT_TABLES = True\n",
    "FIGURE_FORMAT = 'png'\n",
    "FIGURE_DPI = 300\n",
    "\n",
    "print(f\"\\nQUICK MULTI-MODEL FRAMEWORK STATUS:\")\n",
    "available_models = [model for model, status in MODEL_STATUS.items() if status]\n",
    "unavailable_models = [model for model, status in MODEL_STATUS.items() if not status]\n",
    "\n",
    "print(f\"Available models ({len(available_models)}): {', '.join(available_models)}\")\n",
    "if unavailable_models:\n",
    "    print(f\"Unavailable models ({len(unavailable_models)}): {', '.join(unavailable_models)}\")\n",
    "\n",
    "print(f\"\\nResults directory: {RESULTS_DIR.absolute()}\")\n",
    "print(f\"Export settings - Figures: {EXPORT_FIGURES}, Tables: {EXPORT_TABLES}\")\n",
    "print(f\"Optimization framework: {'Optuna' if OPTUNA_AVAILABLE else 'Basic Grid Search'}\")\n",
    "print(f\"\\nQUICK VERSION PARAMETERS:\")\n",
    "print(f\"- Demo epochs: 20 (reduced from 100)\")\n",
    "print(f\"- Tuning trials: 20 (reduced from 200)\")\n",
    "print(f\"- Final epochs: 50 (reduced from 200)\")\n",
    "print(f\"- Expected runtime: 5-10 minutes\")"
   ]
  },
  {
   "cell_type": "markdown",
   "metadata": {},
   "source": [
    "## Data Loading and Preprocessing"
   ]
  },
  {
   "cell_type": "code",
   "execution_count": 2,
   "metadata": {
    "execution": {
     "iopub.execute_input": "2025-08-05T03:17:49.985400Z",
     "iopub.status.busy": "2025-08-05T03:17:49.985400Z",
     "iopub.status.idle": "2025-08-05T03:17:50.032836Z",
     "shell.execute_reply": "2025-08-05T03:17:50.032212Z"
    }
   },
   "outputs": [
    {
     "name": "stdout",
     "output_type": "stream",
     "text": [
      "LOADING Breast Cancer Wisconsin (Diagnostic)\n",
      "==================================================\n",
      "SUCCESS: Data loaded successfully: (569, 6)\n",
      "\n",
      "Dataset Overview:\n",
      "   - Shape: 569 rows × 6 columns\n",
      "   - Missing values: 0\n",
      "   - Duplicate rows: 0\n",
      "   - Memory usage: 0.03 MB\n",
      "\n",
      "Target Variable (diagnosis):\n",
      "   - Benign (0): 212 samples (37.3%)\n",
      "   - Malignant (1): 357 samples (62.7%)\n",
      "   - Balance ratio: 0.594 (Moderately Imbalanced)\n",
      "\n",
      "Preprocessing data...\n",
      "   - No missing values to handle\n",
      "   - No duplicates to remove\n",
      "   - Optimizing data types\n",
      "\n",
      "SUCCESS: Preprocessing completed: (569, 6)\n",
      "Final dataset ready for multi-model analysis\n",
      "\n",
      "Sample data:\n"
     ]
    },
    {
     "data": {
      "text/html": [
       "<div>\n",
       "<style scoped>\n",
       "    .dataframe tbody tr th:only-of-type {\n",
       "        vertical-align: middle;\n",
       "    }\n",
       "\n",
       "    .dataframe tbody tr th {\n",
       "        vertical-align: top;\n",
       "    }\n",
       "\n",
       "    .dataframe thead th {\n",
       "        text-align: right;\n",
       "    }\n",
       "</style>\n",
       "<table border=\"1\" class=\"dataframe\">\n",
       "  <thead>\n",
       "    <tr style=\"text-align: right;\">\n",
       "      <th></th>\n",
       "      <th>mean_radius</th>\n",
       "      <th>mean_texture</th>\n",
       "      <th>mean_perimeter</th>\n",
       "      <th>mean_area</th>\n",
       "      <th>mean_smoothness</th>\n",
       "      <th>diagnosis</th>\n",
       "    </tr>\n",
       "  </thead>\n",
       "  <tbody>\n",
       "    <tr>\n",
       "      <th>0</th>\n",
       "      <td>17.990000</td>\n",
       "      <td>10.380000</td>\n",
       "      <td>122.800003</td>\n",
       "      <td>1001.000000</td>\n",
       "      <td>0.11840</td>\n",
       "      <td>0</td>\n",
       "    </tr>\n",
       "    <tr>\n",
       "      <th>1</th>\n",
       "      <td>20.570000</td>\n",
       "      <td>17.770000</td>\n",
       "      <td>132.899994</td>\n",
       "      <td>1326.000000</td>\n",
       "      <td>0.08474</td>\n",
       "      <td>0</td>\n",
       "    </tr>\n",
       "    <tr>\n",
       "      <th>2</th>\n",
       "      <td>19.690001</td>\n",
       "      <td>21.250000</td>\n",
       "      <td>130.000000</td>\n",
       "      <td>1203.000000</td>\n",
       "      <td>0.10960</td>\n",
       "      <td>0</td>\n",
       "    </tr>\n",
       "    <tr>\n",
       "      <th>3</th>\n",
       "      <td>11.420000</td>\n",
       "      <td>20.379999</td>\n",
       "      <td>77.580002</td>\n",
       "      <td>386.100006</td>\n",
       "      <td>0.14250</td>\n",
       "      <td>0</td>\n",
       "    </tr>\n",
       "    <tr>\n",
       "      <th>4</th>\n",
       "      <td>20.290001</td>\n",
       "      <td>14.340000</td>\n",
       "      <td>135.100006</td>\n",
       "      <td>1297.000000</td>\n",
       "      <td>0.10030</td>\n",
       "      <td>0</td>\n",
       "    </tr>\n",
       "  </tbody>\n",
       "</table>\n",
       "</div>"
      ],
      "text/plain": [
       "   mean_radius  mean_texture  mean_perimeter    mean_area  mean_smoothness  \\\n",
       "0    17.990000     10.380000      122.800003  1001.000000          0.11840   \n",
       "1    20.570000     17.770000      132.899994  1326.000000          0.08474   \n",
       "2    19.690001     21.250000      130.000000  1203.000000          0.10960   \n",
       "3    11.420000     20.379999       77.580002   386.100006          0.14250   \n",
       "4    20.290001     14.340000      135.100006  1297.000000          0.10030   \n",
       "\n",
       "   diagnosis  \n",
       "0          0  \n",
       "1          0  \n",
       "2          0  \n",
       "3          0  \n",
       "4          0  "
      ]
     },
     "metadata": {},
     "output_type": "display_data"
    },
    {
     "name": "stdout",
     "output_type": "stream",
     "text": [
      "Preprocessed data exported: results\\multi_model_analysis_quick\\preprocessed_breast_cancer_data.csv\n"
     ]
    }
   ],
   "source": [
    "# Load and preprocess breast cancer data\n",
    "DATA_FILE = \"data/Breast_cancer_data.csv\"\n",
    "TARGET_COLUMN = \"diagnosis\"\n",
    "DATASET_NAME = \"Breast Cancer Wisconsin (Diagnostic)\"\n",
    "\n",
    "print(f\"LOADING {DATASET_NAME}\")\n",
    "print(\"=\"*50)\n",
    "\n",
    "try:\n",
    "    # Load data\n",
    "    data = pd.read_csv(DATA_FILE)\n",
    "    print(f\"SUCCESS: Data loaded successfully: {data.shape}\")\n",
    "    \n",
    "    # Basic data info\n",
    "    print(f\"\\nDataset Overview:\")\n",
    "    print(f\"   - Shape: {data.shape[0]} rows × {data.shape[1]} columns\")\n",
    "    print(f\"   - Missing values: {data.isnull().sum().sum()}\")\n",
    "    print(f\"   - Duplicate rows: {data.duplicated().sum()}\")\n",
    "    print(f\"   - Memory usage: {data.memory_usage(deep=True).sum() / 1024**2:.2f} MB\")\n",
    "    \n",
    "    # Target analysis\n",
    "    if TARGET_COLUMN in data.columns:\n",
    "        target_counts = data[TARGET_COLUMN].value_counts().sort_index()\n",
    "        print(f\"\\nTarget Variable ({TARGET_COLUMN}):\")\n",
    "        for value, count in target_counts.items():\n",
    "            percentage = (count / len(data)) * 100\n",
    "            label = 'Benign' if value == 0 else 'Malignant' if value == 1 else f'Class {value}'\n",
    "            print(f\"   - {label} ({value}): {count} samples ({percentage:.1f}%)\")\n",
    "        \n",
    "        balance_ratio = target_counts.min() / target_counts.max()\n",
    "        balance_status = 'Balanced' if balance_ratio > 0.8 else 'Moderately Imbalanced' if balance_ratio > 0.5 else 'Highly Imbalanced'\n",
    "        print(f\"   - Balance ratio: {balance_ratio:.3f} ({balance_status})\")\n",
    "    \n",
    "    # Data preprocessing\n",
    "    print(f\"\\nPreprocessing data...\")\n",
    "    processed_data = data.copy()\n",
    "    \n",
    "    # Handle missing values (if any)\n",
    "    missing_counts = processed_data.isnull().sum()\n",
    "    if missing_counts.sum() > 0:\n",
    "        print(f\"   - Handling {missing_counts.sum()} missing values\")\n",
    "        for col in missing_counts[missing_counts > 0].index:\n",
    "            if processed_data[col].dtype in ['int64', 'float64']:\n",
    "                processed_data[col].fillna(processed_data[col].median(), inplace=True)\n",
    "            else:\n",
    "                processed_data[col].fillna(processed_data[col].mode()[0], inplace=True)\n",
    "    else:\n",
    "        print(f\"   - No missing values to handle\")\n",
    "    \n",
    "    # Remove duplicates (if any)\n",
    "    duplicates = processed_data.duplicated().sum()\n",
    "    if duplicates > 0:\n",
    "        processed_data = processed_data.drop_duplicates()\n",
    "        print(f\"   - Removed {duplicates} duplicate rows\")\n",
    "    else:\n",
    "        print(f\"   - No duplicates to remove\")\n",
    "    \n",
    "    # Data type optimization\n",
    "    print(f\"   - Optimizing data types\")\n",
    "    for col in processed_data.select_dtypes(include=['int64']).columns:\n",
    "        processed_data[col] = pd.to_numeric(processed_data[col], downcast='integer')\n",
    "    for col in processed_data.select_dtypes(include=['float64']).columns:\n",
    "        processed_data[col] = pd.to_numeric(processed_data[col], downcast='float')\n",
    "    \n",
    "    print(f\"\\nSUCCESS: Preprocessing completed: {processed_data.shape}\")\n",
    "    print(f\"Final dataset ready for multi-model analysis\")\n",
    "    \n",
    "    # Display sample\n",
    "    print(f\"\\nSample data:\")\n",
    "    display(processed_data.head())\n",
    "    \n",
    "    # Export preprocessed data\n",
    "    if EXPORT_TABLES:\n",
    "        processed_data.to_csv(RESULTS_DIR / 'preprocessed_breast_cancer_data.csv', index=False)\n",
    "        print(f\"Preprocessed data exported: {RESULTS_DIR / 'preprocessed_breast_cancer_data.csv'}\")\n",
    "    \n",
    "except FileNotFoundError:\n",
    "    print(f\"ERROR: Could not find file {DATA_FILE}\")\n",
    "    raise\n",
    "except Exception as e:\n",
    "    print(f\"ERROR: Error processing data: {e}\")\n",
    "    raise"
   ]
  },
  {
   "cell_type": "markdown",
   "metadata": {},
   "source": [
    "## Phase 1: Quick Demo All Models"
   ]
  },
  {
   "cell_type": "code",
   "execution_count": 3,
   "metadata": {
    "execution": {
     "iopub.execute_input": "2025-08-05T03:17:50.035256Z",
     "iopub.status.busy": "2025-08-05T03:17:50.035256Z",
     "iopub.status.idle": "2025-08-05T03:18:31.333106Z",
     "shell.execute_reply": "2025-08-05T03:18:31.332606Z"
    }
   },
   "outputs": [
    {
     "name": "stdout",
     "output_type": "stream",
     "text": [
      "PHASE 1: QUICK DEMO ALL MODELS\n",
      "========================================\n",
      "Quick Demo Configuration:\n",
      "   - Training epochs: 20\n",
      "   - Samples to generate: 569\n",
      "   - Models to demo: 5\n",
      "\n",
      "Starting quick model demonstrations...\n",
      "\n",
      "[1/5] Testing CTGAN\n",
      "-----------------------------------\n",
      "Parameters:\n",
      "   - epochs: 20\n",
      "   - batch_size: 100\n",
      "   - generator_lr: 2.00e-04\n",
      "   - discriminator_lr: 2.00e-04\n",
      "Training...\n"
     ]
    },
    {
     "name": "stderr",
     "output_type": "stream",
     "text": [
      "\r",
      "  0%|          | 0/20 [00:00<?, ?it/s]"
     ]
    },
    {
     "name": "stderr",
     "output_type": "stream",
     "text": [
      "\r",
      "Gen. (0.00) | Discrim. (0.00):   0%|          | 0/20 [00:00<?, ?it/s]"
     ]
    },
    {
     "name": "stderr",
     "output_type": "stream",
     "text": [
      "\r",
      "Gen. (0.72) | Discrim. (0.01):   0%|          | 0/20 [00:00<?, ?it/s]"
     ]
    },
    {
     "name": "stderr",
     "output_type": "stream",
     "text": [
      "\r",
      "Gen. (0.73) | Discrim. (0.03):   0%|          | 0/20 [00:00<?, ?it/s]"
     ]
    },
    {
     "name": "stderr",
     "output_type": "stream",
     "text": [
      "\r",
      "Gen. (0.72) | Discrim. (-0.00):   0%|          | 0/20 [00:00<?, ?it/s]"
     ]
    },
    {
     "name": "stderr",
     "output_type": "stream",
     "text": [
      "\r",
      "Gen. (0.72) | Discrim. (-0.00):  15%|█▌        | 3/20 [00:00<00:00, 22.61it/s]"
     ]
    },
    {
     "name": "stderr",
     "output_type": "stream",
     "text": [
      "\r",
      "Gen. (0.73) | Discrim. (-0.01):  15%|█▌        | 3/20 [00:00<00:00, 22.61it/s]"
     ]
    },
    {
     "name": "stderr",
     "output_type": "stream",
     "text": [
      "\r",
      "Gen. (0.74) | Discrim. (-0.03):  15%|█▌        | 3/20 [00:00<00:00, 22.61it/s]"
     ]
    },
    {
     "name": "stderr",
     "output_type": "stream",
     "text": [
      "\r",
      "Gen. (0.70) | Discrim. (-0.02):  15%|█▌        | 3/20 [00:00<00:00, 22.61it/s]"
     ]
    },
    {
     "name": "stderr",
     "output_type": "stream",
     "text": [
      "\r",
      "Gen. (0.70) | Discrim. (-0.02):  30%|███       | 6/20 [00:00<00:00, 24.92it/s]"
     ]
    },
    {
     "name": "stderr",
     "output_type": "stream",
     "text": [
      "\r",
      "Gen. (0.67) | Discrim. (-0.03):  30%|███       | 6/20 [00:00<00:00, 24.92it/s]"
     ]
    },
    {
     "name": "stderr",
     "output_type": "stream",
     "text": [
      "\r",
      "Gen. (0.68) | Discrim. (-0.02):  30%|███       | 6/20 [00:00<00:00, 24.92it/s]"
     ]
    },
    {
     "name": "stderr",
     "output_type": "stream",
     "text": [
      "\r",
      "Gen. (0.66) | Discrim. (0.01):  30%|███       | 6/20 [00:00<00:00, 24.92it/s] "
     ]
    },
    {
     "name": "stderr",
     "output_type": "stream",
     "text": [
      "\r",
      "Gen. (0.66) | Discrim. (0.01):  45%|████▌     | 9/20 [00:00<00:00, 24.27it/s]"
     ]
    },
    {
     "name": "stderr",
     "output_type": "stream",
     "text": [
      "\r",
      "Gen. (0.62) | Discrim. (-0.01):  45%|████▌     | 9/20 [00:00<00:00, 24.27it/s]"
     ]
    },
    {
     "name": "stderr",
     "output_type": "stream",
     "text": [
      "\r",
      "Gen. (0.65) | Discrim. (-0.04):  45%|████▌     | 9/20 [00:00<00:00, 24.27it/s]"
     ]
    },
    {
     "name": "stderr",
     "output_type": "stream",
     "text": [
      "\r",
      "Gen. (0.63) | Discrim. (0.01):  45%|████▌     | 9/20 [00:00<00:00, 24.27it/s] "
     ]
    },
    {
     "name": "stderr",
     "output_type": "stream",
     "text": [
      "\r",
      "Gen. (0.63) | Discrim. (0.01):  60%|██████    | 12/20 [00:00<00:00, 24.16it/s]"
     ]
    },
    {
     "name": "stderr",
     "output_type": "stream",
     "text": [
      "\r",
      "Gen. (0.62) | Discrim. (0.01):  60%|██████    | 12/20 [00:00<00:00, 24.16it/s]"
     ]
    },
    {
     "name": "stderr",
     "output_type": "stream",
     "text": [
      "\r",
      "Gen. (0.60) | Discrim. (0.01):  60%|██████    | 12/20 [00:00<00:00, 24.16it/s]"
     ]
    },
    {
     "name": "stderr",
     "output_type": "stream",
     "text": [
      "\r",
      "Gen. (0.54) | Discrim. (0.07):  60%|██████    | 12/20 [00:00<00:00, 24.16it/s]"
     ]
    },
    {
     "name": "stderr",
     "output_type": "stream",
     "text": [
      "\r",
      "Gen. (0.54) | Discrim. (0.07):  75%|███████▌  | 15/20 [00:00<00:00, 24.30it/s]"
     ]
    },
    {
     "name": "stderr",
     "output_type": "stream",
     "text": [
      "\r",
      "Gen. (0.50) | Discrim. (0.00):  75%|███████▌  | 15/20 [00:00<00:00, 24.30it/s]"
     ]
    },
    {
     "name": "stderr",
     "output_type": "stream",
     "text": [
      "\r",
      "Gen. (0.54) | Discrim. (0.03):  75%|███████▌  | 15/20 [00:00<00:00, 24.30it/s]"
     ]
    },
    {
     "name": "stderr",
     "output_type": "stream",
     "text": [
      "\r",
      "Gen. (0.46) | Discrim. (-0.01):  75%|███████▌  | 15/20 [00:00<00:00, 24.30it/s]"
     ]
    },
    {
     "name": "stderr",
     "output_type": "stream",
     "text": [
      "\r",
      "Gen. (0.46) | Discrim. (-0.01):  90%|█████████ | 18/20 [00:00<00:00, 24.28it/s]"
     ]
    },
    {
     "name": "stderr",
     "output_type": "stream",
     "text": [
      "\r",
      "Gen. (0.48) | Discrim. (0.07):  90%|█████████ | 18/20 [00:00<00:00, 24.28it/s] "
     ]
    },
    {
     "name": "stderr",
     "output_type": "stream",
     "text": [
      "\r",
      "Gen. (0.49) | Discrim. (0.02):  90%|█████████ | 18/20 [00:00<00:00, 24.28it/s]"
     ]
    },
    {
     "name": "stderr",
     "output_type": "stream",
     "text": [
      "\r",
      "Gen. (0.49) | Discrim. (0.02): 100%|██████████| 20/20 [00:00<00:00, 24.33it/s]"
     ]
    },
    {
     "name": "stderr",
     "output_type": "stream",
     "text": [
      "\n"
     ]
    },
    {
     "name": "stdout",
     "output_type": "stream",
     "text": [
      "SUCCESS: Training complete: 12.09s\n",
      "Generating 569 samples...\n",
      "SUCCESS: Generation complete: 0.030s\n",
      "Output shape: (569, 6)\n",
      "SUCCESS: CTGAN demo successful (12.12s total)\n",
      "\n",
      "[2/5] Testing TVAE\n",
      "-----------------------------------\n",
      "Parameters:\n",
      "   - epochs: 20\n",
      "   - batch_size: 100\n",
      "   - learning_rate: 0.0010\n",
      "Training...\n"
     ]
    },
    {
     "name": "stdout",
     "output_type": "stream",
     "text": [
      "SUCCESS: Training complete: 7.89s\n",
      "Generating 569 samples...\n",
      "SUCCESS: Generation complete: 0.052s\n",
      "Output shape: (569, 6)\n",
      "SUCCESS: TVAE demo successful (7.94s total)\n",
      "\n",
      "[3/5] Testing COPULAGAN\n",
      "-----------------------------------\n",
      "Parameters:\n",
      "   - epochs: 20\n",
      "   - batch_size: 100\n",
      "   - generator_lr: 2.00e-04\n",
      "   - discriminator_lr: 2.00e-04\n",
      "Training...\n"
     ]
    },
    {
     "name": "stdout",
     "output_type": "stream",
     "text": [
      "SUCCESS: Training complete: 14.69s\n",
      "Generating 569 samples...\n",
      "SUCCESS: Generation complete: 0.111s\n",
      "Output shape: (569, 6)\n",
      "SUCCESS: CopulaGAN demo successful (14.80s total)\n",
      "\n",
      "[4/5] Testing GANERAID\n",
      "-----------------------------------\n",
      "Parameters:\n",
      "   - epochs: 20\n",
      "   - batch_size: 50\n",
      "   - lr_g: 5.00e-04\n",
      "   - lr_d: 5.00e-04\n",
      "Training...\n",
      "Initialized gan with the following parameters: \n",
      "lr_d = 0.0005\n",
      "lr_g = 0.0005\n",
      "hidden_feature_space = 200\n",
      "batch_size = 100\n",
      "nr_of_rows = 25\n",
      "binary_noise = 0.2\n",
      "Start training of gan for 20 epochs\n"
     ]
    },
    {
     "name": "stderr",
     "output_type": "stream",
     "text": [
      "\r",
      "  0%|          | 0/20 [00:00<?, ?it/s]"
     ]
    },
    {
     "name": "stderr",
     "output_type": "stream",
     "text": [
      "\r",
      "  0%|          | 0/20 [00:00<?, ?it/s, loss=d error: 1.3874230980873108 --- g error 0.6852651238441467]"
     ]
    },
    {
     "name": "stderr",
     "output_type": "stream",
     "text": [
      "\r",
      "  5%|▌         | 1/20 [00:00<00:02,  8.06it/s, loss=d error: 1.3874230980873108 --- g error 0.6852651238441467]"
     ]
    },
    {
     "name": "stderr",
     "output_type": "stream",
     "text": [
      "\r",
      "  5%|▌         | 1/20 [00:00<00:02,  8.06it/s, loss=d error: 1.3811236023902893 --- g error 0.6843117475509644]"
     ]
    },
    {
     "name": "stderr",
     "output_type": "stream",
     "text": [
      "\r",
      "  5%|▌         | 1/20 [00:00<00:02,  8.06it/s, loss=d error: 1.3726803660392761 --- g error 0.6887888312339783]"
     ]
    },
    {
     "name": "stderr",
     "output_type": "stream",
     "text": [
      "\r",
      " 15%|█▌        | 3/20 [00:00<00:01, 12.94it/s, loss=d error: 1.3726803660392761 --- g error 0.6887888312339783]"
     ]
    },
    {
     "name": "stderr",
     "output_type": "stream",
     "text": [
      "\r",
      " 15%|█▌        | 3/20 [00:00<00:01, 12.94it/s, loss=d error: 1.3662118315696716 --- g error 0.689864993095398] "
     ]
    },
    {
     "name": "stderr",
     "output_type": "stream",
     "text": [
      "\r",
      " 15%|█▌        | 3/20 [00:00<00:01, 12.94it/s, loss=d error: 1.3547367453575134 --- g error 0.6868802309036255]"
     ]
    },
    {
     "name": "stderr",
     "output_type": "stream",
     "text": [
      "\r",
      " 25%|██▌       | 5/20 [00:00<00:00, 15.07it/s, loss=d error: 1.3547367453575134 --- g error 0.6868802309036255]"
     ]
    },
    {
     "name": "stderr",
     "output_type": "stream",
     "text": [
      "\r",
      " 25%|██▌       | 5/20 [00:00<00:00, 15.07it/s, loss=d error: 1.3459526896476746 --- g error 0.6910539865493774]"
     ]
    },
    {
     "name": "stderr",
     "output_type": "stream",
     "text": [
      "\r",
      " 25%|██▌       | 5/20 [00:00<00:00, 15.07it/s, loss=d error: 1.3366023898124695 --- g error 0.6881107687950134]"
     ]
    },
    {
     "name": "stderr",
     "output_type": "stream",
     "text": [
      "\r",
      " 25%|██▌       | 5/20 [00:00<00:00, 15.07it/s, loss=d error: 1.319480299949646 --- g error 0.6907670497894287] "
     ]
    },
    {
     "name": "stderr",
     "output_type": "stream",
     "text": [
      "\r",
      " 40%|████      | 8/20 [00:00<00:00, 17.41it/s, loss=d error: 1.319480299949646 --- g error 0.6907670497894287]"
     ]
    },
    {
     "name": "stderr",
     "output_type": "stream",
     "text": [
      "\r",
      " 40%|████      | 8/20 [00:00<00:00, 17.41it/s, loss=d error: 1.3045203685760498 --- g error 0.6959056854248047]"
     ]
    },
    {
     "name": "stderr",
     "output_type": "stream",
     "text": [
      "\r",
      " 40%|████      | 8/20 [00:00<00:00, 17.41it/s, loss=d error: 1.2713408470153809 --- g error 0.6968912482261658]"
     ]
    },
    {
     "name": "stderr",
     "output_type": "stream",
     "text": [
      "\r",
      " 50%|█████     | 10/20 [00:00<00:00, 17.69it/s, loss=d error: 1.2713408470153809 --- g error 0.6968912482261658]"
     ]
    },
    {
     "name": "stderr",
     "output_type": "stream",
     "text": [
      "\r",
      " 50%|█████     | 10/20 [00:00<00:00, 17.69it/s, loss=d error: 1.256946325302124 --- g error 0.6995344161987305] "
     ]
    },
    {
     "name": "stderr",
     "output_type": "stream",
     "text": [
      "\r",
      " 50%|█████     | 10/20 [00:00<00:00, 17.69it/s, loss=d error: 1.2210406064987183 --- g error 0.6977726221084595]"
     ]
    },
    {
     "name": "stderr",
     "output_type": "stream",
     "text": [
      "\r",
      " 60%|██████    | 12/20 [00:00<00:00, 17.66it/s, loss=d error: 1.2210406064987183 --- g error 0.6977726221084595]"
     ]
    },
    {
     "name": "stderr",
     "output_type": "stream",
     "text": [
      "\r",
      " 60%|██████    | 12/20 [00:00<00:00, 17.66it/s, loss=d error: 1.1971643567085266 --- g error 0.6991169452667236]"
     ]
    },
    {
     "name": "stderr",
     "output_type": "stream",
     "text": [
      "\r",
      " 60%|██████    | 12/20 [00:00<00:00, 17.66it/s, loss=d error: 1.1536189019680023 --- g error 0.7015554904937744]"
     ]
    },
    {
     "name": "stderr",
     "output_type": "stream",
     "text": [
      "\r",
      " 70%|███████   | 14/20 [00:00<00:00, 17.65it/s, loss=d error: 1.1536189019680023 --- g error 0.7015554904937744]"
     ]
    },
    {
     "name": "stderr",
     "output_type": "stream",
     "text": [
      "\r",
      " 70%|███████   | 14/20 [00:00<00:00, 17.65it/s, loss=d error: 1.1263833045959473 --- g error 0.7116488814353943]"
     ]
    },
    {
     "name": "stderr",
     "output_type": "stream",
     "text": [
      "\r",
      " 70%|███████   | 14/20 [00:00<00:00, 17.65it/s, loss=d error: 1.0744458436965942 --- g error 0.7155966758728027]"
     ]
    },
    {
     "name": "stderr",
     "output_type": "stream",
     "text": [
      "\r",
      " 80%|████████  | 16/20 [00:00<00:00, 18.29it/s, loss=d error: 1.0744458436965942 --- g error 0.7155966758728027]"
     ]
    },
    {
     "name": "stderr",
     "output_type": "stream",
     "text": [
      "\r",
      " 80%|████████  | 16/20 [00:00<00:00, 18.29it/s, loss=d error: 1.0092680156230927 --- g error 0.7204218506813049]"
     ]
    },
    {
     "name": "stderr",
     "output_type": "stream",
     "text": [
      "\r",
      " 80%|████████  | 16/20 [00:01<00:00, 18.29it/s, loss=d error: 0.9850582182407379 --- g error 0.731489896774292] "
     ]
    },
    {
     "name": "stderr",
     "output_type": "stream",
     "text": [
      "\r",
      " 90%|█████████ | 18/20 [00:01<00:00, 18.60it/s, loss=d error: 0.9850582182407379 --- g error 0.731489896774292]"
     ]
    },
    {
     "name": "stderr",
     "output_type": "stream",
     "text": [
      "\r",
      " 90%|█████████ | 18/20 [00:01<00:00, 18.60it/s, loss=d error: 0.9131500720977783 --- g error 0.7361227869987488]"
     ]
    },
    {
     "name": "stderr",
     "output_type": "stream",
     "text": [
      "\r",
      " 90%|█████████ | 18/20 [00:01<00:00, 18.60it/s, loss=d error: 0.8664307296276093 --- g error 0.7334285974502563]"
     ]
    },
    {
     "name": "stderr",
     "output_type": "stream",
     "text": [
      "\r",
      "100%|██████████| 20/20 [00:01<00:00, 18.83it/s, loss=d error: 0.8664307296276093 --- g error 0.7334285974502563]"
     ]
    },
    {
     "name": "stderr",
     "output_type": "stream",
     "text": [
      "\r",
      "100%|██████████| 20/20 [00:01<00:00, 17.40it/s, loss=d error: 0.8664307296276093 --- g error 0.7334285974502563]"
     ]
    },
    {
     "name": "stderr",
     "output_type": "stream",
     "text": [
      "\n"
     ]
    },
    {
     "name": "stdout",
     "output_type": "stream",
     "text": [
      "SUCCESS: Training complete: 1.21s\n",
      "Generating 569 samples...\n",
      "Generating 569 samples\n",
      "SUCCESS: Generation complete: 0.132s\n",
      "Output shape: (569, 6)\n",
      "SUCCESS: GANerAid demo successful (1.34s total)\n",
      "\n",
      "[5/5] Testing TABLEGAN\n",
      "-----------------------------------\n",
      "Parameters:\n",
      "   - epochs: 20\n",
      "   - batch_size: 32\n",
      "   - lr: 2.00e-04\n",
      "Training...\n"
     ]
    },
    {
     "name": "stdout",
     "output_type": "stream",
     "text": [
      "SUCCESS: Training complete: 5.05s\n",
      "Generating 569 samples...\n",
      "SUCCESS: Generation complete: 0.005s\n",
      "Output shape: (569, 6)\n",
      "SUCCESS: TableGAN demo successful (5.07s total)\n",
      "\n",
      "PHASE 1 SUMMARY\n",
      "====================\n",
      "Successful: 5/5 models\n",
      "   Models: CTGAN, TVAE, CopulaGAN, GANerAid, TableGAN\n",
      "\n",
      "Performance Summary:\n",
      "   -   GANerAid:    1.2s train,  0.132s generate\n",
      "   -   TableGAN:    5.1s train,  0.005s generate\n",
      "   -       TVAE:    7.9s train,  0.052s generate\n",
      "   -      CTGAN:   12.1s train,  0.030s generate\n",
      "   -  CopulaGAN:   14.7s train,  0.111s generate\n",
      "\n",
      "Phase 1 completed. Proceeding to quick hyperparameter tuning.\n"
     ]
    }
   ],
   "source": [
    "# Phase 1: Quick demo all available models with reduced parameters\n",
    "print(\"PHASE 1: QUICK DEMO ALL MODELS\")\n",
    "print(\"=\"*40)\n",
    "\n",
    "# Initialize results storage\n",
    "phase1_results = {}\n",
    "phase1_synthetic_data = {}\n",
    "phase1_training_times = {}\n",
    "phase1_generation_times = {}\n",
    "\n",
    "# Quick demo configuration\n",
    "DEMO_EPOCHS = 20  # Reduced for quick demo\n",
    "DEMO_SAMPLES = len(processed_data)\n",
    "\n",
    "print(f\"Quick Demo Configuration:\")\n",
    "print(f\"   - Training epochs: {DEMO_EPOCHS:,}\")\n",
    "print(f\"   - Samples to generate: {DEMO_SAMPLES:,}\")\n",
    "print(f\"   - Models to demo: {len(available_models)}\")\n",
    "print(f\"\\nStarting quick model demonstrations...\\n\")\n",
    "\n",
    "# Helper function to format parameter values consistently\n",
    "def format_param_value(value):\n",
    "    \"\"\"Format parameter values consistently across all models\"\"\"\n",
    "    if isinstance(value, float):\n",
    "        if value < 0.001:\n",
    "            return f\"{value:.2e}\"\n",
    "        elif value < 1:\n",
    "            return f\"{value:.4f}\"\n",
    "        else:\n",
    "            return f\"{value:.3f}\"\n",
    "    elif isinstance(value, tuple):\n",
    "        return f\"({', '.join(str(v) for v in value)})\"\n",
    "    else:\n",
    "        return str(value)\n",
    "\n",
    "for model_idx, model_name in enumerate(available_models, 1):\n",
    "    print(f\"[{model_idx}/{len(available_models)}] Testing {model_name.upper()}\")\n",
    "    print(\"-\" * 35)\n",
    "    \n",
    "    try:\n",
    "        demo_start = time.time()\n",
    "        \n",
    "        # Initialize model with quick parameters\n",
    "        if model_name == 'CTGAN':\n",
    "            model = CTGANModel()\n",
    "            train_params = {\n",
    "                'epochs': DEMO_EPOCHS,\n",
    "                'batch_size': 100,  # Reduced batch size\n",
    "                'discriminator_lr': 2e-4,\n",
    "                'generator_lr': 2e-4,\n",
    "                'discriminator_decay': 1e-6,\n",
    "                'generator_decay': 1e-6\n",
    "            }\n",
    "            \n",
    "        elif model_name == 'TVAE':\n",
    "            model = TVAEModel()\n",
    "            train_params = {\n",
    "                'epochs': DEMO_EPOCHS,\n",
    "                'batch_size': 100,  # Reduced batch size\n",
    "                'compress_dims': (128, 128),\n",
    "                'decompress_dims': (128, 128),\n",
    "                'l2scale': 1e-5,\n",
    "                'learning_rate': 1e-3\n",
    "            }\n",
    "            \n",
    "        elif model_name == 'CopulaGAN':\n",
    "            model = CopulaGANModel()\n",
    "            train_params = {\n",
    "                'epochs': DEMO_EPOCHS,\n",
    "                'batch_size': 100,  # Reduced batch size\n",
    "                'discriminator_lr': 2e-4,\n",
    "                'generator_lr': 2e-4,\n",
    "                'discriminator_decay': 1e-6,\n",
    "                'generator_decay': 1e-6\n",
    "            }\n",
    "            \n",
    "        elif model_name == 'GANerAid':\n",
    "            model = GANerAidModel()\n",
    "            train_params = {\n",
    "                'epochs': DEMO_EPOCHS,\n",
    "                'lr_d': 0.0005,\n",
    "                'lr_g': 0.0005,\n",
    "                'hidden_feature_space': 200,\n",
    "                'batch_size': 50,  # Reduced batch size\n",
    "                'nr_of_rows': 25,\n",
    "                'binary_noise': 0.2\n",
    "            }\n",
    "            \n",
    "        elif model_name == 'TableGAN':\n",
    "            model = TableGANModel()\n",
    "            train_params = {\n",
    "                'epochs': DEMO_EPOCHS,\n",
    "                'batch_size': 32,\n",
    "                'lr': 0.0002,\n",
    "                'beta1': 0.5,\n",
    "                'beta2': 0.999\n",
    "            }\n",
    "        \n",
    "        # Display parameters\n",
    "        print(f\"Parameters:\")\n",
    "        key_params = ['epochs', 'batch_size']\n",
    "        if 'lr' in train_params:\n",
    "            key_params.append('lr')\n",
    "        elif 'learning_rate' in train_params:\n",
    "            key_params.append('learning_rate')\n",
    "        elif 'generator_lr' in train_params:\n",
    "            key_params.extend(['generator_lr', 'discriminator_lr'])\n",
    "        elif 'lr_g' in train_params:\n",
    "            key_params.extend(['lr_g', 'lr_d'])\n",
    "            \n",
    "        for param in key_params:\n",
    "            if param in train_params:\n",
    "                print(f\"   - {param}: {format_param_value(train_params[param])}\")\n",
    "        \n",
    "        # Train model\n",
    "        print(f\"Training...\")\n",
    "        training_start = time.time()\n",
    "        model.train(processed_data, **train_params)\n",
    "        training_end = time.time()\n",
    "        training_time = training_end - training_start\n",
    "        phase1_training_times[model_name] = training_time\n",
    "        \n",
    "        print(f\"SUCCESS: Training complete: {training_time:.2f}s\")\n",
    "        \n",
    "        # Generate synthetic data\n",
    "        print(f\"Generating {DEMO_SAMPLES:,} samples...\")\n",
    "        generation_start = time.time()\n",
    "        synthetic_data = model.generate(DEMO_SAMPLES)\n",
    "        generation_end = time.time()\n",
    "        generation_time = generation_end - generation_start\n",
    "        phase1_generation_times[model_name] = generation_time\n",
    "        \n",
    "        print(f\"SUCCESS: Generation complete: {generation_time:.3f}s\")\n",
    "        print(f\"Output shape: {synthetic_data.shape}\")\n",
    "        \n",
    "        # Store results\n",
    "        phase1_synthetic_data[model_name] = synthetic_data\n",
    "        \n",
    "        demo_end = time.time()\n",
    "        total_demo_time = demo_end - demo_start\n",
    "        \n",
    "        phase1_results[model_name] = {\n",
    "            'status': 'success',\n",
    "            'training_time': training_time,\n",
    "            'generation_time': generation_time,\n",
    "            'total_time': total_demo_time,\n",
    "            'generated_samples': len(synthetic_data),\n",
    "            'parameters': train_params\n",
    "        }\n",
    "        \n",
    "        print(f\"SUCCESS: {model_name} demo successful ({total_demo_time:.2f}s total)\\n\")\n",
    "        \n",
    "    except Exception as e:\n",
    "        error_msg = str(e)\n",
    "        print(f\"ERROR: {model_name} demo failed: {error_msg[:80]}...\")\n",
    "        phase1_results[model_name] = {\n",
    "            'status': 'failed',\n",
    "            'error': error_msg,\n",
    "            'training_time': 0,\n",
    "            'generation_time': 0,\n",
    "            'total_time': 0,\n",
    "            'generated_samples': 0\n",
    "        }\n",
    "        print(f\"Continuing to next model...\\n\")\n",
    "\n",
    "# Phase 1 Summary\n",
    "print(f\"PHASE 1 SUMMARY\")\n",
    "print(\"=\"*20)\n",
    "\n",
    "successful_models = [name for name, result in phase1_results.items() if result['status'] == 'success']\n",
    "failed_models = [name for name, result in phase1_results.items() if result['status'] == 'failed']\n",
    "\n",
    "print(f\"Successful: {len(successful_models)}/{len(available_models)} models\")\n",
    "if successful_models:\n",
    "    print(f\"   Models: {', '.join(successful_models)}\")\n",
    "if failed_models:\n",
    "    print(f\"Failed: {len(failed_models)} models ({', '.join(failed_models)})\")\n",
    "\n",
    "if successful_models:\n",
    "    print(f\"\\nPerformance Summary:\")\n",
    "    sorted_by_time = sorted(successful_models, key=lambda x: phase1_results[x]['training_time'])\n",
    "    for model_name in sorted_by_time:\n",
    "        result = phase1_results[model_name]\n",
    "        print(f\"   - {model_name:>10}: {result['training_time']:>6.1f}s train, {result['generation_time']:>6.3f}s generate\")\n",
    "\n",
    "print(f\"\\nPhase 1 completed. Proceeding to quick hyperparameter tuning.\")"
   ]
  },
  {
   "cell_type": "markdown",
   "metadata": {},
   "source": [
    "## Phase 2: Quick Hyperparameter Tuning"
   ]
  },
  {
   "cell_type": "code",
   "execution_count": 4,
   "metadata": {
    "execution": {
     "iopub.execute_input": "2025-08-05T03:18:31.336648Z",
     "iopub.status.busy": "2025-08-05T03:18:31.336130Z",
     "iopub.status.idle": "2025-08-05T03:22:20.717205Z",
     "shell.execute_reply": "2025-08-05T03:22:20.716648Z"
    }
   },
   "outputs": [
    {
     "name": "stdout",
     "output_type": "stream",
     "text": [
      "PHASE 2: QUICK HYPERPARAMETER TUNING\n",
      "=============================================\n",
      "Quick Hypertuning Configuration:\n",
      "   - Trials per model: 20\n",
      "   - Training epochs: 20\n",
      "   - Optimization metric: Combined similarity + utility score\n",
      "   - Models to tune: 5\n",
      "\n",
      "[1/5] QUICK TUNING CTGAN\n",
      "-----------------------------------\n",
      "Quick optimizing...\n",
      "   Trial 1/20..."
     ]
    },
    {
     "name": "stderr",
     "output_type": "stream",
     "text": [
      "\r",
      "  0%|          | 0/20 [00:00<?, ?it/s]"
     ]
    },
    {
     "name": "stderr",
     "output_type": "stream",
     "text": [
      "\r",
      "Gen. (0.00) | Discrim. (0.00):   0%|          | 0/20 [00:00<?, ?it/s]"
     ]
    },
    {
     "name": "stderr",
     "output_type": "stream",
     "text": [
      "\r",
      "Gen. (0.69) | Discrim. (0.01):   0%|          | 0/20 [00:00<?, ?it/s]"
     ]
    },
    {
     "name": "stderr",
     "output_type": "stream",
     "text": [
      "\r",
      "Gen. (0.70) | Discrim. (0.03):   0%|          | 0/20 [00:00<?, ?it/s]"
     ]
    },
    {
     "name": "stderr",
     "output_type": "stream",
     "text": [
      "\r",
      "Gen. (0.68) | Discrim. (0.02):   0%|          | 0/20 [00:00<?, ?it/s]"
     ]
    },
    {
     "name": "stderr",
     "output_type": "stream",
     "text": [
      "\r",
      "Gen. (0.68) | Discrim. (0.02):  15%|█▌        | 3/20 [00:00<00:00, 21.89it/s]"
     ]
    },
    {
     "name": "stderr",
     "output_type": "stream",
     "text": [
      "\r",
      "Gen. (0.66) | Discrim. (0.02):  15%|█▌        | 3/20 [00:00<00:00, 21.89it/s]"
     ]
    },
    {
     "name": "stderr",
     "output_type": "stream",
     "text": [
      "\r",
      "Gen. (0.68) | Discrim. (0.01):  15%|█▌        | 3/20 [00:00<00:00, 21.89it/s]"
     ]
    },
    {
     "name": "stderr",
     "output_type": "stream",
     "text": [
      "\r",
      "Gen. (0.64) | Discrim. (0.02):  15%|█▌        | 3/20 [00:00<00:00, 21.89it/s]"
     ]
    },
    {
     "name": "stderr",
     "output_type": "stream",
     "text": [
      "\r",
      "Gen. (0.64) | Discrim. (0.02):  30%|███       | 6/20 [00:00<00:00, 22.95it/s]"
     ]
    },
    {
     "name": "stderr",
     "output_type": "stream",
     "text": [
      "\r",
      "Gen. (0.60) | Discrim. (0.01):  30%|███       | 6/20 [00:00<00:00, 22.95it/s]"
     ]
    },
    {
     "name": "stderr",
     "output_type": "stream",
     "text": [
      "\r",
      "Gen. (0.57) | Discrim. (0.01):  30%|███       | 6/20 [00:00<00:00, 22.95it/s]"
     ]
    },
    {
     "name": "stderr",
     "output_type": "stream",
     "text": [
      "\r",
      "Gen. (0.57) | Discrim. (-0.02):  30%|███       | 6/20 [00:00<00:00, 22.95it/s]"
     ]
    },
    {
     "name": "stderr",
     "output_type": "stream",
     "text": [
      "\r",
      "Gen. (0.57) | Discrim. (-0.02):  45%|████▌     | 9/20 [00:00<00:00, 23.06it/s]"
     ]
    },
    {
     "name": "stderr",
     "output_type": "stream",
     "text": [
      "\r",
      "Gen. (0.57) | Discrim. (-0.02):  45%|████▌     | 9/20 [00:00<00:00, 23.06it/s]"
     ]
    },
    {
     "name": "stderr",
     "output_type": "stream",
     "text": [
      "\r",
      "Gen. (0.58) | Discrim. (0.02):  45%|████▌     | 9/20 [00:00<00:00, 23.06it/s] "
     ]
    },
    {
     "name": "stderr",
     "output_type": "stream",
     "text": [
      "\r",
      "Gen. (0.56) | Discrim. (0.01):  45%|████▌     | 9/20 [00:00<00:00, 23.06it/s]"
     ]
    },
    {
     "name": "stderr",
     "output_type": "stream",
     "text": [
      "\r",
      "Gen. (0.56) | Discrim. (0.01):  60%|██████    | 12/20 [00:00<00:00, 23.56it/s]"
     ]
    },
    {
     "name": "stderr",
     "output_type": "stream",
     "text": [
      "\r",
      "Gen. (0.50) | Discrim. (-0.04):  60%|██████    | 12/20 [00:00<00:00, 23.56it/s]"
     ]
    },
    {
     "name": "stderr",
     "output_type": "stream",
     "text": [
      "\r",
      "Gen. (0.55) | Discrim. (-0.05):  60%|██████    | 12/20 [00:00<00:00, 23.56it/s]"
     ]
    },
    {
     "name": "stderr",
     "output_type": "stream",
     "text": [
      "\r",
      "Gen. (0.47) | Discrim. (0.01):  60%|██████    | 12/20 [00:00<00:00, 23.56it/s] "
     ]
    },
    {
     "name": "stderr",
     "output_type": "stream",
     "text": [
      "\r",
      "Gen. (0.47) | Discrim. (0.01):  75%|███████▌  | 15/20 [00:00<00:00, 23.16it/s]"
     ]
    },
    {
     "name": "stderr",
     "output_type": "stream",
     "text": [
      "\r",
      "Gen. (0.51) | Discrim. (-0.04):  75%|███████▌  | 15/20 [00:00<00:00, 23.16it/s]"
     ]
    },
    {
     "name": "stderr",
     "output_type": "stream",
     "text": [
      "\r",
      "Gen. (0.40) | Discrim. (-0.10):  75%|███████▌  | 15/20 [00:00<00:00, 23.16it/s]"
     ]
    },
    {
     "name": "stderr",
     "output_type": "stream",
     "text": [
      "\r",
      "Gen. (0.42) | Discrim. (-0.10):  75%|███████▌  | 15/20 [00:00<00:00, 23.16it/s]"
     ]
    },
    {
     "name": "stderr",
     "output_type": "stream",
     "text": [
      "\r",
      "Gen. (0.42) | Discrim. (-0.10):  90%|█████████ | 18/20 [00:00<00:00, 22.84it/s]"
     ]
    },
    {
     "name": "stderr",
     "output_type": "stream",
     "text": [
      "\r",
      "Gen. (0.37) | Discrim. (-0.03):  90%|█████████ | 18/20 [00:00<00:00, 22.84it/s]"
     ]
    },
    {
     "name": "stderr",
     "output_type": "stream",
     "text": [
      "\r",
      "Gen. (0.38) | Discrim. (-0.08):  90%|█████████ | 18/20 [00:00<00:00, 22.84it/s]"
     ]
    },
    {
     "name": "stderr",
     "output_type": "stream",
     "text": [
      "\r",
      "Gen. (0.38) | Discrim. (-0.08): 100%|██████████| 20/20 [00:00<00:00, 22.96it/s]"
     ]
    },
    {
     "name": "stderr",
     "output_type": "stream",
     "text": [
      "\n"
     ]
    },
    {
     "name": "stdout",
     "output_type": "stream",
     "text": [
      "."
     ]
    },
    {
     "name": "stderr",
     "output_type": "stream",
     "text": [
      "\r",
      "  0%|          | 0/20 [00:00<?, ?it/s]"
     ]
    },
    {
     "name": "stderr",
     "output_type": "stream",
     "text": [
      "\r",
      "Gen. (0.00) | Discrim. (0.00):   0%|          | 0/20 [00:00<?, ?it/s]"
     ]
    },
    {
     "name": "stderr",
     "output_type": "stream",
     "text": [
      "\r",
      "Gen. (0.78) | Discrim. (0.01):   0%|          | 0/20 [00:00<?, ?it/s]"
     ]
    },
    {
     "name": "stderr",
     "output_type": "stream",
     "text": [
      "\r",
      "Gen. (0.75) | Discrim. (-0.00):   0%|          | 0/20 [00:00<?, ?it/s]"
     ]
    },
    {
     "name": "stderr",
     "output_type": "stream",
     "text": [
      "\r",
      "Gen. (0.75) | Discrim. (-0.00):  10%|█         | 2/20 [00:00<00:00, 19.62it/s]"
     ]
    },
    {
     "name": "stderr",
     "output_type": "stream",
     "text": [
      "\r",
      "Gen. (0.70) | Discrim. (0.01):  10%|█         | 2/20 [00:00<00:00, 19.62it/s] "
     ]
    },
    {
     "name": "stderr",
     "output_type": "stream",
     "text": [
      "\r",
      "Gen. (0.74) | Discrim. (-0.00):  10%|█         | 2/20 [00:00<00:00, 19.62it/s]"
     ]
    },
    {
     "name": "stderr",
     "output_type": "stream",
     "text": [
      "\r",
      "Gen. (0.73) | Discrim. (0.04):  10%|█         | 2/20 [00:00<00:00, 19.62it/s] "
     ]
    },
    {
     "name": "stderr",
     "output_type": "stream",
     "text": [
      "\r",
      "Gen. (0.73) | Discrim. (0.04):  25%|██▌       | 5/20 [00:00<00:00, 21.63it/s]"
     ]
    },
    {
     "name": "stderr",
     "output_type": "stream",
     "text": [
      "\r",
      "Gen. (0.71) | Discrim. (0.02):  25%|██▌       | 5/20 [00:00<00:00, 21.63it/s]"
     ]
    },
    {
     "name": "stderr",
     "output_type": "stream",
     "text": [
      "\r",
      "Gen. (0.72) | Discrim. (-0.03):  25%|██▌       | 5/20 [00:00<00:00, 21.63it/s]"
     ]
    },
    {
     "name": "stderr",
     "output_type": "stream",
     "text": [
      "\r",
      "Gen. (0.71) | Discrim. (-0.01):  25%|██▌       | 5/20 [00:00<00:00, 21.63it/s]"
     ]
    },
    {
     "name": "stderr",
     "output_type": "stream",
     "text": [
      "\r",
      "Gen. (0.71) | Discrim. (-0.01):  40%|████      | 8/20 [00:00<00:00, 22.33it/s]"
     ]
    },
    {
     "name": "stderr",
     "output_type": "stream",
     "text": [
      "\r",
      "Gen. (0.69) | Discrim. (-0.01):  40%|████      | 8/20 [00:00<00:00, 22.33it/s]"
     ]
    },
    {
     "name": "stderr",
     "output_type": "stream",
     "text": [
      "\r",
      "Gen. (0.69) | Discrim. (0.03):  40%|████      | 8/20 [00:00<00:00, 22.33it/s] "
     ]
    },
    {
     "name": "stderr",
     "output_type": "stream",
     "text": [
      "\r",
      "Gen. (0.70) | Discrim. (0.03):  40%|████      | 8/20 [00:00<00:00, 22.33it/s]"
     ]
    },
    {
     "name": "stderr",
     "output_type": "stream",
     "text": [
      "\r",
      "Gen. (0.70) | Discrim. (0.03):  55%|█████▌    | 11/20 [00:00<00:00, 22.82it/s]"
     ]
    },
    {
     "name": "stderr",
     "output_type": "stream",
     "text": [
      "\r",
      "Gen. (0.70) | Discrim. (-0.03):  55%|█████▌    | 11/20 [00:00<00:00, 22.82it/s]"
     ]
    },
    {
     "name": "stderr",
     "output_type": "stream",
     "text": [
      "\r",
      "Gen. (0.67) | Discrim. (-0.01):  55%|█████▌    | 11/20 [00:00<00:00, 22.82it/s]"
     ]
    },
    {
     "name": "stderr",
     "output_type": "stream",
     "text": [
      "\r",
      "Gen. (0.68) | Discrim. (-0.05):  55%|█████▌    | 11/20 [00:00<00:00, 22.82it/s]"
     ]
    },
    {
     "name": "stderr",
     "output_type": "stream",
     "text": [
      "\r",
      "Gen. (0.68) | Discrim. (-0.05):  70%|███████   | 14/20 [00:00<00:00, 23.23it/s]"
     ]
    },
    {
     "name": "stderr",
     "output_type": "stream",
     "text": [
      "\r",
      "Gen. (0.71) | Discrim. (-0.03):  70%|███████   | 14/20 [00:00<00:00, 23.23it/s]"
     ]
    },
    {
     "name": "stderr",
     "output_type": "stream",
     "text": [
      "\r",
      "Gen. (0.67) | Discrim. (-0.03):  70%|███████   | 14/20 [00:00<00:00, 23.23it/s]"
     ]
    },
    {
     "name": "stderr",
     "output_type": "stream",
     "text": [
      "\r",
      "Gen. (0.66) | Discrim. (-0.03):  70%|███████   | 14/20 [00:00<00:00, 23.23it/s]"
     ]
    },
    {
     "name": "stderr",
     "output_type": "stream",
     "text": [
      "\r",
      "Gen. (0.66) | Discrim. (-0.03):  85%|████████▌ | 17/20 [00:00<00:00, 22.42it/s]"
     ]
    },
    {
     "name": "stderr",
     "output_type": "stream",
     "text": [
      "\r",
      "Gen. (0.69) | Discrim. (0.00):  85%|████████▌ | 17/20 [00:00<00:00, 22.42it/s] "
     ]
    },
    {
     "name": "stderr",
     "output_type": "stream",
     "text": [
      "\r",
      "Gen. (0.66) | Discrim. (-0.04):  85%|████████▌ | 17/20 [00:00<00:00, 22.42it/s]"
     ]
    },
    {
     "name": "stderr",
     "output_type": "stream",
     "text": [
      "\r",
      "Gen. (0.70) | Discrim. (-0.02):  85%|████████▌ | 17/20 [00:00<00:00, 22.42it/s]"
     ]
    },
    {
     "name": "stderr",
     "output_type": "stream",
     "text": [
      "\r",
      "Gen. (0.70) | Discrim. (-0.02): 100%|██████████| 20/20 [00:00<00:00, 19.06it/s]"
     ]
    },
    {
     "name": "stderr",
     "output_type": "stream",
     "text": [
      "\r",
      "Gen. (0.70) | Discrim. (-0.02): 100%|██████████| 20/20 [00:00<00:00, 20.74it/s]"
     ]
    },
    {
     "name": "stdout",
     "output_type": "stream",
     "text": [
      "."
     ]
    },
    {
     "name": "stderr",
     "output_type": "stream",
     "text": [
      "\n"
     ]
    },
    {
     "name": "stderr",
     "output_type": "stream",
     "text": [
      "\r",
      "  0%|          | 0/20 [00:00<?, ?it/s]"
     ]
    },
    {
     "name": "stderr",
     "output_type": "stream",
     "text": [
      "\r",
      "Gen. (0.00) | Discrim. (0.00):   0%|          | 0/20 [00:00<?, ?it/s]"
     ]
    },
    {
     "name": "stderr",
     "output_type": "stream",
     "text": [
      "\r",
      "Gen. (0.78) | Discrim. (-0.02):   0%|          | 0/20 [00:00<?, ?it/s]"
     ]
    },
    {
     "name": "stderr",
     "output_type": "stream",
     "text": [
      "\r",
      "Gen. (0.78) | Discrim. (0.02):   0%|          | 0/20 [00:00<?, ?it/s] "
     ]
    },
    {
     "name": "stderr",
     "output_type": "stream",
     "text": [
      "\r",
      "Gen. (0.76) | Discrim. (-0.03):   0%|          | 0/20 [00:00<?, ?it/s]"
     ]
    },
    {
     "name": "stderr",
     "output_type": "stream",
     "text": [
      "\r",
      "Gen. (0.76) | Discrim. (-0.03):  15%|█▌        | 3/20 [00:00<00:00, 21.49it/s]"
     ]
    },
    {
     "name": "stderr",
     "output_type": "stream",
     "text": [
      "\r",
      "Gen. (0.73) | Discrim. (-0.06):  15%|█▌        | 3/20 [00:00<00:00, 21.49it/s]"
     ]
    },
    {
     "name": "stderr",
     "output_type": "stream",
     "text": [
      "\r",
      "Gen. (0.72) | Discrim. (-0.02):  15%|█▌        | 3/20 [00:00<00:00, 21.49it/s]"
     ]
    },
    {
     "name": "stderr",
     "output_type": "stream",
     "text": [
      "\r",
      "Gen. (0.75) | Discrim. (-0.01):  15%|█▌        | 3/20 [00:00<00:00, 21.49it/s]"
     ]
    },
    {
     "name": "stderr",
     "output_type": "stream",
     "text": [
      "\r",
      "Gen. (0.75) | Discrim. (-0.01):  30%|███       | 6/20 [00:00<00:00, 20.73it/s]"
     ]
    },
    {
     "name": "stderr",
     "output_type": "stream",
     "text": [
      "\r",
      "Gen. (0.74) | Discrim. (-0.03):  30%|███       | 6/20 [00:00<00:00, 20.73it/s]"
     ]
    },
    {
     "name": "stderr",
     "output_type": "stream",
     "text": [
      "\r",
      "Gen. (0.72) | Discrim. (-0.00):  30%|███       | 6/20 [00:00<00:00, 20.73it/s]"
     ]
    },
    {
     "name": "stderr",
     "output_type": "stream",
     "text": [
      "\r",
      "Gen. (0.72) | Discrim. (-0.05):  30%|███       | 6/20 [00:00<00:00, 20.73it/s]"
     ]
    },
    {
     "name": "stderr",
     "output_type": "stream",
     "text": [
      "\r",
      "Gen. (0.72) | Discrim. (-0.05):  45%|████▌     | 9/20 [00:00<00:00, 22.19it/s]"
     ]
    },
    {
     "name": "stderr",
     "output_type": "stream",
     "text": [
      "\r",
      "Gen. (0.71) | Discrim. (-0.02):  45%|████▌     | 9/20 [00:00<00:00, 22.19it/s]"
     ]
    },
    {
     "name": "stderr",
     "output_type": "stream",
     "text": [
      "\r",
      "Gen. (0.64) | Discrim. (-0.05):  45%|████▌     | 9/20 [00:00<00:00, 22.19it/s]"
     ]
    },
    {
     "name": "stderr",
     "output_type": "stream",
     "text": [
      "\r",
      "Gen. (0.66) | Discrim. (-0.08):  45%|████▌     | 9/20 [00:00<00:00, 22.19it/s]"
     ]
    },
    {
     "name": "stderr",
     "output_type": "stream",
     "text": [
      "\r",
      "Gen. (0.66) | Discrim. (-0.08):  60%|██████    | 12/20 [00:00<00:00, 22.23it/s]"
     ]
    },
    {
     "name": "stderr",
     "output_type": "stream",
     "text": [
      "\r",
      "Gen. (0.59) | Discrim. (-0.04):  60%|██████    | 12/20 [00:00<00:00, 22.23it/s]"
     ]
    },
    {
     "name": "stderr",
     "output_type": "stream",
     "text": [
      "\r",
      "Gen. (0.59) | Discrim. (-0.04):  60%|██████    | 12/20 [00:00<00:00, 22.23it/s]"
     ]
    },
    {
     "name": "stderr",
     "output_type": "stream",
     "text": [
      "\r",
      "Gen. (0.58) | Discrim. (0.07):  60%|██████    | 12/20 [00:00<00:00, 22.23it/s] "
     ]
    },
    {
     "name": "stderr",
     "output_type": "stream",
     "text": [
      "\r",
      "Gen. (0.58) | Discrim. (0.07):  75%|███████▌  | 15/20 [00:00<00:00, 22.95it/s]"
     ]
    },
    {
     "name": "stderr",
     "output_type": "stream",
     "text": [
      "\r",
      "Gen. (0.48) | Discrim. (-0.04):  75%|███████▌  | 15/20 [00:00<00:00, 22.95it/s]"
     ]
    },
    {
     "name": "stderr",
     "output_type": "stream",
     "text": [
      "\r",
      "Gen. (0.52) | Discrim. (0.03):  75%|███████▌  | 15/20 [00:00<00:00, 22.95it/s] "
     ]
    },
    {
     "name": "stderr",
     "output_type": "stream",
     "text": [
      "\r",
      "Gen. (0.44) | Discrim. (0.01):  75%|███████▌  | 15/20 [00:00<00:00, 22.95it/s]"
     ]
    },
    {
     "name": "stderr",
     "output_type": "stream",
     "text": [
      "\r",
      "Gen. (0.44) | Discrim. (0.01):  90%|█████████ | 18/20 [00:00<00:00, 22.43it/s]"
     ]
    },
    {
     "name": "stderr",
     "output_type": "stream",
     "text": [
      "\r",
      "Gen. (0.35) | Discrim. (0.05):  90%|█████████ | 18/20 [00:00<00:00, 22.43it/s]"
     ]
    },
    {
     "name": "stderr",
     "output_type": "stream",
     "text": [
      "\r",
      "Gen. (0.37) | Discrim. (-0.03):  90%|█████████ | 18/20 [00:00<00:00, 22.43it/s]"
     ]
    },
    {
     "name": "stderr",
     "output_type": "stream",
     "text": [
      "\r",
      "Gen. (0.37) | Discrim. (-0.03): 100%|██████████| 20/20 [00:00<00:00, 22.28it/s]"
     ]
    },
    {
     "name": "stdout",
     "output_type": "stream",
     "text": [
      "."
     ]
    },
    {
     "name": "stderr",
     "output_type": "stream",
     "text": [
      "\n"
     ]
    },
    {
     "name": "stderr",
     "output_type": "stream",
     "text": [
      "\r",
      "  0%|          | 0/20 [00:00<?, ?it/s]"
     ]
    },
    {
     "name": "stderr",
     "output_type": "stream",
     "text": [
      "\r",
      "Gen. (0.00) | Discrim. (0.00):   0%|          | 0/20 [00:00<?, ?it/s]"
     ]
    },
    {
     "name": "stderr",
     "output_type": "stream",
     "text": [
      "\r",
      "Gen. (0.74) | Discrim. (-0.03):   0%|          | 0/20 [00:00<?, ?it/s]"
     ]
    },
    {
     "name": "stderr",
     "output_type": "stream",
     "text": [
      "\r",
      "Gen. (0.69) | Discrim. (-0.01):   0%|          | 0/20 [00:00<?, ?it/s]"
     ]
    },
    {
     "name": "stderr",
     "output_type": "stream",
     "text": [
      "\r",
      "Gen. (0.68) | Discrim. (-0.02):   0%|          | 0/20 [00:00<?, ?it/s]"
     ]
    },
    {
     "name": "stderr",
     "output_type": "stream",
     "text": [
      "\r",
      "Gen. (0.68) | Discrim. (-0.02):  15%|█▌        | 3/20 [00:00<00:00, 24.52it/s]"
     ]
    },
    {
     "name": "stderr",
     "output_type": "stream",
     "text": [
      "\r",
      "Gen. (0.71) | Discrim. (-0.01):  15%|█▌        | 3/20 [00:00<00:00, 24.52it/s]"
     ]
    },
    {
     "name": "stderr",
     "output_type": "stream",
     "text": [
      "\r",
      "Gen. (0.64) | Discrim. (-0.02):  15%|█▌        | 3/20 [00:00<00:00, 24.52it/s]"
     ]
    },
    {
     "name": "stderr",
     "output_type": "stream",
     "text": [
      "\r",
      "Gen. (0.63) | Discrim. (-0.00):  15%|█▌        | 3/20 [00:00<00:00, 24.52it/s]"
     ]
    },
    {
     "name": "stderr",
     "output_type": "stream",
     "text": [
      "\r",
      "Gen. (0.63) | Discrim. (-0.00):  30%|███       | 6/20 [00:00<00:00, 24.61it/s]"
     ]
    },
    {
     "name": "stderr",
     "output_type": "stream",
     "text": [
      "\r",
      "Gen. (0.63) | Discrim. (-0.03):  30%|███       | 6/20 [00:00<00:00, 24.61it/s]"
     ]
    },
    {
     "name": "stderr",
     "output_type": "stream",
     "text": [
      "\r",
      "Gen. (0.58) | Discrim. (-0.05):  30%|███       | 6/20 [00:00<00:00, 24.61it/s]"
     ]
    },
    {
     "name": "stderr",
     "output_type": "stream",
     "text": [
      "\r",
      "Gen. (0.55) | Discrim. (-0.02):  30%|███       | 6/20 [00:00<00:00, 24.61it/s]"
     ]
    },
    {
     "name": "stderr",
     "output_type": "stream",
     "text": [
      "\r",
      "Gen. (0.55) | Discrim. (-0.02):  45%|████▌     | 9/20 [00:00<00:00, 21.91it/s]"
     ]
    },
    {
     "name": "stderr",
     "output_type": "stream",
     "text": [
      "\r",
      "Gen. (0.55) | Discrim. (-0.10):  45%|████▌     | 9/20 [00:00<00:00, 21.91it/s]"
     ]
    },
    {
     "name": "stderr",
     "output_type": "stream",
     "text": [
      "\r",
      "Gen. (0.51) | Discrim. (-0.06):  45%|████▌     | 9/20 [00:00<00:00, 21.91it/s]"
     ]
    },
    {
     "name": "stderr",
     "output_type": "stream",
     "text": [
      "\r",
      "Gen. (0.42) | Discrim. (-0.04):  45%|████▌     | 9/20 [00:00<00:00, 21.91it/s]"
     ]
    },
    {
     "name": "stderr",
     "output_type": "stream",
     "text": [
      "\r",
      "Gen. (0.42) | Discrim. (-0.04):  60%|██████    | 12/20 [00:00<00:00, 22.72it/s]"
     ]
    },
    {
     "name": "stderr",
     "output_type": "stream",
     "text": [
      "\r",
      "Gen. (0.49) | Discrim. (-0.06):  60%|██████    | 12/20 [00:00<00:00, 22.72it/s]"
     ]
    },
    {
     "name": "stderr",
     "output_type": "stream",
     "text": [
      "\r",
      "Gen. (0.47) | Discrim. (0.01):  60%|██████    | 12/20 [00:00<00:00, 22.72it/s] "
     ]
    },
    {
     "name": "stderr",
     "output_type": "stream",
     "text": [
      "\r",
      "Gen. (0.43) | Discrim. (-0.04):  60%|██████    | 12/20 [00:00<00:00, 22.72it/s]"
     ]
    },
    {
     "name": "stderr",
     "output_type": "stream",
     "text": [
      "\r",
      "Gen. (0.43) | Discrim. (-0.04):  75%|███████▌  | 15/20 [00:00<00:00, 23.12it/s]"
     ]
    },
    {
     "name": "stderr",
     "output_type": "stream",
     "text": [
      "\r",
      "Gen. (0.40) | Discrim. (-0.10):  75%|███████▌  | 15/20 [00:00<00:00, 23.12it/s]"
     ]
    },
    {
     "name": "stderr",
     "output_type": "stream",
     "text": [
      "\r",
      "Gen. (0.38) | Discrim. (0.00):  75%|███████▌  | 15/20 [00:00<00:00, 23.12it/s] "
     ]
    },
    {
     "name": "stderr",
     "output_type": "stream",
     "text": [
      "\r",
      "Gen. (0.41) | Discrim. (-0.08):  75%|███████▌  | 15/20 [00:00<00:00, 23.12it/s]"
     ]
    },
    {
     "name": "stderr",
     "output_type": "stream",
     "text": [
      "\r",
      "Gen. (0.41) | Discrim. (-0.08):  90%|█████████ | 18/20 [00:00<00:00, 23.23it/s]"
     ]
    },
    {
     "name": "stderr",
     "output_type": "stream",
     "text": [
      "\r",
      "Gen. (0.30) | Discrim. (-0.04):  90%|█████████ | 18/20 [00:00<00:00, 23.23it/s]"
     ]
    },
    {
     "name": "stderr",
     "output_type": "stream",
     "text": [
      "\r",
      "Gen. (0.32) | Discrim. (-0.09):  90%|█████████ | 18/20 [00:00<00:00, 23.23it/s]"
     ]
    },
    {
     "name": "stderr",
     "output_type": "stream",
     "text": [
      "\r",
      "Gen. (0.32) | Discrim. (-0.09): 100%|██████████| 20/20 [00:00<00:00, 23.14it/s]"
     ]
    },
    {
     "name": "stdout",
     "output_type": "stream",
     "text": [
      "   Trial 5/20..."
     ]
    },
    {
     "name": "stderr",
     "output_type": "stream",
     "text": [
      "\n"
     ]
    },
    {
     "name": "stderr",
     "output_type": "stream",
     "text": [
      "\r",
      "  0%|          | 0/20 [00:00<?, ?it/s]"
     ]
    },
    {
     "name": "stderr",
     "output_type": "stream",
     "text": [
      "\r",
      "Gen. (0.00) | Discrim. (0.00):   0%|          | 0/20 [00:00<?, ?it/s]"
     ]
    },
    {
     "name": "stderr",
     "output_type": "stream",
     "text": [
      "\r",
      "Gen. (0.82) | Discrim. (-0.01):   0%|          | 0/20 [00:00<?, ?it/s]"
     ]
    },
    {
     "name": "stderr",
     "output_type": "stream",
     "text": [
      "\r",
      "Gen. (0.79) | Discrim. (-0.03):   0%|          | 0/20 [00:00<?, ?it/s]"
     ]
    },
    {
     "name": "stderr",
     "output_type": "stream",
     "text": [
      "\r",
      "Gen. (0.81) | Discrim. (-0.06):   0%|          | 0/20 [00:00<?, ?it/s]"
     ]
    },
    {
     "name": "stderr",
     "output_type": "stream",
     "text": [
      "\r",
      "Gen. (0.81) | Discrim. (-0.06):  15%|█▌        | 3/20 [00:00<00:00, 24.39it/s]"
     ]
    },
    {
     "name": "stderr",
     "output_type": "stream",
     "text": [
      "\r",
      "Gen. (0.79) | Discrim. (-0.03):  15%|█▌        | 3/20 [00:00<00:00, 24.39it/s]"
     ]
    },
    {
     "name": "stderr",
     "output_type": "stream",
     "text": [
      "\r",
      "Gen. (0.76) | Discrim. (-0.08):  15%|█▌        | 3/20 [00:00<00:00, 24.39it/s]"
     ]
    },
    {
     "name": "stderr",
     "output_type": "stream",
     "text": [
      "\r",
      "Gen. (0.75) | Discrim. (-0.02):  15%|█▌        | 3/20 [00:00<00:00, 24.39it/s]"
     ]
    },
    {
     "name": "stderr",
     "output_type": "stream",
     "text": [
      "\r",
      "Gen. (0.75) | Discrim. (-0.02):  30%|███       | 6/20 [00:00<00:00, 20.70it/s]"
     ]
    },
    {
     "name": "stderr",
     "output_type": "stream",
     "text": [
      "\r",
      "Gen. (0.76) | Discrim. (-0.02):  30%|███       | 6/20 [00:00<00:00, 20.70it/s]"
     ]
    },
    {
     "name": "stderr",
     "output_type": "stream",
     "text": [
      "\r",
      "Gen. (0.71) | Discrim. (-0.03):  30%|███       | 6/20 [00:00<00:00, 20.70it/s]"
     ]
    },
    {
     "name": "stderr",
     "output_type": "stream",
     "text": [
      "\r",
      "Gen. (0.72) | Discrim. (-0.08):  30%|███       | 6/20 [00:00<00:00, 20.70it/s]"
     ]
    },
    {
     "name": "stderr",
     "output_type": "stream",
     "text": [
      "\r",
      "Gen. (0.72) | Discrim. (-0.08):  45%|████▌     | 9/20 [00:00<00:00, 22.21it/s]"
     ]
    },
    {
     "name": "stderr",
     "output_type": "stream",
     "text": [
      "\r",
      "Gen. (0.75) | Discrim. (-0.06):  45%|████▌     | 9/20 [00:00<00:00, 22.21it/s]"
     ]
    },
    {
     "name": "stderr",
     "output_type": "stream",
     "text": [
      "\r",
      "Gen. (0.69) | Discrim. (-0.06):  45%|████▌     | 9/20 [00:00<00:00, 22.21it/s]"
     ]
    },
    {
     "name": "stderr",
     "output_type": "stream",
     "text": [
      "\r",
      "Gen. (0.72) | Discrim. (-0.07):  45%|████▌     | 9/20 [00:00<00:00, 22.21it/s]"
     ]
    },
    {
     "name": "stderr",
     "output_type": "stream",
     "text": [
      "\r",
      "Gen. (0.72) | Discrim. (-0.07):  60%|██████    | 12/20 [00:00<00:00, 22.65it/s]"
     ]
    },
    {
     "name": "stderr",
     "output_type": "stream",
     "text": [
      "\r",
      "Gen. (0.69) | Discrim. (-0.02):  60%|██████    | 12/20 [00:00<00:00, 22.65it/s]"
     ]
    },
    {
     "name": "stderr",
     "output_type": "stream",
     "text": [
      "\r",
      "Gen. (0.68) | Discrim. (-0.08):  60%|██████    | 12/20 [00:00<00:00, 22.65it/s]"
     ]
    },
    {
     "name": "stderr",
     "output_type": "stream",
     "text": [
      "\r",
      "Gen. (0.66) | Discrim. (-0.06):  60%|██████    | 12/20 [00:00<00:00, 22.65it/s]"
     ]
    },
    {
     "name": "stderr",
     "output_type": "stream",
     "text": [
      "\r",
      "Gen. (0.66) | Discrim. (-0.06):  75%|███████▌  | 15/20 [00:00<00:00, 22.74it/s]"
     ]
    },
    {
     "name": "stderr",
     "output_type": "stream",
     "text": [
      "\r",
      "Gen. (0.64) | Discrim. (-0.06):  75%|███████▌  | 15/20 [00:00<00:00, 22.74it/s]"
     ]
    },
    {
     "name": "stderr",
     "output_type": "stream",
     "text": [
      "\r",
      "Gen. (0.63) | Discrim. (0.00):  75%|███████▌  | 15/20 [00:00<00:00, 22.74it/s] "
     ]
    },
    {
     "name": "stderr",
     "output_type": "stream",
     "text": [
      "\r",
      "Gen. (0.59) | Discrim. (-0.12):  75%|███████▌  | 15/20 [00:00<00:00, 22.74it/s]"
     ]
    },
    {
     "name": "stderr",
     "output_type": "stream",
     "text": [
      "\r",
      "Gen. (0.59) | Discrim. (-0.12):  90%|█████████ | 18/20 [00:00<00:00, 24.21it/s]"
     ]
    },
    {
     "name": "stderr",
     "output_type": "stream",
     "text": [
      "\r",
      "Gen. (0.63) | Discrim. (-0.08):  90%|█████████ | 18/20 [00:00<00:00, 24.21it/s]"
     ]
    },
    {
     "name": "stderr",
     "output_type": "stream",
     "text": [
      "\r",
      "Gen. (0.56) | Discrim. (-0.02):  90%|█████████ | 18/20 [00:00<00:00, 24.21it/s]"
     ]
    },
    {
     "name": "stderr",
     "output_type": "stream",
     "text": [
      "\r",
      "Gen. (0.56) | Discrim. (-0.02): 100%|██████████| 20/20 [00:00<00:00, 23.68it/s]"
     ]
    },
    {
     "name": "stderr",
     "output_type": "stream",
     "text": [
      "\n"
     ]
    },
    {
     "name": "stdout",
     "output_type": "stream",
     "text": [
      "."
     ]
    },
    {
     "name": "stderr",
     "output_type": "stream",
     "text": [
      "\r",
      "  0%|          | 0/20 [00:00<?, ?it/s]"
     ]
    },
    {
     "name": "stderr",
     "output_type": "stream",
     "text": [
      "\r",
      "Gen. (0.00) | Discrim. (0.00):   0%|          | 0/20 [00:00<?, ?it/s]"
     ]
    },
    {
     "name": "stderr",
     "output_type": "stream",
     "text": [
      "\r",
      "Gen. (0.76) | Discrim. (-0.01):   0%|          | 0/20 [00:00<?, ?it/s]"
     ]
    },
    {
     "name": "stderr",
     "output_type": "stream",
     "text": [
      "\r",
      "Gen. (0.76) | Discrim. (0.03):   0%|          | 0/20 [00:00<?, ?it/s] "
     ]
    },
    {
     "name": "stderr",
     "output_type": "stream",
     "text": [
      "\r",
      "Gen. (0.72) | Discrim. (0.00):   0%|          | 0/20 [00:00<?, ?it/s]"
     ]
    },
    {
     "name": "stderr",
     "output_type": "stream",
     "text": [
      "\r",
      "Gen. (0.72) | Discrim. (0.00):  15%|█▌        | 3/20 [00:00<00:00, 24.24it/s]"
     ]
    },
    {
     "name": "stderr",
     "output_type": "stream",
     "text": [
      "\r",
      "Gen. (0.75) | Discrim. (0.01):  15%|█▌        | 3/20 [00:00<00:00, 24.24it/s]"
     ]
    },
    {
     "name": "stderr",
     "output_type": "stream",
     "text": [
      "\r",
      "Gen. (0.74) | Discrim. (-0.01):  15%|█▌        | 3/20 [00:00<00:00, 24.24it/s]"
     ]
    },
    {
     "name": "stderr",
     "output_type": "stream",
     "text": [
      "\r",
      "Gen. (0.68) | Discrim. (0.01):  15%|█▌        | 3/20 [00:00<00:00, 24.24it/s] "
     ]
    },
    {
     "name": "stderr",
     "output_type": "stream",
     "text": [
      "\r",
      "Gen. (0.68) | Discrim. (0.01):  30%|███       | 6/20 [00:00<00:00, 22.89it/s]"
     ]
    },
    {
     "name": "stderr",
     "output_type": "stream",
     "text": [
      "\r",
      "Gen. (0.72) | Discrim. (0.02):  30%|███       | 6/20 [00:00<00:00, 22.89it/s]"
     ]
    },
    {
     "name": "stderr",
     "output_type": "stream",
     "text": [
      "\r",
      "Gen. (0.68) | Discrim. (0.05):  30%|███       | 6/20 [00:00<00:00, 22.89it/s]"
     ]
    },
    {
     "name": "stderr",
     "output_type": "stream",
     "text": [
      "\r",
      "Gen. (0.67) | Discrim. (0.00):  30%|███       | 6/20 [00:00<00:00, 22.89it/s]"
     ]
    },
    {
     "name": "stderr",
     "output_type": "stream",
     "text": [
      "\r",
      "Gen. (0.67) | Discrim. (0.00):  45%|████▌     | 9/20 [00:00<00:00, 22.83it/s]"
     ]
    },
    {
     "name": "stderr",
     "output_type": "stream",
     "text": [
      "\r",
      "Gen. (0.65) | Discrim. (-0.02):  45%|████▌     | 9/20 [00:00<00:00, 22.83it/s]"
     ]
    },
    {
     "name": "stderr",
     "output_type": "stream",
     "text": [
      "\r",
      "Gen. (0.67) | Discrim. (0.02):  45%|████▌     | 9/20 [00:00<00:00, 22.83it/s] "
     ]
    },
    {
     "name": "stderr",
     "output_type": "stream",
     "text": [
      "\r",
      "Gen. (0.65) | Discrim. (-0.05):  45%|████▌     | 9/20 [00:00<00:00, 22.83it/s]"
     ]
    },
    {
     "name": "stderr",
     "output_type": "stream",
     "text": [
      "\r",
      "Gen. (0.65) | Discrim. (-0.05):  60%|██████    | 12/20 [00:00<00:00, 21.64it/s]"
     ]
    },
    {
     "name": "stderr",
     "output_type": "stream",
     "text": [
      "\r",
      "Gen. (0.60) | Discrim. (-0.03):  60%|██████    | 12/20 [00:00<00:00, 21.64it/s]"
     ]
    },
    {
     "name": "stderr",
     "output_type": "stream",
     "text": [
      "\r",
      "Gen. (0.59) | Discrim. (0.04):  60%|██████    | 12/20 [00:00<00:00, 21.64it/s] "
     ]
    },
    {
     "name": "stderr",
     "output_type": "stream",
     "text": [
      "\r",
      "Gen. (0.58) | Discrim. (-0.04):  60%|██████    | 12/20 [00:00<00:00, 21.64it/s]"
     ]
    },
    {
     "name": "stderr",
     "output_type": "stream",
     "text": [
      "\r",
      "Gen. (0.58) | Discrim. (-0.04):  75%|███████▌  | 15/20 [00:00<00:00, 21.61it/s]"
     ]
    },
    {
     "name": "stderr",
     "output_type": "stream",
     "text": [
      "\r",
      "Gen. (0.52) | Discrim. (-0.02):  75%|███████▌  | 15/20 [00:00<00:00, 21.61it/s]"
     ]
    },
    {
     "name": "stderr",
     "output_type": "stream",
     "text": [
      "\r",
      "Gen. (0.58) | Discrim. (-0.00):  75%|███████▌  | 15/20 [00:00<00:00, 21.61it/s]"
     ]
    },
    {
     "name": "stderr",
     "output_type": "stream",
     "text": [
      "\r",
      "Gen. (0.55) | Discrim. (-0.06):  75%|███████▌  | 15/20 [00:00<00:00, 21.61it/s]"
     ]
    },
    {
     "name": "stderr",
     "output_type": "stream",
     "text": [
      "\r",
      "Gen. (0.55) | Discrim. (-0.06):  90%|█████████ | 18/20 [00:00<00:00, 21.76it/s]"
     ]
    },
    {
     "name": "stderr",
     "output_type": "stream",
     "text": [
      "\r",
      "Gen. (0.52) | Discrim. (0.02):  90%|█████████ | 18/20 [00:00<00:00, 21.76it/s] "
     ]
    },
    {
     "name": "stderr",
     "output_type": "stream",
     "text": [
      "\r",
      "Gen. (0.54) | Discrim. (-0.04):  90%|█████████ | 18/20 [00:00<00:00, 21.76it/s]"
     ]
    },
    {
     "name": "stderr",
     "output_type": "stream",
     "text": [
      "\r",
      "Gen. (0.54) | Discrim. (-0.04): 100%|██████████| 20/20 [00:00<00:00, 22.05it/s]"
     ]
    },
    {
     "name": "stdout",
     "output_type": "stream",
     "text": [
      "."
     ]
    },
    {
     "name": "stderr",
     "output_type": "stream",
     "text": [
      "\n"
     ]
    },
    {
     "name": "stderr",
     "output_type": "stream",
     "text": [
      "\r",
      "  0%|          | 0/20 [00:00<?, ?it/s]"
     ]
    },
    {
     "name": "stderr",
     "output_type": "stream",
     "text": [
      "\r",
      "Gen. (0.00) | Discrim. (0.00):   0%|          | 0/20 [00:00<?, ?it/s]"
     ]
    },
    {
     "name": "stderr",
     "output_type": "stream",
     "text": [
      "\r",
      "Gen. (0.83) | Discrim. (-0.00):   0%|          | 0/20 [00:00<?, ?it/s]"
     ]
    },
    {
     "name": "stderr",
     "output_type": "stream",
     "text": [
      "\r",
      "Gen. (0.82) | Discrim. (0.01):   0%|          | 0/20 [00:00<?, ?it/s] "
     ]
    },
    {
     "name": "stderr",
     "output_type": "stream",
     "text": [
      "\r",
      "Gen. (0.81) | Discrim. (0.01):   0%|          | 0/20 [00:00<?, ?it/s]"
     ]
    },
    {
     "name": "stderr",
     "output_type": "stream",
     "text": [
      "\r",
      "Gen. (0.81) | Discrim. (0.01):  15%|█▌        | 3/20 [00:00<00:00, 20.65it/s]"
     ]
    },
    {
     "name": "stderr",
     "output_type": "stream",
     "text": [
      "\r",
      "Gen. (0.79) | Discrim. (0.01):  15%|█▌        | 3/20 [00:00<00:00, 20.65it/s]"
     ]
    },
    {
     "name": "stderr",
     "output_type": "stream",
     "text": [
      "\r",
      "Gen. (0.85) | Discrim. (0.02):  15%|█▌        | 3/20 [00:00<00:00, 20.65it/s]"
     ]
    },
    {
     "name": "stderr",
     "output_type": "stream",
     "text": [
      "\r",
      "Gen. (0.81) | Discrim. (0.00):  15%|█▌        | 3/20 [00:00<00:00, 20.65it/s]"
     ]
    },
    {
     "name": "stderr",
     "output_type": "stream",
     "text": [
      "\r",
      "Gen. (0.81) | Discrim. (0.00):  30%|███       | 6/20 [00:00<00:00, 23.22it/s]"
     ]
    },
    {
     "name": "stderr",
     "output_type": "stream",
     "text": [
      "\r",
      "Gen. (0.78) | Discrim. (0.02):  30%|███       | 6/20 [00:00<00:00, 23.22it/s]"
     ]
    },
    {
     "name": "stderr",
     "output_type": "stream",
     "text": [
      "\r",
      "Gen. (0.79) | Discrim. (0.01):  30%|███       | 6/20 [00:00<00:00, 23.22it/s]"
     ]
    },
    {
     "name": "stderr",
     "output_type": "stream",
     "text": [
      "\r",
      "Gen. (0.80) | Discrim. (0.02):  30%|███       | 6/20 [00:00<00:00, 23.22it/s]"
     ]
    },
    {
     "name": "stderr",
     "output_type": "stream",
     "text": [
      "\r",
      "Gen. (0.80) | Discrim. (0.02):  45%|████▌     | 9/20 [00:00<00:00, 23.54it/s]"
     ]
    },
    {
     "name": "stderr",
     "output_type": "stream",
     "text": [
      "\r",
      "Gen. (0.78) | Discrim. (0.06):  45%|████▌     | 9/20 [00:00<00:00, 23.54it/s]"
     ]
    },
    {
     "name": "stderr",
     "output_type": "stream",
     "text": [
      "\r",
      "Gen. (0.79) | Discrim. (0.05):  45%|████▌     | 9/20 [00:00<00:00, 23.54it/s]"
     ]
    },
    {
     "name": "stderr",
     "output_type": "stream",
     "text": [
      "\r",
      "Gen. (0.79) | Discrim. (0.04):  45%|████▌     | 9/20 [00:00<00:00, 23.54it/s]"
     ]
    },
    {
     "name": "stderr",
     "output_type": "stream",
     "text": [
      "\r",
      "Gen. (0.79) | Discrim. (0.04):  60%|██████    | 12/20 [00:00<00:00, 23.98it/s]"
     ]
    },
    {
     "name": "stderr",
     "output_type": "stream",
     "text": [
      "\r",
      "Gen. (0.75) | Discrim. (0.04):  60%|██████    | 12/20 [00:00<00:00, 23.98it/s]"
     ]
    },
    {
     "name": "stderr",
     "output_type": "stream",
     "text": [
      "\r",
      "Gen. (0.76) | Discrim. (0.03):  60%|██████    | 12/20 [00:00<00:00, 23.98it/s]"
     ]
    },
    {
     "name": "stderr",
     "output_type": "stream",
     "text": [
      "\r",
      "Gen. (0.73) | Discrim. (0.08):  60%|██████    | 12/20 [00:00<00:00, 23.98it/s]"
     ]
    },
    {
     "name": "stderr",
     "output_type": "stream",
     "text": [
      "\r",
      "Gen. (0.73) | Discrim. (0.08):  75%|███████▌  | 15/20 [00:00<00:00, 23.30it/s]"
     ]
    },
    {
     "name": "stderr",
     "output_type": "stream",
     "text": [
      "\r",
      "Gen. (0.72) | Discrim. (0.06):  75%|███████▌  | 15/20 [00:00<00:00, 23.30it/s]"
     ]
    },
    {
     "name": "stderr",
     "output_type": "stream",
     "text": [
      "\r",
      "Gen. (0.71) | Discrim. (0.07):  75%|███████▌  | 15/20 [00:00<00:00, 23.30it/s]"
     ]
    },
    {
     "name": "stderr",
     "output_type": "stream",
     "text": [
      "\r",
      "Gen. (0.72) | Discrim. (0.09):  75%|███████▌  | 15/20 [00:00<00:00, 23.30it/s]"
     ]
    },
    {
     "name": "stderr",
     "output_type": "stream",
     "text": [
      "\r",
      "Gen. (0.72) | Discrim. (0.09):  90%|█████████ | 18/20 [00:00<00:00, 22.00it/s]"
     ]
    },
    {
     "name": "stderr",
     "output_type": "stream",
     "text": [
      "\r",
      "Gen. (0.78) | Discrim. (-0.00):  90%|█████████ | 18/20 [00:00<00:00, 22.00it/s]"
     ]
    },
    {
     "name": "stderr",
     "output_type": "stream",
     "text": [
      "\r",
      "Gen. (0.75) | Discrim. (0.05):  90%|█████████ | 18/20 [00:00<00:00, 22.00it/s] "
     ]
    },
    {
     "name": "stderr",
     "output_type": "stream",
     "text": [
      "\r",
      "Gen. (0.75) | Discrim. (0.05): 100%|██████████| 20/20 [00:00<00:00, 22.85it/s]"
     ]
    },
    {
     "name": "stdout",
     "output_type": "stream",
     "text": [
      "."
     ]
    },
    {
     "name": "stderr",
     "output_type": "stream",
     "text": [
      "\n"
     ]
    },
    {
     "name": "stderr",
     "output_type": "stream",
     "text": [
      "\r",
      "  0%|          | 0/20 [00:00<?, ?it/s]"
     ]
    },
    {
     "name": "stderr",
     "output_type": "stream",
     "text": [
      "\r",
      "Gen. (0.00) | Discrim. (0.00):   0%|          | 0/20 [00:00<?, ?it/s]"
     ]
    },
    {
     "name": "stderr",
     "output_type": "stream",
     "text": [
      "\r",
      "Gen. (0.78) | Discrim. (0.04):   0%|          | 0/20 [00:00<?, ?it/s]"
     ]
    },
    {
     "name": "stderr",
     "output_type": "stream",
     "text": [
      "\r",
      "Gen. (0.81) | Discrim. (0.02):   0%|          | 0/20 [00:00<?, ?it/s]"
     ]
    },
    {
     "name": "stderr",
     "output_type": "stream",
     "text": [
      "\r",
      "Gen. (0.75) | Discrim. (0.05):   0%|          | 0/20 [00:00<?, ?it/s]"
     ]
    },
    {
     "name": "stderr",
     "output_type": "stream",
     "text": [
      "\r",
      "Gen. (0.75) | Discrim. (0.05):  15%|█▌        | 3/20 [00:00<00:00, 22.46it/s]"
     ]
    },
    {
     "name": "stderr",
     "output_type": "stream",
     "text": [
      "\r",
      "Gen. (0.78) | Discrim. (0.04):  15%|█▌        | 3/20 [00:00<00:00, 22.46it/s]"
     ]
    },
    {
     "name": "stderr",
     "output_type": "stream",
     "text": [
      "\r",
      "Gen. (0.79) | Discrim. (0.01):  15%|█▌        | 3/20 [00:00<00:00, 22.46it/s]"
     ]
    },
    {
     "name": "stderr",
     "output_type": "stream",
     "text": [
      "\r",
      "Gen. (0.75) | Discrim. (0.02):  15%|█▌        | 3/20 [00:00<00:00, 22.46it/s]"
     ]
    },
    {
     "name": "stderr",
     "output_type": "stream",
     "text": [
      "\r",
      "Gen. (0.75) | Discrim. (0.02):  30%|███       | 6/20 [00:00<00:00, 22.53it/s]"
     ]
    },
    {
     "name": "stderr",
     "output_type": "stream",
     "text": [
      "\r",
      "Gen. (0.79) | Discrim. (0.05):  30%|███       | 6/20 [00:00<00:00, 22.53it/s]"
     ]
    },
    {
     "name": "stderr",
     "output_type": "stream",
     "text": [
      "\r",
      "Gen. (0.75) | Discrim. (-0.00):  30%|███       | 6/20 [00:00<00:00, 22.53it/s]"
     ]
    },
    {
     "name": "stderr",
     "output_type": "stream",
     "text": [
      "\r",
      "Gen. (0.73) | Discrim. (-0.04):  30%|███       | 6/20 [00:00<00:00, 22.53it/s]"
     ]
    },
    {
     "name": "stderr",
     "output_type": "stream",
     "text": [
      "\r",
      "Gen. (0.73) | Discrim. (-0.04):  45%|████▌     | 9/20 [00:00<00:00, 23.00it/s]"
     ]
    },
    {
     "name": "stderr",
     "output_type": "stream",
     "text": [
      "\r",
      "Gen. (0.71) | Discrim. (0.01):  45%|████▌     | 9/20 [00:00<00:00, 23.00it/s] "
     ]
    },
    {
     "name": "stderr",
     "output_type": "stream",
     "text": [
      "\r",
      "Gen. (0.73) | Discrim. (-0.02):  45%|████▌     | 9/20 [00:00<00:00, 23.00it/s]"
     ]
    },
    {
     "name": "stderr",
     "output_type": "stream",
     "text": [
      "\r",
      "Gen. (0.73) | Discrim. (-0.03):  45%|████▌     | 9/20 [00:00<00:00, 23.00it/s]"
     ]
    },
    {
     "name": "stderr",
     "output_type": "stream",
     "text": [
      "\r",
      "Gen. (0.73) | Discrim. (-0.03):  60%|██████    | 12/20 [00:00<00:00, 19.94it/s]"
     ]
    },
    {
     "name": "stderr",
     "output_type": "stream",
     "text": [
      "\r",
      "Gen. (0.74) | Discrim. (-0.00):  60%|██████    | 12/20 [00:00<00:00, 19.94it/s]"
     ]
    },
    {
     "name": "stderr",
     "output_type": "stream",
     "text": [
      "\r",
      "Gen. (0.79) | Discrim. (-0.06):  60%|██████    | 12/20 [00:00<00:00, 19.94it/s]"
     ]
    },
    {
     "name": "stderr",
     "output_type": "stream",
     "text": [
      "\r",
      "Gen. (0.78) | Discrim. (-0.02):  60%|██████    | 12/20 [00:00<00:00, 19.94it/s]"
     ]
    },
    {
     "name": "stderr",
     "output_type": "stream",
     "text": [
      "\r",
      "Gen. (0.78) | Discrim. (-0.02):  75%|███████▌  | 15/20 [00:00<00:00, 20.10it/s]"
     ]
    },
    {
     "name": "stderr",
     "output_type": "stream",
     "text": [
      "\r",
      "Gen. (0.79) | Discrim. (-0.08):  75%|███████▌  | 15/20 [00:00<00:00, 20.10it/s]"
     ]
    },
    {
     "name": "stderr",
     "output_type": "stream",
     "text": [
      "\r",
      "Gen. (0.74) | Discrim. (0.01):  75%|███████▌  | 15/20 [00:00<00:00, 20.10it/s] "
     ]
    },
    {
     "name": "stderr",
     "output_type": "stream",
     "text": [
      "\r",
      "Gen. (0.73) | Discrim. (-0.07):  75%|███████▌  | 15/20 [00:00<00:00, 20.10it/s]"
     ]
    },
    {
     "name": "stderr",
     "output_type": "stream",
     "text": [
      "\r",
      "Gen. (0.73) | Discrim. (-0.07):  90%|█████████ | 18/20 [00:00<00:00, 18.40it/s]"
     ]
    },
    {
     "name": "stderr",
     "output_type": "stream",
     "text": [
      "\r",
      "Gen. (0.77) | Discrim. (-0.09):  90%|█████████ | 18/20 [00:00<00:00, 18.40it/s]"
     ]
    },
    {
     "name": "stderr",
     "output_type": "stream",
     "text": [
      "\r",
      "Gen. (0.76) | Discrim. (-0.10):  90%|█████████ | 18/20 [00:01<00:00, 18.40it/s]"
     ]
    },
    {
     "name": "stderr",
     "output_type": "stream",
     "text": [
      "\r",
      "Gen. (0.76) | Discrim. (-0.10): 100%|██████████| 20/20 [00:01<00:00, 16.03it/s]"
     ]
    },
    {
     "name": "stderr",
     "output_type": "stream",
     "text": [
      "\r",
      "Gen. (0.76) | Discrim. (-0.10): 100%|██████████| 20/20 [00:01<00:00, 18.41it/s]"
     ]
    },
    {
     "name": "stderr",
     "output_type": "stream",
     "text": [
      "\n"
     ]
    },
    {
     "name": "stdout",
     "output_type": "stream",
     "text": [
      "."
     ]
    },
    {
     "name": "stderr",
     "output_type": "stream",
     "text": [
      "\r",
      "  0%|          | 0/20 [00:00<?, ?it/s]"
     ]
    },
    {
     "name": "stderr",
     "output_type": "stream",
     "text": [
      "\r",
      "Gen. (0.00) | Discrim. (0.00):   0%|          | 0/20 [00:00<?, ?it/s]"
     ]
    },
    {
     "name": "stderr",
     "output_type": "stream",
     "text": [
      "\r",
      "Gen. (0.72) | Discrim. (-0.02):   0%|          | 0/20 [00:00<?, ?it/s]"
     ]
    },
    {
     "name": "stderr",
     "output_type": "stream",
     "text": [
      "\r",
      "Gen. (0.74) | Discrim. (-0.02):   0%|          | 0/20 [00:00<?, ?it/s]"
     ]
    },
    {
     "name": "stderr",
     "output_type": "stream",
     "text": [
      "\r",
      "Gen. (0.73) | Discrim. (-0.03):   0%|          | 0/20 [00:00<?, ?it/s]"
     ]
    },
    {
     "name": "stderr",
     "output_type": "stream",
     "text": [
      "\r",
      "Gen. (0.73) | Discrim. (-0.03):  15%|█▌        | 3/20 [00:00<00:00, 21.59it/s]"
     ]
    },
    {
     "name": "stderr",
     "output_type": "stream",
     "text": [
      "\r",
      "Gen. (0.68) | Discrim. (-0.02):  15%|█▌        | 3/20 [00:00<00:00, 21.59it/s]"
     ]
    },
    {
     "name": "stderr",
     "output_type": "stream",
     "text": [
      "\r",
      "Gen. (0.74) | Discrim. (-0.04):  15%|█▌        | 3/20 [00:00<00:00, 21.59it/s]"
     ]
    },
    {
     "name": "stderr",
     "output_type": "stream",
     "text": [
      "\r",
      "Gen. (0.65) | Discrim. (0.03):  15%|█▌        | 3/20 [00:00<00:00, 21.59it/s] "
     ]
    },
    {
     "name": "stderr",
     "output_type": "stream",
     "text": [
      "\r",
      "Gen. (0.65) | Discrim. (0.03):  30%|███       | 6/20 [00:00<00:00, 23.38it/s]"
     ]
    },
    {
     "name": "stderr",
     "output_type": "stream",
     "text": [
      "\r",
      "Gen. (0.69) | Discrim. (-0.01):  30%|███       | 6/20 [00:00<00:00, 23.38it/s]"
     ]
    },
    {
     "name": "stderr",
     "output_type": "stream",
     "text": [
      "\r",
      "Gen. (0.66) | Discrim. (-0.02):  30%|███       | 6/20 [00:00<00:00, 23.38it/s]"
     ]
    },
    {
     "name": "stderr",
     "output_type": "stream",
     "text": [
      "\r",
      "Gen. (0.65) | Discrim. (-0.00):  30%|███       | 6/20 [00:00<00:00, 23.38it/s]"
     ]
    },
    {
     "name": "stderr",
     "output_type": "stream",
     "text": [
      "\r",
      "Gen. (0.65) | Discrim. (-0.00):  45%|████▌     | 9/20 [00:00<00:00, 23.71it/s]"
     ]
    },
    {
     "name": "stderr",
     "output_type": "stream",
     "text": [
      "\r",
      "Gen. (0.66) | Discrim. (-0.02):  45%|████▌     | 9/20 [00:00<00:00, 23.71it/s]"
     ]
    },
    {
     "name": "stderr",
     "output_type": "stream",
     "text": [
      "\r",
      "Gen. (0.64) | Discrim. (-0.05):  45%|████▌     | 9/20 [00:00<00:00, 23.71it/s]"
     ]
    },
    {
     "name": "stderr",
     "output_type": "stream",
     "text": [
      "\r",
      "Gen. (0.63) | Discrim. (-0.02):  45%|████▌     | 9/20 [00:00<00:00, 23.71it/s]"
     ]
    },
    {
     "name": "stderr",
     "output_type": "stream",
     "text": [
      "\r",
      "Gen. (0.63) | Discrim. (-0.02):  60%|██████    | 12/20 [00:00<00:00, 23.04it/s]"
     ]
    },
    {
     "name": "stderr",
     "output_type": "stream",
     "text": [
      "\r",
      "Gen. (0.65) | Discrim. (-0.00):  60%|██████    | 12/20 [00:00<00:00, 23.04it/s]"
     ]
    },
    {
     "name": "stderr",
     "output_type": "stream",
     "text": [
      "\r",
      "Gen. (0.61) | Discrim. (-0.02):  60%|██████    | 12/20 [00:00<00:00, 23.04it/s]"
     ]
    },
    {
     "name": "stderr",
     "output_type": "stream",
     "text": [
      "\r",
      "Gen. (0.58) | Discrim. (-0.06):  60%|██████    | 12/20 [00:00<00:00, 23.04it/s]"
     ]
    },
    {
     "name": "stderr",
     "output_type": "stream",
     "text": [
      "\r",
      "Gen. (0.58) | Discrim. (-0.06):  75%|███████▌  | 15/20 [00:00<00:00, 23.25it/s]"
     ]
    },
    {
     "name": "stderr",
     "output_type": "stream",
     "text": [
      "\r",
      "Gen. (0.57) | Discrim. (-0.05):  75%|███████▌  | 15/20 [00:00<00:00, 23.25it/s]"
     ]
    },
    {
     "name": "stderr",
     "output_type": "stream",
     "text": [
      "\r",
      "Gen. (0.57) | Discrim. (-0.08):  75%|███████▌  | 15/20 [00:00<00:00, 23.25it/s]"
     ]
    },
    {
     "name": "stderr",
     "output_type": "stream",
     "text": [
      "\r",
      "Gen. (0.51) | Discrim. (-0.05):  75%|███████▌  | 15/20 [00:00<00:00, 23.25it/s]"
     ]
    },
    {
     "name": "stderr",
     "output_type": "stream",
     "text": [
      "\r",
      "Gen. (0.51) | Discrim. (-0.05):  90%|█████████ | 18/20 [00:00<00:00, 24.48it/s]"
     ]
    },
    {
     "name": "stderr",
     "output_type": "stream",
     "text": [
      "\r",
      "Gen. (0.47) | Discrim. (-0.06):  90%|█████████ | 18/20 [00:00<00:00, 24.48it/s]"
     ]
    },
    {
     "name": "stderr",
     "output_type": "stream",
     "text": [
      "\r",
      "Gen. (0.46) | Discrim. (-0.02):  90%|█████████ | 18/20 [00:00<00:00, 24.48it/s]"
     ]
    },
    {
     "name": "stderr",
     "output_type": "stream",
     "text": [
      "\r",
      "Gen. (0.46) | Discrim. (-0.02): 100%|██████████| 20/20 [00:00<00:00, 23.61it/s]"
     ]
    },
    {
     "name": "stderr",
     "output_type": "stream",
     "text": [
      "\n"
     ]
    },
    {
     "name": "stdout",
     "output_type": "stream",
     "text": [
      "   Trial 10/20..."
     ]
    },
    {
     "name": "stderr",
     "output_type": "stream",
     "text": [
      "\r",
      "  0%|          | 0/20 [00:00<?, ?it/s]"
     ]
    },
    {
     "name": "stderr",
     "output_type": "stream",
     "text": [
      "\r",
      "Gen. (0.00) | Discrim. (0.00):   0%|          | 0/20 [00:00<?, ?it/s]"
     ]
    },
    {
     "name": "stderr",
     "output_type": "stream",
     "text": [
      "\r",
      "Gen. (0.70) | Discrim. (0.02):   0%|          | 0/20 [00:00<?, ?it/s]"
     ]
    },
    {
     "name": "stderr",
     "output_type": "stream",
     "text": [
      "\r",
      "Gen. (0.68) | Discrim. (0.04):   0%|          | 0/20 [00:00<?, ?it/s]"
     ]
    },
    {
     "name": "stderr",
     "output_type": "stream",
     "text": [
      "\r",
      "Gen. (0.71) | Discrim. (0.05):   0%|          | 0/20 [00:00<?, ?it/s]"
     ]
    },
    {
     "name": "stderr",
     "output_type": "stream",
     "text": [
      "\r",
      "Gen. (0.71) | Discrim. (0.05):  15%|█▌        | 3/20 [00:00<00:00, 27.58it/s]"
     ]
    },
    {
     "name": "stderr",
     "output_type": "stream",
     "text": [
      "\r",
      "Gen. (0.68) | Discrim. (0.02):  15%|█▌        | 3/20 [00:00<00:00, 27.58it/s]"
     ]
    },
    {
     "name": "stderr",
     "output_type": "stream",
     "text": [
      "\r",
      "Gen. (0.66) | Discrim. (0.02):  15%|█▌        | 3/20 [00:00<00:00, 27.58it/s]"
     ]
    },
    {
     "name": "stderr",
     "output_type": "stream",
     "text": [
      "\r",
      "Gen. (0.66) | Discrim. (0.04):  15%|█▌        | 3/20 [00:00<00:00, 27.58it/s]"
     ]
    },
    {
     "name": "stderr",
     "output_type": "stream",
     "text": [
      "\r",
      "Gen. (0.66) | Discrim. (0.04):  30%|███       | 6/20 [00:00<00:00, 27.00it/s]"
     ]
    },
    {
     "name": "stderr",
     "output_type": "stream",
     "text": [
      "\r",
      "Gen. (0.62) | Discrim. (0.01):  30%|███       | 6/20 [00:00<00:00, 27.00it/s]"
     ]
    },
    {
     "name": "stderr",
     "output_type": "stream",
     "text": [
      "\r",
      "Gen. (0.64) | Discrim. (0.07):  30%|███       | 6/20 [00:00<00:00, 27.00it/s]"
     ]
    },
    {
     "name": "stderr",
     "output_type": "stream",
     "text": [
      "\r",
      "Gen. (0.62) | Discrim. (0.07):  30%|███       | 6/20 [00:00<00:00, 27.00it/s]"
     ]
    },
    {
     "name": "stderr",
     "output_type": "stream",
     "text": [
      "\r",
      "Gen. (0.62) | Discrim. (0.07):  45%|████▌     | 9/20 [00:00<00:00, 26.43it/s]"
     ]
    },
    {
     "name": "stderr",
     "output_type": "stream",
     "text": [
      "\r",
      "Gen. (0.61) | Discrim. (0.06):  45%|████▌     | 9/20 [00:00<00:00, 26.43it/s]"
     ]
    },
    {
     "name": "stderr",
     "output_type": "stream",
     "text": [
      "\r",
      "Gen. (0.61) | Discrim. (0.01):  45%|████▌     | 9/20 [00:00<00:00, 26.43it/s]"
     ]
    },
    {
     "name": "stderr",
     "output_type": "stream",
     "text": [
      "\r",
      "Gen. (0.59) | Discrim. (0.00):  45%|████▌     | 9/20 [00:00<00:00, 26.43it/s]"
     ]
    },
    {
     "name": "stderr",
     "output_type": "stream",
     "text": [
      "\r",
      "Gen. (0.61) | Discrim. (-0.01):  45%|████▌     | 9/20 [00:00<00:00, 26.43it/s]"
     ]
    },
    {
     "name": "stderr",
     "output_type": "stream",
     "text": [
      "\r",
      "Gen. (0.61) | Discrim. (-0.01):  65%|██████▌   | 13/20 [00:00<00:00, 28.56it/s]"
     ]
    },
    {
     "name": "stderr",
     "output_type": "stream",
     "text": [
      "\r",
      "Gen. (0.54) | Discrim. (0.05):  65%|██████▌   | 13/20 [00:00<00:00, 28.56it/s] "
     ]
    },
    {
     "name": "stderr",
     "output_type": "stream",
     "text": [
      "\r",
      "Gen. (0.57) | Discrim. (0.03):  65%|██████▌   | 13/20 [00:00<00:00, 28.56it/s]"
     ]
    },
    {
     "name": "stderr",
     "output_type": "stream",
     "text": [
      "\r",
      "Gen. (0.52) | Discrim. (0.03):  65%|██████▌   | 13/20 [00:00<00:00, 28.56it/s]"
     ]
    },
    {
     "name": "stderr",
     "output_type": "stream",
     "text": [
      "\r",
      "Gen. (0.52) | Discrim. (0.03):  80%|████████  | 16/20 [00:00<00:00, 28.92it/s]"
     ]
    },
    {
     "name": "stderr",
     "output_type": "stream",
     "text": [
      "\r",
      "Gen. (0.55) | Discrim. (-0.06):  80%|████████  | 16/20 [00:00<00:00, 28.92it/s]"
     ]
    },
    {
     "name": "stderr",
     "output_type": "stream",
     "text": [
      "\r",
      "Gen. (0.46) | Discrim. (-0.01):  80%|████████  | 16/20 [00:00<00:00, 28.92it/s]"
     ]
    },
    {
     "name": "stderr",
     "output_type": "stream",
     "text": [
      "\r",
      "Gen. (0.44) | Discrim. (0.06):  80%|████████  | 16/20 [00:00<00:00, 28.92it/s] "
     ]
    },
    {
     "name": "stderr",
     "output_type": "stream",
     "text": [
      "\r",
      "Gen. (0.44) | Discrim. (0.06):  95%|█████████▌| 19/20 [00:00<00:00, 27.62it/s]"
     ]
    },
    {
     "name": "stderr",
     "output_type": "stream",
     "text": [
      "\r",
      "Gen. (0.53) | Discrim. (0.10):  95%|█████████▌| 19/20 [00:00<00:00, 27.62it/s]"
     ]
    },
    {
     "name": "stderr",
     "output_type": "stream",
     "text": [
      "\r",
      "Gen. (0.53) | Discrim. (0.10): 100%|██████████| 20/20 [00:00<00:00, 28.28it/s]"
     ]
    },
    {
     "name": "stderr",
     "output_type": "stream",
     "text": [
      "\n"
     ]
    },
    {
     "name": "stdout",
     "output_type": "stream",
     "text": [
      "."
     ]
    },
    {
     "name": "stderr",
     "output_type": "stream",
     "text": [
      "\r",
      "  0%|          | 0/20 [00:00<?, ?it/s]"
     ]
    },
    {
     "name": "stderr",
     "output_type": "stream",
     "text": [
      "\r",
      "Gen. (0.00) | Discrim. (0.00):   0%|          | 0/20 [00:00<?, ?it/s]"
     ]
    },
    {
     "name": "stderr",
     "output_type": "stream",
     "text": [
      "\r",
      "Gen. (0.60) | Discrim. (-0.00):   0%|          | 0/20 [00:00<?, ?it/s]"
     ]
    },
    {
     "name": "stderr",
     "output_type": "stream",
     "text": [
      "\r",
      "Gen. (0.63) | Discrim. (0.02):   0%|          | 0/20 [00:00<?, ?it/s] "
     ]
    },
    {
     "name": "stderr",
     "output_type": "stream",
     "text": [
      "\r",
      "Gen. (0.59) | Discrim. (-0.01):   0%|          | 0/20 [00:00<?, ?it/s]"
     ]
    },
    {
     "name": "stderr",
     "output_type": "stream",
     "text": [
      "\r",
      "Gen. (0.59) | Discrim. (-0.01):  15%|█▌        | 3/20 [00:00<00:00, 25.42it/s]"
     ]
    },
    {
     "name": "stderr",
     "output_type": "stream",
     "text": [
      "\r",
      "Gen. (0.58) | Discrim. (-0.01):  15%|█▌        | 3/20 [00:00<00:00, 25.42it/s]"
     ]
    },
    {
     "name": "stderr",
     "output_type": "stream",
     "text": [
      "\r",
      "Gen. (0.55) | Discrim. (0.04):  15%|█▌        | 3/20 [00:00<00:00, 25.42it/s] "
     ]
    },
    {
     "name": "stderr",
     "output_type": "stream",
     "text": [
      "\r",
      "Gen. (0.53) | Discrim. (-0.01):  15%|█▌        | 3/20 [00:00<00:00, 25.42it/s]"
     ]
    },
    {
     "name": "stderr",
     "output_type": "stream",
     "text": [
      "\r",
      "Gen. (0.53) | Discrim. (-0.01):  30%|███       | 6/20 [00:00<00:00, 26.19it/s]"
     ]
    },
    {
     "name": "stderr",
     "output_type": "stream",
     "text": [
      "\r",
      "Gen. (0.53) | Discrim. (-0.04):  30%|███       | 6/20 [00:00<00:00, 26.19it/s]"
     ]
    },
    {
     "name": "stderr",
     "output_type": "stream",
     "text": [
      "\r",
      "Gen. (0.50) | Discrim. (-0.07):  30%|███       | 6/20 [00:00<00:00, 26.19it/s]"
     ]
    },
    {
     "name": "stderr",
     "output_type": "stream",
     "text": [
      "\r",
      "Gen. (0.50) | Discrim. (-0.04):  30%|███       | 6/20 [00:00<00:00, 26.19it/s]"
     ]
    },
    {
     "name": "stderr",
     "output_type": "stream",
     "text": [
      "\r",
      "Gen. (0.50) | Discrim. (-0.04):  45%|████▌     | 9/20 [00:00<00:00, 24.61it/s]"
     ]
    },
    {
     "name": "stderr",
     "output_type": "stream",
     "text": [
      "\r",
      "Gen. (0.51) | Discrim. (0.00):  45%|████▌     | 9/20 [00:00<00:00, 24.61it/s] "
     ]
    },
    {
     "name": "stderr",
     "output_type": "stream",
     "text": [
      "\r",
      "Gen. (0.48) | Discrim. (-0.04):  45%|████▌     | 9/20 [00:00<00:00, 24.61it/s]"
     ]
    },
    {
     "name": "stderr",
     "output_type": "stream",
     "text": [
      "\r",
      "Gen. (0.46) | Discrim. (-0.02):  45%|████▌     | 9/20 [00:00<00:00, 24.61it/s]"
     ]
    },
    {
     "name": "stderr",
     "output_type": "stream",
     "text": [
      "\r",
      "Gen. (0.46) | Discrim. (-0.02):  60%|██████    | 12/20 [00:00<00:00, 24.26it/s]"
     ]
    },
    {
     "name": "stderr",
     "output_type": "stream",
     "text": [
      "\r",
      "Gen. (0.38) | Discrim. (0.02):  60%|██████    | 12/20 [00:00<00:00, 24.26it/s] "
     ]
    },
    {
     "name": "stderr",
     "output_type": "stream",
     "text": [
      "\r",
      "Gen. (0.46) | Discrim. (-0.05):  60%|██████    | 12/20 [00:00<00:00, 24.26it/s]"
     ]
    },
    {
     "name": "stderr",
     "output_type": "stream",
     "text": [
      "\r",
      "Gen. (0.32) | Discrim. (-0.03):  60%|██████    | 12/20 [00:00<00:00, 24.26it/s]"
     ]
    },
    {
     "name": "stderr",
     "output_type": "stream",
     "text": [
      "\r",
      "Gen. (0.32) | Discrim. (-0.03):  75%|███████▌  | 15/20 [00:00<00:00, 24.00it/s]"
     ]
    },
    {
     "name": "stderr",
     "output_type": "stream",
     "text": [
      "\r",
      "Gen. (0.38) | Discrim. (-0.06):  75%|███████▌  | 15/20 [00:00<00:00, 24.00it/s]"
     ]
    },
    {
     "name": "stderr",
     "output_type": "stream",
     "text": [
      "\r",
      "Gen. (0.36) | Discrim. (-0.09):  75%|███████▌  | 15/20 [00:00<00:00, 24.00it/s]"
     ]
    },
    {
     "name": "stderr",
     "output_type": "stream",
     "text": [
      "\r",
      "Gen. (0.27) | Discrim. (-0.06):  75%|███████▌  | 15/20 [00:00<00:00, 24.00it/s]"
     ]
    },
    {
     "name": "stderr",
     "output_type": "stream",
     "text": [
      "\r",
      "Gen. (0.27) | Discrim. (-0.06):  90%|█████████ | 18/20 [00:00<00:00, 24.26it/s]"
     ]
    },
    {
     "name": "stderr",
     "output_type": "stream",
     "text": [
      "\r",
      "Gen. (0.24) | Discrim. (-0.11):  90%|█████████ | 18/20 [00:00<00:00, 24.26it/s]"
     ]
    },
    {
     "name": "stderr",
     "output_type": "stream",
     "text": [
      "\r",
      "Gen. (0.24) | Discrim. (-0.14):  90%|█████████ | 18/20 [00:00<00:00, 24.26it/s]"
     ]
    },
    {
     "name": "stderr",
     "output_type": "stream",
     "text": [
      "\r",
      "Gen. (0.24) | Discrim. (-0.14): 100%|██████████| 20/20 [00:00<00:00, 24.33it/s]"
     ]
    },
    {
     "name": "stderr",
     "output_type": "stream",
     "text": [
      "\n"
     ]
    },
    {
     "name": "stdout",
     "output_type": "stream",
     "text": [
      "."
     ]
    },
    {
     "name": "stderr",
     "output_type": "stream",
     "text": [
      "\r",
      "  0%|          | 0/20 [00:00<?, ?it/s]"
     ]
    },
    {
     "name": "stderr",
     "output_type": "stream",
     "text": [
      "\r",
      "Gen. (0.00) | Discrim. (0.00):   0%|          | 0/20 [00:00<?, ?it/s]"
     ]
    },
    {
     "name": "stderr",
     "output_type": "stream",
     "text": [
      "\r",
      "Gen. (0.87) | Discrim. (-0.01):   0%|          | 0/20 [00:00<?, ?it/s]"
     ]
    },
    {
     "name": "stderr",
     "output_type": "stream",
     "text": [
      "\r",
      "Gen. (0.83) | Discrim. (-0.01):   0%|          | 0/20 [00:00<?, ?it/s]"
     ]
    },
    {
     "name": "stderr",
     "output_type": "stream",
     "text": [
      "\r",
      "Gen. (0.79) | Discrim. (-0.02):   0%|          | 0/20 [00:00<?, ?it/s]"
     ]
    },
    {
     "name": "stderr",
     "output_type": "stream",
     "text": [
      "\r",
      "Gen. (0.79) | Discrim. (-0.02):  15%|█▌        | 3/20 [00:00<00:00, 21.76it/s]"
     ]
    },
    {
     "name": "stderr",
     "output_type": "stream",
     "text": [
      "\r",
      "Gen. (0.81) | Discrim. (-0.02):  15%|█▌        | 3/20 [00:00<00:00, 21.76it/s]"
     ]
    },
    {
     "name": "stderr",
     "output_type": "stream",
     "text": [
      "\r",
      "Gen. (0.80) | Discrim. (-0.01):  15%|█▌        | 3/20 [00:00<00:00, 21.76it/s]"
     ]
    },
    {
     "name": "stderr",
     "output_type": "stream",
     "text": [
      "\r",
      "Gen. (0.78) | Discrim. (-0.02):  15%|█▌        | 3/20 [00:00<00:00, 21.76it/s]"
     ]
    },
    {
     "name": "stderr",
     "output_type": "stream",
     "text": [
      "\r",
      "Gen. (0.78) | Discrim. (-0.02):  30%|███       | 6/20 [00:00<00:00, 22.00it/s]"
     ]
    },
    {
     "name": "stderr",
     "output_type": "stream",
     "text": [
      "\r",
      "Gen. (0.75) | Discrim. (0.01):  30%|███       | 6/20 [00:00<00:00, 22.00it/s] "
     ]
    },
    {
     "name": "stderr",
     "output_type": "stream",
     "text": [
      "\r",
      "Gen. (0.79) | Discrim. (-0.01):  30%|███       | 6/20 [00:00<00:00, 22.00it/s]"
     ]
    },
    {
     "name": "stderr",
     "output_type": "stream",
     "text": [
      "\r",
      "Gen. (0.73) | Discrim. (-0.04):  30%|███       | 6/20 [00:00<00:00, 22.00it/s]"
     ]
    },
    {
     "name": "stderr",
     "output_type": "stream",
     "text": [
      "\r",
      "Gen. (0.73) | Discrim. (-0.04):  45%|████▌     | 9/20 [00:00<00:00, 22.12it/s]"
     ]
    },
    {
     "name": "stderr",
     "output_type": "stream",
     "text": [
      "\r",
      "Gen. (0.73) | Discrim. (-0.06):  45%|████▌     | 9/20 [00:00<00:00, 22.12it/s]"
     ]
    },
    {
     "name": "stderr",
     "output_type": "stream",
     "text": [
      "\r",
      "Gen. (0.75) | Discrim. (-0.02):  45%|████▌     | 9/20 [00:00<00:00, 22.12it/s]"
     ]
    },
    {
     "name": "stderr",
     "output_type": "stream",
     "text": [
      "\r",
      "Gen. (0.73) | Discrim. (-0.06):  45%|████▌     | 9/20 [00:00<00:00, 22.12it/s]"
     ]
    },
    {
     "name": "stderr",
     "output_type": "stream",
     "text": [
      "\r",
      "Gen. (0.73) | Discrim. (-0.06):  60%|██████    | 12/20 [00:00<00:00, 22.57it/s]"
     ]
    },
    {
     "name": "stderr",
     "output_type": "stream",
     "text": [
      "\r",
      "Gen. (0.74) | Discrim. (-0.05):  60%|██████    | 12/20 [00:00<00:00, 22.57it/s]"
     ]
    },
    {
     "name": "stderr",
     "output_type": "stream",
     "text": [
      "\r",
      "Gen. (0.62) | Discrim. (-0.06):  60%|██████    | 12/20 [00:00<00:00, 22.57it/s]"
     ]
    },
    {
     "name": "stderr",
     "output_type": "stream",
     "text": [
      "\r",
      "Gen. (0.65) | Discrim. (-0.01):  60%|██████    | 12/20 [00:00<00:00, 22.57it/s]"
     ]
    },
    {
     "name": "stderr",
     "output_type": "stream",
     "text": [
      "\r",
      "Gen. (0.65) | Discrim. (-0.01):  75%|███████▌  | 15/20 [00:00<00:00, 22.52it/s]"
     ]
    },
    {
     "name": "stderr",
     "output_type": "stream",
     "text": [
      "\r",
      "Gen. (0.60) | Discrim. (-0.03):  75%|███████▌  | 15/20 [00:00<00:00, 22.52it/s]"
     ]
    },
    {
     "name": "stderr",
     "output_type": "stream",
     "text": [
      "\r",
      "Gen. (0.62) | Discrim. (-0.05):  75%|███████▌  | 15/20 [00:00<00:00, 22.52it/s]"
     ]
    },
    {
     "name": "stderr",
     "output_type": "stream",
     "text": [
      "\r",
      "Gen. (0.63) | Discrim. (-0.06):  75%|███████▌  | 15/20 [00:00<00:00, 22.52it/s]"
     ]
    },
    {
     "name": "stderr",
     "output_type": "stream",
     "text": [
      "\r",
      "Gen. (0.63) | Discrim. (-0.06):  90%|█████████ | 18/20 [00:00<00:00, 23.34it/s]"
     ]
    },
    {
     "name": "stderr",
     "output_type": "stream",
     "text": [
      "\r",
      "Gen. (0.58) | Discrim. (-0.10):  90%|█████████ | 18/20 [00:00<00:00, 23.34it/s]"
     ]
    },
    {
     "name": "stderr",
     "output_type": "stream",
     "text": [
      "\r",
      "Gen. (0.55) | Discrim. (-0.06):  90%|█████████ | 18/20 [00:00<00:00, 23.34it/s]"
     ]
    },
    {
     "name": "stderr",
     "output_type": "stream",
     "text": [
      "\r",
      "Gen. (0.55) | Discrim. (-0.06): 100%|██████████| 20/20 [00:00<00:00, 23.19it/s]"
     ]
    },
    {
     "name": "stdout",
     "output_type": "stream",
     "text": [
      "."
     ]
    },
    {
     "name": "stderr",
     "output_type": "stream",
     "text": [
      "\n"
     ]
    },
    {
     "name": "stderr",
     "output_type": "stream",
     "text": [
      "\r",
      "  0%|          | 0/20 [00:00<?, ?it/s]"
     ]
    },
    {
     "name": "stderr",
     "output_type": "stream",
     "text": [
      "\r",
      "Gen. (0.00) | Discrim. (0.00):   0%|          | 0/20 [00:00<?, ?it/s]"
     ]
    },
    {
     "name": "stderr",
     "output_type": "stream",
     "text": [
      "\r",
      "Gen. (0.77) | Discrim. (-0.00):   0%|          | 0/20 [00:00<?, ?it/s]"
     ]
    },
    {
     "name": "stderr",
     "output_type": "stream",
     "text": [
      "\r",
      "Gen. (0.74) | Discrim. (0.00):   0%|          | 0/20 [00:00<?, ?it/s] "
     ]
    },
    {
     "name": "stderr",
     "output_type": "stream",
     "text": [
      "\r",
      "Gen. (0.75) | Discrim. (-0.03):   0%|          | 0/20 [00:00<?, ?it/s]"
     ]
    },
    {
     "name": "stderr",
     "output_type": "stream",
     "text": [
      "\r",
      "Gen. (0.75) | Discrim. (-0.03):  15%|█▌        | 3/20 [00:00<00:00, 22.51it/s]"
     ]
    },
    {
     "name": "stderr",
     "output_type": "stream",
     "text": [
      "\r",
      "Gen. (0.75) | Discrim. (0.02):  15%|█▌        | 3/20 [00:00<00:00, 22.51it/s] "
     ]
    },
    {
     "name": "stderr",
     "output_type": "stream",
     "text": [
      "\r",
      "Gen. (0.76) | Discrim. (-0.05):  15%|█▌        | 3/20 [00:00<00:00, 22.51it/s]"
     ]
    },
    {
     "name": "stderr",
     "output_type": "stream",
     "text": [
      "\r",
      "Gen. (0.75) | Discrim. (-0.02):  15%|█▌        | 3/20 [00:00<00:00, 22.51it/s]"
     ]
    },
    {
     "name": "stderr",
     "output_type": "stream",
     "text": [
      "\r",
      "Gen. (0.75) | Discrim. (-0.02):  30%|███       | 6/20 [00:00<00:00, 23.16it/s]"
     ]
    },
    {
     "name": "stderr",
     "output_type": "stream",
     "text": [
      "\r",
      "Gen. (0.72) | Discrim. (-0.01):  30%|███       | 6/20 [00:00<00:00, 23.16it/s]"
     ]
    },
    {
     "name": "stderr",
     "output_type": "stream",
     "text": [
      "\r",
      "Gen. (0.72) | Discrim. (-0.00):  30%|███       | 6/20 [00:00<00:00, 23.16it/s]"
     ]
    },
    {
     "name": "stderr",
     "output_type": "stream",
     "text": [
      "\r",
      "Gen. (0.78) | Discrim. (0.02):  30%|███       | 6/20 [00:00<00:00, 23.16it/s] "
     ]
    },
    {
     "name": "stderr",
     "output_type": "stream",
     "text": [
      "\r",
      "Gen. (0.78) | Discrim. (0.02):  45%|████▌     | 9/20 [00:00<00:00, 23.74it/s]"
     ]
    },
    {
     "name": "stderr",
     "output_type": "stream",
     "text": [
      "\r",
      "Gen. (0.69) | Discrim. (-0.00):  45%|████▌     | 9/20 [00:00<00:00, 23.74it/s]"
     ]
    },
    {
     "name": "stderr",
     "output_type": "stream",
     "text": [
      "\r",
      "Gen. (0.68) | Discrim. (0.03):  45%|████▌     | 9/20 [00:00<00:00, 23.74it/s] "
     ]
    },
    {
     "name": "stderr",
     "output_type": "stream",
     "text": [
      "\r",
      "Gen. (0.65) | Discrim. (-0.03):  45%|████▌     | 9/20 [00:00<00:00, 23.74it/s]"
     ]
    },
    {
     "name": "stderr",
     "output_type": "stream",
     "text": [
      "\r",
      "Gen. (0.65) | Discrim. (-0.03):  60%|██████    | 12/20 [00:00<00:00, 23.43it/s]"
     ]
    },
    {
     "name": "stderr",
     "output_type": "stream",
     "text": [
      "\r",
      "Gen. (0.72) | Discrim. (-0.04):  60%|██████    | 12/20 [00:00<00:00, 23.43it/s]"
     ]
    },
    {
     "name": "stderr",
     "output_type": "stream",
     "text": [
      "\r",
      "Gen. (0.65) | Discrim. (-0.06):  60%|██████    | 12/20 [00:00<00:00, 23.43it/s]"
     ]
    },
    {
     "name": "stderr",
     "output_type": "stream",
     "text": [
      "\r",
      "Gen. (0.65) | Discrim. (-0.01):  60%|██████    | 12/20 [00:00<00:00, 23.43it/s]"
     ]
    },
    {
     "name": "stderr",
     "output_type": "stream",
     "text": [
      "\r",
      "Gen. (0.65) | Discrim. (-0.01):  75%|███████▌  | 15/20 [00:00<00:00, 24.02it/s]"
     ]
    },
    {
     "name": "stderr",
     "output_type": "stream",
     "text": [
      "\r",
      "Gen. (0.60) | Discrim. (-0.07):  75%|███████▌  | 15/20 [00:00<00:00, 24.02it/s]"
     ]
    },
    {
     "name": "stderr",
     "output_type": "stream",
     "text": [
      "\r",
      "Gen. (0.61) | Discrim. (0.02):  75%|███████▌  | 15/20 [00:00<00:00, 24.02it/s] "
     ]
    },
    {
     "name": "stderr",
     "output_type": "stream",
     "text": [
      "\r",
      "Gen. (0.63) | Discrim. (-0.08):  75%|███████▌  | 15/20 [00:00<00:00, 24.02it/s]"
     ]
    },
    {
     "name": "stderr",
     "output_type": "stream",
     "text": [
      "\r",
      "Gen. (0.63) | Discrim. (-0.08):  90%|█████████ | 18/20 [00:00<00:00, 23.86it/s]"
     ]
    },
    {
     "name": "stderr",
     "output_type": "stream",
     "text": [
      "\r",
      "Gen. (0.59) | Discrim. (-0.07):  90%|█████████ | 18/20 [00:00<00:00, 23.86it/s]"
     ]
    },
    {
     "name": "stderr",
     "output_type": "stream",
     "text": [
      "\r",
      "Gen. (0.57) | Discrim. (-0.05):  90%|█████████ | 18/20 [00:00<00:00, 23.86it/s]"
     ]
    },
    {
     "name": "stderr",
     "output_type": "stream",
     "text": [
      "\r",
      "Gen. (0.57) | Discrim. (-0.05): 100%|██████████| 20/20 [00:00<00:00, 23.83it/s]"
     ]
    },
    {
     "name": "stdout",
     "output_type": "stream",
     "text": [
      "."
     ]
    },
    {
     "name": "stderr",
     "output_type": "stream",
     "text": [
      "\n"
     ]
    },
    {
     "name": "stderr",
     "output_type": "stream",
     "text": [
      "\r",
      "  0%|          | 0/20 [00:00<?, ?it/s]"
     ]
    },
    {
     "name": "stderr",
     "output_type": "stream",
     "text": [
      "\r",
      "Gen. (0.00) | Discrim. (0.00):   0%|          | 0/20 [00:00<?, ?it/s]"
     ]
    },
    {
     "name": "stderr",
     "output_type": "stream",
     "text": [
      "\r",
      "Gen. (0.62) | Discrim. (0.03):   0%|          | 0/20 [00:00<?, ?it/s]"
     ]
    },
    {
     "name": "stderr",
     "output_type": "stream",
     "text": [
      "\r",
      "Gen. (0.59) | Discrim. (0.00):   0%|          | 0/20 [00:00<?, ?it/s]"
     ]
    },
    {
     "name": "stderr",
     "output_type": "stream",
     "text": [
      "\r",
      "Gen. (0.58) | Discrim. (-0.00):   0%|          | 0/20 [00:00<?, ?it/s]"
     ]
    },
    {
     "name": "stderr",
     "output_type": "stream",
     "text": [
      "\r",
      "Gen. (0.58) | Discrim. (-0.00):  15%|█▌        | 3/20 [00:00<00:00, 25.10it/s]"
     ]
    },
    {
     "name": "stderr",
     "output_type": "stream",
     "text": [
      "\r",
      "Gen. (0.59) | Discrim. (0.01):  15%|█▌        | 3/20 [00:00<00:00, 25.10it/s] "
     ]
    },
    {
     "name": "stderr",
     "output_type": "stream",
     "text": [
      "\r",
      "Gen. (0.56) | Discrim. (-0.00):  15%|█▌        | 3/20 [00:00<00:00, 25.10it/s]"
     ]
    },
    {
     "name": "stderr",
     "output_type": "stream",
     "text": [
      "\r",
      "Gen. (0.53) | Discrim. (-0.03):  15%|█▌        | 3/20 [00:00<00:00, 25.10it/s]"
     ]
    },
    {
     "name": "stderr",
     "output_type": "stream",
     "text": [
      "\r",
      "Gen. (0.53) | Discrim. (-0.03):  30%|███       | 6/20 [00:00<00:00, 23.86it/s]"
     ]
    },
    {
     "name": "stderr",
     "output_type": "stream",
     "text": [
      "\r",
      "Gen. (0.54) | Discrim. (0.05):  30%|███       | 6/20 [00:00<00:00, 23.86it/s] "
     ]
    },
    {
     "name": "stderr",
     "output_type": "stream",
     "text": [
      "\r",
      "Gen. (0.52) | Discrim. (0.04):  30%|███       | 6/20 [00:00<00:00, 23.86it/s]"
     ]
    },
    {
     "name": "stderr",
     "output_type": "stream",
     "text": [
      "\r",
      "Gen. (0.52) | Discrim. (0.02):  30%|███       | 6/20 [00:00<00:00, 23.86it/s]"
     ]
    },
    {
     "name": "stderr",
     "output_type": "stream",
     "text": [
      "\r",
      "Gen. (0.52) | Discrim. (0.02):  45%|████▌     | 9/20 [00:00<00:00, 23.01it/s]"
     ]
    },
    {
     "name": "stderr",
     "output_type": "stream",
     "text": [
      "\r",
      "Gen. (0.49) | Discrim. (-0.02):  45%|████▌     | 9/20 [00:00<00:00, 23.01it/s]"
     ]
    },
    {
     "name": "stderr",
     "output_type": "stream",
     "text": [
      "\r",
      "Gen. (0.43) | Discrim. (0.01):  45%|████▌     | 9/20 [00:00<00:00, 23.01it/s] "
     ]
    },
    {
     "name": "stderr",
     "output_type": "stream",
     "text": [
      "\r",
      "Gen. (0.38) | Discrim. (-0.03):  45%|████▌     | 9/20 [00:00<00:00, 23.01it/s]"
     ]
    },
    {
     "name": "stderr",
     "output_type": "stream",
     "text": [
      "\r",
      "Gen. (0.38) | Discrim. (-0.03):  60%|██████    | 12/20 [00:00<00:00, 23.00it/s]"
     ]
    },
    {
     "name": "stderr",
     "output_type": "stream",
     "text": [
      "\r",
      "Gen. (0.39) | Discrim. (-0.00):  60%|██████    | 12/20 [00:00<00:00, 23.00it/s]"
     ]
    },
    {
     "name": "stderr",
     "output_type": "stream",
     "text": [
      "\r",
      "Gen. (0.35) | Discrim. (0.06):  60%|██████    | 12/20 [00:00<00:00, 23.00it/s] "
     ]
    },
    {
     "name": "stderr",
     "output_type": "stream",
     "text": [
      "\r",
      "Gen. (0.35) | Discrim. (0.01):  60%|██████    | 12/20 [00:00<00:00, 23.00it/s]"
     ]
    },
    {
     "name": "stderr",
     "output_type": "stream",
     "text": [
      "\r",
      "Gen. (0.35) | Discrim. (0.01):  75%|███████▌  | 15/20 [00:00<00:00, 23.18it/s]"
     ]
    },
    {
     "name": "stderr",
     "output_type": "stream",
     "text": [
      "\r",
      "Gen. (0.31) | Discrim. (0.01):  75%|███████▌  | 15/20 [00:00<00:00, 23.18it/s]"
     ]
    },
    {
     "name": "stderr",
     "output_type": "stream",
     "text": [
      "\r",
      "Gen. (0.27) | Discrim. (-0.10):  75%|███████▌  | 15/20 [00:00<00:00, 23.18it/s]"
     ]
    },
    {
     "name": "stderr",
     "output_type": "stream",
     "text": [
      "\r",
      "Gen. (0.20) | Discrim. (0.08):  75%|███████▌  | 15/20 [00:00<00:00, 23.18it/s] "
     ]
    },
    {
     "name": "stderr",
     "output_type": "stream",
     "text": [
      "\r",
      "Gen. (0.20) | Discrim. (0.08):  90%|█████████ | 18/20 [00:00<00:00, 23.20it/s]"
     ]
    },
    {
     "name": "stderr",
     "output_type": "stream",
     "text": [
      "\r",
      "Gen. (0.18) | Discrim. (0.04):  90%|█████████ | 18/20 [00:00<00:00, 23.20it/s]"
     ]
    },
    {
     "name": "stderr",
     "output_type": "stream",
     "text": [
      "\r",
      "Gen. (0.20) | Discrim. (0.01):  90%|█████████ | 18/20 [00:00<00:00, 23.20it/s]"
     ]
    },
    {
     "name": "stderr",
     "output_type": "stream",
     "text": [
      "\r",
      "Gen. (0.20) | Discrim. (0.01): 100%|██████████| 20/20 [00:00<00:00, 23.55it/s]"
     ]
    },
    {
     "name": "stdout",
     "output_type": "stream",
     "text": [
      "   Trial 15/20..."
     ]
    },
    {
     "name": "stderr",
     "output_type": "stream",
     "text": [
      "\n"
     ]
    },
    {
     "name": "stderr",
     "output_type": "stream",
     "text": [
      "\r",
      "  0%|          | 0/20 [00:00<?, ?it/s]"
     ]
    },
    {
     "name": "stderr",
     "output_type": "stream",
     "text": [
      "\r",
      "Gen. (0.00) | Discrim. (0.00):   0%|          | 0/20 [00:00<?, ?it/s]"
     ]
    },
    {
     "name": "stderr",
     "output_type": "stream",
     "text": [
      "\r",
      "Gen. (0.75) | Discrim. (0.00):   0%|          | 0/20 [00:00<?, ?it/s]"
     ]
    },
    {
     "name": "stderr",
     "output_type": "stream",
     "text": [
      "\r",
      "Gen. (0.75) | Discrim. (0.02):   0%|          | 0/20 [00:00<?, ?it/s]"
     ]
    },
    {
     "name": "stderr",
     "output_type": "stream",
     "text": [
      "\r",
      "Gen. (0.72) | Discrim. (-0.01):   0%|          | 0/20 [00:00<?, ?it/s]"
     ]
    },
    {
     "name": "stderr",
     "output_type": "stream",
     "text": [
      "\r",
      "Gen. (0.72) | Discrim. (-0.01):  15%|█▌        | 3/20 [00:00<00:00, 28.55it/s]"
     ]
    },
    {
     "name": "stderr",
     "output_type": "stream",
     "text": [
      "\r",
      "Gen. (0.69) | Discrim. (-0.02):  15%|█▌        | 3/20 [00:00<00:00, 28.55it/s]"
     ]
    },
    {
     "name": "stderr",
     "output_type": "stream",
     "text": [
      "\r",
      "Gen. (0.69) | Discrim. (-0.02):  15%|█▌        | 3/20 [00:00<00:00, 28.55it/s]"
     ]
    },
    {
     "name": "stderr",
     "output_type": "stream",
     "text": [
      "\r",
      "Gen. (0.66) | Discrim. (-0.04):  15%|█▌        | 3/20 [00:00<00:00, 28.55it/s]"
     ]
    },
    {
     "name": "stderr",
     "output_type": "stream",
     "text": [
      "\r",
      "Gen. (0.66) | Discrim. (-0.04):  30%|███       | 6/20 [00:00<00:00, 28.40it/s]"
     ]
    },
    {
     "name": "stderr",
     "output_type": "stream",
     "text": [
      "\r",
      "Gen. (0.67) | Discrim. (0.01):  30%|███       | 6/20 [00:00<00:00, 28.40it/s] "
     ]
    },
    {
     "name": "stderr",
     "output_type": "stream",
     "text": [
      "\r",
      "Gen. (0.62) | Discrim. (-0.04):  30%|███       | 6/20 [00:00<00:00, 28.40it/s]"
     ]
    },
    {
     "name": "stderr",
     "output_type": "stream",
     "text": [
      "\r",
      "Gen. (0.60) | Discrim. (-0.07):  30%|███       | 6/20 [00:00<00:00, 28.40it/s]"
     ]
    },
    {
     "name": "stderr",
     "output_type": "stream",
     "text": [
      "\r",
      "Gen. (0.60) | Discrim. (-0.07):  45%|████▌     | 9/20 [00:00<00:00, 28.46it/s]"
     ]
    },
    {
     "name": "stderr",
     "output_type": "stream",
     "text": [
      "\r",
      "Gen. (0.61) | Discrim. (-0.00):  45%|████▌     | 9/20 [00:00<00:00, 28.46it/s]"
     ]
    },
    {
     "name": "stderr",
     "output_type": "stream",
     "text": [
      "\r",
      "Gen. (0.54) | Discrim. (-0.02):  45%|████▌     | 9/20 [00:00<00:00, 28.46it/s]"
     ]
    },
    {
     "name": "stderr",
     "output_type": "stream",
     "text": [
      "\r",
      "Gen. (0.56) | Discrim. (-0.07):  45%|████▌     | 9/20 [00:00<00:00, 28.46it/s]"
     ]
    },
    {
     "name": "stderr",
     "output_type": "stream",
     "text": [
      "\r",
      "Gen. (0.51) | Discrim. (-0.02):  45%|████▌     | 9/20 [00:00<00:00, 28.46it/s]"
     ]
    },
    {
     "name": "stderr",
     "output_type": "stream",
     "text": [
      "\r",
      "Gen. (0.51) | Discrim. (-0.02):  65%|██████▌   | 13/20 [00:00<00:00, 29.72it/s]"
     ]
    },
    {
     "name": "stderr",
     "output_type": "stream",
     "text": [
      "\r",
      "Gen. (0.48) | Discrim. (-0.00):  65%|██████▌   | 13/20 [00:00<00:00, 29.72it/s]"
     ]
    },
    {
     "name": "stderr",
     "output_type": "stream",
     "text": [
      "\r",
      "Gen. (0.47) | Discrim. (-0.02):  65%|██████▌   | 13/20 [00:00<00:00, 29.72it/s]"
     ]
    },
    {
     "name": "stderr",
     "output_type": "stream",
     "text": [
      "\r",
      "Gen. (0.44) | Discrim. (-0.01):  65%|██████▌   | 13/20 [00:00<00:00, 29.72it/s]"
     ]
    },
    {
     "name": "stderr",
     "output_type": "stream",
     "text": [
      "\r",
      "Gen. (0.44) | Discrim. (-0.01):  80%|████████  | 16/20 [00:00<00:00, 29.72it/s]"
     ]
    },
    {
     "name": "stderr",
     "output_type": "stream",
     "text": [
      "\r",
      "Gen. (0.43) | Discrim. (-0.01):  80%|████████  | 16/20 [00:00<00:00, 29.72it/s]"
     ]
    },
    {
     "name": "stderr",
     "output_type": "stream",
     "text": [
      "\r",
      "Gen. (0.41) | Discrim. (-0.01):  80%|████████  | 16/20 [00:00<00:00, 29.72it/s]"
     ]
    },
    {
     "name": "stderr",
     "output_type": "stream",
     "text": [
      "\r",
      "Gen. (0.43) | Discrim. (-0.05):  80%|████████  | 16/20 [00:00<00:00, 29.72it/s]"
     ]
    },
    {
     "name": "stderr",
     "output_type": "stream",
     "text": [
      "\r",
      "Gen. (0.43) | Discrim. (-0.05):  95%|█████████▌| 19/20 [00:00<00:00, 28.82it/s]"
     ]
    },
    {
     "name": "stderr",
     "output_type": "stream",
     "text": [
      "\r",
      "Gen. (0.29) | Discrim. (-0.06):  95%|█████████▌| 19/20 [00:00<00:00, 28.82it/s]"
     ]
    },
    {
     "name": "stderr",
     "output_type": "stream",
     "text": [
      "\r",
      "Gen. (0.29) | Discrim. (-0.06): 100%|██████████| 20/20 [00:00<00:00, 27.83it/s]"
     ]
    },
    {
     "name": "stderr",
     "output_type": "stream",
     "text": [
      "\n"
     ]
    },
    {
     "name": "stdout",
     "output_type": "stream",
     "text": [
      "."
     ]
    },
    {
     "name": "stderr",
     "output_type": "stream",
     "text": [
      "\r",
      "  0%|          | 0/20 [00:00<?, ?it/s]"
     ]
    },
    {
     "name": "stderr",
     "output_type": "stream",
     "text": [
      "\r",
      "Gen. (0.00) | Discrim. (0.00):   0%|          | 0/20 [00:00<?, ?it/s]"
     ]
    },
    {
     "name": "stderr",
     "output_type": "stream",
     "text": [
      "\r",
      "Gen. (0.67) | Discrim. (-0.01):   0%|          | 0/20 [00:00<?, ?it/s]"
     ]
    },
    {
     "name": "stderr",
     "output_type": "stream",
     "text": [
      "\r",
      "Gen. (0.62) | Discrim. (-0.03):   0%|          | 0/20 [00:00<?, ?it/s]"
     ]
    },
    {
     "name": "stderr",
     "output_type": "stream",
     "text": [
      "\r",
      "Gen. (0.64) | Discrim. (-0.02):   0%|          | 0/20 [00:00<?, ?it/s]"
     ]
    },
    {
     "name": "stderr",
     "output_type": "stream",
     "text": [
      "\r",
      "Gen. (0.64) | Discrim. (-0.02):  15%|█▌        | 3/20 [00:00<00:00, 23.13it/s]"
     ]
    },
    {
     "name": "stderr",
     "output_type": "stream",
     "text": [
      "\r",
      "Gen. (0.64) | Discrim. (-0.02):  15%|█▌        | 3/20 [00:00<00:00, 23.13it/s]"
     ]
    },
    {
     "name": "stderr",
     "output_type": "stream",
     "text": [
      "\r",
      "Gen. (0.60) | Discrim. (-0.05):  15%|█▌        | 3/20 [00:00<00:00, 23.13it/s]"
     ]
    },
    {
     "name": "stderr",
     "output_type": "stream",
     "text": [
      "\r",
      "Gen. (0.61) | Discrim. (-0.04):  15%|█▌        | 3/20 [00:00<00:00, 23.13it/s]"
     ]
    },
    {
     "name": "stderr",
     "output_type": "stream",
     "text": [
      "\r",
      "Gen. (0.61) | Discrim. (-0.04):  30%|███       | 6/20 [00:00<00:00, 23.84it/s]"
     ]
    },
    {
     "name": "stderr",
     "output_type": "stream",
     "text": [
      "\r",
      "Gen. (0.64) | Discrim. (0.00):  30%|███       | 6/20 [00:00<00:00, 23.84it/s] "
     ]
    },
    {
     "name": "stderr",
     "output_type": "stream",
     "text": [
      "\r",
      "Gen. (0.61) | Discrim. (-0.04):  30%|███       | 6/20 [00:00<00:00, 23.84it/s]"
     ]
    },
    {
     "name": "stderr",
     "output_type": "stream",
     "text": [
      "\r",
      "Gen. (0.58) | Discrim. (-0.05):  30%|███       | 6/20 [00:00<00:00, 23.84it/s]"
     ]
    },
    {
     "name": "stderr",
     "output_type": "stream",
     "text": [
      "\r",
      "Gen. (0.58) | Discrim. (-0.05):  45%|████▌     | 9/20 [00:00<00:00, 23.48it/s]"
     ]
    },
    {
     "name": "stderr",
     "output_type": "stream",
     "text": [
      "\r",
      "Gen. (0.55) | Discrim. (-0.00):  45%|████▌     | 9/20 [00:00<00:00, 23.48it/s]"
     ]
    },
    {
     "name": "stderr",
     "output_type": "stream",
     "text": [
      "\r",
      "Gen. (0.58) | Discrim. (-0.02):  45%|████▌     | 9/20 [00:00<00:00, 23.48it/s]"
     ]
    },
    {
     "name": "stderr",
     "output_type": "stream",
     "text": [
      "\r",
      "Gen. (0.52) | Discrim. (-0.09):  45%|████▌     | 9/20 [00:00<00:00, 23.48it/s]"
     ]
    },
    {
     "name": "stderr",
     "output_type": "stream",
     "text": [
      "\r",
      "Gen. (0.52) | Discrim. (-0.09):  60%|██████    | 12/20 [00:00<00:00, 24.56it/s]"
     ]
    },
    {
     "name": "stderr",
     "output_type": "stream",
     "text": [
      "\r",
      "Gen. (0.52) | Discrim. (-0.01):  60%|██████    | 12/20 [00:00<00:00, 24.56it/s]"
     ]
    },
    {
     "name": "stderr",
     "output_type": "stream",
     "text": [
      "\r",
      "Gen. (0.47) | Discrim. (-0.04):  60%|██████    | 12/20 [00:00<00:00, 24.56it/s]"
     ]
    },
    {
     "name": "stderr",
     "output_type": "stream",
     "text": [
      "\r",
      "Gen. (0.49) | Discrim. (-0.03):  60%|██████    | 12/20 [00:00<00:00, 24.56it/s]"
     ]
    },
    {
     "name": "stderr",
     "output_type": "stream",
     "text": [
      "\r",
      "Gen. (0.49) | Discrim. (-0.03):  75%|███████▌  | 15/20 [00:00<00:00, 24.12it/s]"
     ]
    },
    {
     "name": "stderr",
     "output_type": "stream",
     "text": [
      "\r",
      "Gen. (0.47) | Discrim. (-0.06):  75%|███████▌  | 15/20 [00:00<00:00, 24.12it/s]"
     ]
    },
    {
     "name": "stderr",
     "output_type": "stream",
     "text": [
      "\r",
      "Gen. (0.40) | Discrim. (-0.06):  75%|███████▌  | 15/20 [00:00<00:00, 24.12it/s]"
     ]
    },
    {
     "name": "stderr",
     "output_type": "stream",
     "text": [
      "\r",
      "Gen. (0.44) | Discrim. (0.04):  75%|███████▌  | 15/20 [00:00<00:00, 24.12it/s] "
     ]
    },
    {
     "name": "stderr",
     "output_type": "stream",
     "text": [
      "\r",
      "Gen. (0.44) | Discrim. (0.04):  90%|█████████ | 18/20 [00:00<00:00, 24.07it/s]"
     ]
    },
    {
     "name": "stderr",
     "output_type": "stream",
     "text": [
      "\r",
      "Gen. (0.43) | Discrim. (-0.06):  90%|█████████ | 18/20 [00:00<00:00, 24.07it/s]"
     ]
    },
    {
     "name": "stderr",
     "output_type": "stream",
     "text": [
      "\r",
      "Gen. (0.37) | Discrim. (-0.07):  90%|█████████ | 18/20 [00:00<00:00, 24.07it/s]"
     ]
    },
    {
     "name": "stderr",
     "output_type": "stream",
     "text": [
      "\r",
      "Gen. (0.37) | Discrim. (-0.07): 100%|██████████| 20/20 [00:00<00:00, 24.05it/s]"
     ]
    },
    {
     "name": "stderr",
     "output_type": "stream",
     "text": [
      "\n"
     ]
    },
    {
     "name": "stdout",
     "output_type": "stream",
     "text": [
      "."
     ]
    },
    {
     "name": "stderr",
     "output_type": "stream",
     "text": [
      "\r",
      "  0%|          | 0/20 [00:00<?, ?it/s]"
     ]
    },
    {
     "name": "stderr",
     "output_type": "stream",
     "text": [
      "\r",
      "Gen. (0.00) | Discrim. (0.00):   0%|          | 0/20 [00:00<?, ?it/s]"
     ]
    },
    {
     "name": "stderr",
     "output_type": "stream",
     "text": [
      "\r",
      "Gen. (0.59) | Discrim. (0.05):   0%|          | 0/20 [00:00<?, ?it/s]"
     ]
    },
    {
     "name": "stderr",
     "output_type": "stream",
     "text": [
      "\r",
      "Gen. (0.61) | Discrim. (0.02):   0%|          | 0/20 [00:00<?, ?it/s]"
     ]
    },
    {
     "name": "stderr",
     "output_type": "stream",
     "text": [
      "\r",
      "Gen. (0.58) | Discrim. (0.04):   0%|          | 0/20 [00:00<?, ?it/s]"
     ]
    },
    {
     "name": "stderr",
     "output_type": "stream",
     "text": [
      "\r",
      "Gen. (0.58) | Discrim. (0.04):  15%|█▌        | 3/20 [00:00<00:00, 24.58it/s]"
     ]
    },
    {
     "name": "stderr",
     "output_type": "stream",
     "text": [
      "\r",
      "Gen. (0.57) | Discrim. (-0.00):  15%|█▌        | 3/20 [00:00<00:00, 24.58it/s]"
     ]
    },
    {
     "name": "stderr",
     "output_type": "stream",
     "text": [
      "\r",
      "Gen. (0.56) | Discrim. (-0.05):  15%|█▌        | 3/20 [00:00<00:00, 24.58it/s]"
     ]
    },
    {
     "name": "stderr",
     "output_type": "stream",
     "text": [
      "\r",
      "Gen. (0.55) | Discrim. (-0.03):  15%|█▌        | 3/20 [00:00<00:00, 24.58it/s]"
     ]
    },
    {
     "name": "stderr",
     "output_type": "stream",
     "text": [
      "\r",
      "Gen. (0.55) | Discrim. (-0.03):  30%|███       | 6/20 [00:00<00:00, 23.55it/s]"
     ]
    },
    {
     "name": "stderr",
     "output_type": "stream",
     "text": [
      "\r",
      "Gen. (0.52) | Discrim. (-0.04):  30%|███       | 6/20 [00:00<00:00, 23.55it/s]"
     ]
    },
    {
     "name": "stderr",
     "output_type": "stream",
     "text": [
      "\r",
      "Gen. (0.52) | Discrim. (-0.03):  30%|███       | 6/20 [00:00<00:00, 23.55it/s]"
     ]
    },
    {
     "name": "stderr",
     "output_type": "stream",
     "text": [
      "\r",
      "Gen. (0.50) | Discrim. (-0.04):  30%|███       | 6/20 [00:00<00:00, 23.55it/s]"
     ]
    },
    {
     "name": "stderr",
     "output_type": "stream",
     "text": [
      "\r",
      "Gen. (0.50) | Discrim. (-0.04):  45%|████▌     | 9/20 [00:00<00:00, 23.20it/s]"
     ]
    },
    {
     "name": "stderr",
     "output_type": "stream",
     "text": [
      "\r",
      "Gen. (0.48) | Discrim. (-0.03):  45%|████▌     | 9/20 [00:00<00:00, 23.20it/s]"
     ]
    },
    {
     "name": "stderr",
     "output_type": "stream",
     "text": [
      "\r",
      "Gen. (0.46) | Discrim. (-0.11):  45%|████▌     | 9/20 [00:00<00:00, 23.20it/s]"
     ]
    },
    {
     "name": "stderr",
     "output_type": "stream",
     "text": [
      "\r",
      "Gen. (0.48) | Discrim. (-0.05):  45%|████▌     | 9/20 [00:00<00:00, 23.20it/s]"
     ]
    },
    {
     "name": "stderr",
     "output_type": "stream",
     "text": [
      "\r",
      "Gen. (0.48) | Discrim. (-0.05):  60%|██████    | 12/20 [00:00<00:00, 23.66it/s]"
     ]
    },
    {
     "name": "stderr",
     "output_type": "stream",
     "text": [
      "\r",
      "Gen. (0.43) | Discrim. (-0.08):  60%|██████    | 12/20 [00:00<00:00, 23.66it/s]"
     ]
    },
    {
     "name": "stderr",
     "output_type": "stream",
     "text": [
      "\r",
      "Gen. (0.38) | Discrim. (-0.12):  60%|██████    | 12/20 [00:00<00:00, 23.66it/s]"
     ]
    },
    {
     "name": "stderr",
     "output_type": "stream",
     "text": [
      "\r",
      "Gen. (0.38) | Discrim. (-0.06):  60%|██████    | 12/20 [00:00<00:00, 23.66it/s]"
     ]
    },
    {
     "name": "stderr",
     "output_type": "stream",
     "text": [
      "\r",
      "Gen. (0.38) | Discrim. (-0.06):  75%|███████▌  | 15/20 [00:00<00:00, 23.95it/s]"
     ]
    },
    {
     "name": "stderr",
     "output_type": "stream",
     "text": [
      "\r",
      "Gen. (0.37) | Discrim. (-0.06):  75%|███████▌  | 15/20 [00:00<00:00, 23.95it/s]"
     ]
    },
    {
     "name": "stderr",
     "output_type": "stream",
     "text": [
      "\r",
      "Gen. (0.37) | Discrim. (-0.07):  75%|███████▌  | 15/20 [00:00<00:00, 23.95it/s]"
     ]
    },
    {
     "name": "stderr",
     "output_type": "stream",
     "text": [
      "\r",
      "Gen. (0.31) | Discrim. (-0.04):  75%|███████▌  | 15/20 [00:00<00:00, 23.95it/s]"
     ]
    },
    {
     "name": "stderr",
     "output_type": "stream",
     "text": [
      "\r",
      "Gen. (0.31) | Discrim. (-0.04):  90%|█████████ | 18/20 [00:00<00:00, 23.75it/s]"
     ]
    },
    {
     "name": "stderr",
     "output_type": "stream",
     "text": [
      "\r",
      "Gen. (0.27) | Discrim. (-0.12):  90%|█████████ | 18/20 [00:00<00:00, 23.75it/s]"
     ]
    },
    {
     "name": "stderr",
     "output_type": "stream",
     "text": [
      "\r",
      "Gen. (0.31) | Discrim. (-0.11):  90%|█████████ | 18/20 [00:00<00:00, 23.75it/s]"
     ]
    },
    {
     "name": "stderr",
     "output_type": "stream",
     "text": [
      "\r",
      "Gen. (0.31) | Discrim. (-0.11): 100%|██████████| 20/20 [00:00<00:00, 23.13it/s]"
     ]
    },
    {
     "name": "stdout",
     "output_type": "stream",
     "text": [
      "."
     ]
    },
    {
     "name": "stderr",
     "output_type": "stream",
     "text": [
      "\n"
     ]
    },
    {
     "name": "stderr",
     "output_type": "stream",
     "text": [
      "\r",
      "  0%|          | 0/20 [00:00<?, ?it/s]"
     ]
    },
    {
     "name": "stderr",
     "output_type": "stream",
     "text": [
      "\r",
      "Gen. (0.00) | Discrim. (0.00):   0%|          | 0/20 [00:00<?, ?it/s]"
     ]
    },
    {
     "name": "stderr",
     "output_type": "stream",
     "text": [
      "\r",
      "Gen. (0.69) | Discrim. (-0.03):   0%|          | 0/20 [00:00<?, ?it/s]"
     ]
    },
    {
     "name": "stderr",
     "output_type": "stream",
     "text": [
      "\r",
      "Gen. (0.69) | Discrim. (-0.03):   0%|          | 0/20 [00:00<?, ?it/s]"
     ]
    },
    {
     "name": "stderr",
     "output_type": "stream",
     "text": [
      "\r",
      "Gen. (0.67) | Discrim. (-0.04):   0%|          | 0/20 [00:00<?, ?it/s]"
     ]
    },
    {
     "name": "stderr",
     "output_type": "stream",
     "text": [
      "\r",
      "Gen. (0.67) | Discrim. (-0.04):  15%|█▌        | 3/20 [00:00<00:00, 24.73it/s]"
     ]
    },
    {
     "name": "stderr",
     "output_type": "stream",
     "text": [
      "\r",
      "Gen. (0.64) | Discrim. (0.01):  15%|█▌        | 3/20 [00:00<00:00, 24.73it/s] "
     ]
    },
    {
     "name": "stderr",
     "output_type": "stream",
     "text": [
      "\r",
      "Gen. (0.64) | Discrim. (0.01):  15%|█▌        | 3/20 [00:00<00:00, 24.73it/s]"
     ]
    },
    {
     "name": "stderr",
     "output_type": "stream",
     "text": [
      "\r",
      "Gen. (0.59) | Discrim. (-0.05):  15%|█▌        | 3/20 [00:00<00:00, 24.73it/s]"
     ]
    },
    {
     "name": "stderr",
     "output_type": "stream",
     "text": [
      "\r",
      "Gen. (0.59) | Discrim. (-0.05):  30%|███       | 6/20 [00:00<00:00, 23.74it/s]"
     ]
    },
    {
     "name": "stderr",
     "output_type": "stream",
     "text": [
      "\r",
      "Gen. (0.57) | Discrim. (-0.03):  30%|███       | 6/20 [00:00<00:00, 23.74it/s]"
     ]
    },
    {
     "name": "stderr",
     "output_type": "stream",
     "text": [
      "\r",
      "Gen. (0.55) | Discrim. (-0.01):  30%|███       | 6/20 [00:00<00:00, 23.74it/s]"
     ]
    },
    {
     "name": "stderr",
     "output_type": "stream",
     "text": [
      "\r",
      "Gen. (0.54) | Discrim. (-0.04):  30%|███       | 6/20 [00:00<00:00, 23.74it/s]"
     ]
    },
    {
     "name": "stderr",
     "output_type": "stream",
     "text": [
      "\r",
      "Gen. (0.54) | Discrim. (-0.04):  45%|████▌     | 9/20 [00:00<00:00, 24.94it/s]"
     ]
    },
    {
     "name": "stderr",
     "output_type": "stream",
     "text": [
      "\r",
      "Gen. (0.50) | Discrim. (-0.09):  45%|████▌     | 9/20 [00:00<00:00, 24.94it/s]"
     ]
    },
    {
     "name": "stderr",
     "output_type": "stream",
     "text": [
      "\r",
      "Gen. (0.48) | Discrim. (-0.03):  45%|████▌     | 9/20 [00:00<00:00, 24.94it/s]"
     ]
    },
    {
     "name": "stderr",
     "output_type": "stream",
     "text": [
      "\r",
      "Gen. (0.49) | Discrim. (-0.04):  45%|████▌     | 9/20 [00:00<00:00, 24.94it/s]"
     ]
    },
    {
     "name": "stderr",
     "output_type": "stream",
     "text": [
      "\r",
      "Gen. (0.49) | Discrim. (-0.04):  60%|██████    | 12/20 [00:00<00:00, 24.60it/s]"
     ]
    },
    {
     "name": "stderr",
     "output_type": "stream",
     "text": [
      "\r",
      "Gen. (0.47) | Discrim. (-0.06):  60%|██████    | 12/20 [00:00<00:00, 24.60it/s]"
     ]
    },
    {
     "name": "stderr",
     "output_type": "stream",
     "text": [
      "\r",
      "Gen. (0.42) | Discrim. (-0.07):  60%|██████    | 12/20 [00:00<00:00, 24.60it/s]"
     ]
    },
    {
     "name": "stderr",
     "output_type": "stream",
     "text": [
      "\r",
      "Gen. (0.42) | Discrim. (-0.05):  60%|██████    | 12/20 [00:00<00:00, 24.60it/s]"
     ]
    },
    {
     "name": "stderr",
     "output_type": "stream",
     "text": [
      "\r",
      "Gen. (0.42) | Discrim. (-0.05):  75%|███████▌  | 15/20 [00:00<00:00, 23.47it/s]"
     ]
    },
    {
     "name": "stderr",
     "output_type": "stream",
     "text": [
      "\r",
      "Gen. (0.35) | Discrim. (-0.02):  75%|███████▌  | 15/20 [00:00<00:00, 23.47it/s]"
     ]
    },
    {
     "name": "stderr",
     "output_type": "stream",
     "text": [
      "\r",
      "Gen. (0.33) | Discrim. (-0.10):  75%|███████▌  | 15/20 [00:00<00:00, 23.47it/s]"
     ]
    },
    {
     "name": "stderr",
     "output_type": "stream",
     "text": [
      "\r",
      "Gen. (0.27) | Discrim. (-0.05):  75%|███████▌  | 15/20 [00:00<00:00, 23.47it/s]"
     ]
    },
    {
     "name": "stderr",
     "output_type": "stream",
     "text": [
      "\r",
      "Gen. (0.27) | Discrim. (-0.05):  90%|█████████ | 18/20 [00:00<00:00, 23.66it/s]"
     ]
    },
    {
     "name": "stderr",
     "output_type": "stream",
     "text": [
      "\r",
      "Gen. (0.20) | Discrim. (0.10):  90%|█████████ | 18/20 [00:00<00:00, 23.66it/s] "
     ]
    },
    {
     "name": "stderr",
     "output_type": "stream",
     "text": [
      "\r",
      "Gen. (0.28) | Discrim. (-0.05):  90%|█████████ | 18/20 [00:00<00:00, 23.66it/s]"
     ]
    },
    {
     "name": "stderr",
     "output_type": "stream",
     "text": [
      "\r",
      "Gen. (0.28) | Discrim. (-0.05): 100%|██████████| 20/20 [00:00<00:00, 24.05it/s]"
     ]
    },
    {
     "name": "stdout",
     "output_type": "stream",
     "text": [
      "."
     ]
    },
    {
     "name": "stderr",
     "output_type": "stream",
     "text": [
      "\n"
     ]
    },
    {
     "name": "stderr",
     "output_type": "stream",
     "text": [
      "\r",
      "  0%|          | 0/20 [00:00<?, ?it/s]"
     ]
    },
    {
     "name": "stderr",
     "output_type": "stream",
     "text": [
      "\r",
      "Gen. (0.00) | Discrim. (0.00):   0%|          | 0/20 [00:00<?, ?it/s]"
     ]
    },
    {
     "name": "stderr",
     "output_type": "stream",
     "text": [
      "\r",
      "Gen. (0.75) | Discrim. (-0.02):   0%|          | 0/20 [00:00<?, ?it/s]"
     ]
    },
    {
     "name": "stderr",
     "output_type": "stream",
     "text": [
      "\r",
      "Gen. (0.69) | Discrim. (0.02):   0%|          | 0/20 [00:00<?, ?it/s] "
     ]
    },
    {
     "name": "stderr",
     "output_type": "stream",
     "text": [
      "\r",
      "Gen. (0.70) | Discrim. (-0.03):   0%|          | 0/20 [00:00<?, ?it/s]"
     ]
    },
    {
     "name": "stderr",
     "output_type": "stream",
     "text": [
      "\r",
      "Gen. (0.70) | Discrim. (-0.03):  15%|█▌        | 3/20 [00:00<00:00, 24.19it/s]"
     ]
    },
    {
     "name": "stderr",
     "output_type": "stream",
     "text": [
      "\r",
      "Gen. (0.66) | Discrim. (0.00):  15%|█▌        | 3/20 [00:00<00:00, 24.19it/s] "
     ]
    },
    {
     "name": "stderr",
     "output_type": "stream",
     "text": [
      "\r",
      "Gen. (0.66) | Discrim. (-0.05):  15%|█▌        | 3/20 [00:00<00:00, 24.19it/s]"
     ]
    },
    {
     "name": "stderr",
     "output_type": "stream",
     "text": [
      "\r",
      "Gen. (0.67) | Discrim. (-0.01):  15%|█▌        | 3/20 [00:00<00:00, 24.19it/s]"
     ]
    },
    {
     "name": "stderr",
     "output_type": "stream",
     "text": [
      "\r",
      "Gen. (0.67) | Discrim. (-0.01):  30%|███       | 6/20 [00:00<00:00, 24.16it/s]"
     ]
    },
    {
     "name": "stderr",
     "output_type": "stream",
     "text": [
      "\r",
      "Gen. (0.65) | Discrim. (-0.03):  30%|███       | 6/20 [00:00<00:00, 24.16it/s]"
     ]
    },
    {
     "name": "stderr",
     "output_type": "stream",
     "text": [
      "\r",
      "Gen. (0.61) | Discrim. (0.01):  30%|███       | 6/20 [00:00<00:00, 24.16it/s] "
     ]
    },
    {
     "name": "stderr",
     "output_type": "stream",
     "text": [
      "\r",
      "Gen. (0.62) | Discrim. (-0.03):  30%|███       | 6/20 [00:00<00:00, 24.16it/s]"
     ]
    },
    {
     "name": "stderr",
     "output_type": "stream",
     "text": [
      "\r",
      "Gen. (0.62) | Discrim. (-0.03):  45%|████▌     | 9/20 [00:00<00:00, 24.37it/s]"
     ]
    },
    {
     "name": "stderr",
     "output_type": "stream",
     "text": [
      "\r",
      "Gen. (0.63) | Discrim. (-0.01):  45%|████▌     | 9/20 [00:00<00:00, 24.37it/s]"
     ]
    },
    {
     "name": "stderr",
     "output_type": "stream",
     "text": [
      "\r",
      "Gen. (0.60) | Discrim. (-0.06):  45%|████▌     | 9/20 [00:00<00:00, 24.37it/s]"
     ]
    },
    {
     "name": "stderr",
     "output_type": "stream",
     "text": [
      "\r",
      "Gen. (0.55) | Discrim. (-0.00):  45%|████▌     | 9/20 [00:00<00:00, 24.37it/s]"
     ]
    },
    {
     "name": "stderr",
     "output_type": "stream",
     "text": [
      "\r",
      "Gen. (0.55) | Discrim. (-0.00):  60%|██████    | 12/20 [00:00<00:00, 24.43it/s]"
     ]
    },
    {
     "name": "stderr",
     "output_type": "stream",
     "text": [
      "\r",
      "Gen. (0.55) | Discrim. (-0.01):  60%|██████    | 12/20 [00:00<00:00, 24.43it/s]"
     ]
    },
    {
     "name": "stderr",
     "output_type": "stream",
     "text": [
      "\r",
      "Gen. (0.58) | Discrim. (-0.09):  60%|██████    | 12/20 [00:00<00:00, 24.43it/s]"
     ]
    },
    {
     "name": "stderr",
     "output_type": "stream",
     "text": [
      "\r",
      "Gen. (0.59) | Discrim. (-0.05):  60%|██████    | 12/20 [00:00<00:00, 24.43it/s]"
     ]
    },
    {
     "name": "stderr",
     "output_type": "stream",
     "text": [
      "\r",
      "Gen. (0.59) | Discrim. (-0.05):  75%|███████▌  | 15/20 [00:00<00:00, 23.84it/s]"
     ]
    },
    {
     "name": "stderr",
     "output_type": "stream",
     "text": [
      "\r",
      "Gen. (0.52) | Discrim. (-0.05):  75%|███████▌  | 15/20 [00:00<00:00, 23.84it/s]"
     ]
    },
    {
     "name": "stderr",
     "output_type": "stream",
     "text": [
      "\r",
      "Gen. (0.53) | Discrim. (-0.02):  75%|███████▌  | 15/20 [00:00<00:00, 23.84it/s]"
     ]
    },
    {
     "name": "stderr",
     "output_type": "stream",
     "text": [
      "\r",
      "Gen. (0.50) | Discrim. (-0.07):  75%|███████▌  | 15/20 [00:00<00:00, 23.84it/s]"
     ]
    },
    {
     "name": "stderr",
     "output_type": "stream",
     "text": [
      "\r",
      "Gen. (0.50) | Discrim. (-0.07):  90%|█████████ | 18/20 [00:00<00:00, 23.70it/s]"
     ]
    },
    {
     "name": "stderr",
     "output_type": "stream",
     "text": [
      "\r",
      "Gen. (0.48) | Discrim. (0.01):  90%|█████████ | 18/20 [00:00<00:00, 23.70it/s] "
     ]
    },
    {
     "name": "stderr",
     "output_type": "stream",
     "text": [
      "\r",
      "Gen. (0.41) | Discrim. (-0.05):  90%|█████████ | 18/20 [00:00<00:00, 23.70it/s]"
     ]
    },
    {
     "name": "stderr",
     "output_type": "stream",
     "text": [
      "\r",
      "Gen. (0.41) | Discrim. (-0.05): 100%|██████████| 20/20 [00:00<00:00, 24.20it/s]"
     ]
    },
    {
     "name": "stdout",
     "output_type": "stream",
     "text": [
      "   Trial 20/20..."
     ]
    },
    {
     "name": "stderr",
     "output_type": "stream",
     "text": [
      "\n"
     ]
    },
    {
     "name": "stderr",
     "output_type": "stream",
     "text": [
      "\r",
      "  0%|          | 0/20 [00:00<?, ?it/s]"
     ]
    },
    {
     "name": "stderr",
     "output_type": "stream",
     "text": [
      "\r",
      "Gen. (0.00) | Discrim. (0.00):   0%|          | 0/20 [00:00<?, ?it/s]"
     ]
    },
    {
     "name": "stderr",
     "output_type": "stream",
     "text": [
      "\r",
      "Gen. (0.81) | Discrim. (0.03):   0%|          | 0/20 [00:00<?, ?it/s]"
     ]
    },
    {
     "name": "stderr",
     "output_type": "stream",
     "text": [
      "\r",
      "Gen. (0.79) | Discrim. (0.01):   0%|          | 0/20 [00:00<?, ?it/s]"
     ]
    },
    {
     "name": "stderr",
     "output_type": "stream",
     "text": [
      "\r",
      "Gen. (0.79) | Discrim. (0.01):   0%|          | 0/20 [00:00<?, ?it/s]"
     ]
    },
    {
     "name": "stderr",
     "output_type": "stream",
     "text": [
      "\r",
      "Gen. (0.79) | Discrim. (0.01):  15%|█▌        | 3/20 [00:00<00:00, 25.32it/s]"
     ]
    },
    {
     "name": "stderr",
     "output_type": "stream",
     "text": [
      "\r",
      "Gen. (0.76) | Discrim. (-0.03):  15%|█▌        | 3/20 [00:00<00:00, 25.32it/s]"
     ]
    },
    {
     "name": "stderr",
     "output_type": "stream",
     "text": [
      "\r",
      "Gen. (0.79) | Discrim. (-0.00):  15%|█▌        | 3/20 [00:00<00:00, 25.32it/s]"
     ]
    },
    {
     "name": "stderr",
     "output_type": "stream",
     "text": [
      "\r",
      "Gen. (0.76) | Discrim. (0.00):  15%|█▌        | 3/20 [00:00<00:00, 25.32it/s] "
     ]
    },
    {
     "name": "stderr",
     "output_type": "stream",
     "text": [
      "\r",
      "Gen. (0.76) | Discrim. (0.00):  30%|███       | 6/20 [00:00<00:00, 26.78it/s]"
     ]
    },
    {
     "name": "stderr",
     "output_type": "stream",
     "text": [
      "\r",
      "Gen. (0.75) | Discrim. (-0.02):  30%|███       | 6/20 [00:00<00:00, 26.78it/s]"
     ]
    },
    {
     "name": "stderr",
     "output_type": "stream",
     "text": [
      "\r",
      "Gen. (0.77) | Discrim. (0.01):  30%|███       | 6/20 [00:00<00:00, 26.78it/s] "
     ]
    },
    {
     "name": "stderr",
     "output_type": "stream",
     "text": [
      "\r",
      "Gen. (0.74) | Discrim. (0.00):  30%|███       | 6/20 [00:00<00:00, 26.78it/s]"
     ]
    },
    {
     "name": "stderr",
     "output_type": "stream",
     "text": [
      "\r",
      "Gen. (0.74) | Discrim. (0.00):  45%|████▌     | 9/20 [00:00<00:00, 23.12it/s]"
     ]
    },
    {
     "name": "stderr",
     "output_type": "stream",
     "text": [
      "\r",
      "Gen. (0.78) | Discrim. (-0.02):  45%|████▌     | 9/20 [00:00<00:00, 23.12it/s]"
     ]
    },
    {
     "name": "stderr",
     "output_type": "stream",
     "text": [
      "\r",
      "Gen. (0.73) | Discrim. (-0.06):  45%|████▌     | 9/20 [00:00<00:00, 23.12it/s]"
     ]
    },
    {
     "name": "stderr",
     "output_type": "stream",
     "text": [
      "\r",
      "Gen. (0.72) | Discrim. (-0.02):  45%|████▌     | 9/20 [00:00<00:00, 23.12it/s]"
     ]
    },
    {
     "name": "stderr",
     "output_type": "stream",
     "text": [
      "\r",
      "Gen. (0.72) | Discrim. (-0.02):  60%|██████    | 12/20 [00:00<00:00, 23.01it/s]"
     ]
    },
    {
     "name": "stderr",
     "output_type": "stream",
     "text": [
      "\r",
      "Gen. (0.73) | Discrim. (-0.03):  60%|██████    | 12/20 [00:00<00:00, 23.01it/s]"
     ]
    },
    {
     "name": "stderr",
     "output_type": "stream",
     "text": [
      "\r",
      "Gen. (0.72) | Discrim. (-0.06):  60%|██████    | 12/20 [00:00<00:00, 23.01it/s]"
     ]
    },
    {
     "name": "stderr",
     "output_type": "stream",
     "text": [
      "\r",
      "Gen. (0.68) | Discrim. (-0.02):  60%|██████    | 12/20 [00:00<00:00, 23.01it/s]"
     ]
    },
    {
     "name": "stderr",
     "output_type": "stream",
     "text": [
      "\r",
      "Gen. (0.68) | Discrim. (-0.02):  75%|███████▌  | 15/20 [00:00<00:00, 23.71it/s]"
     ]
    },
    {
     "name": "stderr",
     "output_type": "stream",
     "text": [
      "\r",
      "Gen. (0.74) | Discrim. (-0.01):  75%|███████▌  | 15/20 [00:00<00:00, 23.71it/s]"
     ]
    },
    {
     "name": "stderr",
     "output_type": "stream",
     "text": [
      "\r",
      "Gen. (0.71) | Discrim. (-0.13):  75%|███████▌  | 15/20 [00:00<00:00, 23.71it/s]"
     ]
    },
    {
     "name": "stderr",
     "output_type": "stream",
     "text": [
      "\r",
      "Gen. (0.65) | Discrim. (-0.08):  75%|███████▌  | 15/20 [00:00<00:00, 23.71it/s]"
     ]
    },
    {
     "name": "stderr",
     "output_type": "stream",
     "text": [
      "\r",
      "Gen. (0.65) | Discrim. (-0.08):  90%|█████████ | 18/20 [00:00<00:00, 23.62it/s]"
     ]
    },
    {
     "name": "stderr",
     "output_type": "stream",
     "text": [
      "\r",
      "Gen. (0.63) | Discrim. (-0.02):  90%|█████████ | 18/20 [00:00<00:00, 23.62it/s]"
     ]
    },
    {
     "name": "stderr",
     "output_type": "stream",
     "text": [
      "\r",
      "Gen. (0.64) | Discrim. (0.01):  90%|█████████ | 18/20 [00:00<00:00, 23.62it/s] "
     ]
    },
    {
     "name": "stderr",
     "output_type": "stream",
     "text": [
      "\r",
      "Gen. (0.64) | Discrim. (0.01): 100%|██████████| 20/20 [00:00<00:00, 23.74it/s]"
     ]
    },
    {
     "name": "stderr",
     "output_type": "stream",
     "text": [
      "\n"
     ]
    },
    {
     "name": "stdout",
     "output_type": "stream",
     "text": [
      "\n",
      "SUCCESS: Quick optimization complete!\n",
      "Best score: 0.7866\n",
      "   - Utility: 0.943\n",
      "   - Similarity: 0.553\n",
      "\n",
      "[2/5] QUICK TUNING TVAE\n",
      "-----------------------------------\n",
      "Quick optimizing...\n",
      "   Trial 1/20..."
     ]
    },
    {
     "name": "stdout",
     "output_type": "stream",
     "text": [
      "."
     ]
    },
    {
     "name": "stdout",
     "output_type": "stream",
     "text": [
      "."
     ]
    },
    {
     "name": "stdout",
     "output_type": "stream",
     "text": [
      "."
     ]
    },
    {
     "name": "stdout",
     "output_type": "stream",
     "text": [
      "   Trial 5/20..."
     ]
    },
    {
     "name": "stdout",
     "output_type": "stream",
     "text": [
      "."
     ]
    },
    {
     "name": "stdout",
     "output_type": "stream",
     "text": [
      "."
     ]
    },
    {
     "name": "stdout",
     "output_type": "stream",
     "text": [
      "."
     ]
    },
    {
     "name": "stdout",
     "output_type": "stream",
     "text": [
      "."
     ]
    },
    {
     "name": "stdout",
     "output_type": "stream",
     "text": [
      "   Trial 10/20..."
     ]
    },
    {
     "name": "stdout",
     "output_type": "stream",
     "text": [
      "."
     ]
    },
    {
     "name": "stdout",
     "output_type": "stream",
     "text": [
      "."
     ]
    },
    {
     "name": "stdout",
     "output_type": "stream",
     "text": [
      "."
     ]
    },
    {
     "name": "stdout",
     "output_type": "stream",
     "text": [
      "."
     ]
    },
    {
     "name": "stdout",
     "output_type": "stream",
     "text": [
      "   Trial 15/20..."
     ]
    },
    {
     "name": "stdout",
     "output_type": "stream",
     "text": [
      "."
     ]
    },
    {
     "name": "stdout",
     "output_type": "stream",
     "text": [
      "."
     ]
    },
    {
     "name": "stdout",
     "output_type": "stream",
     "text": [
      "."
     ]
    },
    {
     "name": "stdout",
     "output_type": "stream",
     "text": [
      "."
     ]
    },
    {
     "name": "stdout",
     "output_type": "stream",
     "text": [
      "   Trial 20/20..."
     ]
    },
    {
     "name": "stdout",
     "output_type": "stream",
     "text": [
      "\n",
      "SUCCESS: Quick optimization complete!\n",
      "Best score: 0.7121\n",
      "   - Utility: 0.688\n",
      "   - Similarity: 0.748\n",
      "\n",
      "[3/5] QUICK TUNING COPULAGAN\n",
      "-----------------------------------\n",
      "Quick optimizing...\n",
      "   Trial 1/20..."
     ]
    },
    {
     "name": "stderr",
     "output_type": "stream",
     "text": [
      "ERROR\tsrc.models.implementations.copulagan_model:copulagan_model.py:train()- CopulaGAN training failed: \n"
     ]
    },
    {
     "name": "stdout",
     "output_type": "stream",
     "text": [
      "."
     ]
    },
    {
     "name": "stderr",
     "output_type": "stream",
     "text": [
      "ERROR\tsrc.models.implementations.copulagan_model:copulagan_model.py:train()- CopulaGAN training failed: \n"
     ]
    },
    {
     "name": "stdout",
     "output_type": "stream",
     "text": [
      "."
     ]
    },
    {
     "name": "stderr",
     "output_type": "stream",
     "text": [
      "ERROR\tsrc.models.implementations.copulagan_model:copulagan_model.py:train()- CopulaGAN training failed: \n"
     ]
    },
    {
     "name": "stdout",
     "output_type": "stream",
     "text": [
      "."
     ]
    },
    {
     "name": "stdout",
     "output_type": "stream",
     "text": [
      "   Trial 5/20..."
     ]
    },
    {
     "name": "stderr",
     "output_type": "stream",
     "text": [
      "ERROR\tsrc.models.implementations.copulagan_model:copulagan_model.py:train()- CopulaGAN training failed: \n"
     ]
    },
    {
     "name": "stdout",
     "output_type": "stream",
     "text": [
      "."
     ]
    },
    {
     "name": "stdout",
     "output_type": "stream",
     "text": [
      "."
     ]
    },
    {
     "name": "stderr",
     "output_type": "stream",
     "text": [
      "ERROR\tsrc.models.implementations.copulagan_model:copulagan_model.py:train()- CopulaGAN training failed: \n"
     ]
    },
    {
     "name": "stdout",
     "output_type": "stream",
     "text": [
      "."
     ]
    },
    {
     "name": "stdout",
     "output_type": "stream",
     "text": [
      "."
     ]
    },
    {
     "name": "stderr",
     "output_type": "stream",
     "text": [
      "ERROR\tsrc.models.implementations.copulagan_model:copulagan_model.py:train()- CopulaGAN training failed: \n"
     ]
    },
    {
     "name": "stdout",
     "output_type": "stream",
     "text": [
      "   Trial 10/20..."
     ]
    },
    {
     "name": "stdout",
     "output_type": "stream",
     "text": [
      "."
     ]
    },
    {
     "name": "stdout",
     "output_type": "stream",
     "text": [
      "."
     ]
    },
    {
     "name": "stdout",
     "output_type": "stream",
     "text": [
      "."
     ]
    },
    {
     "name": "stderr",
     "output_type": "stream",
     "text": [
      "ERROR\tsrc.models.implementations.copulagan_model:copulagan_model.py:train()- CopulaGAN training failed: \n"
     ]
    },
    {
     "name": "stdout",
     "output_type": "stream",
     "text": [
      "."
     ]
    },
    {
     "name": "stdout",
     "output_type": "stream",
     "text": [
      "   Trial 15/20..."
     ]
    },
    {
     "name": "stderr",
     "output_type": "stream",
     "text": [
      "ERROR\tsrc.models.implementations.copulagan_model:copulagan_model.py:train()- CopulaGAN training failed: \n"
     ]
    },
    {
     "name": "stdout",
     "output_type": "stream",
     "text": [
      "."
     ]
    },
    {
     "name": "stdout",
     "output_type": "stream",
     "text": [
      "."
     ]
    },
    {
     "name": "stdout",
     "output_type": "stream",
     "text": [
      "."
     ]
    },
    {
     "name": "stdout",
     "output_type": "stream",
     "text": [
      "."
     ]
    },
    {
     "name": "stdout",
     "output_type": "stream",
     "text": [
      "   Trial 20/20..."
     ]
    },
    {
     "name": "stdout",
     "output_type": "stream",
     "text": [
      "\n",
      "SUCCESS: Quick optimization complete!\n",
      "Best score: 0.7525\n",
      "   - Utility: 0.911\n",
      "   - Similarity: 0.515\n",
      "\n",
      "[4/5] QUICK TUNING GANERAID\n",
      "-----------------------------------\n",
      "Quick optimizing...\n",
      "   Trial 1/20..."
     ]
    },
    {
     "name": "stderr",
     "output_type": "stream",
     "text": [
      "\r",
      "  0%|          | 0/20 [00:00<?, ?it/s]"
     ]
    },
    {
     "name": "stderr",
     "output_type": "stream",
     "text": [
      "\r",
      "  0%|          | 0/20 [00:00<?, ?it/s, loss=d error: 1.3827146887779236 --- g error 0.6822561621665955]"
     ]
    },
    {
     "name": "stderr",
     "output_type": "stream",
     "text": [
      "\r",
      "  0%|          | 0/20 [00:00<?, ?it/s, loss=d error: 1.3750995993614197 --- g error 0.6814135909080505]"
     ]
    },
    {
     "name": "stderr",
     "output_type": "stream",
     "text": [
      "\r",
      "  0%|          | 0/20 [00:00<?, ?it/s, loss=d error: 1.370679795742035 --- g error 0.6809678673744202] "
     ]
    },
    {
     "name": "stderr",
     "output_type": "stream",
     "text": [
      "\r",
      " 15%|█▌        | 3/20 [00:00<00:00, 22.82it/s, loss=d error: 1.370679795742035 --- g error 0.6809678673744202]"
     ]
    },
    {
     "name": "stderr",
     "output_type": "stream",
     "text": [
      "\r",
      " 15%|█▌        | 3/20 [00:00<00:00, 22.82it/s, loss=d error: 1.3615314960479736 --- g error 0.6793842911720276]"
     ]
    },
    {
     "name": "stderr",
     "output_type": "stream",
     "text": [
      "\r",
      " 15%|█▌        | 3/20 [00:00<00:00, 22.82it/s, loss=d error: 1.3533258438110352 --- g error 0.685221254825592] "
     ]
    },
    {
     "name": "stderr",
     "output_type": "stream",
     "text": [
      "\r",
      " 15%|█▌        | 3/20 [00:00<00:00, 22.82it/s, loss=d error: 1.3375269770622253 --- g error 0.6837698817253113]"
     ]
    },
    {
     "name": "stderr",
     "output_type": "stream",
     "text": [
      "\r",
      " 30%|███       | 6/20 [00:00<00:00, 26.39it/s, loss=d error: 1.3375269770622253 --- g error 0.6837698817253113]"
     ]
    },
    {
     "name": "stderr",
     "output_type": "stream",
     "text": [
      "\r",
      " 30%|███       | 6/20 [00:00<00:00, 26.39it/s, loss=d error: 1.3311780095100403 --- g error 0.6844406723976135]"
     ]
    },
    {
     "name": "stderr",
     "output_type": "stream",
     "text": [
      "\r",
      " 30%|███       | 6/20 [00:00<00:00, 26.39it/s, loss=d error: 1.3148194551467896 --- g error 0.6869587302207947]"
     ]
    },
    {
     "name": "stderr",
     "output_type": "stream",
     "text": [
      "\r",
      " 30%|███       | 6/20 [00:00<00:00, 26.39it/s, loss=d error: 1.2941540479660034 --- g error 0.6891638040542603]"
     ]
    },
    {
     "name": "stderr",
     "output_type": "stream",
     "text": [
      "\r",
      " 45%|████▌     | 9/20 [00:00<00:00, 24.07it/s, loss=d error: 1.2941540479660034 --- g error 0.6891638040542603]"
     ]
    },
    {
     "name": "stderr",
     "output_type": "stream",
     "text": [
      "\r",
      " 45%|████▌     | 9/20 [00:00<00:00, 24.07it/s, loss=d error: 1.276194453239441 --- g error 0.6867051124572754] "
     ]
    },
    {
     "name": "stderr",
     "output_type": "stream",
     "text": [
      "\r",
      " 45%|████▌     | 9/20 [00:00<00:00, 24.07it/s, loss=d error: 1.2543072700500488 --- g error 0.6914824843406677]"
     ]
    },
    {
     "name": "stderr",
     "output_type": "stream",
     "text": [
      "\r",
      " 45%|████▌     | 9/20 [00:00<00:00, 24.07it/s, loss=d error: 1.2334359288215637 --- g error 0.6922419667243958]"
     ]
    },
    {
     "name": "stderr",
     "output_type": "stream",
     "text": [
      "\r",
      " 60%|██████    | 12/20 [00:00<00:00, 23.62it/s, loss=d error: 1.2334359288215637 --- g error 0.6922419667243958]"
     ]
    },
    {
     "name": "stderr",
     "output_type": "stream",
     "text": [
      "\r",
      " 60%|██████    | 12/20 [00:00<00:00, 23.62it/s, loss=d error: 1.2147772908210754 --- g error 0.6948037147521973]"
     ]
    },
    {
     "name": "stderr",
     "output_type": "stream",
     "text": [
      "\r",
      " 60%|██████    | 12/20 [00:00<00:00, 23.62it/s, loss=d error: 1.1612034440040588 --- g error 0.6984564661979675]"
     ]
    },
    {
     "name": "stderr",
     "output_type": "stream",
     "text": [
      "\r",
      " 60%|██████    | 12/20 [00:00<00:00, 23.62it/s, loss=d error: 1.1357668042182922 --- g error 0.6999937891960144]"
     ]
    },
    {
     "name": "stderr",
     "output_type": "stream",
     "text": [
      "\r",
      " 75%|███████▌  | 15/20 [00:00<00:00, 25.08it/s, loss=d error: 1.1357668042182922 --- g error 0.6999937891960144]"
     ]
    },
    {
     "name": "stderr",
     "output_type": "stream",
     "text": [
      "\r",
      " 75%|███████▌  | 15/20 [00:00<00:00, 25.08it/s, loss=d error: 1.0834844708442688 --- g error 0.7077961564064026]"
     ]
    },
    {
     "name": "stderr",
     "output_type": "stream",
     "text": [
      "\r",
      " 75%|███████▌  | 15/20 [00:00<00:00, 25.08it/s, loss=d error: 1.0460812151432037 --- g error 0.709104597568512] "
     ]
    },
    {
     "name": "stderr",
     "output_type": "stream",
     "text": [
      "\r",
      " 75%|███████▌  | 15/20 [00:00<00:00, 25.08it/s, loss=d error: 0.9903669059276581 --- g error 0.713600754737854]"
     ]
    },
    {
     "name": "stderr",
     "output_type": "stream",
     "text": [
      "\r",
      " 90%|█████████ | 18/20 [00:00<00:00, 24.94it/s, loss=d error: 0.9903669059276581 --- g error 0.713600754737854]"
     ]
    },
    {
     "name": "stderr",
     "output_type": "stream",
     "text": [
      "\r",
      " 90%|█████████ | 18/20 [00:00<00:00, 24.94it/s, loss=d error: 0.9323242008686066 --- g error 0.7184782028198242]"
     ]
    },
    {
     "name": "stderr",
     "output_type": "stream",
     "text": [
      "\r",
      " 90%|█████████ | 18/20 [00:00<00:00, 24.94it/s, loss=d error: 0.8885848671197891 --- g error 0.7232145667076111]"
     ]
    },
    {
     "name": "stderr",
     "output_type": "stream",
     "text": [
      "\r",
      "100%|██████████| 20/20 [00:00<00:00, 24.39it/s, loss=d error: 0.8885848671197891 --- g error 0.7232145667076111]"
     ]
    },
    {
     "name": "stderr",
     "output_type": "stream",
     "text": [
      "\n"
     ]
    },
    {
     "name": "stdout",
     "output_type": "stream",
     "text": [
      "."
     ]
    },
    {
     "name": "stderr",
     "output_type": "stream",
     "text": [
      "\r",
      "  0%|          | 0/20 [00:00<?, ?it/s]"
     ]
    },
    {
     "name": "stderr",
     "output_type": "stream",
     "text": [
      "\r",
      "  0%|          | 0/20 [00:00<?, ?it/s, loss=d error: 1.3859599232673645 --- g error 0.7261093258857727]"
     ]
    },
    {
     "name": "stderr",
     "output_type": "stream",
     "text": [
      "\r",
      "  0%|          | 0/20 [00:00<?, ?it/s, loss=d error: 1.3732974529266357 --- g error 0.7246948480606079]"
     ]
    },
    {
     "name": "stderr",
     "output_type": "stream",
     "text": [
      "\r",
      " 10%|█         | 2/20 [00:00<00:00, 19.18it/s, loss=d error: 1.3732974529266357 --- g error 0.7246948480606079]"
     ]
    },
    {
     "name": "stderr",
     "output_type": "stream",
     "text": [
      "\r",
      " 10%|█         | 2/20 [00:00<00:00, 19.18it/s, loss=d error: 1.3712362051010132 --- g error 0.7244411706924438]"
     ]
    },
    {
     "name": "stderr",
     "output_type": "stream",
     "text": [
      "\r",
      " 10%|█         | 2/20 [00:00<00:00, 19.18it/s, loss=d error: 1.3613163232803345 --- g error 0.7219160199165344]"
     ]
    },
    {
     "name": "stderr",
     "output_type": "stream",
     "text": [
      "\r",
      " 20%|██        | 4/20 [00:00<00:00, 19.53it/s, loss=d error: 1.3613163232803345 --- g error 0.7219160199165344]"
     ]
    },
    {
     "name": "stderr",
     "output_type": "stream",
     "text": [
      "\r",
      " 20%|██        | 4/20 [00:00<00:00, 19.53it/s, loss=d error: 1.3514792919158936 --- g error 0.7204050421714783]"
     ]
    },
    {
     "name": "stderr",
     "output_type": "stream",
     "text": [
      "\r",
      " 20%|██        | 4/20 [00:00<00:00, 19.53it/s, loss=d error: 1.335929036140442 --- g error 0.7176663875579834] "
     ]
    },
    {
     "name": "stderr",
     "output_type": "stream",
     "text": [
      "\r",
      " 30%|███       | 6/20 [00:00<00:00, 18.33it/s, loss=d error: 1.335929036140442 --- g error 0.7176663875579834]"
     ]
    },
    {
     "name": "stderr",
     "output_type": "stream",
     "text": [
      "\r",
      " 30%|███       | 6/20 [00:00<00:00, 18.33it/s, loss=d error: 1.325730562210083 --- g error 0.7171407341957092]"
     ]
    },
    {
     "name": "stderr",
     "output_type": "stream",
     "text": [
      "\r",
      " 30%|███       | 6/20 [00:00<00:00, 18.33it/s, loss=d error: 1.3054831624031067 --- g error 0.7159007787704468]"
     ]
    },
    {
     "name": "stderr",
     "output_type": "stream",
     "text": [
      "\r",
      " 30%|███       | 6/20 [00:00<00:00, 18.33it/s, loss=d error: 1.2875784635543823 --- g error 0.7160295248031616]"
     ]
    },
    {
     "name": "stderr",
     "output_type": "stream",
     "text": [
      "\r",
      " 45%|████▌     | 9/20 [00:00<00:00, 19.95it/s, loss=d error: 1.2875784635543823 --- g error 0.7160295248031616]"
     ]
    },
    {
     "name": "stderr",
     "output_type": "stream",
     "text": [
      "\r",
      " 45%|████▌     | 9/20 [00:00<00:00, 19.95it/s, loss=d error: 1.2552200555801392 --- g error 0.7101573348045349]"
     ]
    },
    {
     "name": "stderr",
     "output_type": "stream",
     "text": [
      "\r",
      " 45%|████▌     | 9/20 [00:00<00:00, 19.95it/s, loss=d error: 1.2273494005203247 --- g error 0.7114136815071106]"
     ]
    },
    {
     "name": "stderr",
     "output_type": "stream",
     "text": [
      "\r",
      " 45%|████▌     | 9/20 [00:00<00:00, 19.95it/s, loss=d error: 1.2041118144989014 --- g error 0.7109587788581848]"
     ]
    },
    {
     "name": "stderr",
     "output_type": "stream",
     "text": [
      "\r",
      " 60%|██████    | 12/20 [00:00<00:00, 20.50it/s, loss=d error: 1.2041118144989014 --- g error 0.7109587788581848]"
     ]
    },
    {
     "name": "stderr",
     "output_type": "stream",
     "text": [
      "\r",
      " 60%|██████    | 12/20 [00:00<00:00, 20.50it/s, loss=d error: 1.161711037158966 --- g error 0.7081189751625061] "
     ]
    },
    {
     "name": "stderr",
     "output_type": "stream",
     "text": [
      "\r",
      " 60%|██████    | 12/20 [00:00<00:00, 20.50it/s, loss=d error: 1.1262050569057465 --- g error 0.7049835920333862]"
     ]
    },
    {
     "name": "stderr",
     "output_type": "stream",
     "text": [
      "\r",
      " 60%|██████    | 12/20 [00:00<00:00, 20.50it/s, loss=d error: 1.0600960850715637 --- g error 0.7025018334388733]"
     ]
    },
    {
     "name": "stderr",
     "output_type": "stream",
     "text": [
      "\r",
      " 75%|███████▌  | 15/20 [00:00<00:00, 20.28it/s, loss=d error: 1.0600960850715637 --- g error 0.7025018334388733]"
     ]
    },
    {
     "name": "stderr",
     "output_type": "stream",
     "text": [
      "\r",
      " 75%|███████▌  | 15/20 [00:00<00:00, 20.28it/s, loss=d error: 1.0289614498615265 --- g error 0.6990504264831543]"
     ]
    },
    {
     "name": "stderr",
     "output_type": "stream",
     "text": [
      "\r",
      " 75%|███████▌  | 15/20 [00:00<00:00, 20.28it/s, loss=d error: 0.9857129156589508 --- g error 0.6997062563896179]"
     ]
    },
    {
     "name": "stderr",
     "output_type": "stream",
     "text": [
      "\r",
      " 75%|███████▌  | 15/20 [00:00<00:00, 20.28it/s, loss=d error: 0.9440792948007584 --- g error 0.6897462606430054]"
     ]
    },
    {
     "name": "stderr",
     "output_type": "stream",
     "text": [
      "\r",
      " 90%|█████████ | 18/20 [00:00<00:00, 21.00it/s, loss=d error: 0.9440792948007584 --- g error 0.6897462606430054]"
     ]
    },
    {
     "name": "stderr",
     "output_type": "stream",
     "text": [
      "\r",
      " 90%|█████████ | 18/20 [00:00<00:00, 21.00it/s, loss=d error: 0.8855438232421875 --- g error 0.6865736246109009]"
     ]
    },
    {
     "name": "stderr",
     "output_type": "stream",
     "text": [
      "\r",
      " 90%|█████████ | 18/20 [00:00<00:00, 21.00it/s, loss=d error: 0.8345083892345428 --- g error 0.6828580498695374]"
     ]
    },
    {
     "name": "stderr",
     "output_type": "stream",
     "text": [
      "\r",
      "100%|██████████| 20/20 [00:00<00:00, 20.32it/s, loss=d error: 0.8345083892345428 --- g error 0.6828580498695374]"
     ]
    },
    {
     "name": "stdout",
     "output_type": "stream",
     "text": [
      "."
     ]
    },
    {
     "name": "stderr",
     "output_type": "stream",
     "text": [
      "\n"
     ]
    },
    {
     "name": "stderr",
     "output_type": "stream",
     "text": [
      "\r",
      "  0%|          | 0/20 [00:00<?, ?it/s]"
     ]
    },
    {
     "name": "stderr",
     "output_type": "stream",
     "text": [
      "\r",
      "  0%|          | 0/20 [00:00<?, ?it/s, loss=d error: 1.3876996636390686 --- g error 0.6867403388023376]"
     ]
    },
    {
     "name": "stderr",
     "output_type": "stream",
     "text": [
      "\r",
      "  0%|          | 0/20 [00:00<?, ?it/s, loss=d error: 1.379044771194458 --- g error 0.6876198649406433] "
     ]
    },
    {
     "name": "stderr",
     "output_type": "stream",
     "text": [
      "\r",
      "  0%|          | 0/20 [00:00<?, ?it/s, loss=d error: 1.3728830814361572 --- g error 0.6885449290275574]"
     ]
    },
    {
     "name": "stderr",
     "output_type": "stream",
     "text": [
      "\r",
      " 15%|█▌        | 3/20 [00:00<00:00, 21.29it/s, loss=d error: 1.3728830814361572 --- g error 0.6885449290275574]"
     ]
    },
    {
     "name": "stderr",
     "output_type": "stream",
     "text": [
      "\r",
      " 15%|█▌        | 3/20 [00:00<00:00, 21.29it/s, loss=d error: 1.363580048084259 --- g error 0.6908769607543945] "
     ]
    },
    {
     "name": "stderr",
     "output_type": "stream",
     "text": [
      "\r",
      " 15%|█▌        | 3/20 [00:00<00:00, 21.29it/s, loss=d error: 1.350667953491211 --- g error 0.6904799342155457]"
     ]
    },
    {
     "name": "stderr",
     "output_type": "stream",
     "text": [
      "\r",
      " 15%|█▌        | 3/20 [00:00<00:00, 21.29it/s, loss=d error: 1.3442872166633606 --- g error 0.6884959936141968]"
     ]
    },
    {
     "name": "stderr",
     "output_type": "stream",
     "text": [
      "\r",
      " 30%|███       | 6/20 [00:00<00:00, 22.12it/s, loss=d error: 1.3442872166633606 --- g error 0.6884959936141968]"
     ]
    },
    {
     "name": "stderr",
     "output_type": "stream",
     "text": [
      "\r",
      " 30%|███       | 6/20 [00:00<00:00, 22.12it/s, loss=d error: 1.3239113688468933 --- g error 0.6913356184959412]"
     ]
    },
    {
     "name": "stderr",
     "output_type": "stream",
     "text": [
      "\r",
      " 30%|███       | 6/20 [00:00<00:00, 22.12it/s, loss=d error: 1.3153265118598938 --- g error 0.6978666186332703]"
     ]
    },
    {
     "name": "stderr",
     "output_type": "stream",
     "text": [
      "\r",
      " 30%|███       | 6/20 [00:00<00:00, 22.12it/s, loss=d error: 1.2929988503456116 --- g error 0.6981006860733032]"
     ]
    },
    {
     "name": "stderr",
     "output_type": "stream",
     "text": [
      "\r",
      " 45%|████▌     | 9/20 [00:00<00:00, 20.82it/s, loss=d error: 1.2929988503456116 --- g error 0.6981006860733032]"
     ]
    },
    {
     "name": "stderr",
     "output_type": "stream",
     "text": [
      "\r",
      " 45%|████▌     | 9/20 [00:00<00:00, 20.82it/s, loss=d error: 1.2773098945617676 --- g error 0.7000108957290649]"
     ]
    },
    {
     "name": "stderr",
     "output_type": "stream",
     "text": [
      "\r",
      " 45%|████▌     | 9/20 [00:00<00:00, 20.82it/s, loss=d error: 1.256119728088379 --- g error 0.7018126845359802] "
     ]
    },
    {
     "name": "stderr",
     "output_type": "stream",
     "text": [
      "\r",
      " 45%|████▌     | 9/20 [00:00<00:00, 20.82it/s, loss=d error: 1.2200270295143127 --- g error 0.7058470249176025]"
     ]
    },
    {
     "name": "stderr",
     "output_type": "stream",
     "text": [
      "\r",
      " 60%|██████    | 12/20 [00:00<00:00, 20.68it/s, loss=d error: 1.2200270295143127 --- g error 0.7058470249176025]"
     ]
    },
    {
     "name": "stderr",
     "output_type": "stream",
     "text": [
      "\r",
      " 60%|██████    | 12/20 [00:00<00:00, 20.68it/s, loss=d error: 1.1918815970420837 --- g error 0.7109615802764893]"
     ]
    },
    {
     "name": "stderr",
     "output_type": "stream",
     "text": [
      "\r",
      " 60%|██████    | 12/20 [00:00<00:00, 20.68it/s, loss=d error: 1.1585628986358643 --- g error 0.7127223610877991]"
     ]
    },
    {
     "name": "stderr",
     "output_type": "stream",
     "text": [
      "\r",
      " 60%|██████    | 12/20 [00:00<00:00, 20.68it/s, loss=d error: 1.121850997209549 --- g error 0.7198905944824219] "
     ]
    },
    {
     "name": "stderr",
     "output_type": "stream",
     "text": [
      "\r",
      " 75%|███████▌  | 15/20 [00:00<00:00, 18.53it/s, loss=d error: 1.121850997209549 --- g error 0.7198905944824219]"
     ]
    },
    {
     "name": "stderr",
     "output_type": "stream",
     "text": [
      "\r",
      " 75%|███████▌  | 15/20 [00:00<00:00, 18.53it/s, loss=d error: 1.0765800178050995 --- g error 0.7225677371025085]"
     ]
    },
    {
     "name": "stderr",
     "output_type": "stream",
     "text": [
      "\r",
      " 75%|███████▌  | 15/20 [00:00<00:00, 18.53it/s, loss=d error: 1.034252643585205 --- g error 0.7257667779922485] "
     ]
    },
    {
     "name": "stderr",
     "output_type": "stream",
     "text": [
      "\r",
      " 75%|███████▌  | 15/20 [00:00<00:00, 18.53it/s, loss=d error: 0.999619722366333 --- g error 0.7354435324668884]"
     ]
    },
    {
     "name": "stderr",
     "output_type": "stream",
     "text": [
      "\r",
      " 90%|█████████ | 18/20 [00:00<00:00, 19.32it/s, loss=d error: 0.999619722366333 --- g error 0.7354435324668884]"
     ]
    },
    {
     "name": "stderr",
     "output_type": "stream",
     "text": [
      "\r",
      " 90%|█████████ | 18/20 [00:00<00:00, 19.32it/s, loss=d error: 0.9459885358810425 --- g error 0.745587944984436]"
     ]
    },
    {
     "name": "stderr",
     "output_type": "stream",
     "text": [
      "\r",
      " 90%|█████████ | 18/20 [00:01<00:00, 19.32it/s, loss=d error: 0.8855565786361694 --- g error 0.7541738748550415]"
     ]
    },
    {
     "name": "stderr",
     "output_type": "stream",
     "text": [
      "\r",
      "100%|██████████| 20/20 [00:01<00:00, 19.12it/s, loss=d error: 0.8855565786361694 --- g error 0.7541738748550415]"
     ]
    },
    {
     "name": "stderr",
     "output_type": "stream",
     "text": [
      "\r",
      "100%|██████████| 20/20 [00:01<00:00, 19.67it/s, loss=d error: 0.8855565786361694 --- g error 0.7541738748550415]"
     ]
    },
    {
     "name": "stderr",
     "output_type": "stream",
     "text": [
      "\n"
     ]
    },
    {
     "name": "stdout",
     "output_type": "stream",
     "text": [
      "."
     ]
    },
    {
     "name": "stderr",
     "output_type": "stream",
     "text": [
      "\r",
      "  0%|          | 0/20 [00:00<?, ?it/s]"
     ]
    },
    {
     "name": "stderr",
     "output_type": "stream",
     "text": [
      "\r",
      "  0%|          | 0/20 [00:00<?, ?it/s, loss=d error: 1.3906511664390564 --- g error 0.7402206659317017]"
     ]
    },
    {
     "name": "stderr",
     "output_type": "stream",
     "text": [
      "\r",
      "  0%|          | 0/20 [00:00<?, ?it/s, loss=d error: 1.3819025158882141 --- g error 0.7397693991661072]"
     ]
    },
    {
     "name": "stderr",
     "output_type": "stream",
     "text": [
      "\r",
      "  0%|          | 0/20 [00:00<?, ?it/s, loss=d error: 1.3707967400550842 --- g error 0.7392333745956421]"
     ]
    },
    {
     "name": "stderr",
     "output_type": "stream",
     "text": [
      "\r",
      " 15%|█▌        | 3/20 [00:00<00:00, 19.92it/s, loss=d error: 1.3707967400550842 --- g error 0.7392333745956421]"
     ]
    },
    {
     "name": "stderr",
     "output_type": "stream",
     "text": [
      "\r",
      " 15%|█▌        | 3/20 [00:00<00:00, 19.92it/s, loss=d error: 1.3626758456230164 --- g error 0.7368854880332947]"
     ]
    },
    {
     "name": "stderr",
     "output_type": "stream",
     "text": [
      "\r",
      " 15%|█▌        | 3/20 [00:00<00:00, 19.92it/s, loss=d error: 1.3504820466041565 --- g error 0.7357940077781677]"
     ]
    },
    {
     "name": "stderr",
     "output_type": "stream",
     "text": [
      "\r",
      " 25%|██▌       | 5/20 [00:00<00:00, 19.90it/s, loss=d error: 1.3504820466041565 --- g error 0.7357940077781677]"
     ]
    },
    {
     "name": "stderr",
     "output_type": "stream",
     "text": [
      "\r",
      " 25%|██▌       | 5/20 [00:00<00:00, 19.90it/s, loss=d error: 1.335561752319336 --- g error 0.7351280450820923] "
     ]
    },
    {
     "name": "stderr",
     "output_type": "stream",
     "text": [
      "\r",
      " 25%|██▌       | 5/20 [00:00<00:00, 19.90it/s, loss=d error: 1.3258984088897705 --- g error 0.7338396906852722]"
     ]
    },
    {
     "name": "stderr",
     "output_type": "stream",
     "text": [
      "\r",
      " 25%|██▌       | 5/20 [00:00<00:00, 19.90it/s, loss=d error: 1.3047293424606323 --- g error 0.734161913394928] "
     ]
    },
    {
     "name": "stderr",
     "output_type": "stream",
     "text": [
      "\r",
      " 40%|████      | 8/20 [00:00<00:00, 20.95it/s, loss=d error: 1.3047293424606323 --- g error 0.734161913394928]"
     ]
    },
    {
     "name": "stderr",
     "output_type": "stream",
     "text": [
      "\r",
      " 40%|████      | 8/20 [00:00<00:00, 20.95it/s, loss=d error: 1.2709771394729614 --- g error 0.7303456664085388]"
     ]
    },
    {
     "name": "stderr",
     "output_type": "stream",
     "text": [
      "\r",
      " 40%|████      | 8/20 [00:00<00:00, 20.95it/s, loss=d error: 1.2656806111335754 --- g error 0.7274671196937561]"
     ]
    },
    {
     "name": "stderr",
     "output_type": "stream",
     "text": [
      "\r",
      " 40%|████      | 8/20 [00:00<00:00, 20.95it/s, loss=d error: 1.2393189072608948 --- g error 0.7267197370529175]"
     ]
    },
    {
     "name": "stderr",
     "output_type": "stream",
     "text": [
      "\r",
      " 55%|█████▌    | 11/20 [00:00<00:00, 21.05it/s, loss=d error: 1.2393189072608948 --- g error 0.7267197370529175]"
     ]
    },
    {
     "name": "stderr",
     "output_type": "stream",
     "text": [
      "\r",
      " 55%|█████▌    | 11/20 [00:00<00:00, 21.05it/s, loss=d error: 1.2264962196350098 --- g error 0.7270089983940125]"
     ]
    },
    {
     "name": "stderr",
     "output_type": "stream",
     "text": [
      "\r",
      " 55%|█████▌    | 11/20 [00:00<00:00, 21.05it/s, loss=d error: 1.1672106981277466 --- g error 0.7276051044464111]"
     ]
    },
    {
     "name": "stderr",
     "output_type": "stream",
     "text": [
      "\r",
      " 55%|█████▌    | 11/20 [00:00<00:00, 21.05it/s, loss=d error: 1.1312954723834991 --- g error 0.7227733135223389]"
     ]
    },
    {
     "name": "stderr",
     "output_type": "stream",
     "text": [
      "\r",
      " 70%|███████   | 14/20 [00:00<00:00, 21.10it/s, loss=d error: 1.1312954723834991 --- g error 0.7227733135223389]"
     ]
    },
    {
     "name": "stderr",
     "output_type": "stream",
     "text": [
      "\r",
      " 70%|███████   | 14/20 [00:00<00:00, 21.10it/s, loss=d error: 1.0877990126609802 --- g error 0.7164856791496277]"
     ]
    },
    {
     "name": "stderr",
     "output_type": "stream",
     "text": [
      "\r",
      " 70%|███████   | 14/20 [00:00<00:00, 21.10it/s, loss=d error: 1.0647027790546417 --- g error 0.7153427004814148]"
     ]
    },
    {
     "name": "stderr",
     "output_type": "stream",
     "text": [
      "\r",
      " 70%|███████   | 14/20 [00:00<00:00, 21.10it/s, loss=d error: 1.0246944427490234 --- g error 0.71452397108078]  "
     ]
    },
    {
     "name": "stderr",
     "output_type": "stream",
     "text": [
      "\r",
      " 85%|████████▌ | 17/20 [00:00<00:00, 21.07it/s, loss=d error: 1.0246944427490234 --- g error 0.71452397108078]"
     ]
    },
    {
     "name": "stderr",
     "output_type": "stream",
     "text": [
      "\r",
      " 85%|████████▌ | 17/20 [00:00<00:00, 21.07it/s, loss=d error: 0.9865524768829346 --- g error 0.7155992984771729]"
     ]
    },
    {
     "name": "stderr",
     "output_type": "stream",
     "text": [
      "\r",
      " 85%|████████▌ | 17/20 [00:00<00:00, 21.07it/s, loss=d error: 0.9135360866785049 --- g error 0.7040772438049316]"
     ]
    },
    {
     "name": "stderr",
     "output_type": "stream",
     "text": [
      "\r",
      " 85%|████████▌ | 17/20 [00:00<00:00, 21.07it/s, loss=d error: 0.8954944461584091 --- g error 0.6962589621543884]"
     ]
    },
    {
     "name": "stderr",
     "output_type": "stream",
     "text": [
      "\r",
      "100%|██████████| 20/20 [00:00<00:00, 21.09it/s, loss=d error: 0.8954944461584091 --- g error 0.6962589621543884]"
     ]
    },
    {
     "name": "stderr",
     "output_type": "stream",
     "text": [
      "\r",
      "100%|██████████| 20/20 [00:00<00:00, 20.94it/s, loss=d error: 0.8954944461584091 --- g error 0.6962589621543884]"
     ]
    },
    {
     "name": "stdout",
     "output_type": "stream",
     "text": [
      "   Trial 5/20..."
     ]
    },
    {
     "name": "stderr",
     "output_type": "stream",
     "text": [
      "\n"
     ]
    },
    {
     "name": "stderr",
     "output_type": "stream",
     "text": [
      "\r",
      "  0%|          | 0/20 [00:00<?, ?it/s]"
     ]
    },
    {
     "name": "stderr",
     "output_type": "stream",
     "text": [
      "\r",
      "  0%|          | 0/20 [00:00<?, ?it/s, loss=d error: 1.3877667784690857 --- g error 0.7243576049804688]"
     ]
    },
    {
     "name": "stderr",
     "output_type": "stream",
     "text": [
      "\r",
      "  0%|          | 0/20 [00:00<?, ?it/s, loss=d error: 1.3768078684806824 --- g error 0.7229689955711365]"
     ]
    },
    {
     "name": "stderr",
     "output_type": "stream",
     "text": [
      "\r",
      " 10%|█         | 2/20 [00:00<00:00, 19.92it/s, loss=d error: 1.3768078684806824 --- g error 0.7229689955711365]"
     ]
    },
    {
     "name": "stderr",
     "output_type": "stream",
     "text": [
      "\r",
      " 10%|█         | 2/20 [00:00<00:00, 19.92it/s, loss=d error: 1.3644719123840332 --- g error 0.7216577529907227]"
     ]
    },
    {
     "name": "stderr",
     "output_type": "stream",
     "text": [
      "\r",
      " 10%|█         | 2/20 [00:00<00:00, 19.92it/s, loss=d error: 1.3556575179100037 --- g error 0.7248576879501343]"
     ]
    },
    {
     "name": "stderr",
     "output_type": "stream",
     "text": [
      "\r",
      " 20%|██        | 4/20 [00:00<00:00, 19.86it/s, loss=d error: 1.3556575179100037 --- g error 0.7248576879501343]"
     ]
    },
    {
     "name": "stderr",
     "output_type": "stream",
     "text": [
      "\r",
      " 20%|██        | 4/20 [00:00<00:00, 19.86it/s, loss=d error: 1.3419688940048218 --- g error 0.7199013829231262]"
     ]
    },
    {
     "name": "stderr",
     "output_type": "stream",
     "text": [
      "\r",
      " 20%|██        | 4/20 [00:00<00:00, 19.86it/s, loss=d error: 1.3310815691947937 --- g error 0.7218962907791138]"
     ]
    },
    {
     "name": "stderr",
     "output_type": "stream",
     "text": [
      "\r",
      " 30%|███       | 6/20 [00:00<00:00, 19.71it/s, loss=d error: 1.3310815691947937 --- g error 0.7218962907791138]"
     ]
    },
    {
     "name": "stderr",
     "output_type": "stream",
     "text": [
      "\r",
      " 30%|███       | 6/20 [00:00<00:00, 19.71it/s, loss=d error: 1.3213295340538025 --- g error 0.7210655808448792]"
     ]
    },
    {
     "name": "stderr",
     "output_type": "stream",
     "text": [
      "\r",
      " 30%|███       | 6/20 [00:00<00:00, 19.71it/s, loss=d error: 1.286900818347931 --- g error 0.7261013388633728] "
     ]
    },
    {
     "name": "stderr",
     "output_type": "stream",
     "text": [
      "\r",
      " 30%|███       | 6/20 [00:00<00:00, 19.71it/s, loss=d error: 1.263645052909851 --- g error 0.7256593704223633]"
     ]
    },
    {
     "name": "stderr",
     "output_type": "stream",
     "text": [
      "\r",
      " 45%|████▌     | 9/20 [00:00<00:00, 20.09it/s, loss=d error: 1.263645052909851 --- g error 0.7256593704223633]"
     ]
    },
    {
     "name": "stderr",
     "output_type": "stream",
     "text": [
      "\r",
      " 45%|████▌     | 9/20 [00:00<00:00, 20.09it/s, loss=d error: 1.2455241084098816 --- g error 0.7237499952316284]"
     ]
    },
    {
     "name": "stderr",
     "output_type": "stream",
     "text": [
      "\r",
      " 45%|████▌     | 9/20 [00:00<00:00, 20.09it/s, loss=d error: 1.2032774090766907 --- g error 0.7278136610984802]"
     ]
    },
    {
     "name": "stderr",
     "output_type": "stream",
     "text": [
      "\r",
      " 45%|████▌     | 9/20 [00:00<00:00, 20.09it/s, loss=d error: 1.184162199497223 --- g error 0.7303659319877625] "
     ]
    },
    {
     "name": "stderr",
     "output_type": "stream",
     "text": [
      "\r",
      " 60%|██████    | 12/20 [00:00<00:00, 20.20it/s, loss=d error: 1.184162199497223 --- g error 0.7303659319877625]"
     ]
    },
    {
     "name": "stderr",
     "output_type": "stream",
     "text": [
      "\r",
      " 60%|██████    | 12/20 [00:00<00:00, 20.20it/s, loss=d error: 1.135779708623886 --- g error 0.7345249652862549]"
     ]
    },
    {
     "name": "stderr",
     "output_type": "stream",
     "text": [
      "\r",
      " 60%|██████    | 12/20 [00:00<00:00, 20.20it/s, loss=d error: 1.075579822063446 --- g error 0.7337319254875183]"
     ]
    },
    {
     "name": "stderr",
     "output_type": "stream",
     "text": [
      "\r",
      " 60%|██████    | 12/20 [00:00<00:00, 20.20it/s, loss=d error: 1.033173382282257 --- g error 0.7463763952255249]"
     ]
    },
    {
     "name": "stderr",
     "output_type": "stream",
     "text": [
      "\r",
      " 75%|███████▌  | 15/20 [00:00<00:00, 20.54it/s, loss=d error: 1.033173382282257 --- g error 0.7463763952255249]"
     ]
    },
    {
     "name": "stderr",
     "output_type": "stream",
     "text": [
      "\r",
      " 75%|███████▌  | 15/20 [00:00<00:00, 20.54it/s, loss=d error: 0.9753305017948151 --- g error 0.7451966404914856]"
     ]
    },
    {
     "name": "stderr",
     "output_type": "stream",
     "text": [
      "\r",
      " 75%|███████▌  | 15/20 [00:00<00:00, 20.54it/s, loss=d error: 0.9263783097267151 --- g error 0.7495120763778687]"
     ]
    },
    {
     "name": "stderr",
     "output_type": "stream",
     "text": [
      "\r",
      " 75%|███████▌  | 15/20 [00:00<00:00, 20.54it/s, loss=d error: 0.8740305304527283 --- g error 0.7553423643112183]"
     ]
    },
    {
     "name": "stderr",
     "output_type": "stream",
     "text": [
      "\r",
      " 90%|█████████ | 18/20 [00:00<00:00, 20.07it/s, loss=d error: 0.8740305304527283 --- g error 0.7553423643112183]"
     ]
    },
    {
     "name": "stderr",
     "output_type": "stream",
     "text": [
      "\r",
      " 90%|█████████ | 18/20 [00:00<00:00, 20.07it/s, loss=d error: 0.8140139877796173 --- g error 0.7641278505325317]"
     ]
    },
    {
     "name": "stderr",
     "output_type": "stream",
     "text": [
      "\r",
      " 90%|█████████ | 18/20 [00:01<00:00, 20.07it/s, loss=d error: 0.7658509910106659 --- g error 0.7696895003318787]"
     ]
    },
    {
     "name": "stderr",
     "output_type": "stream",
     "text": [
      "\r",
      "100%|██████████| 20/20 [00:01<00:00, 19.96it/s, loss=d error: 0.7658509910106659 --- g error 0.7696895003318787]"
     ]
    },
    {
     "name": "stderr",
     "output_type": "stream",
     "text": [
      "\n"
     ]
    },
    {
     "name": "stdout",
     "output_type": "stream",
     "text": [
      "."
     ]
    },
    {
     "name": "stderr",
     "output_type": "stream",
     "text": [
      "\r",
      "  0%|          | 0/20 [00:00<?, ?it/s]"
     ]
    },
    {
     "name": "stderr",
     "output_type": "stream",
     "text": [
      "\r",
      "  0%|          | 0/20 [00:00<?, ?it/s, loss=d error: 1.384401798248291 --- g error 0.7100340723991394]"
     ]
    },
    {
     "name": "stderr",
     "output_type": "stream",
     "text": [
      "\r",
      "  0%|          | 0/20 [00:00<?, ?it/s, loss=d error: 1.3774216771125793 --- g error 0.7092276215553284]"
     ]
    },
    {
     "name": "stderr",
     "output_type": "stream",
     "text": [
      "\r",
      " 10%|█         | 2/20 [00:00<00:01, 17.35it/s, loss=d error: 1.3774216771125793 --- g error 0.7092276215553284]"
     ]
    },
    {
     "name": "stderr",
     "output_type": "stream",
     "text": [
      "\r",
      " 10%|█         | 2/20 [00:00<00:01, 17.35it/s, loss=d error: 1.3735876083374023 --- g error 0.707082211971283] "
     ]
    },
    {
     "name": "stderr",
     "output_type": "stream",
     "text": [
      "\r",
      " 10%|█         | 2/20 [00:00<00:01, 17.35it/s, loss=d error: 1.362178921699524 --- g error 0.7100675106048584]"
     ]
    },
    {
     "name": "stderr",
     "output_type": "stream",
     "text": [
      "\r",
      " 20%|██        | 4/20 [00:00<00:00, 17.02it/s, loss=d error: 1.362178921699524 --- g error 0.7100675106048584]"
     ]
    },
    {
     "name": "stderr",
     "output_type": "stream",
     "text": [
      "\r",
      " 20%|██        | 4/20 [00:00<00:00, 17.02it/s, loss=d error: 1.3496330380439758 --- g error 0.7084371447563171]"
     ]
    },
    {
     "name": "stderr",
     "output_type": "stream",
     "text": [
      "\r",
      " 20%|██        | 4/20 [00:00<00:00, 17.02it/s, loss=d error: 1.3364879488945007 --- g error 0.7106004953384399]"
     ]
    },
    {
     "name": "stderr",
     "output_type": "stream",
     "text": [
      "\r",
      " 30%|███       | 6/20 [00:00<00:00, 18.02it/s, loss=d error: 1.3364879488945007 --- g error 0.7106004953384399]"
     ]
    },
    {
     "name": "stderr",
     "output_type": "stream",
     "text": [
      "\r",
      " 30%|███       | 6/20 [00:00<00:00, 18.02it/s, loss=d error: 1.3262327909469604 --- g error 0.7084951996803284]"
     ]
    },
    {
     "name": "stderr",
     "output_type": "stream",
     "text": [
      "\r",
      " 30%|███       | 6/20 [00:00<00:00, 18.02it/s, loss=d error: 1.3036378622055054 --- g error 0.7094218134880066]"
     ]
    },
    {
     "name": "stderr",
     "output_type": "stream",
     "text": [
      "\r",
      " 30%|███       | 6/20 [00:00<00:00, 18.02it/s, loss=d error: 1.2938273549079895 --- g error 0.7103370428085327]"
     ]
    },
    {
     "name": "stderr",
     "output_type": "stream",
     "text": [
      "\r",
      " 45%|████▌     | 9/20 [00:00<00:00, 19.58it/s, loss=d error: 1.2938273549079895 --- g error 0.7103370428085327]"
     ]
    },
    {
     "name": "stderr",
     "output_type": "stream",
     "text": [
      "\r",
      " 45%|████▌     | 9/20 [00:00<00:00, 19.58it/s, loss=d error: 1.2683530449867249 --- g error 0.7116364240646362]"
     ]
    },
    {
     "name": "stderr",
     "output_type": "stream",
     "text": [
      "\r",
      " 45%|████▌     | 9/20 [00:00<00:00, 19.58it/s, loss=d error: 1.2446353435516357 --- g error 0.7100722193717957]"
     ]
    },
    {
     "name": "stderr",
     "output_type": "stream",
     "text": [
      "\r",
      " 45%|████▌     | 9/20 [00:00<00:00, 19.58it/s, loss=d error: 1.2077964544296265 --- g error 0.7162362933158875]"
     ]
    },
    {
     "name": "stderr",
     "output_type": "stream",
     "text": [
      "\r",
      " 60%|██████    | 12/20 [00:00<00:00, 20.30it/s, loss=d error: 1.2077964544296265 --- g error 0.7162362933158875]"
     ]
    },
    {
     "name": "stderr",
     "output_type": "stream",
     "text": [
      "\r",
      " 60%|██████    | 12/20 [00:00<00:00, 20.30it/s, loss=d error: 1.1869389414787292 --- g error 0.7103683948516846]"
     ]
    },
    {
     "name": "stderr",
     "output_type": "stream",
     "text": [
      "\r",
      " 60%|██████    | 12/20 [00:00<00:00, 20.30it/s, loss=d error: 1.145945429801941 --- g error 0.7117936015129089] "
     ]
    },
    {
     "name": "stderr",
     "output_type": "stream",
     "text": [
      "\r",
      " 60%|██████    | 12/20 [00:00<00:00, 20.30it/s, loss=d error: 1.1111976206302643 --- g error 0.7150487899780273]"
     ]
    },
    {
     "name": "stderr",
     "output_type": "stream",
     "text": [
      "\r",
      " 75%|███████▌  | 15/20 [00:00<00:00, 20.61it/s, loss=d error: 1.1111976206302643 --- g error 0.7150487899780273]"
     ]
    },
    {
     "name": "stderr",
     "output_type": "stream",
     "text": [
      "\r",
      " 75%|███████▌  | 15/20 [00:00<00:00, 20.61it/s, loss=d error: 1.074015498161316 --- g error 0.7166251540184021] "
     ]
    },
    {
     "name": "stderr",
     "output_type": "stream",
     "text": [
      "\r",
      " 75%|███████▌  | 15/20 [00:00<00:00, 20.61it/s, loss=d error: 1.0269677340984344 --- g error 0.7079305648803711]"
     ]
    },
    {
     "name": "stderr",
     "output_type": "stream",
     "text": [
      "\r",
      " 75%|███████▌  | 15/20 [00:00<00:00, 20.61it/s, loss=d error: 0.9599825441837311 --- g error 0.7059493064880371]"
     ]
    },
    {
     "name": "stderr",
     "output_type": "stream",
     "text": [
      "\r",
      " 90%|█████████ | 18/20 [00:00<00:00, 20.78it/s, loss=d error: 0.9599825441837311 --- g error 0.7059493064880371]"
     ]
    },
    {
     "name": "stderr",
     "output_type": "stream",
     "text": [
      "\r",
      " 90%|█████████ | 18/20 [00:00<00:00, 20.78it/s, loss=d error: 0.910377025604248 --- g error 0.716579258441925]  "
     ]
    },
    {
     "name": "stderr",
     "output_type": "stream",
     "text": [
      "\r",
      " 90%|█████████ | 18/20 [00:00<00:00, 20.78it/s, loss=d error: 0.8745604455471039 --- g error 0.715258777141571]"
     ]
    },
    {
     "name": "stderr",
     "output_type": "stream",
     "text": [
      "\r",
      "100%|██████████| 20/20 [00:00<00:00, 20.14it/s, loss=d error: 0.8745604455471039 --- g error 0.715258777141571]"
     ]
    },
    {
     "name": "stderr",
     "output_type": "stream",
     "text": [
      "\n"
     ]
    },
    {
     "name": "stdout",
     "output_type": "stream",
     "text": [
      "."
     ]
    },
    {
     "name": "stderr",
     "output_type": "stream",
     "text": [
      "\r",
      "  0%|          | 0/20 [00:00<?, ?it/s]"
     ]
    },
    {
     "name": "stderr",
     "output_type": "stream",
     "text": [
      "\r",
      "  0%|          | 0/20 [00:00<?, ?it/s, loss=d error: 1.3810953497886658 --- g error 0.7344637513160706]"
     ]
    },
    {
     "name": "stderr",
     "output_type": "stream",
     "text": [
      "\r",
      "  0%|          | 0/20 [00:00<?, ?it/s, loss=d error: 1.37894606590271 --- g error 0.7334467768669128]  "
     ]
    },
    {
     "name": "stderr",
     "output_type": "stream",
     "text": [
      "\r",
      "  0%|          | 0/20 [00:00<?, ?it/s, loss=d error: 1.3653020858764648 --- g error 0.7340784668922424]"
     ]
    },
    {
     "name": "stderr",
     "output_type": "stream",
     "text": [
      "\r",
      " 15%|█▌        | 3/20 [00:00<00:00, 20.84it/s, loss=d error: 1.3653020858764648 --- g error 0.7340784668922424]"
     ]
    },
    {
     "name": "stderr",
     "output_type": "stream",
     "text": [
      "\r",
      " 15%|█▌        | 3/20 [00:00<00:00, 20.84it/s, loss=d error: 1.3545685410499573 --- g error 0.7313829064369202]"
     ]
    },
    {
     "name": "stderr",
     "output_type": "stream",
     "text": [
      "\r",
      " 15%|█▌        | 3/20 [00:00<00:00, 20.84it/s, loss=d error: 1.3412774801254272 --- g error 0.729249894618988] "
     ]
    },
    {
     "name": "stderr",
     "output_type": "stream",
     "text": [
      "\r",
      " 15%|█▌        | 3/20 [00:00<00:00, 20.84it/s, loss=d error: 1.3248754143714905 --- g error 0.7287814617156982]"
     ]
    },
    {
     "name": "stderr",
     "output_type": "stream",
     "text": [
      "\r",
      " 30%|███       | 6/20 [00:00<00:00, 21.07it/s, loss=d error: 1.3248754143714905 --- g error 0.7287814617156982]"
     ]
    },
    {
     "name": "stderr",
     "output_type": "stream",
     "text": [
      "\r",
      " 30%|███       | 6/20 [00:00<00:00, 21.07it/s, loss=d error: 1.3095470070838928 --- g error 0.7292373776435852]"
     ]
    },
    {
     "name": "stderr",
     "output_type": "stream",
     "text": [
      "\r",
      " 30%|███       | 6/20 [00:00<00:00, 21.07it/s, loss=d error: 1.292664349079132 --- g error 0.7254981398582458] "
     ]
    },
    {
     "name": "stderr",
     "output_type": "stream",
     "text": [
      "\r",
      " 30%|███       | 6/20 [00:00<00:00, 21.07it/s, loss=d error: 1.2748425006866455 --- g error 0.7285321354866028]"
     ]
    },
    {
     "name": "stderr",
     "output_type": "stream",
     "text": [
      "\r",
      " 45%|████▌     | 9/20 [00:00<00:00, 21.81it/s, loss=d error: 1.2748425006866455 --- g error 0.7285321354866028]"
     ]
    },
    {
     "name": "stderr",
     "output_type": "stream",
     "text": [
      "\r",
      " 45%|████▌     | 9/20 [00:00<00:00, 21.81it/s, loss=d error: 1.24153470993042 --- g error 0.7259799242019653]  "
     ]
    },
    {
     "name": "stderr",
     "output_type": "stream",
     "text": [
      "\r",
      " 45%|████▌     | 9/20 [00:00<00:00, 21.81it/s, loss=d error: 1.2163466215133667 --- g error 0.7237149477005005]"
     ]
    },
    {
     "name": "stderr",
     "output_type": "stream",
     "text": [
      "\r",
      " 45%|████▌     | 9/20 [00:00<00:00, 21.81it/s, loss=d error: 1.2028952240943909 --- g error 0.7245541214942932]"
     ]
    },
    {
     "name": "stderr",
     "output_type": "stream",
     "text": [
      "\r",
      " 60%|██████    | 12/20 [00:00<00:00, 21.46it/s, loss=d error: 1.2028952240943909 --- g error 0.7245541214942932]"
     ]
    },
    {
     "name": "stderr",
     "output_type": "stream",
     "text": [
      "\r",
      " 60%|██████    | 12/20 [00:00<00:00, 21.46it/s, loss=d error: 1.1615348160266876 --- g error 0.7197482585906982]"
     ]
    },
    {
     "name": "stderr",
     "output_type": "stream",
     "text": [
      "\r",
      " 60%|██████    | 12/20 [00:00<00:00, 21.46it/s, loss=d error: 1.1195333003997803 --- g error 0.7204248309135437]"
     ]
    },
    {
     "name": "stderr",
     "output_type": "stream",
     "text": [
      "\r",
      " 60%|██████    | 12/20 [00:00<00:00, 21.46it/s, loss=d error: 1.0829852223396301 --- g error 0.7145803570747375]"
     ]
    },
    {
     "name": "stderr",
     "output_type": "stream",
     "text": [
      "\r",
      " 75%|███████▌  | 15/20 [00:00<00:00, 20.91it/s, loss=d error: 1.0829852223396301 --- g error 0.7145803570747375]"
     ]
    },
    {
     "name": "stderr",
     "output_type": "stream",
     "text": [
      "\r",
      " 75%|███████▌  | 15/20 [00:00<00:00, 20.91it/s, loss=d error: 1.0306417644023895 --- g error 0.7103132009506226]"
     ]
    },
    {
     "name": "stderr",
     "output_type": "stream",
     "text": [
      "\r",
      " 75%|███████▌  | 15/20 [00:00<00:00, 20.91it/s, loss=d error: 0.998066633939743 --- g error 0.7086575627326965] "
     ]
    },
    {
     "name": "stderr",
     "output_type": "stream",
     "text": [
      "\r",
      " 75%|███████▌  | 15/20 [00:00<00:00, 20.91it/s, loss=d error: 0.9512368440628052 --- g error 0.7046462893486023]"
     ]
    },
    {
     "name": "stderr",
     "output_type": "stream",
     "text": [
      "\r",
      " 90%|█████████ | 18/20 [00:00<00:00, 19.57it/s, loss=d error: 0.9512368440628052 --- g error 0.7046462893486023]"
     ]
    },
    {
     "name": "stderr",
     "output_type": "stream",
     "text": [
      "\r",
      " 90%|█████████ | 18/20 [00:00<00:00, 19.57it/s, loss=d error: 0.9010158330202103 --- g error 0.6995883584022522]"
     ]
    },
    {
     "name": "stderr",
     "output_type": "stream",
     "text": [
      "\r",
      " 90%|█████████ | 18/20 [00:00<00:00, 19.57it/s, loss=d error: 0.8731249272823334 --- g error 0.6793550252914429]"
     ]
    },
    {
     "name": "stderr",
     "output_type": "stream",
     "text": [
      "\r",
      "100%|██████████| 20/20 [00:00<00:00, 20.48it/s, loss=d error: 0.8731249272823334 --- g error 0.6793550252914429]"
     ]
    },
    {
     "name": "stdout",
     "output_type": "stream",
     "text": [
      "."
     ]
    },
    {
     "name": "stderr",
     "output_type": "stream",
     "text": [
      "\n"
     ]
    },
    {
     "name": "stderr",
     "output_type": "stream",
     "text": [
      "\r",
      "  0%|          | 0/20 [00:00<?, ?it/s]"
     ]
    },
    {
     "name": "stderr",
     "output_type": "stream",
     "text": [
      "\r",
      "  0%|          | 0/20 [00:00<?, ?it/s, loss=d error: 1.3866633176803589 --- g error 0.6736628413200378]"
     ]
    },
    {
     "name": "stderr",
     "output_type": "stream",
     "text": [
      "\r",
      "  0%|          | 0/20 [00:00<?, ?it/s, loss=d error: 1.381200909614563 --- g error 0.6728776097297668] "
     ]
    },
    {
     "name": "stderr",
     "output_type": "stream",
     "text": [
      "\r",
      " 10%|█         | 2/20 [00:00<00:01, 13.91it/s, loss=d error: 1.381200909614563 --- g error 0.6728776097297668]"
     ]
    },
    {
     "name": "stderr",
     "output_type": "stream",
     "text": [
      "\r",
      " 10%|█         | 2/20 [00:00<00:01, 13.91it/s, loss=d error: 1.3752284049987793 --- g error 0.6754068732261658]"
     ]
    },
    {
     "name": "stderr",
     "output_type": "stream",
     "text": [
      "\r",
      " 10%|█         | 2/20 [00:00<00:01, 13.91it/s, loss=d error: 1.369436264038086 --- g error 0.6747406721115112] "
     ]
    },
    {
     "name": "stderr",
     "output_type": "stream",
     "text": [
      "\r",
      " 20%|██        | 4/20 [00:00<00:00, 16.33it/s, loss=d error: 1.369436264038086 --- g error 0.6747406721115112]"
     ]
    },
    {
     "name": "stderr",
     "output_type": "stream",
     "text": [
      "\r",
      " 20%|██        | 4/20 [00:00<00:00, 16.33it/s, loss=d error: 1.3572102189064026 --- g error 0.6746695041656494]"
     ]
    },
    {
     "name": "stderr",
     "output_type": "stream",
     "text": [
      "\r",
      " 20%|██        | 4/20 [00:00<00:00, 16.33it/s, loss=d error: 1.354015052318573 --- g error 0.6744211912155151] "
     ]
    },
    {
     "name": "stderr",
     "output_type": "stream",
     "text": [
      "\r",
      " 30%|███       | 6/20 [00:00<00:00, 17.77it/s, loss=d error: 1.354015052318573 --- g error 0.6744211912155151]"
     ]
    },
    {
     "name": "stderr",
     "output_type": "stream",
     "text": [
      "\r",
      " 30%|███       | 6/20 [00:00<00:00, 17.77it/s, loss=d error: 1.3408691883087158 --- g error 0.6749206185340881]"
     ]
    },
    {
     "name": "stderr",
     "output_type": "stream",
     "text": [
      "\r",
      " 30%|███       | 6/20 [00:00<00:00, 17.77it/s, loss=d error: 1.3270282745361328 --- g error 0.6742575168609619]"
     ]
    },
    {
     "name": "stderr",
     "output_type": "stream",
     "text": [
      "\r",
      " 30%|███       | 6/20 [00:00<00:00, 17.77it/s, loss=d error: 1.3101918697357178 --- g error 0.6742848753929138]"
     ]
    },
    {
     "name": "stderr",
     "output_type": "stream",
     "text": [
      "\r",
      " 45%|████▌     | 9/20 [00:00<00:00, 18.81it/s, loss=d error: 1.3101918697357178 --- g error 0.6742848753929138]"
     ]
    },
    {
     "name": "stderr",
     "output_type": "stream",
     "text": [
      "\r",
      " 45%|████▌     | 9/20 [00:00<00:00, 18.81it/s, loss=d error: 1.2942529320716858 --- g error 0.6727747321128845]"
     ]
    },
    {
     "name": "stderr",
     "output_type": "stream",
     "text": [
      "\r",
      " 45%|████▌     | 9/20 [00:00<00:00, 18.81it/s, loss=d error: 1.2697508931159973 --- g error 0.6723134517669678]"
     ]
    },
    {
     "name": "stderr",
     "output_type": "stream",
     "text": [
      "\r",
      " 55%|█████▌    | 11/20 [00:00<00:00, 18.61it/s, loss=d error: 1.2697508931159973 --- g error 0.6723134517669678]"
     ]
    },
    {
     "name": "stderr",
     "output_type": "stream",
     "text": [
      "\r",
      " 55%|█████▌    | 11/20 [00:00<00:00, 18.61it/s, loss=d error: 1.2348952293395996 --- g error 0.6735074520111084]"
     ]
    },
    {
     "name": "stderr",
     "output_type": "stream",
     "text": [
      "\r",
      " 55%|█████▌    | 11/20 [00:00<00:00, 18.61it/s, loss=d error: 1.1918762028217316 --- g error 0.6702684164047241]"
     ]
    },
    {
     "name": "stderr",
     "output_type": "stream",
     "text": [
      "\r",
      " 55%|█████▌    | 11/20 [00:00<00:00, 18.61it/s, loss=d error: 1.1721155643463135 --- g error 0.6705664396286011]"
     ]
    },
    {
     "name": "stderr",
     "output_type": "stream",
     "text": [
      "\r",
      " 70%|███████   | 14/20 [00:00<00:00, 19.28it/s, loss=d error: 1.1721155643463135 --- g error 0.6705664396286011]"
     ]
    },
    {
     "name": "stderr",
     "output_type": "stream",
     "text": [
      "\r",
      " 70%|███████   | 14/20 [00:00<00:00, 19.28it/s, loss=d error: 1.1319006979465485 --- g error 0.6637409925460815]"
     ]
    },
    {
     "name": "stderr",
     "output_type": "stream",
     "text": [
      "\r",
      " 70%|███████   | 14/20 [00:00<00:00, 19.28it/s, loss=d error: 1.0936394333839417 --- g error 0.6594730019569397]"
     ]
    },
    {
     "name": "stderr",
     "output_type": "stream",
     "text": [
      "\r",
      " 80%|████████  | 16/20 [00:00<00:00, 19.15it/s, loss=d error: 1.0936394333839417 --- g error 0.6594730019569397]"
     ]
    },
    {
     "name": "stderr",
     "output_type": "stream",
     "text": [
      "\r",
      " 80%|████████  | 16/20 [00:00<00:00, 19.15it/s, loss=d error: 1.0517858564853668 --- g error 0.6573936343193054]"
     ]
    },
    {
     "name": "stderr",
     "output_type": "stream",
     "text": [
      "\r",
      " 80%|████████  | 16/20 [00:00<00:00, 19.15it/s, loss=d error: 0.9827167689800262 --- g error 0.6571207642555237]"
     ]
    },
    {
     "name": "stderr",
     "output_type": "stream",
     "text": [
      "\r",
      " 90%|█████████ | 18/20 [00:00<00:00, 18.28it/s, loss=d error: 0.9827167689800262 --- g error 0.6571207642555237]"
     ]
    },
    {
     "name": "stderr",
     "output_type": "stream",
     "text": [
      "\r",
      " 90%|█████████ | 18/20 [00:01<00:00, 18.28it/s, loss=d error: 0.9562394022941589 --- g error 0.6536729335784912]"
     ]
    },
    {
     "name": "stderr",
     "output_type": "stream",
     "text": [
      "\r",
      " 90%|█████████ | 18/20 [00:01<00:00, 18.28it/s, loss=d error: 0.9193239510059357 --- g error 0.6530352234840393]"
     ]
    },
    {
     "name": "stderr",
     "output_type": "stream",
     "text": [
      "\r",
      "100%|██████████| 20/20 [00:01<00:00, 18.49it/s, loss=d error: 0.9193239510059357 --- g error 0.6530352234840393]"
     ]
    },
    {
     "name": "stdout",
     "output_type": "stream",
     "text": [
      "."
     ]
    },
    {
     "name": "stderr",
     "output_type": "stream",
     "text": [
      "\n"
     ]
    },
    {
     "name": "stderr",
     "output_type": "stream",
     "text": [
      "\r",
      "  0%|          | 0/20 [00:00<?, ?it/s]"
     ]
    },
    {
     "name": "stderr",
     "output_type": "stream",
     "text": [
      "\r",
      "  0%|          | 0/20 [00:00<?, ?it/s, loss=d error: 1.3871766924858093 --- g error 0.6863788366317749]"
     ]
    },
    {
     "name": "stderr",
     "output_type": "stream",
     "text": [
      "\r",
      "  0%|          | 0/20 [00:00<?, ?it/s, loss=d error: 1.3765443563461304 --- g error 0.6843931674957275]"
     ]
    },
    {
     "name": "stderr",
     "output_type": "stream",
     "text": [
      "\r",
      "  0%|          | 0/20 [00:00<?, ?it/s, loss=d error: 1.3713656663894653 --- g error 0.6841884851455688]"
     ]
    },
    {
     "name": "stderr",
     "output_type": "stream",
     "text": [
      "\r",
      " 15%|█▌        | 3/20 [00:00<00:00, 22.08it/s, loss=d error: 1.3713656663894653 --- g error 0.6841884851455688]"
     ]
    },
    {
     "name": "stderr",
     "output_type": "stream",
     "text": [
      "\r",
      " 15%|█▌        | 3/20 [00:00<00:00, 22.08it/s, loss=d error: 1.363080382347107 --- g error 0.6843203902244568] "
     ]
    },
    {
     "name": "stderr",
     "output_type": "stream",
     "text": [
      "\r",
      " 15%|█▌        | 3/20 [00:00<00:00, 22.08it/s, loss=d error: 1.354219377040863 --- g error 0.6821218132972717]"
     ]
    },
    {
     "name": "stderr",
     "output_type": "stream",
     "text": [
      "\r",
      " 15%|█▌        | 3/20 [00:00<00:00, 22.08it/s, loss=d error: 1.342500388622284 --- g error 0.6829167604446411]"
     ]
    },
    {
     "name": "stderr",
     "output_type": "stream",
     "text": [
      "\r",
      " 30%|███       | 6/20 [00:00<00:00, 22.56it/s, loss=d error: 1.342500388622284 --- g error 0.6829167604446411]"
     ]
    },
    {
     "name": "stderr",
     "output_type": "stream",
     "text": [
      "\r",
      " 30%|███       | 6/20 [00:00<00:00, 22.56it/s, loss=d error: 1.3351694345474243 --- g error 0.6833940744400024]"
     ]
    },
    {
     "name": "stderr",
     "output_type": "stream",
     "text": [
      "\r",
      " 30%|███       | 6/20 [00:00<00:00, 22.56it/s, loss=d error: 1.3204702138900757 --- g error 0.6818675398826599]"
     ]
    },
    {
     "name": "stderr",
     "output_type": "stream",
     "text": [
      "\r",
      " 30%|███       | 6/20 [00:00<00:00, 22.56it/s, loss=d error: 1.3031138181686401 --- g error 0.6792963743209839]"
     ]
    },
    {
     "name": "stderr",
     "output_type": "stream",
     "text": [
      "\r",
      " 45%|████▌     | 9/20 [00:00<00:00, 24.33it/s, loss=d error: 1.3031138181686401 --- g error 0.6792963743209839]"
     ]
    },
    {
     "name": "stderr",
     "output_type": "stream",
     "text": [
      "\r",
      " 45%|████▌     | 9/20 [00:00<00:00, 24.33it/s, loss=d error: 1.2985907793045044 --- g error 0.6809940338134766]"
     ]
    },
    {
     "name": "stderr",
     "output_type": "stream",
     "text": [
      "\r",
      " 45%|████▌     | 9/20 [00:00<00:00, 24.33it/s, loss=d error: 1.266343116760254 --- g error 0.6752798557281494] "
     ]
    },
    {
     "name": "stderr",
     "output_type": "stream",
     "text": [
      "\r",
      " 45%|████▌     | 9/20 [00:00<00:00, 24.33it/s, loss=d error: 1.2468782663345337 --- g error 0.6731569766998291]"
     ]
    },
    {
     "name": "stderr",
     "output_type": "stream",
     "text": [
      "\r",
      " 60%|██████    | 12/20 [00:00<00:00, 25.26it/s, loss=d error: 1.2468782663345337 --- g error 0.6731569766998291]"
     ]
    },
    {
     "name": "stderr",
     "output_type": "stream",
     "text": [
      "\r",
      " 60%|██████    | 12/20 [00:00<00:00, 25.26it/s, loss=d error: 1.2321527004241943 --- g error 0.6724802851676941]"
     ]
    },
    {
     "name": "stderr",
     "output_type": "stream",
     "text": [
      "\r",
      " 60%|██████    | 12/20 [00:00<00:00, 25.26it/s, loss=d error: 1.1960632801055908 --- g error 0.6673104763031006]"
     ]
    },
    {
     "name": "stderr",
     "output_type": "stream",
     "text": [
      "\r",
      " 60%|██████    | 12/20 [00:00<00:00, 25.26it/s, loss=d error: 1.1722168028354645 --- g error 0.6629036664962769]"
     ]
    },
    {
     "name": "stderr",
     "output_type": "stream",
     "text": [
      "\r",
      " 75%|███████▌  | 15/20 [00:00<00:00, 24.84it/s, loss=d error: 1.1722168028354645 --- g error 0.6629036664962769]"
     ]
    },
    {
     "name": "stderr",
     "output_type": "stream",
     "text": [
      "\r",
      " 75%|███████▌  | 15/20 [00:00<00:00, 24.84it/s, loss=d error: 1.1520021259784698 --- g error 0.6598247289657593]"
     ]
    },
    {
     "name": "stderr",
     "output_type": "stream",
     "text": [
      "\r",
      " 75%|███████▌  | 15/20 [00:00<00:00, 24.84it/s, loss=d error: 1.1030539870262146 --- g error 0.6449722051620483]"
     ]
    },
    {
     "name": "stderr",
     "output_type": "stream",
     "text": [
      "\r",
      " 75%|███████▌  | 15/20 [00:00<00:00, 24.84it/s, loss=d error: 1.0799164175987244 --- g error 0.6387561559677124]"
     ]
    },
    {
     "name": "stderr",
     "output_type": "stream",
     "text": [
      "\r",
      " 90%|█████████ | 18/20 [00:00<00:00, 22.91it/s, loss=d error: 1.0799164175987244 --- g error 0.6387561559677124]"
     ]
    },
    {
     "name": "stderr",
     "output_type": "stream",
     "text": [
      "\r",
      " 90%|█████████ | 18/20 [00:00<00:00, 22.91it/s, loss=d error: 1.041188895702362 --- g error 0.6346265077590942] "
     ]
    },
    {
     "name": "stderr",
     "output_type": "stream",
     "text": [
      "\r",
      " 90%|█████████ | 18/20 [00:00<00:00, 22.91it/s, loss=d error: 1.0183143019676208 --- g error 0.6226151585578918]"
     ]
    },
    {
     "name": "stderr",
     "output_type": "stream",
     "text": [
      "\r",
      "100%|██████████| 20/20 [00:00<00:00, 23.95it/s, loss=d error: 1.0183143019676208 --- g error 0.6226151585578918]"
     ]
    },
    {
     "name": "stderr",
     "output_type": "stream",
     "text": [
      "\n"
     ]
    },
    {
     "name": "stdout",
     "output_type": "stream",
     "text": [
      "   Trial 10/20..."
     ]
    },
    {
     "name": "stderr",
     "output_type": "stream",
     "text": [
      "\r",
      "  0%|          | 0/20 [00:00<?, ?it/s]"
     ]
    },
    {
     "name": "stderr",
     "output_type": "stream",
     "text": [
      "\r",
      "  0%|          | 0/20 [00:00<?, ?it/s, loss=d error: 1.3842573761940002 --- g error 0.7302934527397156]"
     ]
    },
    {
     "name": "stderr",
     "output_type": "stream",
     "text": [
      "\r",
      "  0%|          | 0/20 [00:00<?, ?it/s, loss=d error: 1.375753104686737 --- g error 0.7303214073181152] "
     ]
    },
    {
     "name": "stderr",
     "output_type": "stream",
     "text": [
      "\r",
      "  0%|          | 0/20 [00:00<?, ?it/s, loss=d error: 1.3696051836013794 --- g error 0.7315694093704224]"
     ]
    },
    {
     "name": "stderr",
     "output_type": "stream",
     "text": [
      "\r",
      " 15%|█▌        | 3/20 [00:00<00:00, 27.60it/s, loss=d error: 1.3696051836013794 --- g error 0.7315694093704224]"
     ]
    },
    {
     "name": "stderr",
     "output_type": "stream",
     "text": [
      "\r",
      " 15%|█▌        | 3/20 [00:00<00:00, 27.60it/s, loss=d error: 1.3560201525688171 --- g error 0.7289319634437561]"
     ]
    },
    {
     "name": "stderr",
     "output_type": "stream",
     "text": [
      "\r",
      " 15%|█▌        | 3/20 [00:00<00:00, 27.60it/s, loss=d error: 1.351695716381073 --- g error 0.7305609583854675] "
     ]
    },
    {
     "name": "stderr",
     "output_type": "stream",
     "text": [
      "\r",
      " 15%|█▌        | 3/20 [00:00<00:00, 27.60it/s, loss=d error: 1.3372525572776794 --- g error 0.7277794480323792]"
     ]
    },
    {
     "name": "stderr",
     "output_type": "stream",
     "text": [
      "\r",
      " 30%|███       | 6/20 [00:00<00:00, 25.23it/s, loss=d error: 1.3372525572776794 --- g error 0.7277794480323792]"
     ]
    },
    {
     "name": "stderr",
     "output_type": "stream",
     "text": [
      "\r",
      " 30%|███       | 6/20 [00:00<00:00, 25.23it/s, loss=d error: 1.320708990097046 --- g error 0.7282012701034546] "
     ]
    },
    {
     "name": "stderr",
     "output_type": "stream",
     "text": [
      "\r",
      " 30%|███       | 6/20 [00:00<00:00, 25.23it/s, loss=d error: 1.3097846508026123 --- g error 0.7297375202178955]"
     ]
    },
    {
     "name": "stderr",
     "output_type": "stream",
     "text": [
      "\r",
      " 30%|███       | 6/20 [00:00<00:00, 25.23it/s, loss=d error: 1.2836033701896667 --- g error 0.7287944555282593]"
     ]
    },
    {
     "name": "stderr",
     "output_type": "stream",
     "text": [
      "\r",
      " 45%|████▌     | 9/20 [00:00<00:00, 22.32it/s, loss=d error: 1.2836033701896667 --- g error 0.7287944555282593]"
     ]
    },
    {
     "name": "stderr",
     "output_type": "stream",
     "text": [
      "\r",
      " 45%|████▌     | 9/20 [00:00<00:00, 22.32it/s, loss=d error: 1.2579967379570007 --- g error 0.7294671535491943]"
     ]
    },
    {
     "name": "stderr",
     "output_type": "stream",
     "text": [
      "\r",
      " 45%|████▌     | 9/20 [00:00<00:00, 22.32it/s, loss=d error: 1.2381786108016968 --- g error 0.7307915687561035]"
     ]
    },
    {
     "name": "stderr",
     "output_type": "stream",
     "text": [
      "\r",
      " 45%|████▌     | 9/20 [00:00<00:00, 22.32it/s, loss=d error: 1.2004824876785278 --- g error 0.7319608926773071]"
     ]
    },
    {
     "name": "stderr",
     "output_type": "stream",
     "text": [
      "\r",
      " 60%|██████    | 12/20 [00:00<00:00, 21.85it/s, loss=d error: 1.2004824876785278 --- g error 0.7319608926773071]"
     ]
    },
    {
     "name": "stderr",
     "output_type": "stream",
     "text": [
      "\r",
      " 60%|██████    | 12/20 [00:00<00:00, 21.85it/s, loss=d error: 1.166891098022461 --- g error 0.7342292070388794] "
     ]
    },
    {
     "name": "stderr",
     "output_type": "stream",
     "text": [
      "\r",
      " 60%|██████    | 12/20 [00:00<00:00, 21.85it/s, loss=d error: 1.1398542821407318 --- g error 0.7319725751876831]"
     ]
    },
    {
     "name": "stderr",
     "output_type": "stream",
     "text": [
      "\r",
      " 60%|██████    | 12/20 [00:00<00:00, 21.85it/s, loss=d error: 1.1087564826011658 --- g error 0.7367121577262878]"
     ]
    },
    {
     "name": "stderr",
     "output_type": "stream",
     "text": [
      "\r",
      " 75%|███████▌  | 15/20 [00:00<00:00, 21.58it/s, loss=d error: 1.1087564826011658 --- g error 0.7367121577262878]"
     ]
    },
    {
     "name": "stderr",
     "output_type": "stream",
     "text": [
      "\r",
      " 75%|███████▌  | 15/20 [00:00<00:00, 21.58it/s, loss=d error: 1.0501523613929749 --- g error 0.7372149229049683]"
     ]
    },
    {
     "name": "stderr",
     "output_type": "stream",
     "text": [
      "\r",
      " 75%|███████▌  | 15/20 [00:00<00:00, 21.58it/s, loss=d error: 0.9986681044101715 --- g error 0.7346831560134888]"
     ]
    },
    {
     "name": "stderr",
     "output_type": "stream",
     "text": [
      "\r",
      " 75%|███████▌  | 15/20 [00:00<00:00, 21.58it/s, loss=d error: 0.945591926574707 --- g error 0.7378650903701782] "
     ]
    },
    {
     "name": "stderr",
     "output_type": "stream",
     "text": [
      "\r",
      " 90%|█████████ | 18/20 [00:00<00:00, 21.37it/s, loss=d error: 0.945591926574707 --- g error 0.7378650903701782]"
     ]
    },
    {
     "name": "stderr",
     "output_type": "stream",
     "text": [
      "\r",
      " 90%|█████████ | 18/20 [00:00<00:00, 21.37it/s, loss=d error: 0.8808803856372833 --- g error 0.7379710078239441]"
     ]
    },
    {
     "name": "stderr",
     "output_type": "stream",
     "text": [
      "\r",
      " 90%|█████████ | 18/20 [00:00<00:00, 21.37it/s, loss=d error: 0.8440432846546173 --- g error 0.7454382181167603]"
     ]
    },
    {
     "name": "stderr",
     "output_type": "stream",
     "text": [
      "\r",
      "100%|██████████| 20/20 [00:00<00:00, 21.90it/s, loss=d error: 0.8440432846546173 --- g error 0.7454382181167603]"
     ]
    },
    {
     "name": "stderr",
     "output_type": "stream",
     "text": [
      "\n"
     ]
    },
    {
     "name": "stdout",
     "output_type": "stream",
     "text": [
      "."
     ]
    },
    {
     "name": "stderr",
     "output_type": "stream",
     "text": [
      "\r",
      "  0%|          | 0/20 [00:00<?, ?it/s]"
     ]
    },
    {
     "name": "stderr",
     "output_type": "stream",
     "text": [
      "\r",
      "  0%|          | 0/20 [00:00<?, ?it/s, loss=d error: 1.3863001465797424 --- g error 0.7084211707115173]"
     ]
    },
    {
     "name": "stderr",
     "output_type": "stream",
     "text": [
      "\r",
      "  0%|          | 0/20 [00:00<?, ?it/s, loss=d error: 1.3783798813819885 --- g error 0.70639568567276]  "
     ]
    },
    {
     "name": "stderr",
     "output_type": "stream",
     "text": [
      "\r",
      " 10%|█         | 2/20 [00:00<00:00, 19.85it/s, loss=d error: 1.3783798813819885 --- g error 0.70639568567276]"
     ]
    },
    {
     "name": "stderr",
     "output_type": "stream",
     "text": [
      "\r",
      " 10%|█         | 2/20 [00:00<00:00, 19.85it/s, loss=d error: 1.3678082823753357 --- g error 0.7096761465072632]"
     ]
    },
    {
     "name": "stderr",
     "output_type": "stream",
     "text": [
      "\r",
      " 10%|█         | 2/20 [00:00<00:00, 19.85it/s, loss=d error: 1.3571901321411133 --- g error 0.7095863819122314]"
     ]
    },
    {
     "name": "stderr",
     "output_type": "stream",
     "text": [
      "\r",
      " 10%|█         | 2/20 [00:00<00:00, 19.85it/s, loss=d error: 1.3426390886306763 --- g error 0.7152575254440308]"
     ]
    },
    {
     "name": "stderr",
     "output_type": "stream",
     "text": [
      "\r",
      " 25%|██▌       | 5/20 [00:00<00:00, 20.76it/s, loss=d error: 1.3426390886306763 --- g error 0.7152575254440308]"
     ]
    },
    {
     "name": "stderr",
     "output_type": "stream",
     "text": [
      "\r",
      " 25%|██▌       | 5/20 [00:00<00:00, 20.76it/s, loss=d error: 1.3296483755111694 --- g error 0.7122029066085815]"
     ]
    },
    {
     "name": "stderr",
     "output_type": "stream",
     "text": [
      "\r",
      " 25%|██▌       | 5/20 [00:00<00:00, 20.76it/s, loss=d error: 1.3130931854248047 --- g error 0.716939389705658] "
     ]
    },
    {
     "name": "stderr",
     "output_type": "stream",
     "text": [
      "\r",
      " 25%|██▌       | 5/20 [00:00<00:00, 20.76it/s, loss=d error: 1.300926148891449 --- g error 0.71793532371521]  "
     ]
    },
    {
     "name": "stderr",
     "output_type": "stream",
     "text": [
      "\r",
      " 40%|████      | 8/20 [00:00<00:00, 20.54it/s, loss=d error: 1.300926148891449 --- g error 0.71793532371521]"
     ]
    },
    {
     "name": "stderr",
     "output_type": "stream",
     "text": [
      "\r",
      " 40%|████      | 8/20 [00:00<00:00, 20.54it/s, loss=d error: 1.2822901606559753 --- g error 0.7187849879264832]"
     ]
    },
    {
     "name": "stderr",
     "output_type": "stream",
     "text": [
      "\r",
      " 40%|████      | 8/20 [00:00<00:00, 20.54it/s, loss=d error: 1.246111273765564 --- g error 0.7227085828781128] "
     ]
    },
    {
     "name": "stderr",
     "output_type": "stream",
     "text": [
      "\r",
      " 40%|████      | 8/20 [00:00<00:00, 20.54it/s, loss=d error: 1.2159871459007263 --- g error 0.7289191484451294]"
     ]
    },
    {
     "name": "stderr",
     "output_type": "stream",
     "text": [
      "\r",
      " 55%|█████▌    | 11/20 [00:00<00:00, 20.30it/s, loss=d error: 1.2159871459007263 --- g error 0.7289191484451294]"
     ]
    },
    {
     "name": "stderr",
     "output_type": "stream",
     "text": [
      "\r",
      " 55%|█████▌    | 11/20 [00:00<00:00, 20.30it/s, loss=d error: 1.1706877946853638 --- g error 0.7303657531738281]"
     ]
    },
    {
     "name": "stderr",
     "output_type": "stream",
     "text": [
      "\r",
      " 55%|█████▌    | 11/20 [00:00<00:00, 20.30it/s, loss=d error: 1.1439226865768433 --- g error 0.7374568581581116]"
     ]
    },
    {
     "name": "stderr",
     "output_type": "stream",
     "text": [
      "\r",
      " 55%|█████▌    | 11/20 [00:00<00:00, 20.30it/s, loss=d error: 1.0808034837245941 --- g error 0.7480067610740662]"
     ]
    },
    {
     "name": "stderr",
     "output_type": "stream",
     "text": [
      "\r",
      " 70%|███████   | 14/20 [00:00<00:00, 20.42it/s, loss=d error: 1.0808034837245941 --- g error 0.7480067610740662]"
     ]
    },
    {
     "name": "stderr",
     "output_type": "stream",
     "text": [
      "\r",
      " 70%|███████   | 14/20 [00:00<00:00, 20.42it/s, loss=d error: 1.0423202812671661 --- g error 0.757163941860199] "
     ]
    },
    {
     "name": "stderr",
     "output_type": "stream",
     "text": [
      "\r",
      " 70%|███████   | 14/20 [00:00<00:00, 20.42it/s, loss=d error: 1.0056298971176147 --- g error 0.7616758346557617]"
     ]
    },
    {
     "name": "stderr",
     "output_type": "stream",
     "text": [
      "\r",
      " 70%|███████   | 14/20 [00:00<00:00, 20.42it/s, loss=d error: 0.927187979221344 --- g error 0.765213668346405]  "
     ]
    },
    {
     "name": "stderr",
     "output_type": "stream",
     "text": [
      "\r",
      " 85%|████████▌ | 17/20 [00:00<00:00, 16.68it/s, loss=d error: 0.927187979221344 --- g error 0.765213668346405]"
     ]
    },
    {
     "name": "stderr",
     "output_type": "stream",
     "text": [
      "\r",
      " 85%|████████▌ | 17/20 [00:00<00:00, 16.68it/s, loss=d error: 0.8710637986660004 --- g error 0.7823159098625183]"
     ]
    },
    {
     "name": "stderr",
     "output_type": "stream",
     "text": [
      "\r",
      " 85%|████████▌ | 17/20 [00:01<00:00, 16.68it/s, loss=d error: 0.8105136901140213 --- g error 0.7933445572853088]"
     ]
    },
    {
     "name": "stderr",
     "output_type": "stream",
     "text": [
      "\r",
      " 95%|█████████▌| 19/20 [00:01<00:00, 17.35it/s, loss=d error: 0.8105136901140213 --- g error 0.7933445572853088]"
     ]
    },
    {
     "name": "stderr",
     "output_type": "stream",
     "text": [
      "\r",
      " 95%|█████████▌| 19/20 [00:01<00:00, 17.35it/s, loss=d error: 0.7573634684085846 --- g error 0.7957759499549866]"
     ]
    },
    {
     "name": "stderr",
     "output_type": "stream",
     "text": [
      "\r",
      "100%|██████████| 20/20 [00:01<00:00, 18.18it/s, loss=d error: 0.7573634684085846 --- g error 0.7957759499549866]"
     ]
    },
    {
     "name": "stderr",
     "output_type": "stream",
     "text": [
      "\n"
     ]
    },
    {
     "name": "stdout",
     "output_type": "stream",
     "text": [
      "."
     ]
    },
    {
     "name": "stderr",
     "output_type": "stream",
     "text": [
      "\r",
      "  0%|          | 0/20 [00:00<?, ?it/s]"
     ]
    },
    {
     "name": "stderr",
     "output_type": "stream",
     "text": [
      "\r",
      "  0%|          | 0/20 [00:00<?, ?it/s, loss=d error: 1.386543333530426 --- g error 0.6448968648910522]"
     ]
    },
    {
     "name": "stderr",
     "output_type": "stream",
     "text": [
      "\r",
      "  0%|          | 0/20 [00:00<?, ?it/s, loss=d error: 1.380484402179718 --- g error 0.6465148329734802]"
     ]
    },
    {
     "name": "stderr",
     "output_type": "stream",
     "text": [
      "\r",
      "  0%|          | 0/20 [00:00<?, ?it/s, loss=d error: 1.372270405292511 --- g error 0.6464694738388062]"
     ]
    },
    {
     "name": "stderr",
     "output_type": "stream",
     "text": [
      "\r",
      " 15%|█▌        | 3/20 [00:00<00:00, 21.69it/s, loss=d error: 1.372270405292511 --- g error 0.6464694738388062]"
     ]
    },
    {
     "name": "stderr",
     "output_type": "stream",
     "text": [
      "\r",
      " 15%|█▌        | 3/20 [00:00<00:00, 21.69it/s, loss=d error: 1.3680554628372192 --- g error 0.6476115584373474]"
     ]
    },
    {
     "name": "stderr",
     "output_type": "stream",
     "text": [
      "\r",
      " 15%|█▌        | 3/20 [00:00<00:00, 21.69it/s, loss=d error: 1.3638476133346558 --- g error 0.6499477624893188]"
     ]
    },
    {
     "name": "stderr",
     "output_type": "stream",
     "text": [
      "\r",
      " 15%|█▌        | 3/20 [00:00<00:00, 21.69it/s, loss=d error: 1.3435140252113342 --- g error 0.6521627902984619]"
     ]
    },
    {
     "name": "stderr",
     "output_type": "stream",
     "text": [
      "\r",
      " 30%|███       | 6/20 [00:00<00:00, 21.41it/s, loss=d error: 1.3435140252113342 --- g error 0.6521627902984619]"
     ]
    },
    {
     "name": "stderr",
     "output_type": "stream",
     "text": [
      "\r",
      " 30%|███       | 6/20 [00:00<00:00, 21.41it/s, loss=d error: 1.3331425189971924 --- g error 0.6527284979820251]"
     ]
    },
    {
     "name": "stderr",
     "output_type": "stream",
     "text": [
      "\r",
      " 30%|███       | 6/20 [00:00<00:00, 21.41it/s, loss=d error: 1.3197880387306213 --- g error 0.6574535369873047]"
     ]
    },
    {
     "name": "stderr",
     "output_type": "stream",
     "text": [
      "\r",
      " 30%|███       | 6/20 [00:00<00:00, 21.41it/s, loss=d error: 1.2975221276283264 --- g error 0.6543740034103394]"
     ]
    },
    {
     "name": "stderr",
     "output_type": "stream",
     "text": [
      "\r",
      " 45%|████▌     | 9/20 [00:00<00:00, 21.31it/s, loss=d error: 1.2975221276283264 --- g error 0.6543740034103394]"
     ]
    },
    {
     "name": "stderr",
     "output_type": "stream",
     "text": [
      "\r",
      " 45%|████▌     | 9/20 [00:00<00:00, 21.31it/s, loss=d error: 1.2761189937591553 --- g error 0.6599284410476685]"
     ]
    },
    {
     "name": "stderr",
     "output_type": "stream",
     "text": [
      "\r",
      " 45%|████▌     | 9/20 [00:00<00:00, 21.31it/s, loss=d error: 1.256627380847931 --- g error 0.6675474643707275] "
     ]
    },
    {
     "name": "stderr",
     "output_type": "stream",
     "text": [
      "\r",
      " 45%|████▌     | 9/20 [00:00<00:00, 21.31it/s, loss=d error: 1.227919578552246 --- g error 0.6672305464744568]"
     ]
    },
    {
     "name": "stderr",
     "output_type": "stream",
     "text": [
      "\r",
      " 60%|██████    | 12/20 [00:00<00:00, 20.64it/s, loss=d error: 1.227919578552246 --- g error 0.6672305464744568]"
     ]
    },
    {
     "name": "stderr",
     "output_type": "stream",
     "text": [
      "\r",
      " 60%|██████    | 12/20 [00:00<00:00, 20.64it/s, loss=d error: 1.1935704946517944 --- g error 0.6678820252418518]"
     ]
    },
    {
     "name": "stderr",
     "output_type": "stream",
     "text": [
      "\r",
      " 60%|██████    | 12/20 [00:00<00:00, 20.64it/s, loss=d error: 1.1641751527786255 --- g error 0.6700100302696228]"
     ]
    },
    {
     "name": "stderr",
     "output_type": "stream",
     "text": [
      "\r",
      " 60%|██████    | 12/20 [00:00<00:00, 20.64it/s, loss=d error: 1.122042179107666 --- g error 0.6687834858894348] "
     ]
    },
    {
     "name": "stderr",
     "output_type": "stream",
     "text": [
      "\r",
      " 75%|███████▌  | 15/20 [00:00<00:00, 20.78it/s, loss=d error: 1.122042179107666 --- g error 0.6687834858894348]"
     ]
    },
    {
     "name": "stderr",
     "output_type": "stream",
     "text": [
      "\r",
      " 75%|███████▌  | 15/20 [00:00<00:00, 20.78it/s, loss=d error: 1.0852995216846466 --- g error 0.6780835390090942]"
     ]
    },
    {
     "name": "stderr",
     "output_type": "stream",
     "text": [
      "\r",
      " 75%|███████▌  | 15/20 [00:00<00:00, 20.78it/s, loss=d error: 1.032478541135788 --- g error 0.6789789199829102] "
     ]
    },
    {
     "name": "stderr",
     "output_type": "stream",
     "text": [
      "\r",
      " 75%|███████▌  | 15/20 [00:00<00:00, 20.78it/s, loss=d error: 0.963439017534256 --- g error 0.6825903654098511]"
     ]
    },
    {
     "name": "stderr",
     "output_type": "stream",
     "text": [
      "\r",
      " 90%|█████████ | 18/20 [00:00<00:00, 21.03it/s, loss=d error: 0.963439017534256 --- g error 0.6825903654098511]"
     ]
    },
    {
     "name": "stderr",
     "output_type": "stream",
     "text": [
      "\r",
      " 90%|█████████ | 18/20 [00:00<00:00, 21.03it/s, loss=d error: 0.9573258757591248 --- g error 0.6852672696113586]"
     ]
    },
    {
     "name": "stderr",
     "output_type": "stream",
     "text": [
      "\r",
      " 90%|█████████ | 18/20 [00:00<00:00, 21.03it/s, loss=d error: 0.8903374373912811 --- g error 0.6789763569831848]"
     ]
    },
    {
     "name": "stderr",
     "output_type": "stream",
     "text": [
      "\r",
      "100%|██████████| 20/20 [00:00<00:00, 21.09it/s, loss=d error: 0.8903374373912811 --- g error 0.6789763569831848]"
     ]
    },
    {
     "name": "stdout",
     "output_type": "stream",
     "text": [
      "."
     ]
    },
    {
     "name": "stderr",
     "output_type": "stream",
     "text": [
      "\n"
     ]
    },
    {
     "name": "stderr",
     "output_type": "stream",
     "text": [
      "\r",
      "  0%|          | 0/20 [00:00<?, ?it/s]"
     ]
    },
    {
     "name": "stderr",
     "output_type": "stream",
     "text": [
      "\r",
      "  0%|          | 0/20 [00:00<?, ?it/s, loss=d error: 1.3927398324012756 --- g error 0.6759496331214905]"
     ]
    },
    {
     "name": "stderr",
     "output_type": "stream",
     "text": [
      "\r",
      "  0%|          | 0/20 [00:00<?, ?it/s, loss=d error: 1.385974943637848 --- g error 0.6744589805603027] "
     ]
    },
    {
     "name": "stderr",
     "output_type": "stream",
     "text": [
      "\r",
      "  0%|          | 0/20 [00:00<?, ?it/s, loss=d error: 1.3787643313407898 --- g error 0.6756894588470459]"
     ]
    },
    {
     "name": "stderr",
     "output_type": "stream",
     "text": [
      "\r",
      " 15%|█▌        | 3/20 [00:00<00:00, 20.40it/s, loss=d error: 1.3787643313407898 --- g error 0.6756894588470459]"
     ]
    },
    {
     "name": "stderr",
     "output_type": "stream",
     "text": [
      "\r",
      " 15%|█▌        | 3/20 [00:00<00:00, 20.40it/s, loss=d error: 1.3782497644424438 --- g error 0.6747542023658752]"
     ]
    },
    {
     "name": "stderr",
     "output_type": "stream",
     "text": [
      "\r",
      " 15%|█▌        | 3/20 [00:00<00:00, 20.40it/s, loss=d error: 1.3724520802497864 --- g error 0.6763091087341309]"
     ]
    },
    {
     "name": "stderr",
     "output_type": "stream",
     "text": [
      "\r",
      " 15%|█▌        | 3/20 [00:00<00:00, 20.40it/s, loss=d error: 1.3646738529205322 --- g error 0.6761497259140015]"
     ]
    },
    {
     "name": "stderr",
     "output_type": "stream",
     "text": [
      "\r",
      " 30%|███       | 6/20 [00:00<00:00, 20.61it/s, loss=d error: 1.3646738529205322 --- g error 0.6761497259140015]"
     ]
    },
    {
     "name": "stderr",
     "output_type": "stream",
     "text": [
      "\r",
      " 30%|███       | 6/20 [00:00<00:00, 20.61it/s, loss=d error: 1.3556012511253357 --- g error 0.6781173944473267]"
     ]
    },
    {
     "name": "stderr",
     "output_type": "stream",
     "text": [
      "\r",
      " 30%|███       | 6/20 [00:00<00:00, 20.61it/s, loss=d error: 1.3487451672554016 --- g error 0.6783707737922668]"
     ]
    },
    {
     "name": "stderr",
     "output_type": "stream",
     "text": [
      "\r",
      " 30%|███       | 6/20 [00:00<00:00, 20.61it/s, loss=d error: 1.340444564819336 --- g error 0.677463710308075]  "
     ]
    },
    {
     "name": "stderr",
     "output_type": "stream",
     "text": [
      "\r",
      " 45%|████▌     | 9/20 [00:00<00:00, 20.10it/s, loss=d error: 1.340444564819336 --- g error 0.677463710308075]"
     ]
    },
    {
     "name": "stderr",
     "output_type": "stream",
     "text": [
      "\r",
      " 45%|████▌     | 9/20 [00:00<00:00, 20.10it/s, loss=d error: 1.3283429741859436 --- g error 0.6803280115127563]"
     ]
    },
    {
     "name": "stderr",
     "output_type": "stream",
     "text": [
      "\r",
      " 45%|████▌     | 9/20 [00:00<00:00, 20.10it/s, loss=d error: 1.3132340908050537 --- g error 0.6784493923187256]"
     ]
    },
    {
     "name": "stderr",
     "output_type": "stream",
     "text": [
      "\r",
      " 45%|████▌     | 9/20 [00:00<00:00, 20.10it/s, loss=d error: 1.298717439174652 --- g error 0.681872546672821]  "
     ]
    },
    {
     "name": "stderr",
     "output_type": "stream",
     "text": [
      "\r",
      " 60%|██████    | 12/20 [00:00<00:00, 19.47it/s, loss=d error: 1.298717439174652 --- g error 0.681872546672821]"
     ]
    },
    {
     "name": "stderr",
     "output_type": "stream",
     "text": [
      "\r",
      " 60%|██████    | 12/20 [00:00<00:00, 19.47it/s, loss=d error: 1.274731159210205 --- g error 0.6801777482032776]"
     ]
    },
    {
     "name": "stderr",
     "output_type": "stream",
     "text": [
      "\r",
      " 60%|██████    | 12/20 [00:00<00:00, 19.47it/s, loss=d error: 1.2603536248207092 --- g error 0.6784911155700684]"
     ]
    },
    {
     "name": "stderr",
     "output_type": "stream",
     "text": [
      "\r",
      " 70%|███████   | 14/20 [00:00<00:00, 16.95it/s, loss=d error: 1.2603536248207092 --- g error 0.6784911155700684]"
     ]
    },
    {
     "name": "stderr",
     "output_type": "stream",
     "text": [
      "\r",
      " 70%|███████   | 14/20 [00:00<00:00, 16.95it/s, loss=d error: 1.2293946743011475 --- g error 0.6768437027931213]"
     ]
    },
    {
     "name": "stderr",
     "output_type": "stream",
     "text": [
      "\r",
      " 70%|███████   | 14/20 [00:00<00:00, 16.95it/s, loss=d error: 1.2032620012760162 --- g error 0.6778541803359985]"
     ]
    },
    {
     "name": "stderr",
     "output_type": "stream",
     "text": [
      "\r",
      " 80%|████████  | 16/20 [00:00<00:00, 17.64it/s, loss=d error: 1.2032620012760162 --- g error 0.6778541803359985]"
     ]
    },
    {
     "name": "stderr",
     "output_type": "stream",
     "text": [
      "\r",
      " 80%|████████  | 16/20 [00:00<00:00, 17.64it/s, loss=d error: 1.1667960584163666 --- g error 0.6724427938461304]"
     ]
    },
    {
     "name": "stderr",
     "output_type": "stream",
     "text": [
      "\r",
      " 80%|████████  | 16/20 [00:00<00:00, 17.64it/s, loss=d error: 1.1250785291194916 --- g error 0.6756635308265686]"
     ]
    },
    {
     "name": "stderr",
     "output_type": "stream",
     "text": [
      "\r",
      " 90%|█████████ | 18/20 [00:00<00:00, 17.93it/s, loss=d error: 1.1250785291194916 --- g error 0.6756635308265686]"
     ]
    },
    {
     "name": "stderr",
     "output_type": "stream",
     "text": [
      "\r",
      " 90%|█████████ | 18/20 [00:01<00:00, 17.93it/s, loss=d error: 1.1032031178474426 --- g error 0.6681115031242371]"
     ]
    },
    {
     "name": "stderr",
     "output_type": "stream",
     "text": [
      "\r",
      " 90%|█████████ | 18/20 [00:01<00:00, 17.93it/s, loss=d error: 1.0502552390098572 --- g error 0.6766909956932068]"
     ]
    },
    {
     "name": "stderr",
     "output_type": "stream",
     "text": [
      "\r",
      "100%|██████████| 20/20 [00:01<00:00, 18.71it/s, loss=d error: 1.0502552390098572 --- g error 0.6766909956932068]"
     ]
    },
    {
     "name": "stdout",
     "output_type": "stream",
     "text": [
      "."
     ]
    },
    {
     "name": "stderr",
     "output_type": "stream",
     "text": [
      "\n"
     ]
    },
    {
     "name": "stderr",
     "output_type": "stream",
     "text": [
      "\r",
      "  0%|          | 0/20 [00:00<?, ?it/s]"
     ]
    },
    {
     "name": "stderr",
     "output_type": "stream",
     "text": [
      "\r",
      "  0%|          | 0/20 [00:00<?, ?it/s, loss=d error: 1.3915588855743408 --- g error 0.7377851009368896]"
     ]
    },
    {
     "name": "stderr",
     "output_type": "stream",
     "text": [
      "\r",
      "  0%|          | 0/20 [00:00<?, ?it/s, loss=d error: 1.3862508535385132 --- g error 0.7391020059585571]"
     ]
    },
    {
     "name": "stderr",
     "output_type": "stream",
     "text": [
      "\r",
      "  0%|          | 0/20 [00:00<?, ?it/s, loss=d error: 1.376822292804718 --- g error 0.7390052676200867] "
     ]
    },
    {
     "name": "stderr",
     "output_type": "stream",
     "text": [
      "\r",
      " 15%|█▌        | 3/20 [00:00<00:00, 20.61it/s, loss=d error: 1.376822292804718 --- g error 0.7390052676200867]"
     ]
    },
    {
     "name": "stderr",
     "output_type": "stream",
     "text": [
      "\r",
      " 15%|█▌        | 3/20 [00:00<00:00, 20.61it/s, loss=d error: 1.3664546608924866 --- g error 0.7340031266212463]"
     ]
    },
    {
     "name": "stderr",
     "output_type": "stream",
     "text": [
      "\r",
      " 15%|█▌        | 3/20 [00:00<00:00, 20.61it/s, loss=d error: 1.360211968421936 --- g error 0.733665406703949]  "
     ]
    },
    {
     "name": "stderr",
     "output_type": "stream",
     "text": [
      "\r",
      " 15%|█▌        | 3/20 [00:00<00:00, 20.61it/s, loss=d error: 1.349501371383667 --- g error 0.7340311408042908]"
     ]
    },
    {
     "name": "stderr",
     "output_type": "stream",
     "text": [
      "\r",
      " 30%|███       | 6/20 [00:00<00:00, 20.22it/s, loss=d error: 1.349501371383667 --- g error 0.7340311408042908]"
     ]
    },
    {
     "name": "stderr",
     "output_type": "stream",
     "text": [
      "\r",
      " 30%|███       | 6/20 [00:00<00:00, 20.22it/s, loss=d error: 1.33968985080719 --- g error 0.7308130264282227] "
     ]
    },
    {
     "name": "stderr",
     "output_type": "stream",
     "text": [
      "\r",
      " 30%|███       | 6/20 [00:00<00:00, 20.22it/s, loss=d error: 1.323985993862152 --- g error 0.7325421571731567]"
     ]
    },
    {
     "name": "stderr",
     "output_type": "stream",
     "text": [
      "\r",
      " 30%|███       | 6/20 [00:00<00:00, 20.22it/s, loss=d error: 1.3040890097618103 --- g error 0.728240430355072]"
     ]
    },
    {
     "name": "stderr",
     "output_type": "stream",
     "text": [
      "\r",
      " 45%|████▌     | 9/20 [00:00<00:00, 20.47it/s, loss=d error: 1.3040890097618103 --- g error 0.728240430355072]"
     ]
    },
    {
     "name": "stderr",
     "output_type": "stream",
     "text": [
      "\r",
      " 45%|████▌     | 9/20 [00:00<00:00, 20.47it/s, loss=d error: 1.2906960844993591 --- g error 0.7249367833137512]"
     ]
    },
    {
     "name": "stderr",
     "output_type": "stream",
     "text": [
      "\r",
      " 45%|████▌     | 9/20 [00:00<00:00, 20.47it/s, loss=d error: 1.2697884440422058 --- g error 0.7258484959602356]"
     ]
    },
    {
     "name": "stderr",
     "output_type": "stream",
     "text": [
      "\r",
      " 45%|████▌     | 9/20 [00:00<00:00, 20.47it/s, loss=d error: 1.2370885610580444 --- g error 0.7230015397071838]"
     ]
    },
    {
     "name": "stderr",
     "output_type": "stream",
     "text": [
      "\r",
      " 60%|██████    | 12/20 [00:00<00:00, 20.97it/s, loss=d error: 1.2370885610580444 --- g error 0.7230015397071838]"
     ]
    },
    {
     "name": "stderr",
     "output_type": "stream",
     "text": [
      "\r",
      " 60%|██████    | 12/20 [00:00<00:00, 20.97it/s, loss=d error: 1.221530795097351 --- g error 0.7197529077529907] "
     ]
    },
    {
     "name": "stderr",
     "output_type": "stream",
     "text": [
      "\r",
      " 60%|██████    | 12/20 [00:00<00:00, 20.97it/s, loss=d error: 1.1705747544765472 --- g error 0.7146933674812317]"
     ]
    },
    {
     "name": "stderr",
     "output_type": "stream",
     "text": [
      "\r",
      " 60%|██████    | 12/20 [00:00<00:00, 20.97it/s, loss=d error: 1.1288957595825195 --- g error 0.7173871994018555]"
     ]
    },
    {
     "name": "stderr",
     "output_type": "stream",
     "text": [
      "\r",
      " 75%|███████▌  | 15/20 [00:00<00:00, 21.09it/s, loss=d error: 1.1288957595825195 --- g error 0.7173871994018555]"
     ]
    },
    {
     "name": "stderr",
     "output_type": "stream",
     "text": [
      "\r",
      " 75%|███████▌  | 15/20 [00:00<00:00, 21.09it/s, loss=d error: 1.1061074137687683 --- g error 0.7067787051200867]"
     ]
    },
    {
     "name": "stderr",
     "output_type": "stream",
     "text": [
      "\r",
      " 75%|███████▌  | 15/20 [00:00<00:00, 21.09it/s, loss=d error: 1.054777204990387 --- g error 0.6994920372962952] "
     ]
    },
    {
     "name": "stderr",
     "output_type": "stream",
     "text": [
      "\r",
      " 75%|███████▌  | 15/20 [00:00<00:00, 21.09it/s, loss=d error: 1.0199898183345795 --- g error 0.6908802390098572]"
     ]
    },
    {
     "name": "stderr",
     "output_type": "stream",
     "text": [
      "\r",
      " 90%|█████████ | 18/20 [00:00<00:00, 18.43it/s, loss=d error: 1.0199898183345795 --- g error 0.6908802390098572]"
     ]
    },
    {
     "name": "stderr",
     "output_type": "stream",
     "text": [
      "\r",
      " 90%|█████████ | 18/20 [00:00<00:00, 18.43it/s, loss=d error: 0.9875124394893646 --- g error 0.6820717453956604]"
     ]
    },
    {
     "name": "stderr",
     "output_type": "stream",
     "text": [
      "\r",
      " 90%|█████████ | 18/20 [00:01<00:00, 18.43it/s, loss=d error: 0.9256405681371689 --- g error 0.6730385422706604]"
     ]
    },
    {
     "name": "stderr",
     "output_type": "stream",
     "text": [
      "\r",
      "100%|██████████| 20/20 [00:01<00:00, 19.60it/s, loss=d error: 0.9256405681371689 --- g error 0.6730385422706604]"
     ]
    },
    {
     "name": "stderr",
     "output_type": "stream",
     "text": [
      "\n"
     ]
    },
    {
     "name": "stdout",
     "output_type": "stream",
     "text": [
      "   Trial 15/20..."
     ]
    },
    {
     "name": "stderr",
     "output_type": "stream",
     "text": [
      "\r",
      "  0%|          | 0/20 [00:00<?, ?it/s]"
     ]
    },
    {
     "name": "stderr",
     "output_type": "stream",
     "text": [
      "\r",
      "  0%|          | 0/20 [00:00<?, ?it/s, loss=d error: 1.3856695294380188 --- g error 0.6751389503479004]"
     ]
    },
    {
     "name": "stderr",
     "output_type": "stream",
     "text": [
      "\r",
      "  0%|          | 0/20 [00:00<?, ?it/s, loss=d error: 1.3817948698997498 --- g error 0.6745281219482422]"
     ]
    },
    {
     "name": "stderr",
     "output_type": "stream",
     "text": [
      "\r",
      " 10%|█         | 2/20 [00:00<00:00, 19.16it/s, loss=d error: 1.3817948698997498 --- g error 0.6745281219482422]"
     ]
    },
    {
     "name": "stderr",
     "output_type": "stream",
     "text": [
      "\r",
      " 10%|█         | 2/20 [00:00<00:00, 19.16it/s, loss=d error: 1.3719891905784607 --- g error 0.6758769750595093]"
     ]
    },
    {
     "name": "stderr",
     "output_type": "stream",
     "text": [
      "\r",
      " 10%|█         | 2/20 [00:00<00:00, 19.16it/s, loss=d error: 1.3651514053344727 --- g error 0.6751584410667419]"
     ]
    },
    {
     "name": "stderr",
     "output_type": "stream",
     "text": [
      "\r",
      " 20%|██        | 4/20 [00:00<00:00, 19.50it/s, loss=d error: 1.3651514053344727 --- g error 0.6751584410667419]"
     ]
    },
    {
     "name": "stderr",
     "output_type": "stream",
     "text": [
      "\r",
      " 20%|██        | 4/20 [00:00<00:00, 19.50it/s, loss=d error: 1.3604004979133606 --- g error 0.6769903302192688]"
     ]
    },
    {
     "name": "stderr",
     "output_type": "stream",
     "text": [
      "\r",
      " 20%|██        | 4/20 [00:00<00:00, 19.50it/s, loss=d error: 1.348120391368866 --- g error 0.6738455891609192] "
     ]
    },
    {
     "name": "stderr",
     "output_type": "stream",
     "text": [
      "\r",
      " 20%|██        | 4/20 [00:00<00:00, 19.50it/s, loss=d error: 1.3372099995613098 --- g error 0.6730425357818604]"
     ]
    },
    {
     "name": "stderr",
     "output_type": "stream",
     "text": [
      "\r",
      " 35%|███▌      | 7/20 [00:00<00:00, 20.62it/s, loss=d error: 1.3372099995613098 --- g error 0.6730425357818604]"
     ]
    },
    {
     "name": "stderr",
     "output_type": "stream",
     "text": [
      "\r",
      " 35%|███▌      | 7/20 [00:00<00:00, 20.62it/s, loss=d error: 1.3174270987510681 --- g error 0.6740736365318298]"
     ]
    },
    {
     "name": "stderr",
     "output_type": "stream",
     "text": [
      "\r",
      " 35%|███▌      | 7/20 [00:00<00:00, 20.62it/s, loss=d error: 1.3081569075584412 --- g error 0.6717444658279419]"
     ]
    },
    {
     "name": "stderr",
     "output_type": "stream",
     "text": [
      "\r",
      " 35%|███▌      | 7/20 [00:00<00:00, 20.62it/s, loss=d error: 1.2835661172866821 --- g error 0.6693441867828369]"
     ]
    },
    {
     "name": "stderr",
     "output_type": "stream",
     "text": [
      "\r",
      " 50%|█████     | 10/20 [00:00<00:00, 20.02it/s, loss=d error: 1.2835661172866821 --- g error 0.6693441867828369]"
     ]
    },
    {
     "name": "stderr",
     "output_type": "stream",
     "text": [
      "\r",
      " 50%|█████     | 10/20 [00:00<00:00, 20.02it/s, loss=d error: 1.2738604545593262 --- g error 0.6716009974479675]"
     ]
    },
    {
     "name": "stderr",
     "output_type": "stream",
     "text": [
      "\r",
      " 50%|█████     | 10/20 [00:00<00:00, 20.02it/s, loss=d error: 1.2625535726547241 --- g error 0.669849693775177] "
     ]
    },
    {
     "name": "stderr",
     "output_type": "stream",
     "text": [
      "\r",
      " 50%|█████     | 10/20 [00:00<00:00, 20.02it/s, loss=d error: 1.2395386695861816 --- g error 0.666027843952179]"
     ]
    },
    {
     "name": "stderr",
     "output_type": "stream",
     "text": [
      "\r",
      " 65%|██████▌   | 13/20 [00:00<00:00, 17.63it/s, loss=d error: 1.2395386695861816 --- g error 0.666027843952179]"
     ]
    },
    {
     "name": "stderr",
     "output_type": "stream",
     "text": [
      "\r",
      " 65%|██████▌   | 13/20 [00:00<00:00, 17.63it/s, loss=d error: 1.2236385643482208 --- g error 0.660860002040863]"
     ]
    },
    {
     "name": "stderr",
     "output_type": "stream",
     "text": [
      "\r",
      " 65%|██████▌   | 13/20 [00:00<00:00, 17.63it/s, loss=d error: 1.1865693628787994 --- g error 0.658073365688324]"
     ]
    },
    {
     "name": "stderr",
     "output_type": "stream",
     "text": [
      "\r",
      " 65%|██████▌   | 13/20 [00:00<00:00, 17.63it/s, loss=d error: 1.138480007648468 --- g error 0.657241940498352] "
     ]
    },
    {
     "name": "stderr",
     "output_type": "stream",
     "text": [
      "\r",
      " 80%|████████  | 16/20 [00:00<00:00, 18.38it/s, loss=d error: 1.138480007648468 --- g error 0.657241940498352]"
     ]
    },
    {
     "name": "stderr",
     "output_type": "stream",
     "text": [
      "\r",
      " 80%|████████  | 16/20 [00:00<00:00, 18.38it/s, loss=d error: 1.1035312712192535 --- g error 0.650731086730957]"
     ]
    },
    {
     "name": "stderr",
     "output_type": "stream",
     "text": [
      "\r",
      " 80%|████████  | 16/20 [00:00<00:00, 18.38it/s, loss=d error: 1.0813984870910645 --- g error 0.6380629539489746]"
     ]
    },
    {
     "name": "stderr",
     "output_type": "stream",
     "text": [
      "\r",
      " 80%|████████  | 16/20 [00:00<00:00, 18.38it/s, loss=d error: 1.0475611984729767 --- g error 0.6275395154953003]"
     ]
    },
    {
     "name": "stderr",
     "output_type": "stream",
     "text": [
      "\r",
      " 95%|█████████▌| 19/20 [00:00<00:00, 19.25it/s, loss=d error: 1.0475611984729767 --- g error 0.6275395154953003]"
     ]
    },
    {
     "name": "stderr",
     "output_type": "stream",
     "text": [
      "\r",
      " 95%|█████████▌| 19/20 [00:01<00:00, 19.25it/s, loss=d error: 1.0074158608913422 --- g error 0.6319008469581604]"
     ]
    },
    {
     "name": "stderr",
     "output_type": "stream",
     "text": [
      "\r",
      "100%|██████████| 20/20 [00:01<00:00, 19.21it/s, loss=d error: 1.0074158608913422 --- g error 0.6319008469581604]"
     ]
    },
    {
     "name": "stdout",
     "output_type": "stream",
     "text": [
      "."
     ]
    },
    {
     "name": "stderr",
     "output_type": "stream",
     "text": [
      "\n"
     ]
    },
    {
     "name": "stderr",
     "output_type": "stream",
     "text": [
      "\r",
      "  0%|          | 0/20 [00:00<?, ?it/s]"
     ]
    },
    {
     "name": "stderr",
     "output_type": "stream",
     "text": [
      "\r",
      "  0%|          | 0/20 [00:00<?, ?it/s, loss=d error: 1.3831514120101929 --- g error 0.6635958552360535]"
     ]
    },
    {
     "name": "stderr",
     "output_type": "stream",
     "text": [
      "\r",
      "  0%|          | 0/20 [00:00<?, ?it/s, loss=d error: 1.3803340792655945 --- g error 0.6586803197860718]"
     ]
    },
    {
     "name": "stderr",
     "output_type": "stream",
     "text": [
      "\r",
      "  0%|          | 0/20 [00:00<?, ?it/s, loss=d error: 1.3733397126197815 --- g error 0.6671733260154724]"
     ]
    },
    {
     "name": "stderr",
     "output_type": "stream",
     "text": [
      "\r",
      " 15%|█▌        | 3/20 [00:00<00:00, 20.70it/s, loss=d error: 1.3733397126197815 --- g error 0.6671733260154724]"
     ]
    },
    {
     "name": "stderr",
     "output_type": "stream",
     "text": [
      "\r",
      " 15%|█▌        | 3/20 [00:00<00:00, 20.70it/s, loss=d error: 1.3602598309516907 --- g error 0.6632756590843201]"
     ]
    },
    {
     "name": "stderr",
     "output_type": "stream",
     "text": [
      "\r",
      " 15%|█▌        | 3/20 [00:00<00:00, 20.70it/s, loss=d error: 1.360340416431427 --- g error 0.6671223640441895] "
     ]
    },
    {
     "name": "stderr",
     "output_type": "stream",
     "text": [
      "\r",
      " 15%|█▌        | 3/20 [00:00<00:00, 20.70it/s, loss=d error: 1.3488725423812866 --- g error 0.6640968322753906]"
     ]
    },
    {
     "name": "stderr",
     "output_type": "stream",
     "text": [
      "\r",
      " 30%|███       | 6/20 [00:00<00:00, 19.86it/s, loss=d error: 1.3488725423812866 --- g error 0.6640968322753906]"
     ]
    },
    {
     "name": "stderr",
     "output_type": "stream",
     "text": [
      "\r",
      " 30%|███       | 6/20 [00:00<00:00, 19.86it/s, loss=d error: 1.3348518013954163 --- g error 0.6660646200180054]"
     ]
    },
    {
     "name": "stderr",
     "output_type": "stream",
     "text": [
      "\r",
      " 30%|███       | 6/20 [00:00<00:00, 19.86it/s, loss=d error: 1.3235613107681274 --- g error 0.6687305569648743]"
     ]
    },
    {
     "name": "stderr",
     "output_type": "stream",
     "text": [
      "\r",
      " 30%|███       | 6/20 [00:00<00:00, 19.86it/s, loss=d error: 1.3090682625770569 --- g error 0.671521782875061] "
     ]
    },
    {
     "name": "stderr",
     "output_type": "stream",
     "text": [
      "\r",
      " 45%|████▌     | 9/20 [00:00<00:00, 19.84it/s, loss=d error: 1.3090682625770569 --- g error 0.671521782875061]"
     ]
    },
    {
     "name": "stderr",
     "output_type": "stream",
     "text": [
      "\r",
      " 45%|████▌     | 9/20 [00:00<00:00, 19.84it/s, loss=d error: 1.2909042239189148 --- g error 0.6739394068717957]"
     ]
    },
    {
     "name": "stderr",
     "output_type": "stream",
     "text": [
      "\r",
      " 45%|████▌     | 9/20 [00:00<00:00, 19.84it/s, loss=d error: 1.2621224522590637 --- g error 0.6756666302680969]"
     ]
    },
    {
     "name": "stderr",
     "output_type": "stream",
     "text": [
      "\r",
      " 45%|████▌     | 9/20 [00:00<00:00, 19.84it/s, loss=d error: 1.248574674129486 --- g error 0.6765629053115845] "
     ]
    },
    {
     "name": "stderr",
     "output_type": "stream",
     "text": [
      "\r",
      " 60%|██████    | 12/20 [00:00<00:00, 20.13it/s, loss=d error: 1.248574674129486 --- g error 0.6765629053115845]"
     ]
    },
    {
     "name": "stderr",
     "output_type": "stream",
     "text": [
      "\r",
      " 60%|██████    | 12/20 [00:00<00:00, 20.13it/s, loss=d error: 1.2212899327278137 --- g error 0.6848775148391724]"
     ]
    },
    {
     "name": "stderr",
     "output_type": "stream",
     "text": [
      "\r",
      " 60%|██████    | 12/20 [00:00<00:00, 20.13it/s, loss=d error: 1.180395931005478 --- g error 0.687483012676239]  "
     ]
    },
    {
     "name": "stderr",
     "output_type": "stream",
     "text": [
      "\r",
      " 60%|██████    | 12/20 [00:00<00:00, 20.13it/s, loss=d error: 1.1493030786514282 --- g error 0.6888547539710999]"
     ]
    },
    {
     "name": "stderr",
     "output_type": "stream",
     "text": [
      "\r",
      " 75%|███████▌  | 15/20 [00:00<00:00, 20.09it/s, loss=d error: 1.1493030786514282 --- g error 0.6888547539710999]"
     ]
    },
    {
     "name": "stderr",
     "output_type": "stream",
     "text": [
      "\r",
      " 75%|███████▌  | 15/20 [00:00<00:00, 20.09it/s, loss=d error: 1.1197987794876099 --- g error 0.6935972571372986]"
     ]
    },
    {
     "name": "stderr",
     "output_type": "stream",
     "text": [
      "\r",
      " 75%|███████▌  | 15/20 [00:00<00:00, 20.09it/s, loss=d error: 1.0445974171161652 --- g error 0.7054198980331421]"
     ]
    },
    {
     "name": "stderr",
     "output_type": "stream",
     "text": [
      "\r",
      " 75%|███████▌  | 15/20 [00:00<00:00, 20.09it/s, loss=d error: 1.0372168719768524 --- g error 0.7102017998695374]"
     ]
    },
    {
     "name": "stderr",
     "output_type": "stream",
     "text": [
      "\r",
      " 90%|█████████ | 18/20 [00:00<00:00, 20.25it/s, loss=d error: 1.0372168719768524 --- g error 0.7102017998695374]"
     ]
    },
    {
     "name": "stderr",
     "output_type": "stream",
     "text": [
      "\r",
      " 90%|█████████ | 18/20 [00:00<00:00, 20.25it/s, loss=d error: 0.9556586742401123 --- g error 0.715208888053894] "
     ]
    },
    {
     "name": "stderr",
     "output_type": "stream",
     "text": [
      "\r",
      " 90%|█████████ | 18/20 [00:00<00:00, 20.25it/s, loss=d error: 0.9264030754566193 --- g error 0.7234748601913452]"
     ]
    },
    {
     "name": "stderr",
     "output_type": "stream",
     "text": [
      "\r",
      "100%|██████████| 20/20 [00:00<00:00, 20.14it/s, loss=d error: 0.9264030754566193 --- g error 0.7234748601913452]"
     ]
    },
    {
     "name": "stdout",
     "output_type": "stream",
     "text": [
      "."
     ]
    },
    {
     "name": "stderr",
     "output_type": "stream",
     "text": [
      "\n"
     ]
    },
    {
     "name": "stderr",
     "output_type": "stream",
     "text": [
      "\r",
      "  0%|          | 0/20 [00:00<?, ?it/s]"
     ]
    },
    {
     "name": "stderr",
     "output_type": "stream",
     "text": [
      "\r",
      "  0%|          | 0/20 [00:00<?, ?it/s, loss=d error: 1.3844237923622131 --- g error 0.7242195010185242]"
     ]
    },
    {
     "name": "stderr",
     "output_type": "stream",
     "text": [
      "\r",
      "  0%|          | 0/20 [00:00<?, ?it/s, loss=d error: 1.3795557618141174 --- g error 0.722145140171051] "
     ]
    },
    {
     "name": "stderr",
     "output_type": "stream",
     "text": [
      "\r",
      "  0%|          | 0/20 [00:00<?, ?it/s, loss=d error: 1.371669054031372 --- g error 0.7197983860969543]"
     ]
    },
    {
     "name": "stderr",
     "output_type": "stream",
     "text": [
      "\r",
      " 15%|█▌        | 3/20 [00:00<00:00, 21.41it/s, loss=d error: 1.371669054031372 --- g error 0.7197983860969543]"
     ]
    },
    {
     "name": "stderr",
     "output_type": "stream",
     "text": [
      "\r",
      " 15%|█▌        | 3/20 [00:00<00:00, 21.41it/s, loss=d error: 1.3680901527404785 --- g error 0.7206952571868896]"
     ]
    },
    {
     "name": "stderr",
     "output_type": "stream",
     "text": [
      "\r",
      " 15%|█▌        | 3/20 [00:00<00:00, 21.41it/s, loss=d error: 1.3649026155471802 --- g error 0.7217698097229004]"
     ]
    },
    {
     "name": "stderr",
     "output_type": "stream",
     "text": [
      "\r",
      " 15%|█▌        | 3/20 [00:00<00:00, 21.41it/s, loss=d error: 1.3494666814804077 --- g error 0.7217453122138977]"
     ]
    },
    {
     "name": "stderr",
     "output_type": "stream",
     "text": [
      "\r",
      " 30%|███       | 6/20 [00:00<00:00, 19.08it/s, loss=d error: 1.3494666814804077 --- g error 0.7217453122138977]"
     ]
    },
    {
     "name": "stderr",
     "output_type": "stream",
     "text": [
      "\r",
      " 30%|███       | 6/20 [00:00<00:00, 19.08it/s, loss=d error: 1.342399537563324 --- g error 0.7197632789611816] "
     ]
    },
    {
     "name": "stderr",
     "output_type": "stream",
     "text": [
      "\r",
      " 30%|███       | 6/20 [00:00<00:00, 19.08it/s, loss=d error: 1.3345755338668823 --- g error 0.7196265459060669]"
     ]
    },
    {
     "name": "stderr",
     "output_type": "stream",
     "text": [
      "\r",
      " 40%|████      | 8/20 [00:00<00:00, 19.03it/s, loss=d error: 1.3345755338668823 --- g error 0.7196265459060669]"
     ]
    },
    {
     "name": "stderr",
     "output_type": "stream",
     "text": [
      "\r",
      " 40%|████      | 8/20 [00:00<00:00, 19.03it/s, loss=d error: 1.3169875741004944 --- g error 0.7193952798843384]"
     ]
    },
    {
     "name": "stderr",
     "output_type": "stream",
     "text": [
      "\r",
      " 40%|████      | 8/20 [00:00<00:00, 19.03it/s, loss=d error: 1.3052741885185242 --- g error 0.7182689905166626]"
     ]
    },
    {
     "name": "stderr",
     "output_type": "stream",
     "text": [
      "\r",
      " 50%|█████     | 10/20 [00:00<00:00, 19.29it/s, loss=d error: 1.3052741885185242 --- g error 0.7182689905166626]"
     ]
    },
    {
     "name": "stderr",
     "output_type": "stream",
     "text": [
      "\r",
      " 50%|█████     | 10/20 [00:00<00:00, 19.29it/s, loss=d error: 1.282952070236206 --- g error 0.7191331386566162] "
     ]
    },
    {
     "name": "stderr",
     "output_type": "stream",
     "text": [
      "\r",
      " 50%|█████     | 10/20 [00:00<00:00, 19.29it/s, loss=d error: 1.2562844157218933 --- g error 0.721959114074707]"
     ]
    },
    {
     "name": "stderr",
     "output_type": "stream",
     "text": [
      "\r",
      " 60%|██████    | 12/20 [00:00<00:00, 17.15it/s, loss=d error: 1.2562844157218933 --- g error 0.721959114074707]"
     ]
    },
    {
     "name": "stderr",
     "output_type": "stream",
     "text": [
      "\r",
      " 60%|██████    | 12/20 [00:00<00:00, 17.15it/s, loss=d error: 1.2354568839073181 --- g error 0.7198753356933594]"
     ]
    },
    {
     "name": "stderr",
     "output_type": "stream",
     "text": [
      "\r",
      " 60%|██████    | 12/20 [00:00<00:00, 17.15it/s, loss=d error: 1.1934240460395813 --- g error 0.7196512818336487]"
     ]
    },
    {
     "name": "stderr",
     "output_type": "stream",
     "text": [
      "\r",
      " 70%|███████   | 14/20 [00:00<00:00, 16.62it/s, loss=d error: 1.1934240460395813 --- g error 0.7196512818336487]"
     ]
    },
    {
     "name": "stderr",
     "output_type": "stream",
     "text": [
      "\r",
      " 70%|███████   | 14/20 [00:00<00:00, 16.62it/s, loss=d error: 1.1550652384757996 --- g error 0.717266857624054] "
     ]
    },
    {
     "name": "stderr",
     "output_type": "stream",
     "text": [
      "\r",
      " 70%|███████   | 14/20 [00:00<00:00, 16.62it/s, loss=d error: 1.1274160146713257 --- g error 0.7206555008888245]"
     ]
    },
    {
     "name": "stderr",
     "output_type": "stream",
     "text": [
      "\r",
      " 70%|███████   | 14/20 [00:00<00:00, 16.62it/s, loss=d error: 1.0610316693782806 --- g error 0.7202968001365662]"
     ]
    },
    {
     "name": "stderr",
     "output_type": "stream",
     "text": [
      "\r",
      " 85%|████████▌ | 17/20 [00:00<00:00, 19.05it/s, loss=d error: 1.0610316693782806 --- g error 0.7202968001365662]"
     ]
    },
    {
     "name": "stderr",
     "output_type": "stream",
     "text": [
      "\r",
      " 85%|████████▌ | 17/20 [00:00<00:00, 19.05it/s, loss=d error: 1.023817539215088 --- g error 0.7124051451683044] "
     ]
    },
    {
     "name": "stderr",
     "output_type": "stream",
     "text": [
      "\r",
      " 85%|████████▌ | 17/20 [00:00<00:00, 19.05it/s, loss=d error: 0.9761340916156769 --- g error 0.7195191979408264]"
     ]
    },
    {
     "name": "stderr",
     "output_type": "stream",
     "text": [
      "\r",
      " 85%|████████▌ | 17/20 [00:01<00:00, 19.05it/s, loss=d error: 0.933676540851593 --- g error 0.7125601768493652] "
     ]
    },
    {
     "name": "stderr",
     "output_type": "stream",
     "text": [
      "\r",
      "100%|██████████| 20/20 [00:01<00:00, 21.35it/s, loss=d error: 0.933676540851593 --- g error 0.7125601768493652]"
     ]
    },
    {
     "name": "stderr",
     "output_type": "stream",
     "text": [
      "\r",
      "100%|██████████| 20/20 [00:01<00:00, 19.54it/s, loss=d error: 0.933676540851593 --- g error 0.7125601768493652]"
     ]
    },
    {
     "name": "stderr",
     "output_type": "stream",
     "text": [
      "\n"
     ]
    },
    {
     "name": "stdout",
     "output_type": "stream",
     "text": [
      "."
     ]
    },
    {
     "name": "stderr",
     "output_type": "stream",
     "text": [
      "\r",
      "  0%|          | 0/20 [00:00<?, ?it/s]"
     ]
    },
    {
     "name": "stderr",
     "output_type": "stream",
     "text": [
      "\r",
      "  0%|          | 0/20 [00:00<?, ?it/s, loss=d error: 1.386781930923462 --- g error 0.6383228898048401]"
     ]
    },
    {
     "name": "stderr",
     "output_type": "stream",
     "text": [
      "\r",
      "  0%|          | 0/20 [00:00<?, ?it/s, loss=d error: 1.3805499076843262 --- g error 0.6412646770477295]"
     ]
    },
    {
     "name": "stderr",
     "output_type": "stream",
     "text": [
      "\r",
      "  0%|          | 0/20 [00:00<?, ?it/s, loss=d error: 1.368386685848236 --- g error 0.6423579454421997] "
     ]
    },
    {
     "name": "stderr",
     "output_type": "stream",
     "text": [
      "\r",
      " 15%|█▌        | 3/20 [00:00<00:00, 24.52it/s, loss=d error: 1.368386685848236 --- g error 0.6423579454421997]"
     ]
    },
    {
     "name": "stderr",
     "output_type": "stream",
     "text": [
      "\r",
      " 15%|█▌        | 3/20 [00:00<00:00, 24.52it/s, loss=d error: 1.3549551367759705 --- g error 0.6403234004974365]"
     ]
    },
    {
     "name": "stderr",
     "output_type": "stream",
     "text": [
      "\r",
      " 15%|█▌        | 3/20 [00:00<00:00, 24.52it/s, loss=d error: 1.3509656190872192 --- g error 0.6413462162017822]"
     ]
    },
    {
     "name": "stderr",
     "output_type": "stream",
     "text": [
      "\r",
      " 15%|█▌        | 3/20 [00:00<00:00, 24.52it/s, loss=d error: 1.3357807397842407 --- g error 0.6468863487243652]"
     ]
    },
    {
     "name": "stderr",
     "output_type": "stream",
     "text": [
      "\r",
      " 30%|███       | 6/20 [00:00<00:00, 25.96it/s, loss=d error: 1.3357807397842407 --- g error 0.6468863487243652]"
     ]
    },
    {
     "name": "stderr",
     "output_type": "stream",
     "text": [
      "\r",
      " 30%|███       | 6/20 [00:00<00:00, 25.96it/s, loss=d error: 1.3168772459030151 --- g error 0.6441540122032166]"
     ]
    },
    {
     "name": "stderr",
     "output_type": "stream",
     "text": [
      "\r",
      " 30%|███       | 6/20 [00:00<00:00, 25.96it/s, loss=d error: 1.3073469996452332 --- g error 0.6439111828804016]"
     ]
    },
    {
     "name": "stderr",
     "output_type": "stream",
     "text": [
      "\r",
      " 30%|███       | 6/20 [00:00<00:00, 25.96it/s, loss=d error: 1.2801074981689453 --- g error 0.644122838973999] "
     ]
    },
    {
     "name": "stderr",
     "output_type": "stream",
     "text": [
      "\r",
      " 45%|████▌     | 9/20 [00:00<00:00, 24.09it/s, loss=d error: 1.2801074981689453 --- g error 0.644122838973999]"
     ]
    },
    {
     "name": "stderr",
     "output_type": "stream",
     "text": [
      "\r",
      " 45%|████▌     | 9/20 [00:00<00:00, 24.09it/s, loss=d error: 1.2566978931427002 --- g error 0.6444289684295654]"
     ]
    },
    {
     "name": "stderr",
     "output_type": "stream",
     "text": [
      "\r",
      " 45%|████▌     | 9/20 [00:00<00:00, 24.09it/s, loss=d error: 1.238399863243103 --- g error 0.6464552879333496] "
     ]
    },
    {
     "name": "stderr",
     "output_type": "stream",
     "text": [
      "\r",
      " 45%|████▌     | 9/20 [00:00<00:00, 24.09it/s, loss=d error: 1.1853943765163422 --- g error 0.6445748805999756]"
     ]
    },
    {
     "name": "stderr",
     "output_type": "stream",
     "text": [
      "\r",
      " 60%|██████    | 12/20 [00:00<00:00, 24.54it/s, loss=d error: 1.1853943765163422 --- g error 0.6445748805999756]"
     ]
    },
    {
     "name": "stderr",
     "output_type": "stream",
     "text": [
      "\r",
      " 60%|██████    | 12/20 [00:00<00:00, 24.54it/s, loss=d error: 1.1698485314846039 --- g error 0.645366907119751] "
     ]
    },
    {
     "name": "stderr",
     "output_type": "stream",
     "text": [
      "\r",
      " 60%|██████    | 12/20 [00:00<00:00, 24.54it/s, loss=d error: 1.1403321325778961 --- g error 0.645220935344696]"
     ]
    },
    {
     "name": "stderr",
     "output_type": "stream",
     "text": [
      "\r",
      " 60%|██████    | 12/20 [00:00<00:00, 24.54it/s, loss=d error: 1.0691401660442352 --- g error 0.6428408026695251]"
     ]
    },
    {
     "name": "stderr",
     "output_type": "stream",
     "text": [
      "\r",
      " 75%|███████▌  | 15/20 [00:00<00:00, 23.22it/s, loss=d error: 1.0691401660442352 --- g error 0.6428408026695251]"
     ]
    },
    {
     "name": "stderr",
     "output_type": "stream",
     "text": [
      "\r",
      " 75%|███████▌  | 15/20 [00:00<00:00, 23.22it/s, loss=d error: 1.032252460718155 --- g error 0.6448862552642822] "
     ]
    },
    {
     "name": "stderr",
     "output_type": "stream",
     "text": [
      "\r",
      " 75%|███████▌  | 15/20 [00:00<00:00, 23.22it/s, loss=d error: 0.9913657754659653 --- g error 0.6402593851089478]"
     ]
    },
    {
     "name": "stderr",
     "output_type": "stream",
     "text": [
      "\r",
      " 75%|███████▌  | 15/20 [00:00<00:00, 23.22it/s, loss=d error: 0.9709626287221909 --- g error 0.6386401057243347]"
     ]
    },
    {
     "name": "stderr",
     "output_type": "stream",
     "text": [
      "\r",
      " 90%|█████████ | 18/20 [00:00<00:00, 21.91it/s, loss=d error: 0.9709626287221909 --- g error 0.6386401057243347]"
     ]
    },
    {
     "name": "stderr",
     "output_type": "stream",
     "text": [
      "\r",
      " 90%|█████████ | 18/20 [00:00<00:00, 21.91it/s, loss=d error: 0.9181219935417175 --- g error 0.6468528509140015]"
     ]
    },
    {
     "name": "stderr",
     "output_type": "stream",
     "text": [
      "\r",
      " 90%|█████████ | 18/20 [00:00<00:00, 21.91it/s, loss=d error: 0.8808568865060806 --- g error 0.6482776999473572]"
     ]
    },
    {
     "name": "stderr",
     "output_type": "stream",
     "text": [
      "\r",
      "100%|██████████| 20/20 [00:00<00:00, 22.87it/s, loss=d error: 0.8808568865060806 --- g error 0.6482776999473572]"
     ]
    },
    {
     "name": "stderr",
     "output_type": "stream",
     "text": [
      "\n"
     ]
    },
    {
     "name": "stdout",
     "output_type": "stream",
     "text": [
      "."
     ]
    },
    {
     "name": "stderr",
     "output_type": "stream",
     "text": [
      "\r",
      "  0%|          | 0/20 [00:00<?, ?it/s]"
     ]
    },
    {
     "name": "stderr",
     "output_type": "stream",
     "text": [
      "\r",
      "  0%|          | 0/20 [00:00<?, ?it/s, loss=d error: 1.3834244012832642 --- g error 0.6714419722557068]"
     ]
    },
    {
     "name": "stderr",
     "output_type": "stream",
     "text": [
      "\r",
      "  0%|          | 0/20 [00:00<?, ?it/s, loss=d error: 1.3811947107315063 --- g error 0.6724600195884705]"
     ]
    },
    {
     "name": "stderr",
     "output_type": "stream",
     "text": [
      "\r",
      "  0%|          | 0/20 [00:00<?, ?it/s, loss=d error: 1.3703265190124512 --- g error 0.6719879508018494]"
     ]
    },
    {
     "name": "stderr",
     "output_type": "stream",
     "text": [
      "\r",
      " 15%|█▌        | 3/20 [00:00<00:00, 21.80it/s, loss=d error: 1.3703265190124512 --- g error 0.6719879508018494]"
     ]
    },
    {
     "name": "stderr",
     "output_type": "stream",
     "text": [
      "\r",
      " 15%|█▌        | 3/20 [00:00<00:00, 21.80it/s, loss=d error: 1.3628862500190735 --- g error 0.6744287014007568]"
     ]
    },
    {
     "name": "stderr",
     "output_type": "stream",
     "text": [
      "\r",
      " 15%|█▌        | 3/20 [00:00<00:00, 21.80it/s, loss=d error: 1.3558337688446045 --- g error 0.6756482720375061]"
     ]
    },
    {
     "name": "stderr",
     "output_type": "stream",
     "text": [
      "\r",
      " 15%|█▌        | 3/20 [00:00<00:00, 21.80it/s, loss=d error: 1.3477622270584106 --- g error 0.6789804697036743]"
     ]
    },
    {
     "name": "stderr",
     "output_type": "stream",
     "text": [
      "\r",
      " 30%|███       | 6/20 [00:00<00:00, 21.21it/s, loss=d error: 1.3477622270584106 --- g error 0.6789804697036743]"
     ]
    },
    {
     "name": "stderr",
     "output_type": "stream",
     "text": [
      "\r",
      " 30%|███       | 6/20 [00:00<00:00, 21.21it/s, loss=d error: 1.3340089321136475 --- g error 0.6773555278778076]"
     ]
    },
    {
     "name": "stderr",
     "output_type": "stream",
     "text": [
      "\r",
      " 30%|███       | 6/20 [00:00<00:00, 21.21it/s, loss=d error: 1.32407546043396 --- g error 0.6806873083114624]  "
     ]
    },
    {
     "name": "stderr",
     "output_type": "stream",
     "text": [
      "\r",
      " 30%|███       | 6/20 [00:00<00:00, 21.21it/s, loss=d error: 1.3095647692680359 --- g error 0.683093786239624]"
     ]
    },
    {
     "name": "stderr",
     "output_type": "stream",
     "text": [
      "\r",
      " 45%|████▌     | 9/20 [00:00<00:00, 20.10it/s, loss=d error: 1.3095647692680359 --- g error 0.683093786239624]"
     ]
    },
    {
     "name": "stderr",
     "output_type": "stream",
     "text": [
      "\r",
      " 45%|████▌     | 9/20 [00:00<00:00, 20.10it/s, loss=d error: 1.292355239391327 --- g error 0.6826976537704468]"
     ]
    },
    {
     "name": "stderr",
     "output_type": "stream",
     "text": [
      "\r",
      " 45%|████▌     | 9/20 [00:00<00:00, 20.10it/s, loss=d error: 1.279910922050476 --- g error 0.6854133605957031]"
     ]
    },
    {
     "name": "stderr",
     "output_type": "stream",
     "text": [
      "\r",
      " 45%|████▌     | 9/20 [00:00<00:00, 20.10it/s, loss=d error: 1.257274329662323 --- g error 0.6852787733078003]"
     ]
    },
    {
     "name": "stderr",
     "output_type": "stream",
     "text": [
      "\r",
      " 60%|██████    | 12/20 [00:00<00:00, 20.16it/s, loss=d error: 1.257274329662323 --- g error 0.6852787733078003]"
     ]
    },
    {
     "name": "stderr",
     "output_type": "stream",
     "text": [
      "\r",
      " 60%|██████    | 12/20 [00:00<00:00, 20.16it/s, loss=d error: 1.2352450489997864 --- g error 0.6879414916038513]"
     ]
    },
    {
     "name": "stderr",
     "output_type": "stream",
     "text": [
      "\r",
      " 60%|██████    | 12/20 [00:00<00:00, 20.16it/s, loss=d error: 1.199109524488449 --- g error 0.6908550262451172] "
     ]
    },
    {
     "name": "stderr",
     "output_type": "stream",
     "text": [
      "\r",
      " 60%|██████    | 12/20 [00:00<00:00, 20.16it/s, loss=d error: 1.155831515789032 --- g error 0.6922147870063782]"
     ]
    },
    {
     "name": "stderr",
     "output_type": "stream",
     "text": [
      "\r",
      " 75%|███████▌  | 15/20 [00:00<00:00, 20.34it/s, loss=d error: 1.155831515789032 --- g error 0.6922147870063782]"
     ]
    },
    {
     "name": "stderr",
     "output_type": "stream",
     "text": [
      "\r",
      " 75%|███████▌  | 15/20 [00:00<00:00, 20.34it/s, loss=d error: 1.141730934381485 --- g error 0.6941748261451721]"
     ]
    },
    {
     "name": "stderr",
     "output_type": "stream",
     "text": [
      "\r",
      " 75%|███████▌  | 15/20 [00:00<00:00, 20.34it/s, loss=d error: 1.085479974746704 --- g error 0.6930266618728638]"
     ]
    },
    {
     "name": "stderr",
     "output_type": "stream",
     "text": [
      "\r",
      " 75%|███████▌  | 15/20 [00:00<00:00, 20.34it/s, loss=d error: 1.0596104264259338 --- g error 0.6981568336486816]"
     ]
    },
    {
     "name": "stderr",
     "output_type": "stream",
     "text": [
      "\r",
      " 90%|█████████ | 18/20 [00:00<00:00, 20.55it/s, loss=d error: 1.0596104264259338 --- g error 0.6981568336486816]"
     ]
    },
    {
     "name": "stderr",
     "output_type": "stream",
     "text": [
      "\r",
      " 90%|█████████ | 18/20 [00:00<00:00, 20.55it/s, loss=d error: 1.0135767459869385 --- g error 0.7045974731445312]"
     ]
    },
    {
     "name": "stderr",
     "output_type": "stream",
     "text": [
      "\r",
      " 90%|█████████ | 18/20 [00:00<00:00, 20.55it/s, loss=d error: 0.9663996994495392 --- g error 0.7042722105979919]"
     ]
    },
    {
     "name": "stderr",
     "output_type": "stream",
     "text": [
      "\r",
      "100%|██████████| 20/20 [00:00<00:00, 20.51it/s, loss=d error: 0.9663996994495392 --- g error 0.7042722105979919]"
     ]
    },
    {
     "name": "stdout",
     "output_type": "stream",
     "text": [
      "   Trial 20/20..."
     ]
    },
    {
     "name": "stderr",
     "output_type": "stream",
     "text": [
      "\n"
     ]
    },
    {
     "name": "stderr",
     "output_type": "stream",
     "text": [
      "\r",
      "  0%|          | 0/20 [00:00<?, ?it/s]"
     ]
    },
    {
     "name": "stderr",
     "output_type": "stream",
     "text": [
      "\r",
      "  0%|          | 0/20 [00:00<?, ?it/s, loss=d error: 1.3927087187767029 --- g error 0.6790982484817505]"
     ]
    },
    {
     "name": "stderr",
     "output_type": "stream",
     "text": [
      "\r",
      "  0%|          | 0/20 [00:00<?, ?it/s, loss=d error: 1.3852741718292236 --- g error 0.679491400718689] "
     ]
    },
    {
     "name": "stderr",
     "output_type": "stream",
     "text": [
      "\r",
      "  0%|          | 0/20 [00:00<?, ?it/s, loss=d error: 1.3822878003120422 --- g error 0.679306149482727]"
     ]
    },
    {
     "name": "stderr",
     "output_type": "stream",
     "text": [
      "\r",
      " 15%|█▌        | 3/20 [00:00<00:00, 19.89it/s, loss=d error: 1.3822878003120422 --- g error 0.679306149482727]"
     ]
    },
    {
     "name": "stderr",
     "output_type": "stream",
     "text": [
      "\r",
      " 15%|█▌        | 3/20 [00:00<00:00, 19.89it/s, loss=d error: 1.377139687538147 --- g error 0.6814882755279541]"
     ]
    },
    {
     "name": "stderr",
     "output_type": "stream",
     "text": [
      "\r",
      " 15%|█▌        | 3/20 [00:00<00:00, 19.89it/s, loss=d error: 1.3679797649383545 --- g error 0.681350588798523]"
     ]
    },
    {
     "name": "stderr",
     "output_type": "stream",
     "text": [
      "\r",
      " 15%|█▌        | 3/20 [00:00<00:00, 19.89it/s, loss=d error: 1.3605996370315552 --- g error 0.6832036375999451]"
     ]
    },
    {
     "name": "stderr",
     "output_type": "stream",
     "text": [
      "\r",
      " 30%|███       | 6/20 [00:00<00:00, 20.65it/s, loss=d error: 1.3605996370315552 --- g error 0.6832036375999451]"
     ]
    },
    {
     "name": "stderr",
     "output_type": "stream",
     "text": [
      "\r",
      " 30%|███       | 6/20 [00:00<00:00, 20.65it/s, loss=d error: 1.3483207821846008 --- g error 0.6826303601264954]"
     ]
    },
    {
     "name": "stderr",
     "output_type": "stream",
     "text": [
      "\r",
      " 30%|███       | 6/20 [00:00<00:00, 20.65it/s, loss=d error: 1.3408434987068176 --- g error 0.6828522682189941]"
     ]
    },
    {
     "name": "stderr",
     "output_type": "stream",
     "text": [
      "\r",
      " 30%|███       | 6/20 [00:00<00:00, 20.65it/s, loss=d error: 1.3306745886802673 --- g error 0.6820374131202698]"
     ]
    },
    {
     "name": "stderr",
     "output_type": "stream",
     "text": [
      "\r",
      " 45%|████▌     | 9/20 [00:00<00:00, 21.14it/s, loss=d error: 1.3306745886802673 --- g error 0.6820374131202698]"
     ]
    },
    {
     "name": "stderr",
     "output_type": "stream",
     "text": [
      "\r",
      " 45%|████▌     | 9/20 [00:00<00:00, 21.14it/s, loss=d error: 1.3225152492523193 --- g error 0.6826727390289307]"
     ]
    },
    {
     "name": "stderr",
     "output_type": "stream",
     "text": [
      "\r",
      " 45%|████▌     | 9/20 [00:00<00:00, 21.14it/s, loss=d error: 1.2946054339408875 --- g error 0.682202935218811] "
     ]
    },
    {
     "name": "stderr",
     "output_type": "stream",
     "text": [
      "\r",
      " 45%|████▌     | 9/20 [00:00<00:00, 21.14it/s, loss=d error: 1.2877339720726013 --- g error 0.6838918924331665]"
     ]
    },
    {
     "name": "stderr",
     "output_type": "stream",
     "text": [
      "\r",
      " 60%|██████    | 12/20 [00:00<00:00, 20.83it/s, loss=d error: 1.2877339720726013 --- g error 0.6838918924331665]"
     ]
    },
    {
     "name": "stderr",
     "output_type": "stream",
     "text": [
      "\r",
      " 60%|██████    | 12/20 [00:00<00:00, 20.83it/s, loss=d error: 1.2620922327041626 --- g error 0.6835336685180664]"
     ]
    },
    {
     "name": "stderr",
     "output_type": "stream",
     "text": [
      "\r",
      " 60%|██████    | 12/20 [00:00<00:00, 20.83it/s, loss=d error: 1.2349658012390137 --- g error 0.6857762932777405]"
     ]
    },
    {
     "name": "stderr",
     "output_type": "stream",
     "text": [
      "\r",
      " 60%|██████    | 12/20 [00:00<00:00, 20.83it/s, loss=d error: 1.2006385028362274 --- g error 0.6820440888404846]"
     ]
    },
    {
     "name": "stderr",
     "output_type": "stream",
     "text": [
      "\r",
      " 75%|███████▌  | 15/20 [00:00<00:00, 20.47it/s, loss=d error: 1.2006385028362274 --- g error 0.6820440888404846]"
     ]
    },
    {
     "name": "stderr",
     "output_type": "stream",
     "text": [
      "\r",
      " 75%|███████▌  | 15/20 [00:00<00:00, 20.47it/s, loss=d error: 1.1817844808101654 --- g error 0.6811385750770569]"
     ]
    },
    {
     "name": "stderr",
     "output_type": "stream",
     "text": [
      "\r",
      " 75%|███████▌  | 15/20 [00:00<00:00, 20.47it/s, loss=d error: 1.1327993273735046 --- g error 0.6814848780632019]"
     ]
    },
    {
     "name": "stderr",
     "output_type": "stream",
     "text": [
      "\r",
      " 75%|███████▌  | 15/20 [00:00<00:00, 20.47it/s, loss=d error: 1.0871939659118652 --- g error 0.6767248511314392]"
     ]
    },
    {
     "name": "stderr",
     "output_type": "stream",
     "text": [
      "\r",
      " 90%|█████████ | 18/20 [00:00<00:00, 21.10it/s, loss=d error: 1.0871939659118652 --- g error 0.6767248511314392]"
     ]
    },
    {
     "name": "stderr",
     "output_type": "stream",
     "text": [
      "\r",
      " 90%|█████████ | 18/20 [00:00<00:00, 21.10it/s, loss=d error: 1.0622522234916687 --- g error 0.6815208792686462]"
     ]
    },
    {
     "name": "stderr",
     "output_type": "stream",
     "text": [
      "\r",
      " 90%|█████████ | 18/20 [00:00<00:00, 21.10it/s, loss=d error: 1.0172463655471802 --- g error 0.6814267635345459]"
     ]
    },
    {
     "name": "stderr",
     "output_type": "stream",
     "text": [
      "\r",
      "100%|██████████| 20/20 [00:00<00:00, 20.74it/s, loss=d error: 1.0172463655471802 --- g error 0.6814267635345459]"
     ]
    },
    {
     "name": "stderr",
     "output_type": "stream",
     "text": [
      "\n"
     ]
    },
    {
     "name": "stdout",
     "output_type": "stream",
     "text": [
      "\n",
      "SUCCESS: Quick optimization complete!\n",
      "Best score: 0.6904\n",
      "   - Utility: 0.815\n",
      "   - Similarity: 0.503\n",
      "\n",
      "[5/5] QUICK TUNING TABLEGAN\n",
      "-----------------------------------\n",
      "Quick optimizing...\n",
      "   Trial 1/20..."
     ]
    },
    {
     "name": "stdout",
     "output_type": "stream",
     "text": [
      "."
     ]
    },
    {
     "name": "stdout",
     "output_type": "stream",
     "text": [
      "."
     ]
    },
    {
     "name": "stdout",
     "output_type": "stream",
     "text": [
      "."
     ]
    },
    {
     "name": "stdout",
     "output_type": "stream",
     "text": [
      "   Trial 5/20..."
     ]
    },
    {
     "name": "stdout",
     "output_type": "stream",
     "text": [
      "."
     ]
    },
    {
     "name": "stdout",
     "output_type": "stream",
     "text": [
      "."
     ]
    },
    {
     "name": "stdout",
     "output_type": "stream",
     "text": [
      "."
     ]
    },
    {
     "name": "stdout",
     "output_type": "stream",
     "text": [
      "."
     ]
    },
    {
     "name": "stdout",
     "output_type": "stream",
     "text": [
      "   Trial 10/20..."
     ]
    },
    {
     "name": "stdout",
     "output_type": "stream",
     "text": [
      "."
     ]
    },
    {
     "name": "stdout",
     "output_type": "stream",
     "text": [
      "."
     ]
    },
    {
     "name": "stdout",
     "output_type": "stream",
     "text": [
      "."
     ]
    },
    {
     "name": "stdout",
     "output_type": "stream",
     "text": [
      "."
     ]
    },
    {
     "name": "stdout",
     "output_type": "stream",
     "text": [
      "   Trial 15/20..."
     ]
    },
    {
     "name": "stdout",
     "output_type": "stream",
     "text": [
      "."
     ]
    },
    {
     "name": "stdout",
     "output_type": "stream",
     "text": [
      "."
     ]
    },
    {
     "name": "stdout",
     "output_type": "stream",
     "text": [
      "."
     ]
    },
    {
     "name": "stdout",
     "output_type": "stream",
     "text": [
      "."
     ]
    },
    {
     "name": "stdout",
     "output_type": "stream",
     "text": [
      "   Trial 20/20..."
     ]
    },
    {
     "name": "stdout",
     "output_type": "stream",
     "text": [
      "\n",
      "SUCCESS: Quick optimization complete!\n",
      "Best score: 0.0010\n",
      "   - Utility: 0.000\n",
      "   - Similarity: 0.000\n",
      "\n",
      "QUICK PHASE 2 SUMMARY\n",
      "=========================\n",
      "Successfully tuned: 5/5 models\n",
      "   Models: CTGAN, TVAE, CopulaGAN, GANerAid, TableGAN\n",
      "\n",
      "Quick Optimization Results:\n",
      "   -      CTGAN: 0.7866\n",
      "   -  CopulaGAN: 0.7525\n",
      "   -       TVAE: 0.7121\n",
      "   -   GANerAid: 0.6904\n",
      "   -   TableGAN: 0.0010\n",
      "\n",
      "Phase 2 completed. Best model: CTGAN\n"
     ]
    }
   ],
   "source": [
    "# Phase 2: Quick hyperparameter tuning for each successful model\n",
    "print(\"PHASE 2: QUICK HYPERPARAMETER TUNING\")\n",
    "print(\"=\"*45)\n",
    "\n",
    "if not successful_models:\n",
    "    print(\"WARNING: No successful models from Phase 1. Cannot proceed with hypertuning.\")\n",
    "else:\n",
    "    # Initialize results storage\n",
    "    phase2_results = {}\n",
    "    phase2_best_params = {}\n",
    "    phase2_best_scores = {}\n",
    "    \n",
    "    # Quick hypertuning configuration\n",
    "    N_TRIALS = 20  # Reduced trials for quick testing\n",
    "    TUNE_EPOCHS = 20  # Reduced epochs for speed\n",
    "    \n",
    "    print(f\"Quick Hypertuning Configuration:\")\n",
    "    print(f\"   - Trials per model: {N_TRIALS}\")\n",
    "    print(f\"   - Training epochs: {TUNE_EPOCHS}\")\n",
    "    print(f\"   - Optimization metric: Combined similarity + utility score\")\n",
    "    print(f\"   - Models to tune: {len(successful_models)}\")\n",
    "    \n",
    "    # Quick objective function\n",
    "    def create_quick_objective_function(model_name: str, model_class, current_trial_container):\n",
    "        \"\"\"Create quick objective function for hyperparameter optimization\"\"\"\n",
    "        \n",
    "        def objective(trial):\n",
    "            try:\n",
    "                current_trial_container[0] += 1\n",
    "                trial_num = current_trial_container[0]\n",
    "                \n",
    "                # Print progress every 5 trials\n",
    "                if trial_num % 5 == 0 or trial_num == 1:\n",
    "                    print(f\"   Trial {trial_num}/{N_TRIALS}...\", end='', flush=True)\n",
    "                elif trial_num == N_TRIALS:\n",
    "                    print(\" Complete!\")\n",
    "                else:\n",
    "                    print(\".\", end='', flush=True)\n",
    "                \n",
    "                # Initialize model and get hyperparameter space\n",
    "                model = model_class()\n",
    "                hyperparameter_space = model.get_hyperparameter_space()\n",
    "                \n",
    "                # Sample key hyperparameters only (for speed)\n",
    "                params = {}\n",
    "                key_params = ['batch_size', 'learning_rate', 'lr', 'generator_lr', 'discriminator_lr', 'lr_g', 'lr_d']\n",
    "                \n",
    "                for param_name, param_config in hyperparameter_space.items():\n",
    "                    # Only tune key parameters for speed\n",
    "                    if param_name in key_params or 'lr' in param_name.lower():\n",
    "                        if param_config['type'] == 'float':\n",
    "                            if param_config.get('log', False):\n",
    "                                params[param_name] = trial.suggest_float(\n",
    "                                    param_name, param_config['low'], param_config['high'], log=True\n",
    "                                )\n",
    "                            else:\n",
    "                                params[param_name] = trial.suggest_float(\n",
    "                                    param_name, param_config['low'], param_config['high']\n",
    "                                )\n",
    "                        elif param_config['type'] == 'int':\n",
    "                            params[param_name] = trial.suggest_int(\n",
    "                                param_name, param_config['low'], param_config['high'], \n",
    "                                step=param_config.get('step', 1)\n",
    "                            )\n",
    "                        elif param_config['type'] == 'categorical':\n",
    "                            params[param_name] = trial.suggest_categorical(\n",
    "                                param_name, param_config['choices']\n",
    "                            )\n",
    "                \n",
    "                # Set epochs for quick tuning\n",
    "                params['epochs'] = TUNE_EPOCHS\n",
    "                \n",
    "                # Model-specific parameter handling\n",
    "                if model_name == 'CTGAN':\n",
    "                    if 'generator_lr' not in params and 'learning_rate' in params:\n",
    "                        params['generator_lr'] = params.pop('learning_rate')\n",
    "                    if 'discriminator_lr' not in params and 'generator_lr' in params:\n",
    "                        params['discriminator_lr'] = params['generator_lr']\n",
    "                \n",
    "                elif model_name == 'TVAE':\n",
    "                    if 'learning_rate' not in params and 'lr' in params:\n",
    "                        params['learning_rate'] = params.pop('lr')\n",
    "                    \n",
    "                elif model_name == 'TableGAN':\n",
    "                    config_params = {k: v for k, v in params.items() if k != 'epochs'}\n",
    "                    model.set_config(config_params)\n",
    "                \n",
    "                # Suppress training output\n",
    "                import sys\n",
    "                from io import StringIO\n",
    "                old_stdout = sys.stdout\n",
    "                sys.stdout = StringIO()\n",
    "                \n",
    "                try:\n",
    "                    # Quick train and evaluate\n",
    "                    model.train(processed_data, **params)\n",
    "                    synthetic_data = model.generate(min(len(processed_data), 200))  # Smaller sample for speed\n",
    "                    \n",
    "                    # Quick evaluation\n",
    "                    X_real = processed_data.drop(columns=[TARGET_COLUMN])\n",
    "                    y_real = processed_data[TARGET_COLUMN]\n",
    "                    X_synth = synthetic_data.drop(columns=[TARGET_COLUMN])\n",
    "                    y_synth = synthetic_data[TARGET_COLUMN]\n",
    "                    \n",
    "                    # Simple train-test split\n",
    "                    X_real_train, X_real_test, y_real_train, y_real_test = train_test_split(\n",
    "                        X_real, y_real, test_size=0.3, random_state=42\n",
    "                    )\n",
    "                    X_synth_train, X_synth_test, y_synth_train, y_synth_test = train_test_split(\n",
    "                        X_synth, y_synth, test_size=0.3, random_state=42\n",
    "                    )\n",
    "                    \n",
    "                    # Quick TRTS evaluation\n",
    "                    clf = DecisionTreeClassifier(random_state=42, max_depth=5)\n",
    "                    \n",
    "                    # TSTR: Train Synthetic, Test Real\n",
    "                    clf.fit(X_synth_train, y_synth_train)\n",
    "                    acc_tstr = clf.score(X_real_test, y_real_test)\n",
    "                    \n",
    "                    # TRTR: Train Real, Test Real (baseline)\n",
    "                    clf.fit(X_real_train, y_real_train)\n",
    "                    acc_trtr = clf.score(X_real_test, y_real_test)\n",
    "                    \n",
    "                    # Utility score\n",
    "                    utility_score = acc_tstr / acc_trtr if acc_trtr > 0 else 0\n",
    "                    utility_score = np.clip(utility_score, 0, 2)\n",
    "                    \n",
    "                    # Quick similarity score\n",
    "                    similarity_scores = []\n",
    "                    for col in X_real.columns:\n",
    "                        if col in X_synth.columns:\n",
    "                            try:\n",
    "                                mean_diff = abs(X_real[col].mean() - X_synth[col].mean())\n",
    "                                real_std = X_real[col].std()\n",
    "                                if real_std > 0:\n",
    "                                    similarity = 1 / (1 + mean_diff / real_std)\n",
    "                                    similarity_scores.append(similarity)\n",
    "                            except Exception:\n",
    "                                continue\n",
    "                    \n",
    "                    similarity_score = np.mean(similarity_scores) if similarity_scores else 0.5\n",
    "                    similarity_score = np.clip(similarity_score, 0, 1)\n",
    "                    \n",
    "                    # Combined score\n",
    "                    combined_score = 0.6 * utility_score + 0.4 * similarity_score\n",
    "                    combined_score = np.clip(combined_score, 0, 2)\n",
    "                    \n",
    "                    # Store metrics in trial\n",
    "                    trial.set_user_attr('utility_score', utility_score)\n",
    "                    trial.set_user_attr('similarity_score', similarity_score)\n",
    "                    trial.set_user_attr('acc_tstr', acc_tstr)\n",
    "                    trial.set_user_attr('acc_trtr', acc_trtr)\n",
    "                    \n",
    "                    return combined_score\n",
    "                    \n",
    "                finally:\n",
    "                    sys.stdout = old_stdout\n",
    "                    \n",
    "            except Exception as e:\n",
    "                return 0.001  # Return very low score for failures\n",
    "        \n",
    "        return objective\n",
    "    \n",
    "    # Quick tune each successful model\n",
    "    for model_idx, model_name in enumerate(successful_models, 1):\n",
    "        print(f\"\\n[{model_idx}/{len(successful_models)}] QUICK TUNING {model_name.upper()}\")\n",
    "        print(\"-\" * 35)\n",
    "        \n",
    "        try:\n",
    "            # Get model class\n",
    "            if model_name == 'CTGAN':\n",
    "                model_class = CTGANModel\n",
    "            elif model_name == 'TVAE':\n",
    "                model_class = TVAEModel\n",
    "            elif model_name == 'CopulaGAN':\n",
    "                model_class = CopulaGANModel\n",
    "            elif model_name == 'GANerAid':\n",
    "                model_class = GANerAidModel\n",
    "            elif model_name == 'TableGAN':\n",
    "                model_class = TableGANModel\n",
    "            else:\n",
    "                print(f\"   ERROR: Unknown model: {model_name}\")\n",
    "                continue\n",
    "            \n",
    "            # Create quick optimization study\n",
    "            if OPTUNA_AVAILABLE:\n",
    "                optuna.logging.set_verbosity(optuna.logging.WARNING)\n",
    "                \n",
    "                study = optuna.create_study(\n",
    "                    direction='maximize',\n",
    "                    sampler=TPESampler(seed=42),\n",
    "                    study_name=f'{model_name}_quick_optimization_{datetime.now().strftime(\"%Y%m%d_%H%M%S\")}'\n",
    "                )\n",
    "                \n",
    "                current_trial = [0]\n",
    "                objective_func = create_quick_objective_function(model_name, model_class, current_trial)\n",
    "                \n",
    "                print(f\"Quick optimizing...\")\n",
    "                study.optimize(objective_func, n_trials=N_TRIALS)\n",
    "                print()  # New line after dots\n",
    "                \n",
    "                # Extract results\n",
    "                best_trial = study.best_trial\n",
    "                best_params = best_trial.params.copy()\n",
    "                best_score = best_trial.value\n",
    "                \n",
    "                # Ensure epochs is set for final training\n",
    "                if 'epochs' not in best_params:\n",
    "                    best_params['epochs'] = TUNE_EPOCHS\n",
    "                \n",
    "                phase2_best_params[model_name] = best_params\n",
    "                phase2_best_scores[model_name] = best_score\n",
    "                \n",
    "                phase2_results[model_name] = {\n",
    "                    'status': 'success',\n",
    "                    'best_score': best_score,\n",
    "                    'best_params': best_params,\n",
    "                    'trials_completed': len(study.trials),\n",
    "                    'utility_score': best_trial.user_attrs.get('utility_score', 0),\n",
    "                    'similarity_score': best_trial.user_attrs.get('similarity_score', 0)\n",
    "                }\n",
    "                \n",
    "                print(f\"SUCCESS: Quick optimization complete!\")\n",
    "                print(f\"Best score: {best_score:.4f}\")\n",
    "                print(f\"   - Utility: {best_trial.user_attrs.get('utility_score', 0):.3f}\")\n",
    "                print(f\"   - Similarity: {best_trial.user_attrs.get('similarity_score', 0):.3f}\")\n",
    "                \n",
    "            else:\n",
    "                print(f\"   WARNING: Optuna not available - using default parameters\")\n",
    "                phase2_best_params[model_name] = phase1_results[model_name]['parameters']\n",
    "                phase2_best_scores[model_name] = 0.75\n",
    "                phase2_results[model_name] = {\n",
    "                    'status': 'default',\n",
    "                    'best_score': 0.75,\n",
    "                    'best_params': phase1_results[model_name]['parameters']\n",
    "                }\n",
    "                \n",
    "        except Exception as e:\n",
    "            error_msg = str(e)\n",
    "            print(f\"   ERROR: {model_name} quick hypertuning failed: {error_msg[:80]}...\")\n",
    "            phase2_results[model_name] = {\n",
    "                'status': 'failed',\n",
    "                'error': error_msg\n",
    "            }\n",
    "    \n",
    "    # Phase 2 Summary\n",
    "    print(f\"\\nQUICK PHASE 2 SUMMARY\")\n",
    "    print(\"=\"*25)\n",
    "    \n",
    "    tuned_models = [name for name, result in phase2_results.items() \n",
    "                   if result['status'] in ['success', 'default']]\n",
    "    failed_tuning = [name for name, result in phase2_results.items() \n",
    "                    if result['status'] == 'failed']\n",
    "    \n",
    "    print(f\"Successfully tuned: {len(tuned_models)}/{len(successful_models)} models\")\n",
    "    if tuned_models:\n",
    "        print(f\"   Models: {', '.join(tuned_models)}\")\n",
    "    if failed_tuning:\n",
    "        print(f\"Failed tuning: {len(failed_tuning)} models ({', '.join(failed_tuning)})\")\n",
    "    \n",
    "    if tuned_models:\n",
    "        print(f\"\\nQuick Optimization Results:\")\n",
    "        sorted_models = sorted(tuned_models, key=lambda x: phase2_best_scores[x], reverse=True)\n",
    "        for model_name in sorted_models:\n",
    "            score = phase2_best_scores[model_name]\n",
    "            print(f\"   - {model_name:>10}: {score:.4f}\")\n",
    "        \n",
    "        print(f\"\\nPhase 2 completed. Best model: {sorted_models[0]}\")"
   ]
  },
  {
   "cell_type": "markdown",
   "metadata": {},
   "source": [
    "## Phase 3: Final Training with Best Parameters"
   ]
  },
  {
   "cell_type": "code",
   "execution_count": 5,
   "metadata": {
    "execution": {
     "iopub.execute_input": "2025-08-05T03:22:20.719649Z",
     "iopub.status.busy": "2025-08-05T03:22:20.719649Z",
     "iopub.status.idle": "2025-08-05T03:22:48.161355Z",
     "shell.execute_reply": "2025-08-05T03:22:48.161355Z"
    }
   },
   "outputs": [
    {
     "name": "stdout",
     "output_type": "stream",
     "text": [
      "PHASE 3: FINAL TRAINING WITH BEST PARAMETERS\n",
      "==================================================\n",
      "Quick Final Training Configuration:\n",
      "   - Training epochs: 50\n",
      "   - Models to re-train: 5\n",
      "   - Using optimal hyperparameters from Phase 2\n",
      "\n",
      "FINAL TRAINING: CTGAN\n",
      "------------------------------\n",
      "   Optimal parameters:\n",
      "      - batch_size: 500\n",
      "      - generator_lr: 1.53e-03\n",
      "      - discriminator_lr: 5.88e-05\n",
      "      - epochs: 50\n",
      "   Training with optimal parameters...\n"
     ]
    },
    {
     "name": "stderr",
     "output_type": "stream",
     "text": [
      "\r",
      "  0%|          | 0/50 [00:00<?, ?it/s]"
     ]
    },
    {
     "name": "stderr",
     "output_type": "stream",
     "text": [
      "\r",
      "Gen. (0.00) | Discrim. (0.00):   0%|          | 0/50 [00:00<?, ?it/s]"
     ]
    },
    {
     "name": "stderr",
     "output_type": "stream",
     "text": [
      "\r",
      "Gen. (0.81) | Discrim. (0.04):   0%|          | 0/50 [00:00<?, ?it/s]"
     ]
    },
    {
     "name": "stderr",
     "output_type": "stream",
     "text": [
      "\r",
      "Gen. (0.78) | Discrim. (0.01):   0%|          | 0/50 [00:00<?, ?it/s]"
     ]
    },
    {
     "name": "stderr",
     "output_type": "stream",
     "text": [
      "\r",
      "Gen. (0.78) | Discrim. (0.01):   4%|▍         | 2/50 [00:00<00:02, 18.65it/s]"
     ]
    },
    {
     "name": "stderr",
     "output_type": "stream",
     "text": [
      "\r",
      "Gen. (0.81) | Discrim. (0.01):   4%|▍         | 2/50 [00:00<00:02, 18.65it/s]"
     ]
    },
    {
     "name": "stderr",
     "output_type": "stream",
     "text": [
      "\r",
      "Gen. (0.78) | Discrim. (0.03):   4%|▍         | 2/50 [00:00<00:02, 18.65it/s]"
     ]
    },
    {
     "name": "stderr",
     "output_type": "stream",
     "text": [
      "\r",
      "Gen. (0.79) | Discrim. (-0.03):   4%|▍         | 2/50 [00:00<00:02, 18.65it/s]"
     ]
    },
    {
     "name": "stderr",
     "output_type": "stream",
     "text": [
      "\r",
      "Gen. (0.79) | Discrim. (-0.03):  10%|█         | 5/50 [00:00<00:02, 22.37it/s]"
     ]
    },
    {
     "name": "stderr",
     "output_type": "stream",
     "text": [
      "\r",
      "Gen. (0.80) | Discrim. (0.05):  10%|█         | 5/50 [00:00<00:02, 22.37it/s] "
     ]
    },
    {
     "name": "stderr",
     "output_type": "stream",
     "text": [
      "\r",
      "Gen. (0.76) | Discrim. (-0.04):  10%|█         | 5/50 [00:00<00:02, 22.37it/s]"
     ]
    },
    {
     "name": "stderr",
     "output_type": "stream",
     "text": [
      "\r",
      "Gen. (0.81) | Discrim. (-0.01):  10%|█         | 5/50 [00:00<00:02, 22.37it/s]"
     ]
    },
    {
     "name": "stderr",
     "output_type": "stream",
     "text": [
      "\r",
      "Gen. (0.81) | Discrim. (-0.01):  16%|█▌        | 8/50 [00:00<00:02, 20.88it/s]"
     ]
    },
    {
     "name": "stderr",
     "output_type": "stream",
     "text": [
      "\r",
      "Gen. (0.79) | Discrim. (-0.01):  16%|█▌        | 8/50 [00:00<00:02, 20.88it/s]"
     ]
    },
    {
     "name": "stderr",
     "output_type": "stream",
     "text": [
      "\r",
      "Gen. (0.77) | Discrim. (-0.01):  16%|█▌        | 8/50 [00:00<00:02, 20.88it/s]"
     ]
    },
    {
     "name": "stderr",
     "output_type": "stream",
     "text": [
      "\r",
      "Gen. (0.77) | Discrim. (-0.01):  16%|█▌        | 8/50 [00:00<00:02, 20.88it/s]"
     ]
    },
    {
     "name": "stderr",
     "output_type": "stream",
     "text": [
      "\r",
      "Gen. (0.77) | Discrim. (-0.01):  22%|██▏       | 11/50 [00:00<00:01, 22.53it/s]"
     ]
    },
    {
     "name": "stderr",
     "output_type": "stream",
     "text": [
      "\r",
      "Gen. (0.77) | Discrim. (-0.05):  22%|██▏       | 11/50 [00:00<00:01, 22.53it/s]"
     ]
    },
    {
     "name": "stderr",
     "output_type": "stream",
     "text": [
      "\r",
      "Gen. (0.71) | Discrim. (-0.04):  22%|██▏       | 11/50 [00:00<00:01, 22.53it/s]"
     ]
    },
    {
     "name": "stderr",
     "output_type": "stream",
     "text": [
      "\r",
      "Gen. (0.75) | Discrim. (-0.02):  22%|██▏       | 11/50 [00:00<00:01, 22.53it/s]"
     ]
    },
    {
     "name": "stderr",
     "output_type": "stream",
     "text": [
      "\r",
      "Gen. (0.75) | Discrim. (-0.02):  28%|██▊       | 14/50 [00:00<00:01, 23.12it/s]"
     ]
    },
    {
     "name": "stderr",
     "output_type": "stream",
     "text": [
      "\r",
      "Gen. (0.75) | Discrim. (-0.06):  28%|██▊       | 14/50 [00:00<00:01, 23.12it/s]"
     ]
    },
    {
     "name": "stderr",
     "output_type": "stream",
     "text": [
      "\r",
      "Gen. (0.73) | Discrim. (-0.05):  28%|██▊       | 14/50 [00:00<00:01, 23.12it/s]"
     ]
    },
    {
     "name": "stderr",
     "output_type": "stream",
     "text": [
      "\r",
      "Gen. (0.65) | Discrim. (-0.04):  28%|██▊       | 14/50 [00:00<00:01, 23.12it/s]"
     ]
    },
    {
     "name": "stderr",
     "output_type": "stream",
     "text": [
      "\r",
      "Gen. (0.65) | Discrim. (-0.04):  34%|███▍      | 17/50 [00:00<00:01, 23.64it/s]"
     ]
    },
    {
     "name": "stderr",
     "output_type": "stream",
     "text": [
      "\r",
      "Gen. (0.74) | Discrim. (-0.04):  34%|███▍      | 17/50 [00:00<00:01, 23.64it/s]"
     ]
    },
    {
     "name": "stderr",
     "output_type": "stream",
     "text": [
      "\r",
      "Gen. (0.69) | Discrim. (-0.04):  34%|███▍      | 17/50 [00:00<00:01, 23.64it/s]"
     ]
    },
    {
     "name": "stderr",
     "output_type": "stream",
     "text": [
      "\r",
      "Gen. (0.68) | Discrim. (-0.10):  34%|███▍      | 17/50 [00:00<00:01, 23.64it/s]"
     ]
    },
    {
     "name": "stderr",
     "output_type": "stream",
     "text": [
      "\r",
      "Gen. (0.68) | Discrim. (-0.10):  40%|████      | 20/50 [00:00<00:01, 23.69it/s]"
     ]
    },
    {
     "name": "stderr",
     "output_type": "stream",
     "text": [
      "\r",
      "Gen. (0.59) | Discrim. (-0.08):  40%|████      | 20/50 [00:00<00:01, 23.69it/s]"
     ]
    },
    {
     "name": "stderr",
     "output_type": "stream",
     "text": [
      "\r",
      "Gen. (0.61) | Discrim. (0.00):  40%|████      | 20/50 [00:00<00:01, 23.69it/s] "
     ]
    },
    {
     "name": "stderr",
     "output_type": "stream",
     "text": [
      "\r",
      "Gen. (0.60) | Discrim. (-0.04):  40%|████      | 20/50 [00:00<00:01, 23.69it/s]"
     ]
    },
    {
     "name": "stderr",
     "output_type": "stream",
     "text": [
      "\r",
      "Gen. (0.60) | Discrim. (-0.04):  46%|████▌     | 23/50 [00:00<00:01, 24.72it/s]"
     ]
    },
    {
     "name": "stderr",
     "output_type": "stream",
     "text": [
      "\r",
      "Gen. (0.56) | Discrim. (-0.04):  46%|████▌     | 23/50 [00:01<00:01, 24.72it/s]"
     ]
    },
    {
     "name": "stderr",
     "output_type": "stream",
     "text": [
      "\r",
      "Gen. (0.40) | Discrim. (-0.09):  46%|████▌     | 23/50 [00:01<00:01, 24.72it/s]"
     ]
    },
    {
     "name": "stderr",
     "output_type": "stream",
     "text": [
      "\r",
      "Gen. (0.51) | Discrim. (0.02):  46%|████▌     | 23/50 [00:01<00:01, 24.72it/s] "
     ]
    },
    {
     "name": "stderr",
     "output_type": "stream",
     "text": [
      "\r",
      "Gen. (0.51) | Discrim. (0.02):  52%|█████▏    | 26/50 [00:01<00:01, 23.47it/s]"
     ]
    },
    {
     "name": "stderr",
     "output_type": "stream",
     "text": [
      "\r",
      "Gen. (0.39) | Discrim. (0.03):  52%|█████▏    | 26/50 [00:01<00:01, 23.47it/s]"
     ]
    },
    {
     "name": "stderr",
     "output_type": "stream",
     "text": [
      "\r",
      "Gen. (0.46) | Discrim. (-0.02):  52%|█████▏    | 26/50 [00:01<00:01, 23.47it/s]"
     ]
    },
    {
     "name": "stderr",
     "output_type": "stream",
     "text": [
      "\r",
      "Gen. (0.42) | Discrim. (0.05):  52%|█████▏    | 26/50 [00:01<00:01, 23.47it/s] "
     ]
    },
    {
     "name": "stderr",
     "output_type": "stream",
     "text": [
      "\r",
      "Gen. (0.42) | Discrim. (0.05):  58%|█████▊    | 29/50 [00:01<00:00, 23.35it/s]"
     ]
    },
    {
     "name": "stderr",
     "output_type": "stream",
     "text": [
      "\r",
      "Gen. (0.40) | Discrim. (0.00):  58%|█████▊    | 29/50 [00:01<00:00, 23.35it/s]"
     ]
    },
    {
     "name": "stderr",
     "output_type": "stream",
     "text": [
      "\r",
      "Gen. (0.47) | Discrim. (-0.15):  58%|█████▊    | 29/50 [00:01<00:00, 23.35it/s]"
     ]
    },
    {
     "name": "stderr",
     "output_type": "stream",
     "text": [
      "\r",
      "Gen. (0.43) | Discrim. (-0.01):  58%|█████▊    | 29/50 [00:01<00:00, 23.35it/s]"
     ]
    },
    {
     "name": "stderr",
     "output_type": "stream",
     "text": [
      "\r",
      "Gen. (0.43) | Discrim. (-0.01):  64%|██████▍   | 32/50 [00:01<00:00, 23.56it/s]"
     ]
    },
    {
     "name": "stderr",
     "output_type": "stream",
     "text": [
      "\r",
      "Gen. (0.39) | Discrim. (0.01):  64%|██████▍   | 32/50 [00:01<00:00, 23.56it/s] "
     ]
    },
    {
     "name": "stderr",
     "output_type": "stream",
     "text": [
      "\r",
      "Gen. (0.38) | Discrim. (-0.18):  64%|██████▍   | 32/50 [00:01<00:00, 23.56it/s]"
     ]
    },
    {
     "name": "stderr",
     "output_type": "stream",
     "text": [
      "\r",
      "Gen. (0.41) | Discrim. (-0.13):  64%|██████▍   | 32/50 [00:01<00:00, 23.56it/s]"
     ]
    },
    {
     "name": "stderr",
     "output_type": "stream",
     "text": [
      "\r",
      "Gen. (0.41) | Discrim. (-0.13):  70%|███████   | 35/50 [00:01<00:00, 23.56it/s]"
     ]
    },
    {
     "name": "stderr",
     "output_type": "stream",
     "text": [
      "\r",
      "Gen. (0.35) | Discrim. (-0.07):  70%|███████   | 35/50 [00:01<00:00, 23.56it/s]"
     ]
    },
    {
     "name": "stderr",
     "output_type": "stream",
     "text": [
      "\r",
      "Gen. (0.50) | Discrim. (-0.21):  70%|███████   | 35/50 [00:01<00:00, 23.56it/s]"
     ]
    },
    {
     "name": "stderr",
     "output_type": "stream",
     "text": [
      "\r",
      "Gen. (0.45) | Discrim. (-0.33):  70%|███████   | 35/50 [00:01<00:00, 23.56it/s]"
     ]
    },
    {
     "name": "stderr",
     "output_type": "stream",
     "text": [
      "\r",
      "Gen. (0.45) | Discrim. (-0.33):  76%|███████▌  | 38/50 [00:01<00:00, 23.55it/s]"
     ]
    },
    {
     "name": "stderr",
     "output_type": "stream",
     "text": [
      "\r",
      "Gen. (0.45) | Discrim. (-0.12):  76%|███████▌  | 38/50 [00:01<00:00, 23.55it/s]"
     ]
    },
    {
     "name": "stderr",
     "output_type": "stream",
     "text": [
      "\r",
      "Gen. (0.50) | Discrim. (-0.09):  76%|███████▌  | 38/50 [00:01<00:00, 23.55it/s]"
     ]
    },
    {
     "name": "stderr",
     "output_type": "stream",
     "text": [
      "\r",
      "Gen. (0.48) | Discrim. (-0.34):  76%|███████▌  | 38/50 [00:01<00:00, 23.55it/s]"
     ]
    },
    {
     "name": "stderr",
     "output_type": "stream",
     "text": [
      "\r",
      "Gen. (0.48) | Discrim. (-0.34):  82%|████████▏ | 41/50 [00:01<00:00, 21.52it/s]"
     ]
    },
    {
     "name": "stderr",
     "output_type": "stream",
     "text": [
      "\r",
      "Gen. (0.41) | Discrim. (-0.18):  82%|████████▏ | 41/50 [00:01<00:00, 21.52it/s]"
     ]
    },
    {
     "name": "stderr",
     "output_type": "stream",
     "text": [
      "\r",
      "Gen. (0.42) | Discrim. (-0.11):  82%|████████▏ | 41/50 [00:01<00:00, 21.52it/s]"
     ]
    },
    {
     "name": "stderr",
     "output_type": "stream",
     "text": [
      "\r",
      "Gen. (0.44) | Discrim. (-0.28):  82%|████████▏ | 41/50 [00:01<00:00, 21.52it/s]"
     ]
    },
    {
     "name": "stderr",
     "output_type": "stream",
     "text": [
      "\r",
      "Gen. (0.44) | Discrim. (-0.28):  88%|████████▊ | 44/50 [00:01<00:00, 22.14it/s]"
     ]
    },
    {
     "name": "stderr",
     "output_type": "stream",
     "text": [
      "\r",
      "Gen. (0.41) | Discrim. (-0.22):  88%|████████▊ | 44/50 [00:01<00:00, 22.14it/s]"
     ]
    },
    {
     "name": "stderr",
     "output_type": "stream",
     "text": [
      "\r",
      "Gen. (0.37) | Discrim. (-0.27):  88%|████████▊ | 44/50 [00:02<00:00, 22.14it/s]"
     ]
    },
    {
     "name": "stderr",
     "output_type": "stream",
     "text": [
      "\r",
      "Gen. (0.35) | Discrim. (-0.24):  88%|████████▊ | 44/50 [00:02<00:00, 22.14it/s]"
     ]
    },
    {
     "name": "stderr",
     "output_type": "stream",
     "text": [
      "\r",
      "Gen. (0.35) | Discrim. (-0.24):  94%|█████████▍| 47/50 [00:02<00:00, 22.22it/s]"
     ]
    },
    {
     "name": "stderr",
     "output_type": "stream",
     "text": [
      "\r",
      "Gen. (0.28) | Discrim. (-0.17):  94%|█████████▍| 47/50 [00:02<00:00, 22.22it/s]"
     ]
    },
    {
     "name": "stderr",
     "output_type": "stream",
     "text": [
      "\r",
      "Gen. (0.33) | Discrim. (-0.15):  94%|█████████▍| 47/50 [00:02<00:00, 22.22it/s]"
     ]
    },
    {
     "name": "stderr",
     "output_type": "stream",
     "text": [
      "\r",
      "Gen. (0.32) | Discrim. (-0.07):  94%|█████████▍| 47/50 [00:02<00:00, 22.22it/s]"
     ]
    },
    {
     "name": "stderr",
     "output_type": "stream",
     "text": [
      "\r",
      "Gen. (0.32) | Discrim. (-0.07): 100%|██████████| 50/50 [00:02<00:00, 21.65it/s]"
     ]
    },
    {
     "name": "stderr",
     "output_type": "stream",
     "text": [
      "\r",
      "Gen. (0.32) | Discrim. (-0.07): 100%|██████████| 50/50 [00:02<00:00, 22.64it/s]"
     ]
    },
    {
     "name": "stderr",
     "output_type": "stream",
     "text": [
      "\n"
     ]
    },
    {
     "name": "stdout",
     "output_type": "stream",
     "text": [
      "   SUCCESS: Training completed in 3.21 seconds\n",
      "   Generating final synthetic data...\n",
      "   SUCCESS: Generation completed in 0.043 seconds\n",
      "   Generated data shape: (569, 6)\n",
      "   SUCCESS: CTGAN final training completed successfully\n",
      "   Synthetic data exported: ctgan_final_synthetic_data.csv\n",
      "\n",
      "FINAL TRAINING: TVAE\n",
      "------------------------------\n",
      "   Optimal parameters:\n",
      "      - batch_size: 500\n",
      "      - learning_rate: 1.26e-04\n",
      "      - epochs: 50\n",
      "   Training with optimal parameters...\n"
     ]
    },
    {
     "name": "stdout",
     "output_type": "stream",
     "text": [
      "   SUCCESS: Training completed in 2.54 seconds\n",
      "   Generating final synthetic data...\n",
      "   SUCCESS: Generation completed in 0.058 seconds\n",
      "   Generated data shape: (569, 6)\n",
      "   SUCCESS: TVAE final training completed successfully\n",
      "   Synthetic data exported: tvae_final_synthetic_data.csv\n",
      "\n",
      "FINAL TRAINING: COPULAGAN\n",
      "------------------------------\n",
      "   Optimal parameters:\n",
      "      - batch_size: 2000\n",
      "      - generator_lr: 1.33e-04\n",
      "      - discriminator_lr: 4.84e-05\n",
      "      - epochs: 50\n",
      "   Training with optimal parameters...\n"
     ]
    },
    {
     "name": "stdout",
     "output_type": "stream",
     "text": [
      "   SUCCESS: Training completed in 7.06 seconds\n",
      "   Generating final synthetic data...\n",
      "   SUCCESS: Generation completed in 0.092 seconds\n",
      "   Generated data shape: (569, 6)\n",
      "   SUCCESS: CopulaGAN final training completed successfully\n",
      "   Synthetic data exported: copulagan_final_synthetic_data.csv\n",
      "\n",
      "FINAL TRAINING: GANERAID\n",
      "------------------------------\n",
      "   Optimal parameters:\n",
      "      - lr_d: 3.79e-03\n",
      "      - lr_g: 1.22e-04\n",
      "      - batch_size: 512\n",
      "      - epochs: 50\n",
      "   Training with optimal parameters...\n",
      "Initialized gan with the following parameters: \n",
      "lr_d = 0.0005\n",
      "lr_g = 0.0005\n",
      "hidden_feature_space = 200\n",
      "batch_size = 100\n",
      "nr_of_rows = 25\n",
      "binary_noise = 0.2\n",
      "Start training of gan for 50 epochs\n"
     ]
    },
    {
     "name": "stderr",
     "output_type": "stream",
     "text": [
      "\r",
      "  0%|          | 0/50 [00:00<?, ?it/s]"
     ]
    },
    {
     "name": "stderr",
     "output_type": "stream",
     "text": [
      "\r",
      "  0%|          | 0/50 [00:00<?, ?it/s, loss=d error: 1.3949085474014282 --- g error 0.6309071183204651]"
     ]
    },
    {
     "name": "stderr",
     "output_type": "stream",
     "text": [
      "\r",
      "  0%|          | 0/50 [00:00<?, ?it/s, loss=d error: 1.3799821734428406 --- g error 0.6311289668083191]"
     ]
    },
    {
     "name": "stderr",
     "output_type": "stream",
     "text": [
      "\r",
      "  0%|          | 0/50 [00:00<?, ?it/s, loss=d error: 1.379239022731781 --- g error 0.6320086717605591] "
     ]
    },
    {
     "name": "stderr",
     "output_type": "stream",
     "text": [
      "\r",
      "  6%|▌         | 3/50 [00:00<00:02, 20.49it/s, loss=d error: 1.379239022731781 --- g error 0.6320086717605591]"
     ]
    },
    {
     "name": "stderr",
     "output_type": "stream",
     "text": [
      "\r",
      "  6%|▌         | 3/50 [00:00<00:02, 20.49it/s, loss=d error: 1.3649519681930542 --- g error 0.6348803043365479]"
     ]
    },
    {
     "name": "stderr",
     "output_type": "stream",
     "text": [
      "\r",
      "  6%|▌         | 3/50 [00:00<00:02, 20.49it/s, loss=d error: 1.3523691296577454 --- g error 0.6361454725265503]"
     ]
    },
    {
     "name": "stderr",
     "output_type": "stream",
     "text": [
      "\r",
      "  6%|▌         | 3/50 [00:00<00:02, 20.49it/s, loss=d error: 1.3455297350883484 --- g error 0.6353367567062378]"
     ]
    },
    {
     "name": "stderr",
     "output_type": "stream",
     "text": [
      "\r",
      " 12%|█▏        | 6/50 [00:00<00:02, 20.68it/s, loss=d error: 1.3455297350883484 --- g error 0.6353367567062378]"
     ]
    },
    {
     "name": "stderr",
     "output_type": "stream",
     "text": [
      "\r",
      " 12%|█▏        | 6/50 [00:00<00:02, 20.68it/s, loss=d error: 1.3259196877479553 --- g error 0.6383268237113953]"
     ]
    },
    {
     "name": "stderr",
     "output_type": "stream",
     "text": [
      "\r",
      " 12%|█▏        | 6/50 [00:00<00:02, 20.68it/s, loss=d error: 1.3152647018432617 --- g error 0.6397743821144104]"
     ]
    },
    {
     "name": "stderr",
     "output_type": "stream",
     "text": [
      "\r",
      " 12%|█▏        | 6/50 [00:00<00:02, 20.68it/s, loss=d error: 1.299709677696228 --- g error 0.643163800239563]  "
     ]
    },
    {
     "name": "stderr",
     "output_type": "stream",
     "text": [
      "\r",
      " 18%|█▊        | 9/50 [00:00<00:02, 20.37it/s, loss=d error: 1.299709677696228 --- g error 0.643163800239563]"
     ]
    },
    {
     "name": "stderr",
     "output_type": "stream",
     "text": [
      "\r",
      " 18%|█▊        | 9/50 [00:00<00:02, 20.37it/s, loss=d error: 1.276263177394867 --- g error 0.6443977355957031]"
     ]
    },
    {
     "name": "stderr",
     "output_type": "stream",
     "text": [
      "\r",
      " 18%|█▊        | 9/50 [00:00<00:02, 20.37it/s, loss=d error: 1.2493635416030884 --- g error 0.6454469561576843]"
     ]
    },
    {
     "name": "stderr",
     "output_type": "stream",
     "text": [
      "\r",
      " 18%|█▊        | 9/50 [00:00<00:02, 20.37it/s, loss=d error: 1.2101349234580994 --- g error 0.6494219899177551]"
     ]
    },
    {
     "name": "stderr",
     "output_type": "stream",
     "text": [
      "\r",
      " 24%|██▍       | 12/50 [00:00<00:01, 20.25it/s, loss=d error: 1.2101349234580994 --- g error 0.6494219899177551]"
     ]
    },
    {
     "name": "stderr",
     "output_type": "stream",
     "text": [
      "\r",
      " 24%|██▍       | 12/50 [00:00<00:01, 20.25it/s, loss=d error: 1.1782795786857605 --- g error 0.6546781063079834]"
     ]
    },
    {
     "name": "stderr",
     "output_type": "stream",
     "text": [
      "\r",
      " 24%|██▍       | 12/50 [00:00<00:01, 20.25it/s, loss=d error: 1.1432164311408997 --- g error 0.6534000039100647]"
     ]
    },
    {
     "name": "stderr",
     "output_type": "stream",
     "text": [
      "\r",
      " 24%|██▍       | 12/50 [00:00<00:01, 20.25it/s, loss=d error: 1.0839011073112488 --- g error 0.6551948189735413]"
     ]
    },
    {
     "name": "stderr",
     "output_type": "stream",
     "text": [
      "\r",
      " 30%|███       | 15/50 [00:00<00:01, 19.89it/s, loss=d error: 1.0839011073112488 --- g error 0.6551948189735413]"
     ]
    },
    {
     "name": "stderr",
     "output_type": "stream",
     "text": [
      "\r",
      " 30%|███       | 15/50 [00:00<00:01, 19.89it/s, loss=d error: 1.0616914927959442 --- g error 0.6588242650032043]"
     ]
    },
    {
     "name": "stderr",
     "output_type": "stream",
     "text": [
      "\r",
      " 30%|███       | 15/50 [00:00<00:01, 19.89it/s, loss=d error: 1.0195252895355225 --- g error 0.6690444946289062]"
     ]
    },
    {
     "name": "stderr",
     "output_type": "stream",
     "text": [
      "\r",
      " 30%|███       | 15/50 [00:00<00:01, 19.89it/s, loss=d error: 0.9512970447540283 --- g error 0.6660357713699341]"
     ]
    },
    {
     "name": "stderr",
     "output_type": "stream",
     "text": [
      "\r",
      " 36%|███▌      | 18/50 [00:00<00:01, 20.02it/s, loss=d error: 0.9512970447540283 --- g error 0.6660357713699341]"
     ]
    },
    {
     "name": "stderr",
     "output_type": "stream",
     "text": [
      "\r",
      " 36%|███▌      | 18/50 [00:00<00:01, 20.02it/s, loss=d error: 0.903075784444809 --- g error 0.6773941516876221] "
     ]
    },
    {
     "name": "stderr",
     "output_type": "stream",
     "text": [
      "\r",
      " 36%|███▌      | 18/50 [00:00<00:01, 20.02it/s, loss=d error: 0.8797020316123962 --- g error 0.6792435050010681]"
     ]
    },
    {
     "name": "stderr",
     "output_type": "stream",
     "text": [
      "\r",
      " 36%|███▌      | 18/50 [00:01<00:01, 20.02it/s, loss=d error: 0.8288615494966507 --- g error 0.6942170858383179]"
     ]
    },
    {
     "name": "stderr",
     "output_type": "stream",
     "text": [
      "\r",
      " 42%|████▏     | 21/50 [00:01<00:01, 20.06it/s, loss=d error: 0.8288615494966507 --- g error 0.6942170858383179]"
     ]
    },
    {
     "name": "stderr",
     "output_type": "stream",
     "text": [
      "\r",
      " 42%|████▏     | 21/50 [00:01<00:01, 20.06it/s, loss=d error: 0.7832442447543144 --- g error 0.6983305811882019]"
     ]
    },
    {
     "name": "stderr",
     "output_type": "stream",
     "text": [
      "\r",
      " 42%|████▏     | 21/50 [00:01<00:01, 20.06it/s, loss=d error: 0.7581355273723602 --- g error 0.7183386087417603]"
     ]
    },
    {
     "name": "stderr",
     "output_type": "stream",
     "text": [
      "\r",
      " 42%|████▏     | 21/50 [00:01<00:01, 20.06it/s, loss=d error: 0.7188449427485466 --- g error 0.7306731343269348]"
     ]
    },
    {
     "name": "stderr",
     "output_type": "stream",
     "text": [
      "\r",
      " 48%|████▊     | 24/50 [00:01<00:01, 16.54it/s, loss=d error: 0.7188449427485466 --- g error 0.7306731343269348]"
     ]
    },
    {
     "name": "stderr",
     "output_type": "stream",
     "text": [
      "\r",
      " 48%|████▊     | 24/50 [00:01<00:01, 16.54it/s, loss=d error: 0.6880066879093647 --- g error 0.751747190952301] "
     ]
    },
    {
     "name": "stderr",
     "output_type": "stream",
     "text": [
      "\r",
      " 48%|████▊     | 24/50 [00:01<00:01, 16.54it/s, loss=d error: 0.6702312547713518 --- g error 0.7559128403663635]"
     ]
    },
    {
     "name": "stderr",
     "output_type": "stream",
     "text": [
      "\r",
      " 52%|█████▏    | 26/50 [00:01<00:01, 17.20it/s, loss=d error: 0.6702312547713518 --- g error 0.7559128403663635]"
     ]
    },
    {
     "name": "stderr",
     "output_type": "stream",
     "text": [
      "\r",
      " 52%|█████▏    | 26/50 [00:01<00:01, 17.20it/s, loss=d error: 0.6547344364225864 --- g error 0.7889994382858276]"
     ]
    },
    {
     "name": "stderr",
     "output_type": "stream",
     "text": [
      "\r",
      " 52%|█████▏    | 26/50 [00:01<00:01, 17.20it/s, loss=d error: 0.6282967245206237 --- g error 0.8184499144554138]"
     ]
    },
    {
     "name": "stderr",
     "output_type": "stream",
     "text": [
      "\r",
      " 56%|█████▌    | 28/50 [00:01<00:01, 17.50it/s, loss=d error: 0.6282967245206237 --- g error 0.8184499144554138]"
     ]
    },
    {
     "name": "stderr",
     "output_type": "stream",
     "text": [
      "\r",
      " 56%|█████▌    | 28/50 [00:01<00:01, 17.50it/s, loss=d error: 0.5940293101593852 --- g error 0.8478187322616577]"
     ]
    },
    {
     "name": "stderr",
     "output_type": "stream",
     "text": [
      "\r",
      " 56%|█████▌    | 28/50 [00:01<00:01, 17.50it/s, loss=d error: 0.5860664206556976 --- g error 0.8637754917144775]"
     ]
    },
    {
     "name": "stderr",
     "output_type": "stream",
     "text": [
      "\r",
      " 60%|██████    | 30/50 [00:01<00:01, 17.95it/s, loss=d error: 0.5860664206556976 --- g error 0.8637754917144775]"
     ]
    },
    {
     "name": "stderr",
     "output_type": "stream",
     "text": [
      "\r",
      " 60%|██████    | 30/50 [00:01<00:01, 17.95it/s, loss=d error: 0.5669736512936652 --- g error 0.9185709357261658]"
     ]
    },
    {
     "name": "stderr",
     "output_type": "stream",
     "text": [
      "\r",
      " 60%|██████    | 30/50 [00:01<00:01, 17.95it/s, loss=d error: 0.5252386550419033 --- g error 0.9450328350067139]"
     ]
    },
    {
     "name": "stderr",
     "output_type": "stream",
     "text": [
      "\r",
      " 64%|██████▍   | 32/50 [00:01<00:01, 15.09it/s, loss=d error: 0.5252386550419033 --- g error 0.9450328350067139]"
     ]
    },
    {
     "name": "stderr",
     "output_type": "stream",
     "text": [
      "\r",
      " 64%|██████▍   | 32/50 [00:01<00:01, 15.09it/s, loss=d error: 0.4994695233181119 --- g error 0.9662690758705139]"
     ]
    },
    {
     "name": "stderr",
     "output_type": "stream",
     "text": [
      "\r",
      " 64%|██████▍   | 32/50 [00:01<00:01, 15.09it/s, loss=d error: 0.47263441898394376 --- g error 1.0383762121200562]"
     ]
    },
    {
     "name": "stderr",
     "output_type": "stream",
     "text": [
      "\r",
      " 68%|██████▊   | 34/50 [00:01<00:00, 16.11it/s, loss=d error: 0.47263441898394376 --- g error 1.0383762121200562]"
     ]
    },
    {
     "name": "stderr",
     "output_type": "stream",
     "text": [
      "\r",
      " 68%|██████▊   | 34/50 [00:01<00:00, 16.11it/s, loss=d error: 0.4477485056268051 --- g error 1.0818727016448975] "
     ]
    },
    {
     "name": "stderr",
     "output_type": "stream",
     "text": [
      "\r",
      " 68%|██████▊   | 34/50 [00:02<00:00, 16.11it/s, loss=d error: 0.41700391797348857 --- g error 1.1201335191726685]"
     ]
    },
    {
     "name": "stderr",
     "output_type": "stream",
     "text": [
      "\r",
      " 72%|███████▏  | 36/50 [00:02<00:00, 16.15it/s, loss=d error: 0.41700391797348857 --- g error 1.1201335191726685]"
     ]
    },
    {
     "name": "stderr",
     "output_type": "stream",
     "text": [
      "\r",
      " 72%|███████▏  | 36/50 [00:02<00:00, 16.15it/s, loss=d error: 0.3925243614939973 --- g error 1.2001210451126099] "
     ]
    },
    {
     "name": "stderr",
     "output_type": "stream",
     "text": [
      "\r",
      " 72%|███████▏  | 36/50 [00:02<00:00, 16.15it/s, loss=d error: 0.36401173775084317 --- g error 1.321426272392273]"
     ]
    },
    {
     "name": "stderr",
     "output_type": "stream",
     "text": [
      "\r",
      " 76%|███████▌  | 38/50 [00:02<00:00, 16.64it/s, loss=d error: 0.36401173775084317 --- g error 1.321426272392273]"
     ]
    },
    {
     "name": "stderr",
     "output_type": "stream",
     "text": [
      "\r",
      " 76%|███████▌  | 38/50 [00:02<00:00, 16.64it/s, loss=d error: 0.3409478302928619 --- g error 1.3929462432861328]"
     ]
    },
    {
     "name": "stderr",
     "output_type": "stream",
     "text": [
      "\r",
      " 76%|███████▌  | 38/50 [00:02<00:00, 16.64it/s, loss=d error: 0.32462902046972886 --- g error 1.4792335033416748]"
     ]
    },
    {
     "name": "stderr",
     "output_type": "stream",
     "text": [
      "\r",
      " 80%|████████  | 40/50 [00:02<00:00, 17.45it/s, loss=d error: 0.32462902046972886 --- g error 1.4792335033416748]"
     ]
    },
    {
     "name": "stderr",
     "output_type": "stream",
     "text": [
      "\r",
      " 80%|████████  | 40/50 [00:02<00:00, 17.45it/s, loss=d error: 0.3072455682558939 --- g error 1.5198556184768677] "
     ]
    },
    {
     "name": "stderr",
     "output_type": "stream",
     "text": [
      "\r",
      " 80%|████████  | 40/50 [00:02<00:00, 17.45it/s, loss=d error: 0.28613820334430784 --- g error 1.6859959363937378]"
     ]
    },
    {
     "name": "stderr",
     "output_type": "stream",
     "text": [
      "\r",
      " 84%|████████▍ | 42/50 [00:02<00:00, 17.58it/s, loss=d error: 0.28613820334430784 --- g error 1.6859959363937378]"
     ]
    },
    {
     "name": "stderr",
     "output_type": "stream",
     "text": [
      "\r",
      " 84%|████████▍ | 42/50 [00:02<00:00, 17.58it/s, loss=d error: 0.23663983534788713 --- g error 1.9015899896621704]"
     ]
    },
    {
     "name": "stderr",
     "output_type": "stream",
     "text": [
      "\r",
      " 84%|████████▍ | 42/50 [00:02<00:00, 17.58it/s, loss=d error: 0.2666710800258443 --- g error 1.9470139741897583] "
     ]
    },
    {
     "name": "stderr",
     "output_type": "stream",
     "text": [
      "\r",
      " 88%|████████▊ | 44/50 [00:02<00:00, 17.93it/s, loss=d error: 0.2666710800258443 --- g error 1.9470139741897583]"
     ]
    },
    {
     "name": "stderr",
     "output_type": "stream",
     "text": [
      "\r",
      " 88%|████████▊ | 44/50 [00:02<00:00, 17.93it/s, loss=d error: 0.2665741697419435 --- g error 1.9492007493972778]"
     ]
    },
    {
     "name": "stderr",
     "output_type": "stream",
     "text": [
      "\r",
      " 88%|████████▊ | 44/50 [00:02<00:00, 17.93it/s, loss=d error: 0.2665451969951391 --- g error 2.0322558879852295]"
     ]
    },
    {
     "name": "stderr",
     "output_type": "stream",
     "text": [
      "\r",
      " 92%|█████████▏| 46/50 [00:02<00:00, 18.19it/s, loss=d error: 0.2665451969951391 --- g error 2.0322558879852295]"
     ]
    },
    {
     "name": "stderr",
     "output_type": "stream",
     "text": [
      "\r",
      " 92%|█████████▏| 46/50 [00:02<00:00, 18.19it/s, loss=d error: 0.23538619664032012 --- g error 2.1963446140289307]"
     ]
    },
    {
     "name": "stderr",
     "output_type": "stream",
     "text": [
      "\r",
      " 92%|█████████▏| 46/50 [00:02<00:00, 18.19it/s, loss=d error: 0.24184529157355428 --- g error 2.209332227706909] "
     ]
    },
    {
     "name": "stderr",
     "output_type": "stream",
     "text": [
      "\r",
      " 96%|█████████▌| 48/50 [00:02<00:00, 16.51it/s, loss=d error: 0.24184529157355428 --- g error 2.209332227706909]"
     ]
    },
    {
     "name": "stderr",
     "output_type": "stream",
     "text": [
      "\r",
      " 96%|█████████▌| 48/50 [00:02<00:00, 16.51it/s, loss=d error: 0.37430739821866155 --- g error 2.1715786457061768]"
     ]
    },
    {
     "name": "stderr",
     "output_type": "stream",
     "text": [
      "\r",
      " 96%|█████████▌| 48/50 [00:02<00:00, 16.51it/s, loss=d error: 0.5162283265963197 --- g error 2.3853509426116943] "
     ]
    },
    {
     "name": "stderr",
     "output_type": "stream",
     "text": [
      "\r",
      "100%|██████████| 50/50 [00:02<00:00, 17.85it/s, loss=d error: 0.5162283265963197 --- g error 2.3853509426116943]"
     ]
    },
    {
     "name": "stderr",
     "output_type": "stream",
     "text": [
      "\n"
     ]
    },
    {
     "name": "stdout",
     "output_type": "stream",
     "text": [
      "   SUCCESS: Training completed in 2.85 seconds\n",
      "   Generating final synthetic data...\n",
      "Generating 569 samples\n",
      "   SUCCESS: Generation completed in 0.118 seconds\n",
      "   Generated data shape: (569, 6)\n",
      "   SUCCESS: GANerAid final training completed successfully\n",
      "   Synthetic data exported: ganeraid_final_synthetic_data.csv\n",
      "\n",
      "FINAL TRAINING: TABLEGAN\n",
      "------------------------------\n",
      "   Optimal parameters:\n",
      "      - batch_size: 32\n",
      "      - learning_rate: 4.21e-06\n",
      "      - epochs: 50\n",
      "   Training with optimal parameters...\n"
     ]
    },
    {
     "name": "stdout",
     "output_type": "stream",
     "text": [
      "   SUCCESS: Training completed in 11.41 seconds\n",
      "   Generating final synthetic data...\n",
      "   SUCCESS: Generation completed in 0.010 seconds\n",
      "   Generated data shape: (569, 6)\n",
      "   SUCCESS: TableGAN final training completed successfully\n",
      "   Synthetic data exported: tablegan_final_synthetic_data.csv\n",
      "\n",
      "PHASE 3 SUMMARY\n",
      "====================\n",
      "Successfully trained: 5 (CTGAN, TVAE, CopulaGAN, GANerAid, TableGAN)\n",
      "\n",
      "Final Training Performance:\n",
      "   - CTGAN: 3.2s training, 0.043s generation\n",
      "   - TVAE: 2.5s training, 0.058s generation\n",
      "   - CopulaGAN: 7.1s training, 0.092s generation\n",
      "   - GANerAid: 2.9s training, 0.118s generation\n",
      "   - TableGAN: 11.4s training, 0.010s generation\n",
      "\n",
      "Phase 3 completed. Ready for quick evaluation.\n"
     ]
    }
   ],
   "source": [
    "# Phase 3: Final training with best parameters (quick version)\n",
    "print(\"PHASE 3: FINAL TRAINING WITH BEST PARAMETERS\")\n",
    "print(\"=\"*50)\n",
    "\n",
    "if not tuned_models:\n",
    "    print(\"WARNING: No tuned models from Phase 2. Cannot proceed with final training.\")\n",
    "else:\n",
    "    # Initialize results storage\n",
    "    phase3_results = {}\n",
    "    phase3_models = {}\n",
    "    phase3_synthetic_data = {}\n",
    "    \n",
    "    # Final training configuration (quick version)\n",
    "    FINAL_EPOCHS = 50  # Reduced for quick execution\n",
    "    \n",
    "    print(f\"Quick Final Training Configuration:\")\n",
    "    print(f\"   - Training epochs: {FINAL_EPOCHS:,}\")\n",
    "    print(f\"   - Models to re-train: {len(tuned_models)}\")\n",
    "    print(f\"   - Using optimal hyperparameters from Phase 2\")\n",
    "    \n",
    "    # Re-train each tuned model with optimal parameters\n",
    "    for model_name in tuned_models:\n",
    "        print(f\"\\nFINAL TRAINING: {model_name.upper()}\")\n",
    "        print(\"-\" * 30)\n",
    "        \n",
    "        try:\n",
    "            # Get optimal parameters\n",
    "            optimal_params = phase2_best_params[model_name].copy()\n",
    "            optimal_params['epochs'] = FINAL_EPOCHS  # Use final epochs\n",
    "            \n",
    "            print(f\"   Optimal parameters:\")\n",
    "            for param, value in optimal_params.items():\n",
    "                if isinstance(value, float) and value < 0.01:\n",
    "                    print(f\"      - {param}: {value:.2e}\")\n",
    "                else:\n",
    "                    print(f\"      - {param}: {value}\")\n",
    "            \n",
    "            # Initialize model\n",
    "            if model_name == 'CTGAN':\n",
    "                model = CTGANModel()\n",
    "            elif model_name == 'TVAE':\n",
    "                model = TVAEModel()\n",
    "            elif model_name == 'CopulaGAN':\n",
    "                model = CopulaGANModel()\n",
    "            elif model_name == 'GANerAid':\n",
    "                model = GANerAidModel()\n",
    "            elif model_name == 'TableGAN':\n",
    "                model = TableGANModel()\n",
    "            \n",
    "            # Train with optimal parameters\n",
    "            print(f\"   Training with optimal parameters...\")\n",
    "            training_start = time.time()\n",
    "            \n",
    "            model.train(processed_data, **optimal_params)\n",
    "            \n",
    "            training_end = time.time()\n",
    "            training_time = training_end - training_start\n",
    "            \n",
    "            print(f\"   SUCCESS: Training completed in {training_time:.2f} seconds\")\n",
    "            \n",
    "            # Generate synthetic data\n",
    "            print(f\"   Generating final synthetic data...\")\n",
    "            generation_start = time.time()\n",
    "            \n",
    "            synthetic_data = model.generate(len(processed_data))\n",
    "            \n",
    "            generation_end = time.time()\n",
    "            generation_time = generation_end - generation_start\n",
    "            \n",
    "            print(f\"   SUCCESS: Generation completed in {generation_time:.3f} seconds\")\n",
    "            print(f\"   Generated data shape: {synthetic_data.shape}\")\n",
    "            \n",
    "            # Store results\n",
    "            phase3_models[model_name] = model\n",
    "            phase3_synthetic_data[model_name] = synthetic_data\n",
    "            \n",
    "            phase3_results[model_name] = {\n",
    "                'status': 'success',\n",
    "                'training_time': training_time,\n",
    "                'generation_time': generation_time,\n",
    "                'generated_samples': len(synthetic_data),\n",
    "                'optimal_params': optimal_params,\n",
    "                'tuning_score': phase2_best_scores[model_name]\n",
    "            }\n",
    "            \n",
    "            print(f\"   SUCCESS: {model_name} final training completed successfully\")\n",
    "            \n",
    "            # Export synthetic data\n",
    "            if EXPORT_TABLES:\n",
    "                synthetic_data.to_csv(RESULTS_DIR / f'{model_name.lower()}_final_synthetic_data.csv', index=False)\n",
    "                print(f\"   Synthetic data exported: {model_name.lower()}_final_synthetic_data.csv\")\n",
    "            \n",
    "        except Exception as e:\n",
    "            error_msg = str(e)\n",
    "            print(f\"   ERROR: {model_name} final training failed: {error_msg[:100]}...\")\n",
    "            phase3_results[model_name] = {\n",
    "                'status': 'failed',\n",
    "                'error': error_msg\n",
    "            }\n",
    "    \n",
    "    # Phase 3 Summary\n",
    "    print(f\"\\nPHASE 3 SUMMARY\")\n",
    "    print(\"=\"*20)\n",
    "    \n",
    "    final_models = [name for name, result in phase3_results.items() if result['status'] == 'success']\n",
    "    failed_final = [name for name, result in phase3_results.items() if result['status'] == 'failed']\n",
    "    \n",
    "    print(f\"Successfully trained: {len(final_models)} ({', '.join(final_models)})\")\n",
    "    if failed_final:\n",
    "        print(f\"Failed final training: {len(failed_final)} ({', '.join(failed_final)})\")\n",
    "    \n",
    "    if final_models:\n",
    "        print(f\"\\nFinal Training Performance:\")\n",
    "        for model_name in final_models:\n",
    "            result = phase3_results[model_name]\n",
    "            print(f\"   - {model_name}: {result['training_time']:.1f}s training, {result['generation_time']:.3f}s generation\")\n",
    "        \n",
    "        print(f\"\\nPhase 3 completed. Ready for quick evaluation.\")"
   ]
  },
  {
   "cell_type": "markdown",
   "metadata": {},
   "source": [
    "## Phase 4: Quick Model Evaluation"
   ]
  },
  {
   "cell_type": "code",
   "execution_count": 6,
   "metadata": {
    "execution": {
     "iopub.execute_input": "2025-08-05T03:22:48.162381Z",
     "iopub.status.busy": "2025-08-05T03:22:48.162381Z",
     "iopub.status.idle": "2025-08-05T03:22:48.298537Z",
     "shell.execute_reply": "2025-08-05T03:22:48.298037Z"
    }
   },
   "outputs": [
    {
     "name": "stdout",
     "output_type": "stream",
     "text": [
      "PHASE 4: QUICK MODEL EVALUATION AND COMPARISON\n",
      "=======================================================\n",
      "Quick Evaluation Configuration:\n",
      "   - Models to evaluate: 5\n",
      "   - Evaluation framework: Quick TRTS + Basic Similarity\n",
      "   - Baseline: Original data performance\n",
      "\n",
      "EVALUATING CTGAN\n",
      "-------------------------\n",
      "   Quick TRTS Framework Evaluation...\n",
      "      SUCCESS: TRTS completed - Utility: 0.6284, Quality: 0.6149\n",
      "   Quick Statistical Similarity Analysis...\n",
      "      SUCCESS: Similarity completed - Ratio: 0.0000\n",
      "   Computing combined evaluation score...\n",
      "      SUCCESS: Combined score: 0.4358\n",
      "      Breakdown - Utility: 0.6284, Quality: 0.6149, Similarity: 0.0000\n",
      "\n",
      "EVALUATING TVAE\n",
      "-------------------------\n",
      "   Quick TRTS Framework Evaluation...\n",
      "      SUCCESS: TRTS completed - Utility: 0.9797, Quality: 0.9054\n",
      "   Quick Statistical Similarity Analysis...\n",
      "      SUCCESS: Similarity completed - Ratio: 0.0000\n",
      "   Computing combined evaluation score...\n",
      "      SUCCESS: Combined score: 0.6635\n",
      "      Breakdown - Utility: 0.9797, Quality: 0.9054, Similarity: 0.0000\n",
      "\n",
      "EVALUATING COPULAGAN\n",
      "-------------------------\n",
      "   Quick TRTS Framework Evaluation...\n",
      "      SUCCESS: TRTS completed - Utility: 0.8108, Quality: 0.5338\n",
      "   Quick Statistical Similarity Analysis...\n",
      "      SUCCESS: Similarity completed - Ratio: 0.0000\n",
      "   Computing combined evaluation score...\n",
      "      SUCCESS: Combined score: 0.4845\n",
      "      Breakdown - Utility: 0.8108, Quality: 0.5338, Similarity: 0.0000\n",
      "\n",
      "EVALUATING GANERAID\n",
      "-------------------------\n",
      "   Quick TRTS Framework Evaluation...\n",
      "      SUCCESS: TRTS completed - Utility: 0.7703, Quality: 0.0743\n",
      "   Quick Statistical Similarity Analysis...\n",
      "      SUCCESS: Similarity completed - Ratio: 0.0000\n",
      "   Computing combined evaluation score...\n",
      "      SUCCESS: Combined score: 0.3304\n",
      "      Breakdown - Utility: 0.7703, Quality: 0.0743, Similarity: 0.0000\n",
      "\n",
      "EVALUATING TABLEGAN\n",
      "-------------------------\n",
      "   Quick TRTS Framework Evaluation...\n",
      "   ERROR: TableGAN evaluation failed: The least populated class in y has only 1 member, which is too few. The minimum number of groups for...\n",
      "\n",
      "QUICK PHASE 4 SUMMARY - MODEL RANKING\n",
      "========================================\n",
      "MODEL RANKING (by combined score):\n",
      "   1. TVAE: 0.6635\n",
      "      - Utility: 0.9797\n",
      "      - Quality: 0.9054\n",
      "      - Similarity: 0.0000\n",
      "   2. CopulaGAN: 0.4845\n",
      "      - Utility: 0.8108\n",
      "      - Quality: 0.5338\n",
      "      - Similarity: 0.0000\n",
      "   3. CTGAN: 0.4358\n",
      "      - Utility: 0.6284\n",
      "      - Quality: 0.6149\n",
      "      - Similarity: 0.0000\n",
      "   4. GANerAid: 0.3304\n",
      "      - Utility: 0.7703\n",
      "      - Quality: 0.0743\n",
      "      - Similarity: 0.0000\n",
      "\n",
      "BEST OVERALL MODEL: TVAE\n",
      "Combined Score: 0.6635\n",
      "\n",
      "Model ranking exported: quick_model_ranking.csv\n",
      "\n",
      "Phase 4 completed. Best model identified: TVAE\n"
     ]
    }
   ],
   "source": [
    "# Phase 4: Quick evaluation and comparison\n",
    "print(\"PHASE 4: QUICK MODEL EVALUATION AND COMPARISON\")\n",
    "print(\"=\"*55)\n",
    "\n",
    "if not final_models:\n",
    "    print(\"WARNING: No final models from Phase 3. Cannot proceed with evaluation.\")\n",
    "else:\n",
    "    # Initialize evaluation results storage\n",
    "    evaluation_results = {}\n",
    "    \n",
    "    print(f\"Quick Evaluation Configuration:\")\n",
    "    print(f\"   - Models to evaluate: {len(final_models)}\")\n",
    "    print(f\"   - Evaluation framework: Quick TRTS + Basic Similarity\")\n",
    "    print(f\"   - Baseline: Original data performance\")\n",
    "    \n",
    "    # Quick evaluation for each final model\n",
    "    for model_name in final_models:\n",
    "        print(f\"\\nEVALUATING {model_name.upper()}\")\n",
    "        print(\"-\" * 25)\n",
    "        \n",
    "        try:\n",
    "            synthetic_data = phase3_synthetic_data[model_name]\n",
    "            \n",
    "            # Quick TRTS Framework Evaluation\n",
    "            print(f\"   Quick TRTS Framework Evaluation...\")\n",
    "            \n",
    "            X_real = processed_data.drop(columns=[TARGET_COLUMN])\n",
    "            y_real = processed_data[TARGET_COLUMN]\n",
    "            X_synth = synthetic_data.drop(columns=[TARGET_COLUMN])\n",
    "            y_synth = synthetic_data[TARGET_COLUMN]\n",
    "            \n",
    "            # Split data\n",
    "            X_real_train, X_real_test, y_real_train, y_real_test = train_test_split(\n",
    "                X_real, y_real, test_size=0.3, random_state=42,\n",
    "                stratify=y_real if y_real.nunique() > 1 else None\n",
    "            )\n",
    "            X_synth_train, X_synth_test, y_synth_train, y_synth_test = train_test_split(\n",
    "                X_synth, y_synth, test_size=0.3, random_state=42,\n",
    "                stratify=y_synth if y_synth.nunique() > 1 else None\n",
    "            )\n",
    "            \n",
    "            # Quick classifier evaluation\n",
    "            dt_clf = DecisionTreeClassifier(random_state=42, max_depth=5)\n",
    "            \n",
    "            # TRTR: Train Real, Test Real (baseline)\n",
    "            dt_clf.fit(X_real_train, y_real_train)\n",
    "            acc_trtr = dt_clf.score(X_real_test, y_real_test)\n",
    "            \n",
    "            # TSTS: Train Synthetic, Test Synthetic\n",
    "            dt_clf.fit(X_synth_train, y_synth_train)\n",
    "            acc_tsts = dt_clf.score(X_synth_test, y_synth_test)\n",
    "            \n",
    "            # TRTS: Train Real, Test Synthetic\n",
    "            dt_clf.fit(X_real_train, y_real_train)\n",
    "            acc_trts = dt_clf.score(X_synth_test, y_synth_test)\n",
    "            \n",
    "            # TSTR: Train Synthetic, Test Real\n",
    "            dt_clf.fit(X_synth_train, y_synth_train)\n",
    "            acc_tstr = dt_clf.score(X_real_test, y_real_test)\n",
    "            \n",
    "            utility_score = acc_tstr / acc_trtr if acc_trtr > 0 else 0\n",
    "            quality_score = acc_trts / acc_trtr if acc_trtr > 0 else 0\n",
    "            \n",
    "            print(f\"      SUCCESS: TRTS completed - Utility: {utility_score:.4f}, Quality: {quality_score:.4f}\")\n",
    "            \n",
    "            # Quick Statistical Similarity Analysis\n",
    "            print(f\"   Quick Statistical Similarity Analysis...\")\n",
    "            \n",
    "            # Feature-wise similarity (basic)\n",
    "            similar_features = 0\n",
    "            total_features = 0\n",
    "            mean_diffs = []\n",
    "            \n",
    "            for col in X_real.columns:\n",
    "                if col in X_synth.columns:\n",
    "                    total_features += 1\n",
    "                    \n",
    "                    # Simple KS test\n",
    "                    try:\n",
    "                        _, ks_pval = stats.ks_2samp(X_real[col], X_synth[col])\n",
    "                        if ks_pval > 0.05:\n",
    "                            similar_features += 1\n",
    "                        \n",
    "                        # Mean difference\n",
    "                        mean_diff = abs(X_real[col].mean() - X_synth[col].mean())\n",
    "                        real_std = X_real[col].std()\n",
    "                        if real_std > 0:\n",
    "                            norm_diff = mean_diff / real_std\n",
    "                            mean_diffs.append(norm_diff)\n",
    "                    except Exception:\n",
    "                        continue\n",
    "            \n",
    "            similarity_ratio = similar_features / total_features if total_features > 0 else 0\n",
    "            avg_mean_diff = np.mean(mean_diffs) if mean_diffs else 1.0\n",
    "            \n",
    "            print(f\"      SUCCESS: Similarity completed - Ratio: {similarity_ratio:.4f}\")\n",
    "            \n",
    "            # Combined Evaluation Score\n",
    "            print(f\"   Computing combined evaluation score...\")\n",
    "            \n",
    "            # Weighted combination: 40% Utility + 30% Quality + 30% Similarity\n",
    "            combined_score = (\n",
    "                0.4 * utility_score +\n",
    "                0.3 * quality_score +\n",
    "                0.3 * similarity_ratio\n",
    "            )\n",
    "            \n",
    "            evaluation_results[model_name] = {\n",
    "                'combined_score': combined_score,\n",
    "                'utility_score': utility_score,\n",
    "                'quality_score': quality_score,\n",
    "                'similarity_score': similarity_ratio,\n",
    "                'trts_scores': {\n",
    "                    'TRTR': acc_trtr,\n",
    "                    'TSTS': acc_tsts,\n",
    "                    'TRTS': acc_trts,\n",
    "                    'TSTR': acc_tstr\n",
    "                }\n",
    "            }\n",
    "            \n",
    "            print(f\"      SUCCESS: Combined score: {combined_score:.4f}\")\n",
    "            print(f\"      Breakdown - Utility: {utility_score:.4f}, Quality: {quality_score:.4f}, Similarity: {similarity_ratio:.4f}\")\n",
    "            \n",
    "        except Exception as e:\n",
    "            error_msg = str(e)\n",
    "            print(f\"   ERROR: {model_name} evaluation failed: {error_msg[:100]}...\")\n",
    "            evaluation_results[model_name] = {\n",
    "                'combined_score': 0.0,\n",
    "                'error': error_msg\n",
    "            }\n",
    "    \n",
    "    # Phase 4 Summary - Ranking and Best Model Identification\n",
    "    print(f\"\\nQUICK PHASE 4 SUMMARY - MODEL RANKING\")\n",
    "    print(\"=\"*40)\n",
    "    \n",
    "    # Sort models by combined score\n",
    "    evaluated_models = [name for name in evaluation_results.keys() \n",
    "                       if 'error' not in evaluation_results[name]]\n",
    "    \n",
    "    if evaluated_models:\n",
    "        sorted_models = sorted(evaluated_models, \n",
    "                              key=lambda x: evaluation_results[x]['combined_score'], \n",
    "                              reverse=True)\n",
    "        \n",
    "        print(f\"MODEL RANKING (by combined score):\")\n",
    "        for i, model_name in enumerate(sorted_models, 1):\n",
    "            result = evaluation_results[model_name]\n",
    "            print(f\"   {i}. {model_name}: {result['combined_score']:.4f}\")\n",
    "            print(f\"      - Utility: {result['utility_score']:.4f}\")\n",
    "            print(f\"      - Quality: {result['quality_score']:.4f}\")\n",
    "            print(f\"      - Similarity: {result['similarity_score']:.4f}\")\n",
    "        \n",
    "        best_model = sorted_models[0]\n",
    "        print(f\"\\nBEST OVERALL MODEL: {best_model}\")\n",
    "        print(f\"Combined Score: {evaluation_results[best_model]['combined_score']:.4f}\")\n",
    "        \n",
    "        # Export evaluation results\n",
    "        if EXPORT_TABLES:\n",
    "            # Model ranking table\n",
    "            ranking_data = []\n",
    "            for i, model_name in enumerate(sorted_models, 1):\n",
    "                result = evaluation_results[model_name]\n",
    "                ranking_data.append({\n",
    "                    'Rank': i,\n",
    "                    'Model': model_name,\n",
    "                    'Combined_Score': result['combined_score'],\n",
    "                    'Utility_Score': result['utility_score'],\n",
    "                    'Quality_Score': result['quality_score'],\n",
    "                    'Similarity_Score': result['similarity_score']\n",
    "                })\n",
    "            \n",
    "            ranking_df = pd.DataFrame(ranking_data)\n",
    "            ranking_df.to_csv(RESULTS_DIR / 'quick_model_ranking.csv', index=False)\n",
    "            print(f\"\\nModel ranking exported: quick_model_ranking.csv\")\n",
    "        \n",
    "        print(f\"\\nPhase 4 completed. Best model identified: {best_model}\")\n",
    "    \n",
    "    else:\n",
    "        print(f\"ERROR: No models successfully evaluated.\")"
   ]
  },
  {
   "cell_type": "markdown",
   "metadata": {},
   "source": [
    "## Final Summary"
   ]
  },
  {
   "cell_type": "code",
   "execution_count": 7,
   "metadata": {
    "execution": {
     "iopub.execute_input": "2025-08-05T03:22:48.298537Z",
     "iopub.status.busy": "2025-08-05T03:22:48.298537Z",
     "iopub.status.idle": "2025-08-05T03:22:48.312593Z",
     "shell.execute_reply": "2025-08-05T03:22:48.312174Z"
    }
   },
   "outputs": [
    {
     "name": "stdout",
     "output_type": "stream",
     "text": [
      "FINAL SUMMARY AND CONCLUSIONS (QUICK VERSION)\n",
      "==================================================\n",
      "ANALYSIS OVERVIEW:\n",
      "   - Dataset: Breast Cancer Wisconsin (Diagnostic)\n",
      "   - Analysis Date: 2025-08-04 23:22:48\n",
      "   - Version: Quick (Reduced Parameters)\n",
      "   - Total Models Tested: 5\n",
      "   - Available Models: 5\n",
      "   - Successfully Demoed: 5\n",
      "   - Successfully Tuned: 5\n",
      "   - Successfully Evaluated: 4\n",
      "   - Best Model: TVAE\n",
      "   - Best Combined Score: 0.6635135135135135\n",
      "\n",
      "BEST MODEL DETAILS:\n",
      "   - Model: TVAE\n",
      "   - Combined Score: 0.6635\n",
      "   - Utility Score: 0.9797\n",
      "   - Quality Score: 0.9054\n",
      "   - Similarity Score: 0.0000\n",
      "   - Training Time: 2.54 seconds\n",
      "   - Generation Time: 0.058 seconds\n",
      "\n",
      "BEST MODEL PERFORMANCE BREAKDOWN:\n",
      "   - TRTR (Baseline): 0.8655\n",
      "   - TSTS (Consistency): 0.9006\n",
      "   - TRTS (Quality): 0.7836\n",
      "   - TSTR (Utility): 0.8480\n",
      "\n",
      "KEY FINDINGS:\n",
      "   - Multi-model framework successfully implemented (quick version)\n",
      "   - Quick evaluation using TRTS + Basic Statistical Similarity\n",
      "   - Reduced hyperparameter optimization completed\n",
      "   - Best model identified with balanced performance\n",
      "   - TVAE emerged as optimal choice for Breast Cancer Wisconsin (Diagnostic)\n",
      "\n",
      "QUICK VERSION CONFIGURATION:\n",
      "   - Demo epochs: 20 (vs 100 in full version)\n",
      "   - Tuning trials: 20 (vs 200 in full version)\n",
      "   - Final epochs: 50 (vs 200 in full version)\n",
      "   - Execution time: ~5-10 minutes (vs 20-30 minutes)\n",
      "\n",
      "EXPORTED ARTIFACTS:\n",
      "   - preprocessed_breast_cancer_data.csv\n",
      "   - quick_model_ranking.csv\n",
      "   - ctgan_final_synthetic_data.csv\n",
      "   - tvae_final_synthetic_data.csv\n",
      "   - copulagan_final_synthetic_data.csv\n",
      "   - ganeraid_final_synthetic_data.csv\n",
      "   - tablegan_final_synthetic_data.csv\n",
      "\n",
      "SUCCESS: QUICK MULTI-MODEL ANALYSIS COMPLETED!\n",
      "Results directory: C:\\Users\\gcicc\\claudeproj\\tableGenCompare\\results\\multi_model_analysis_quick\n",
      "\n",
      "NEXT STEPS:\n",
      "   - Review quick results in exported CSV files\n",
      "   - Consider using TVAE for synthetic data generation\n",
      "   - Run full version notebook for comprehensive analysis\n",
      "   - Validate results on additional datasets\n",
      "   - Fine-tune best model further if needed\n"
     ]
    }
   ],
   "source": [
    "# Final Summary and Conclusions (Quick Version)\n",
    "print(\"FINAL SUMMARY AND CONCLUSIONS (QUICK VERSION)\")\n",
    "print(\"=\"*50)\n",
    "\n",
    "# Create comprehensive final report\n",
    "final_report = {\n",
    "    'Dataset': DATASET_NAME,\n",
    "    'Analysis_Date': datetime.now().strftime('%Y-%m-%d %H:%M:%S'),\n",
    "    'Version': 'Quick (Reduced Parameters)',\n",
    "    'Total_Models_Tested': len(MODEL_STATUS),\n",
    "    'Available_Models': len(available_models),\n",
    "    'Successfully_Demoed': len(successful_models) if 'successful_models' in locals() else 0,\n",
    "    'Successfully_Tuned': len(tuned_models) if 'tuned_models' in locals() else 0,\n",
    "    'Successfully_Evaluated': len(evaluated_models) if 'evaluated_models' in locals() else 0,\n",
    "    'Best_Model': best_model if 'best_model' in locals() else 'None',\n",
    "    'Best_Combined_Score': evaluation_results[best_model]['combined_score'] if 'best_model' in locals() and best_model in evaluation_results else 0\n",
    "}\n",
    "\n",
    "print(f\"ANALYSIS OVERVIEW:\")\n",
    "for key, value in final_report.items():\n",
    "    print(f\"   - {key.replace('_', ' ')}: {value}\")\n",
    "\n",
    "if 'best_model' in locals() and best_model in evaluation_results:\n",
    "    print(f\"\\nBEST MODEL DETAILS:\")\n",
    "    best_result = evaluation_results[best_model]\n",
    "    print(f\"   - Model: {best_model}\")\n",
    "    print(f\"   - Combined Score: {best_result['combined_score']:.4f}\")\n",
    "    print(f\"   - Utility Score: {best_result['utility_score']:.4f}\")\n",
    "    print(f\"   - Quality Score: {best_result['quality_score']:.4f}\")\n",
    "    print(f\"   - Similarity Score: {best_result['similarity_score']:.4f}\")\n",
    "    \n",
    "    if best_model in phase3_results:\n",
    "        print(f\"   - Training Time: {phase3_results[best_model]['training_time']:.2f} seconds\")\n",
    "        print(f\"   - Generation Time: {phase3_results[best_model]['generation_time']:.3f} seconds\")\n",
    "    \n",
    "    print(f\"\\nBEST MODEL PERFORMANCE BREAKDOWN:\")\n",
    "    best_trts = best_result['trts_scores']\n",
    "    print(f\"   - TRTR (Baseline): {best_trts['TRTR']:.4f}\")\n",
    "    print(f\"   - TSTS (Consistency): {best_trts['TSTS']:.4f}\")\n",
    "    print(f\"   - TRTS (Quality): {best_trts['TRTS']:.4f}\")\n",
    "    print(f\"   - TSTR (Utility): {best_trts['TSTR']:.4f}\")\n",
    "\n",
    "print(f\"\\nKEY FINDINGS:\")\n",
    "print(f\"   - Multi-model framework successfully implemented (quick version)\")\n",
    "print(f\"   - Quick evaluation using TRTS + Basic Statistical Similarity\")\n",
    "print(f\"   - Reduced hyperparameter optimization completed\")\n",
    "print(f\"   - Best model identified with balanced performance\")\n",
    "if 'best_model' in locals():\n",
    "    print(f\"   - {best_model} emerged as optimal choice for {DATASET_NAME}\")\n",
    "\n",
    "print(f\"\\nQUICK VERSION CONFIGURATION:\")\n",
    "print(f\"   - Demo epochs: 20 (vs 100 in full version)\")\n",
    "print(f\"   - Tuning trials: 20 (vs 200 in full version)\")\n",
    "print(f\"   - Final epochs: 50 (vs 200 in full version)\")\n",
    "print(f\"   - Execution time: ~5-10 minutes (vs 20-30 minutes)\")\n",
    "\n",
    "print(f\"\\nEXPORTED ARTIFACTS:\")\n",
    "if EXPORT_TABLES:\n",
    "    artifacts = [\n",
    "        'preprocessed_breast_cancer_data.csv',\n",
    "        'quick_model_ranking.csv'\n",
    "    ]\n",
    "    # Add synthetic data files\n",
    "    if 'final_models' in locals():\n",
    "        for model in final_models:\n",
    "            artifacts.append(f'{model.lower()}_final_synthetic_data.csv')\n",
    "    \n",
    "    for artifact in artifacts:\n",
    "        print(f\"   - {artifact}\")\n",
    "\n",
    "print(f\"\\nSUCCESS: QUICK MULTI-MODEL ANALYSIS COMPLETED!\")\n",
    "print(f\"Results directory: {RESULTS_DIR.absolute()}\")\n",
    "print(f\"\\nNEXT STEPS:\")\n",
    "print(f\"   - Review quick results in exported CSV files\")\n",
    "if 'best_model' in locals():\n",
    "    print(f\"   - Consider using {best_model} for synthetic data generation\")\n",
    "    print(f\"   - Run full version notebook for comprehensive analysis\")\n",
    "print(f\"   - Validate results on additional datasets\")\n",
    "print(f\"   - Fine-tune best model further if needed\")"
   ]
  }
 ],
 "metadata": {
  "kernelspec": {
   "display_name": "Python 3",
   "language": "python",
   "name": "python3"
  },
  "language_info": {
   "codemirror_mode": {
    "name": "ipython",
    "version": 3
   },
   "file_extension": ".py",
   "mimetype": "text/x-python",
   "name": "python",
   "nbconvert_exporter": "python",
   "pygments_lexer": "ipython3",
   "version": "3.11.11"
  }
 },
 "nbformat": 4,
 "nbformat_minor": 4
}
